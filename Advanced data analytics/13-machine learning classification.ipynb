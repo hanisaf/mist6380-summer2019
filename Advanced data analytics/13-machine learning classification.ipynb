{
 "cells": [
  {
   "cell_type": "code",
   "execution_count": 30,
   "metadata": {
    "slideshow": {
     "slide_type": "skip"
    }
   },
   "outputs": [],
   "source": [
    "import pandas as pd\n",
    "import numpy as np\n",
    "import seaborn as sns\n",
    "from sklearn import tree\n",
    "from sklearn.metrics import r2_score, accuracy_score, confusion_matrix\n",
    "from sklearn.model_selection import train_test_split\n",
    "from sklearn.feature_selection import SelectFromModel\n",
    "import matplotlib.pyplot as plt"
   ]
  },
  {
   "cell_type": "code",
   "execution_count": 2,
   "metadata": {
    "slideshow": {
     "slide_type": "skip"
    }
   },
   "outputs": [],
   "source": [
    "# I'm using the recent release of sklearn\n",
    "#!pip install scikit-learn --upgrade --user"
   ]
  },
  {
   "cell_type": "code",
   "execution_count": 3,
   "metadata": {
    "slideshow": {
     "slide_type": "skip"
    }
   },
   "outputs": [],
   "source": [
    "#to plot decision tree\n",
    "#!pip install graphviz --user\n",
    "#import graphviz"
   ]
  },
  {
   "cell_type": "code",
   "execution_count": 4,
   "metadata": {
    "slideshow": {
     "slide_type": "skip"
    }
   },
   "outputs": [],
   "source": [
    "#supress warnings\n",
    "import warnings\n",
    "warnings.filterwarnings('ignore')"
   ]
  },
  {
   "cell_type": "code",
   "execution_count": 5,
   "metadata": {
    "slideshow": {
     "slide_type": "skip"
    }
   },
   "outputs": [],
   "source": [
    "%matplotlib inline"
   ]
  },
  {
   "cell_type": "markdown",
   "metadata": {
    "slideshow": {
     "slide_type": "slide"
    }
   },
   "source": [
    "Analyze the Hosmer & Lemeshow low birth weight data using machine learning technique you learned in class"
   ]
  },
  {
   "cell_type": "code",
   "execution_count": 6,
   "metadata": {
    "slideshow": {
     "slide_type": "slide"
    }
   },
   "outputs": [],
   "source": [
    "data=pd.read_excel('../data/birth_weight.xlsx')"
   ]
  },
  {
   "cell_type": "code",
   "execution_count": 7,
   "metadata": {
    "slideshow": {
     "slide_type": "slide"
    }
   },
   "outputs": [
    {
     "data": {
      "text/html": [
       "<div>\n",
       "<style scoped>\n",
       "    .dataframe tbody tr th:only-of-type {\n",
       "        vertical-align: middle;\n",
       "    }\n",
       "\n",
       "    .dataframe tbody tr th {\n",
       "        vertical-align: top;\n",
       "    }\n",
       "\n",
       "    .dataframe thead th {\n",
       "        text-align: right;\n",
       "    }\n",
       "</style>\n",
       "<table border=\"1\" class=\"dataframe\">\n",
       "  <thead>\n",
       "    <tr style=\"text-align: right;\">\n",
       "      <th></th>\n",
       "      <th>identification code</th>\n",
       "      <th>birthweight&lt;2500g</th>\n",
       "      <th>age of mother</th>\n",
       "      <th>weight at last menstrual period</th>\n",
       "      <th>race</th>\n",
       "      <th>smoked during pregnancy</th>\n",
       "      <th>premature labor history (count)</th>\n",
       "      <th>has history of hypertension</th>\n",
       "      <th>presence, uterine irritability</th>\n",
       "      <th>number of visits to physician during 1st trimester</th>\n",
       "      <th>birthweight (grams)</th>\n",
       "    </tr>\n",
       "  </thead>\n",
       "  <tbody>\n",
       "    <tr>\n",
       "      <th>0</th>\n",
       "      <td>85</td>\n",
       "      <td>0</td>\n",
       "      <td>19</td>\n",
       "      <td>182</td>\n",
       "      <td>black</td>\n",
       "      <td>nonsmoker</td>\n",
       "      <td>0</td>\n",
       "      <td>0</td>\n",
       "      <td>1</td>\n",
       "      <td>0</td>\n",
       "      <td>2523</td>\n",
       "    </tr>\n",
       "    <tr>\n",
       "      <th>1</th>\n",
       "      <td>86</td>\n",
       "      <td>0</td>\n",
       "      <td>33</td>\n",
       "      <td>155</td>\n",
       "      <td>other</td>\n",
       "      <td>nonsmoker</td>\n",
       "      <td>0</td>\n",
       "      <td>0</td>\n",
       "      <td>0</td>\n",
       "      <td>3</td>\n",
       "      <td>2551</td>\n",
       "    </tr>\n",
       "    <tr>\n",
       "      <th>2</th>\n",
       "      <td>87</td>\n",
       "      <td>0</td>\n",
       "      <td>20</td>\n",
       "      <td>105</td>\n",
       "      <td>white</td>\n",
       "      <td>smoker</td>\n",
       "      <td>0</td>\n",
       "      <td>0</td>\n",
       "      <td>0</td>\n",
       "      <td>1</td>\n",
       "      <td>2557</td>\n",
       "    </tr>\n",
       "    <tr>\n",
       "      <th>3</th>\n",
       "      <td>88</td>\n",
       "      <td>0</td>\n",
       "      <td>21</td>\n",
       "      <td>108</td>\n",
       "      <td>white</td>\n",
       "      <td>smoker</td>\n",
       "      <td>0</td>\n",
       "      <td>0</td>\n",
       "      <td>1</td>\n",
       "      <td>2</td>\n",
       "      <td>2594</td>\n",
       "    </tr>\n",
       "    <tr>\n",
       "      <th>4</th>\n",
       "      <td>89</td>\n",
       "      <td>0</td>\n",
       "      <td>18</td>\n",
       "      <td>107</td>\n",
       "      <td>white</td>\n",
       "      <td>smoker</td>\n",
       "      <td>0</td>\n",
       "      <td>0</td>\n",
       "      <td>1</td>\n",
       "      <td>0</td>\n",
       "      <td>2600</td>\n",
       "    </tr>\n",
       "  </tbody>\n",
       "</table>\n",
       "</div>"
      ],
      "text/plain": [
       "   identification code  birthweight<2500g  age of mother  \\\n",
       "0                   85                  0             19   \n",
       "1                   86                  0             33   \n",
       "2                   87                  0             20   \n",
       "3                   88                  0             21   \n",
       "4                   89                  0             18   \n",
       "\n",
       "   weight at last menstrual period   race smoked during pregnancy  \\\n",
       "0                              182  black               nonsmoker   \n",
       "1                              155  other               nonsmoker   \n",
       "2                              105  white                  smoker   \n",
       "3                              108  white                  smoker   \n",
       "4                              107  white                  smoker   \n",
       "\n",
       "   premature labor history (count)  has history of hypertension  \\\n",
       "0                                0                            0   \n",
       "1                                0                            0   \n",
       "2                                0                            0   \n",
       "3                                0                            0   \n",
       "4                                0                            0   \n",
       "\n",
       "   presence, uterine irritability  \\\n",
       "0                               1   \n",
       "1                               0   \n",
       "2                               0   \n",
       "3                               1   \n",
       "4                               1   \n",
       "\n",
       "   number of visits to physician during 1st trimester  birthweight (grams)  \n",
       "0                                                  0                  2523  \n",
       "1                                                  3                  2551  \n",
       "2                                                  1                  2557  \n",
       "3                                                  2                  2594  \n",
       "4                                                  0                  2600  "
      ]
     },
     "execution_count": 7,
     "metadata": {},
     "output_type": "execute_result"
    }
   ],
   "source": [
    "data.head()"
   ]
  },
  {
   "cell_type": "code",
   "execution_count": 8,
   "metadata": {
    "slideshow": {
     "slide_type": "slide"
    }
   },
   "outputs": [],
   "source": [
    "data.columns=['id', 'baby_low_weight', 'mom_age', 'mom_weight', 'race', 'smoked', 'premature_labor', 'hyptertension', 'irritability', 'doc_visit', 'baby_weight']"
   ]
  },
  {
   "cell_type": "markdown",
   "metadata": {
    "slideshow": {
     "slide_type": "slide"
    }
   },
   "source": [
    "# We are interested in what factors affect baby birth weight"
   ]
  },
  {
   "cell_type": "code",
   "execution_count": 9,
   "metadata": {
    "slideshow": {
     "slide_type": "slide"
    }
   },
   "outputs": [
    {
     "data": {
      "text/html": [
       "<div>\n",
       "<style scoped>\n",
       "    .dataframe tbody tr th:only-of-type {\n",
       "        vertical-align: middle;\n",
       "    }\n",
       "\n",
       "    .dataframe tbody tr th {\n",
       "        vertical-align: top;\n",
       "    }\n",
       "\n",
       "    .dataframe thead th {\n",
       "        text-align: right;\n",
       "    }\n",
       "</style>\n",
       "<table border=\"1\" class=\"dataframe\">\n",
       "  <thead>\n",
       "    <tr style=\"text-align: right;\">\n",
       "      <th></th>\n",
       "      <th>id</th>\n",
       "      <th>baby_low_weight</th>\n",
       "      <th>mom_age</th>\n",
       "      <th>mom_weight</th>\n",
       "      <th>race</th>\n",
       "      <th>smoked</th>\n",
       "      <th>premature_labor</th>\n",
       "      <th>hyptertension</th>\n",
       "      <th>irritability</th>\n",
       "      <th>doc_visit</th>\n",
       "      <th>baby_weight</th>\n",
       "    </tr>\n",
       "  </thead>\n",
       "  <tbody>\n",
       "    <tr>\n",
       "      <th>0</th>\n",
       "      <td>85</td>\n",
       "      <td>0</td>\n",
       "      <td>19</td>\n",
       "      <td>182</td>\n",
       "      <td>black</td>\n",
       "      <td>nonsmoker</td>\n",
       "      <td>0</td>\n",
       "      <td>0</td>\n",
       "      <td>1</td>\n",
       "      <td>0</td>\n",
       "      <td>2523</td>\n",
       "    </tr>\n",
       "    <tr>\n",
       "      <th>1</th>\n",
       "      <td>86</td>\n",
       "      <td>0</td>\n",
       "      <td>33</td>\n",
       "      <td>155</td>\n",
       "      <td>other</td>\n",
       "      <td>nonsmoker</td>\n",
       "      <td>0</td>\n",
       "      <td>0</td>\n",
       "      <td>0</td>\n",
       "      <td>3</td>\n",
       "      <td>2551</td>\n",
       "    </tr>\n",
       "    <tr>\n",
       "      <th>2</th>\n",
       "      <td>87</td>\n",
       "      <td>0</td>\n",
       "      <td>20</td>\n",
       "      <td>105</td>\n",
       "      <td>white</td>\n",
       "      <td>smoker</td>\n",
       "      <td>0</td>\n",
       "      <td>0</td>\n",
       "      <td>0</td>\n",
       "      <td>1</td>\n",
       "      <td>2557</td>\n",
       "    </tr>\n",
       "    <tr>\n",
       "      <th>3</th>\n",
       "      <td>88</td>\n",
       "      <td>0</td>\n",
       "      <td>21</td>\n",
       "      <td>108</td>\n",
       "      <td>white</td>\n",
       "      <td>smoker</td>\n",
       "      <td>0</td>\n",
       "      <td>0</td>\n",
       "      <td>1</td>\n",
       "      <td>2</td>\n",
       "      <td>2594</td>\n",
       "    </tr>\n",
       "    <tr>\n",
       "      <th>4</th>\n",
       "      <td>89</td>\n",
       "      <td>0</td>\n",
       "      <td>18</td>\n",
       "      <td>107</td>\n",
       "      <td>white</td>\n",
       "      <td>smoker</td>\n",
       "      <td>0</td>\n",
       "      <td>0</td>\n",
       "      <td>1</td>\n",
       "      <td>0</td>\n",
       "      <td>2600</td>\n",
       "    </tr>\n",
       "  </tbody>\n",
       "</table>\n",
       "</div>"
      ],
      "text/plain": [
       "   id  baby_low_weight  mom_age  mom_weight   race     smoked  \\\n",
       "0  85                0       19         182  black  nonsmoker   \n",
       "1  86                0       33         155  other  nonsmoker   \n",
       "2  87                0       20         105  white     smoker   \n",
       "3  88                0       21         108  white     smoker   \n",
       "4  89                0       18         107  white     smoker   \n",
       "\n",
       "   premature_labor  hyptertension  irritability  doc_visit  baby_weight  \n",
       "0                0              0             1          0         2523  \n",
       "1                0              0             0          3         2551  \n",
       "2                0              0             0          1         2557  \n",
       "3                0              0             1          2         2594  \n",
       "4                0              0             1          0         2600  "
      ]
     },
     "execution_count": 9,
     "metadata": {},
     "output_type": "execute_result"
    }
   ],
   "source": [
    "data.head()"
   ]
  },
  {
   "cell_type": "code",
   "execution_count": 11,
   "metadata": {
    "slideshow": {
     "slide_type": "slide"
    }
   },
   "outputs": [],
   "source": [
    "data=pd.get_dummies(data)"
   ]
  },
  {
   "cell_type": "code",
   "execution_count": 12,
   "metadata": {
    "slideshow": {
     "slide_type": "slide"
    }
   },
   "outputs": [
    {
     "data": {
      "text/plain": [
       "Index(['id', 'baby_low_weight', 'mom_age', 'mom_weight', 'premature_labor',\n",
       "       'hyptertension', 'irritability', 'doc_visit', 'baby_weight',\n",
       "       'race_black', 'race_other', 'race_white', 'smoked_nonsmoker',\n",
       "       'smoked_smoker'],\n",
       "      dtype='object')"
      ]
     },
     "execution_count": 12,
     "metadata": {},
     "output_type": "execute_result"
    }
   ],
   "source": [
    "data.columns"
   ]
  },
  {
   "cell_type": "code",
   "execution_count": 13,
   "metadata": {
    "slideshow": {
     "slide_type": "slide"
    }
   },
   "outputs": [],
   "source": [
    "X = data[['mom_age', 'mom_weight', 'premature_labor',\n",
    "       'hyptertension', 'irritability', 'doc_visit', \n",
    "       'race_black', 'race_other', 'race_white', 'smoked_nonsmoker',\n",
    "       'smoked_smoker']]\n",
    "y = data['baby_low_weight']"
   ]
  },
  {
   "cell_type": "code",
   "execution_count": 14,
   "metadata": {
    "slideshow": {
     "slide_type": "slide"
    }
   },
   "outputs": [],
   "source": [
    "X_train, X_test, y_train, y_test = train_test_split(X, y, train_size=0.75)"
   ]
  },
  {
   "cell_type": "code",
   "execution_count": 22,
   "metadata": {
    "slideshow": {
     "slide_type": "slide"
    }
   },
   "outputs": [],
   "source": [
    "dtree = tree.DecisionTreeClassifier().fit(X_train, y_train)"
   ]
  },
  {
   "cell_type": "code",
   "execution_count": 23,
   "metadata": {
    "slideshow": {
     "slide_type": "slide"
    }
   },
   "outputs": [],
   "source": [
    "yfit = dtree.predict(X_test)"
   ]
  },
  {
   "cell_type": "code",
   "execution_count": 24,
   "metadata": {
    "slideshow": {
     "slide_type": "slide"
    }
   },
   "outputs": [],
   "source": [
    "resd = y_test - yfit"
   ]
  },
  {
   "cell_type": "code",
   "execution_count": 25,
   "metadata": {
    "slideshow": {
     "slide_type": "slide"
    }
   },
   "outputs": [
    {
     "data": {
      "text/plain": [
       "<matplotlib.axes._subplots.AxesSubplot at 0x1a230c38d0>"
      ]
     },
     "execution_count": 25,
     "metadata": {},
     "output_type": "execute_result"
    },
    {
     "data": {
      "image/png": "[encoded data removed]",
      "text/plain": [
       "<Figure size 432x288 with 1 Axes>"
      ]
     },
     "metadata": {
      "needs_background": "light"
     },
     "output_type": "display_data"
    }
   ],
   "source": [
    "sns.distplot(resd)"
   ]
  },
  {
   "cell_type": "code",
   "execution_count": 27,
   "metadata": {
    "slideshow": {
     "slide_type": "slide"
    }
   },
   "outputs": [
    {
     "data": {
      "text/plain": [
       "0.5833333333333334"
      ]
     },
     "execution_count": 27,
     "metadata": {},
     "output_type": "execute_result"
    }
   ],
   "source": [
    "accuracy_score(y_test, yfit)"
   ]
  },
  {
   "cell_type": "code",
   "execution_count": 31,
   "metadata": {
    "slideshow": {
     "slide_type": "slide"
    }
   },
   "outputs": [
    {
     "data": {
      "text/plain": [
       "array([[20,  9],\n",
       "       [11,  8]])"
      ]
     },
     "execution_count": 31,
     "metadata": {},
     "output_type": "execute_result"
    }
   ],
   "source": [
    "confusion_matrix(y_test, yfit)"
   ]
  },
  {
   "cell_type": "code",
   "execution_count": 59,
   "metadata": {
    "scrolled": true,
    "slideshow": {
     "slide_type": "slide"
    }
   },
   "outputs": [
    {
     "name": "stdout",
     "output_type": "stream",
     "text": [
      "digraph Tree {\n",
      "node [shape=box] ;\n",
      "0 [label=\"premature_labor <= 0.5\\ngini = 0.406\\nsamples = 141\\nvalue = [101, 40]\\nclass = low\"] ;\n",
      "1 [label=\"hyptertension <= 0.5\\ngini = 0.344\\nsamples = 118\\nvalue = [92, 26]\\nclass = low\"] ;\n",
      "0 -> 1 [labeldistance=2.5, labelangle=45, headlabel=\"True\"] ;\n",
      "2 [label=\"irritability <= 0.5\\ngini = 0.309\\nsamples = 110\\nvalue = [89, 21]\\nclass = low\"] ;\n",
      "1 -> 2 ;\n",
      "3 [label=\"doc_visit <= 2.5\\ngini = 0.251\\nsamples = 95\\nvalue = [81, 14]\\nclass = low\"] ;\n",
      "2 -> 3 ;\n",
      "4 [label=\"mom_weight <= 111.0\\ngini = 0.213\\nsamples = 91\\nvalue = [80, 11]\\nclass = low\"] ;\n",
      "3 -> 4 ;\n",
      "5 [label=\"mom_age <= 29.0\\ngini = 0.432\\nsamples = 19\\nvalue = [13, 6]\\nclass = low\"] ;\n",
      "4 -> 5 ;\n",
      "6 [label=\"mom_age <= 26.0\\ngini = 0.457\\nsamples = 17\\nvalue = [11, 6]\\nclass = low\"] ;\n",
      "5 -> 6 ;\n",
      "7 [label=\"doc_visit <= 0.5\\ngini = 0.43\\nsamples = 16\\nvalue = [11, 5]\\nclass = low\"] ;\n",
      "6 -> 7 ;\n",
      "8 [label=\"mom_weight <= 101.5\\ngini = 0.486\\nsamples = 12\\nvalue = [7, 5]\\nclass = low\"] ;\n",
      "7 -> 8 ;\n",
      "9 [label=\"mom_age <= 22.5\\ngini = 0.32\\nsamples = 5\\nvalue = [4, 1]\\nclass = low\"] ;\n",
      "8 -> 9 ;\n",
      "10 [label=\"gini = 0.0\\nsamples = 4\\nvalue = [4, 0]\\nclass = low\"] ;\n",
      "9 -> 10 ;\n",
      "11 [label=\"gini = 0.0\\nsamples = 1\\nvalue = [0, 1]\\nclass = normal\"] ;\n",
      "9 -> 11 ;\n",
      "12 [label=\"race_other <= 0.5\\ngini = 0.49\\nsamples = 7\\nvalue = [3, 4]\\nclass = normal\"] ;\n",
      "8 -> 12 ;\n",
      "13 [label=\"gini = 0.0\\nsamples = 2\\nvalue = [0, 2]\\nclass = normal\"] ;\n",
      "12 -> 13 ;\n",
      "14 [label=\"mom_weight <= 109.5\\ngini = 0.48\\nsamples = 5\\nvalue = [3, 2]\\nclass = low\"] ;\n",
      "12 -> 14 ;\n",
      "15 [label=\"mom_age <= 19.5\\ngini = 0.444\\nsamples = 3\\nvalue = [1, 2]\\nclass = normal\"] ;\n",
      "14 -> 15 ;\n",
      "16 [label=\"gini = 0.0\\nsamples = 1\\nvalue = [1, 0]\\nclass = low\"] ;\n",
      "15 -> 16 ;\n",
      "17 [label=\"gini = 0.0\\nsamples = 2\\nvalue = [0, 2]\\nclass = normal\"] ;\n",
      "15 -> 17 ;\n",
      "18 [label=\"gini = 0.0\\nsamples = 2\\nvalue = [2, 0]\\nclass = low\"] ;\n",
      "14 -> 18 ;\n",
      "19 [label=\"gini = 0.0\\nsamples = 4\\nvalue = [4, 0]\\nclass = low\"] ;\n",
      "7 -> 19 ;\n",
      "20 [label=\"gini = 0.0\\nsamples = 1\\nvalue = [0, 1]\\nclass = normal\"] ;\n",
      "6 -> 20 ;\n",
      "21 [label=\"gini = 0.0\\nsamples = 2\\nvalue = [2, 0]\\nclass = low\"] ;\n",
      "5 -> 21 ;\n",
      "22 [label=\"race_white <= 0.5\\ngini = 0.129\\nsamples = 72\\nvalue = [67, 5]\\nclass = low\"] ;\n",
      "4 -> 22 ;\n",
      "23 [label=\"mom_weight <= 186.0\\ngini = 0.257\\nsamples = 33\\nvalue = [28, 5]\\nclass = low\"] ;\n",
      "22 -> 23 ;\n",
      "24 [label=\"mom_weight <= 120.5\\ngini = 0.225\\nsamples = 31\\nvalue = [27, 4]\\nclass = low\"] ;\n",
      "23 -> 24 ;\n",
      "25 [label=\"mom_age <= 24.5\\ngini = 0.337\\nsamples = 14\\nvalue = [11, 3]\\nclass = low\"] ;\n",
      "24 -> 25 ;\n",
      "26 [label=\"mom_weight <= 119.5\\ngini = 0.26\\nsamples = 13\\nvalue = [11, 2]\\nclass = low\"] ;\n",
      "25 -> 26 ;\n",
      "27 [label=\"gini = 0.0\\nsamples = 8\\nvalue = [8, 0]\\nclass = low\"] ;\n",
      "26 -> 27 ;\n",
      "28 [label=\"mom_age <= 21.5\\ngini = 0.48\\nsamples = 5\\nvalue = [3, 2]\\nclass = low\"] ;\n",
      "26 -> 28 ;\n",
      "29 [label=\"race_black <= 0.5\\ngini = 0.375\\nsamples = 4\\nvalue = [3, 1]\\nclass = low\"] ;\n",
      "28 -> 29 ;\n",
      "30 [label=\"gini = 0.0\\nsamples = 3\\nvalue = [3, 0]\\nclass = low\"] ;\n",
      "29 -> 30 ;\n",
      "31 [label=\"gini = 0.0\\nsamples = 1\\nvalue = [0, 1]\\nclass = normal\"] ;\n",
      "29 -> 31 ;\n",
      "32 [label=\"gini = 0.0\\nsamples = 1\\nvalue = [0, 1]\\nclass = normal\"] ;\n",
      "28 -> 32 ;\n",
      "33 [label=\"gini = 0.0\\nsamples = 1\\nvalue = [0, 1]\\nclass = normal\"] ;\n",
      "25 -> 33 ;\n",
      "34 [label=\"mom_age <= 26.5\\ngini = 0.111\\nsamples = 17\\nvalue = [16, 1]\\nclass = low\"] ;\n",
      "24 -> 34 ;\n",
      "35 [label=\"gini = 0.0\\nsamples = 12\\nvalue = [12, 0]\\nclass = low\"] ;\n",
      "34 -> 35 ;\n",
      "36 [label=\"mom_age <= 27.5\\ngini = 0.32\\nsamples = 5\\nvalue = [4, 1]\\nclass = low\"] ;\n",
      "34 -> 36 ;\n",
      "37 [label=\"gini = 0.0\\nsamples = 1\\nvalue = [0, 1]\\nclass = normal\"] ;\n",
      "36 -> 37 ;\n",
      "38 [label=\"gini = 0.0\\nsamples = 4\\nvalue = [4, 0]\\nclass = low\"] ;\n",
      "36 -> 38 ;\n",
      "39 [label=\"mom_age <= 20.5\\ngini = 0.5\\nsamples = 2\\nvalue = [1, 1]\\nclass = low\"] ;\n",
      "23 -> 39 ;\n",
      "40 [label=\"gini = 0.0\\nsamples = 1\\nvalue = [1, 0]\\nclass = low\"] ;\n",
      "39 -> 40 ;\n",
      "41 [label=\"gini = 0.0\\nsamples = 1\\nvalue = [0, 1]\\nclass = normal\"] ;\n",
      "39 -> 41 ;\n",
      "42 [label=\"gini = 0.0\\nsamples = 39\\nvalue = [39, 0]\\nclass = low\"] ;\n",
      "22 -> 42 ;\n",
      "43 [label=\"mom_weight <= 137.5\\ngini = 0.375\\nsamples = 4\\nvalue = [1, 3]\\nclass = normal\"] ;\n",
      "3 -> 43 ;\n",
      "44 [label=\"gini = 0.0\\nsamples = 3\\nvalue = [0, 3]\\nclass = normal\"] ;\n",
      "43 -> 44 ;\n",
      "45 [label=\"gini = 0.0\\nsamples = 1\\nvalue = [1, 0]\\nclass = low\"] ;\n",
      "43 -> 45 ;\n",
      "46 [label=\"mom_weight <= 87.5\\ngini = 0.498\\nsamples = 15\\nvalue = [8, 7]\\nclass = low\"] ;\n",
      "2 -> 46 ;\n",
      "47 [label=\"gini = 0.0\\nsamples = 2\\nvalue = [0, 2]\\nclass = normal\"] ;\n",
      "46 -> 47 ;\n",
      "48 [label=\"mom_weight <= 122.5\\ngini = 0.473\\nsamples = 13\\nvalue = [8, 5]\\nclass = low\"] ;\n",
      "46 -> 48 ;\n",
      "49 [label=\"doc_visit <= 1.5\\ngini = 0.346\\nsamples = 9\\nvalue = [7, 2]\\nclass = low\"] ;\n",
      "48 -> 49 ;\n",
      "50 [label=\"mom_age <= 22.0\\ngini = 0.444\\nsamples = 6\\nvalue = [4, 2]\\nclass = low\"] ;\n",
      "49 -> 50 ;\n",
      "51 [label=\"mom_weight <= 111.0\\ngini = 0.32\\nsamples = 5\\nvalue = [4, 1]\\nclass = low\"] ;\n",
      "50 -> 51 ;\n",
      "52 [label=\"gini = 0.0\\nsamples = 3\\nvalue = [3, 0]\\nclass = low\"] ;\n",
      "51 -> 52 ;\n",
      "53 [label=\"smoked_nonsmoker <= 0.5\\ngini = 0.5\\nsamples = 2\\nvalue = [1, 1]\\nclass = low\"] ;\n",
      "51 -> 53 ;\n",
      "54 [label=\"gini = 0.0\\nsamples = 1\\nvalue = [0, 1]\\nclass = normal\"] ;\n",
      "53 -> 54 ;\n",
      "55 [label=\"gini = 0.0\\nsamples = 1\\nvalue = [1, 0]\\nclass = low\"] ;\n",
      "53 -> 55 ;\n",
      "56 [label=\"gini = 0.0\\nsamples = 1\\nvalue = [0, 1]\\nclass = normal\"] ;\n",
      "50 -> 56 ;\n",
      "57 [label=\"gini = 0.0\\nsamples = 3\\nvalue = [3, 0]\\nclass = low\"] ;\n",
      "49 -> 57 ;\n",
      "58 [label=\"mom_age <= 19.5\\ngini = 0.375\\nsamples = 4\\nvalue = [1, 3]\\nclass = normal\"] ;\n",
      "48 -> 58 ;\n",
      "59 [label=\"gini = 0.0\\nsamples = 1\\nvalue = [1, 0]\\nclass = low\"] ;\n",
      "58 -> 59 ;\n",
      "60 [label=\"gini = 0.0\\nsamples = 3\\nvalue = [0, 3]\\nclass = normal\"] ;\n",
      "58 -> 60 ;\n",
      "61 [label=\"mom_weight <= 125.0\\ngini = 0.469\\nsamples = 8\\nvalue = [3, 5]\\nclass = normal\"] ;\n",
      "1 -> 61 ;\n",
      "62 [label=\"gini = 0.0\\nsamples = 2\\nvalue = [2, 0]\\nclass = low\"] ;\n",
      "61 -> 62 ;\n",
      "63 [label=\"mom_weight <= 174.5\\ngini = 0.278\\nsamples = 6\\nvalue = [1, 5]\\nclass = normal\"] ;\n",
      "61 -> 63 ;\n",
      "64 [label=\"gini = 0.0\\nsamples = 4\\nvalue = [0, 4]\\nclass = normal\"] ;\n",
      "63 -> 64 ;\n",
      "65 [label=\"mom_weight <= 185.5\\ngini = 0.5\\nsamples = 2\\nvalue = [1, 1]\\nclass = low\"] ;\n",
      "63 -> 65 ;\n",
      "66 [label=\"gini = 0.0\\nsamples = 1\\nvalue = [1, 0]\\nclass = low\"] ;\n",
      "65 -> 66 ;\n",
      "67 [label=\"gini = 0.0\\nsamples = 1\\nvalue = [0, 1]\\nclass = normal\"] ;\n",
      "65 -> 67 ;\n",
      "68 [label=\"mom_age <= 31.5\\ngini = 0.476\\nsamples = 23\\nvalue = [9, 14]\\nclass = normal\"] ;\n",
      "0 -> 68 [labeldistance=2.5, labelangle=-45, headlabel=\"False\"] ;\n",
      "69 [label=\"premature_labor <= 1.5\\ngini = 0.42\\nsamples = 20\\nvalue = [6, 14]\\nclass = normal\"] ;\n",
      "68 -> 69 ;\n",
      "70 [label=\"doc_visit <= 1.5\\ngini = 0.32\\nsamples = 15\\nvalue = [3, 12]\\nclass = normal\"] ;\n",
      "69 -> 70 ;\n",
      "71 [label=\"mom_weight <= 96.0\\ngini = 0.153\\nsamples = 12\\nvalue = [1, 11]\\nclass = normal\"] ;\n",
      "70 -> 71 ;\n",
      "72 [label=\"gini = 0.0\\nsamples = 1\\nvalue = [1, 0]\\nclass = low\"] ;\n",
      "71 -> 72 ;\n",
      "73 [label=\"gini = 0.0\\nsamples = 11\\nvalue = [0, 11]\\nclass = normal\"] ;\n",
      "71 -> 73 ;\n",
      "74 [label=\"doc_visit <= 3.0\\ngini = 0.444\\nsamples = 3\\nvalue = [2, 1]\\nclass = low\"] ;\n",
      "70 -> 74 ;\n",
      "75 [label=\"gini = 0.0\\nsamples = 2\\nvalue = [2, 0]\\nclass = low\"] ;\n",
      "74 -> 75 ;\n",
      "76 [label=\"gini = 0.0\\nsamples = 1\\nvalue = [0, 1]\\nclass = normal\"] ;\n",
      "74 -> 76 ;\n",
      "77 [label=\"mom_weight <= 93.0\\ngini = 0.48\\nsamples = 5\\nvalue = [3, 2]\\nclass = low\"] ;\n",
      "69 -> 77 ;\n",
      "78 [label=\"gini = 0.0\\nsamples = 2\\nvalue = [0, 2]\\nclass = normal\"] ;\n",
      "77 -> 78 ;\n",
      "79 [label=\"gini = 0.0\\nsamples = 3\\nvalue = [3, 0]\\nclass = low\"] ;\n",
      "77 -> 79 ;\n",
      "80 [label=\"gini = 0.0\\nsamples = 3\\nvalue = [3, 0]\\nclass = low\"] ;\n",
      "68 -> 80 ;\n",
      "}\n"
     ]
    }
   ],
   "source": [
    "print(tree.export_graphviz(dtree, feature_names=X.columns, class_names=[\"normal\", \"low\"]))"
   ]
  },
  {
   "cell_type": "code",
   "execution_count": null,
   "metadata": {
    "slideshow": {
     "slide_type": "skip"
    }
   },
   "outputs": [],
   "source": []
  },
  {
   "cell_type": "code",
   "execution_count": 55,
   "metadata": {
    "slideshow": {
     "slide_type": "slide"
    }
   },
   "outputs": [],
   "source": [
    "dtree2 = tree.DecisionTreeClassifier(max_leaf_nodes=10, max_features=4).fit(X_train, y_train)"
   ]
  },
  {
   "cell_type": "code",
   "execution_count": 56,
   "metadata": {
    "slideshow": {
     "slide_type": "slide"
    }
   },
   "outputs": [],
   "source": [
    "yfit = dtree2.predict(X_test)"
   ]
  },
  {
   "cell_type": "code",
   "execution_count": 57,
   "metadata": {
    "slideshow": {
     "slide_type": "slide"
    }
   },
   "outputs": [
    {
     "data": {
      "text/plain": [
       "0.625"
      ]
     },
     "execution_count": 57,
     "metadata": {},
     "output_type": "execute_result"
    }
   ],
   "source": [
    "accuracy_score(yfit, y_test)"
   ]
  },
  {
   "cell_type": "code",
   "execution_count": 64,
   "metadata": {
    "slideshow": {
     "slide_type": "slide"
    }
   },
   "outputs": [
    {
     "data": {
      "text/plain": [
       "array([[25,  4],\n",
       "       [14,  5]])"
      ]
     },
     "execution_count": 64,
     "metadata": {},
     "output_type": "execute_result"
    }
   ],
   "source": [
    "confusion_matrix(y_test, yfit)"
   ]
  },
  {
   "cell_type": "code",
   "execution_count": 63,
   "metadata": {
    "slideshow": {
     "slide_type": "slide"
    }
   },
   "outputs": [
    {
     "name": "stdout",
     "output_type": "stream",
     "text": [
      "digraph Tree {\n",
      "node [shape=box] ;\n",
      "0 [label=\"mom_weight <= 111.0\\ngini = 0.406\\nsamples = 141\\nvalue = [101, 40]\\nclass = normal\"] ;\n",
      "1 [label=\"premature_labor <= 0.5\\ngini = 0.492\\nsamples = 39\\nvalue = [22, 17]\\nclass = normal\"] ;\n",
      "0 -> 1 [labeldistance=2.5, labelangle=45, headlabel=\"True\"] ;\n",
      "7 [label=\"race_black <= 0.5\\ngini = 0.452\\nsamples = 29\\nvalue = [19, 10]\\nclass = normal\"] ;\n",
      "1 -> 7 ;\n",
      "15 [label=\"mom_age <= 15.5\\ngini = 0.459\\nsamples = 28\\nvalue = [18, 10]\\nclass = normal\"] ;\n",
      "7 -> 15 ;\n",
      "17 [label=\"gini = 0.0\\nsamples = 1\\nvalue = [0, 1]\\nclass = low\"] ;\n",
      "15 -> 17 ;\n",
      "18 [label=\"gini = 0.444\\nsamples = 27\\nvalue = [18, 9]\\nclass = normal\"] ;\n",
      "15 -> 18 ;\n",
      "16 [label=\"gini = 0.0\\nsamples = 1\\nvalue = [1, 0]\\nclass = normal\"] ;\n",
      "7 -> 16 ;\n",
      "8 [label=\"gini = 0.42\\nsamples = 10\\nvalue = [3, 7]\\nclass = low\"] ;\n",
      "1 -> 8 ;\n",
      "2 [label=\"hyptertension <= 0.5\\ngini = 0.349\\nsamples = 102\\nvalue = [79, 23]\\nclass = normal\"] ;\n",
      "0 -> 2 [labeldistance=2.5, labelangle=-45, headlabel=\"False\"] ;\n",
      "3 [label=\"premature_labor <= 0.5\\ngini = 0.296\\nsamples = 94\\nvalue = [77, 17]\\nclass = normal\"] ;\n",
      "2 -> 3 ;\n",
      "5 [label=\"gini = 0.232\\nsamples = 82\\nvalue = [71, 11]\\nclass = normal\"] ;\n",
      "3 -> 5 ;\n",
      "6 [label=\"premature_labor <= 1.5\\ngini = 0.5\\nsamples = 12\\nvalue = [6, 6]\\nclass = normal\"] ;\n",
      "3 -> 6 ;\n",
      "9 [label=\"mom_age <= 31.0\\ngini = 0.48\\nsamples = 10\\nvalue = [4, 6]\\nclass = low\"] ;\n",
      "6 -> 9 ;\n",
      "11 [label=\"doc_visit <= 1.5\\ngini = 0.245\\nsamples = 7\\nvalue = [1, 6]\\nclass = low\"] ;\n",
      "9 -> 11 ;\n",
      "13 [label=\"gini = 0.0\\nsamples = 6\\nvalue = [0, 6]\\nclass = low\"] ;\n",
      "11 -> 13 ;\n",
      "14 [label=\"gini = 0.0\\nsamples = 1\\nvalue = [1, 0]\\nclass = normal\"] ;\n",
      "11 -> 14 ;\n",
      "12 [label=\"gini = 0.0\\nsamples = 3\\nvalue = [3, 0]\\nclass = normal\"] ;\n",
      "9 -> 12 ;\n",
      "10 [label=\"gini = 0.0\\nsamples = 2\\nvalue = [2, 0]\\nclass = normal\"] ;\n",
      "6 -> 10 ;\n",
      "4 [label=\"gini = 0.375\\nsamples = 8\\nvalue = [2, 6]\\nclass = low\"] ;\n",
      "2 -> 4 ;\n",
      "}\n"
     ]
    }
   ],
   "source": [
    "print(tree.export_graphviz(dtree2, feature_names=X.columns, class_names=[\"normal\", \"low\"]))"
   ]
  }
 ],
 "metadata": {
  "celltoolbar": "Slideshow",
  "kernelspec": {
   "display_name": "Python 3",
   "language": "python",
   "name": "python3"
  },
  "language_info": {
   "codemirror_mode": {
    "name": "ipython",
    "version": 3
   },
   "file_extension": ".py",
   "mimetype": "text/x-python",
   "name": "python",
   "nbconvert_exporter": "python",
   "pygments_lexer": "ipython3",
   "version": "3.7.3"
  }
 },
 "nbformat": 4,
 "nbformat_minor": 2
}
