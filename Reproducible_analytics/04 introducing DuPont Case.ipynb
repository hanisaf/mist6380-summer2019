{
 "cells": [
  {
   "cell_type": "code",
   "execution_count": 1,
   "metadata": {},
   "outputs": [],
   "source": [
    "import pandas as pd"
   ]
  },
  {
   "cell_type": "markdown",
   "metadata": {},
   "source": [
    "Download the EY DuPont Excel Spreadsheet from eLC `Analytics_mindset_case_studies_DuPont`\n",
    "\n",
    "Load the spreadsheet into pandas"
   ]
  },
  {
   "cell_type": "code",
   "execution_count": 4,
   "metadata": {},
   "outputs": [],
   "source": [
    "data1 = pd.read_excel('~/Downloads/Analytics_mindset_case_studies_DuPont.xls', sheet_name='Balance Sheet Data')"
   ]
  },
  {
   "cell_type": "code",
   "execution_count": 8,
   "metadata": {},
   "outputs": [
    {
     "data": {
      "text/plain": [
       "(523, 33)"
      ]
     },
     "execution_count": 8,
     "metadata": {},
     "output_type": "execute_result"
    }
   ],
   "source": [
    "data1.shape"
   ]
  },
  {
   "cell_type": "code",
   "execution_count": 9,
   "metadata": {},
   "outputs": [
    {
     "data": {
      "text/plain": [
       "Ticker                                  object\n",
       "Name                                    object\n",
       "Industry                                object\n",
       "Year                                     int64\n",
       "Financial Statement                     object\n",
       "Cash                                   float64\n",
       "Short Term Investment Cash             float64\n",
       "Cash & Short Term Investments          float64\n",
       "Accounts Receivables                   float64\n",
       "Inventories                            float64\n",
       "Other Current Assets                   float64\n",
       "Total Current Assets                   float64\n",
       "Gross Property, Plant and Equipment    float64\n",
       "Total Depreciation                     float64\n",
       "Intangible Assets                      float64\n",
       "Total Other Assets                     float64\n",
       "Total Assets                             int64\n",
       "Accounts Payable                         int64\n",
       "Short Term Debt                        float64\n",
       "Accrued Expenses (Liability)           float64\n",
       "Other Current Liabilities                int64\n",
       "Other Liabilities                      float64\n",
       "Long Term Debt                           int64\n",
       "Deferred Taxes (Liability)               int64\n",
       "Other Liabilities.1                      int64\n",
       "Total Liabilities                        int64\n",
       "Minority Interest (Equity)               int64\n",
       "Preferred Stock (Equity)                 int64\n",
       "Common Equity                            int64\n",
       "Total Shareholder Equity                 int64\n",
       "Common Shares Outstanding              float64\n",
       "Prepaid Expenses                       float64\n",
       "Cash Due From Banks (Asset)              int64\n",
       "dtype: object"
      ]
     },
     "execution_count": 9,
     "metadata": {},
     "output_type": "execute_result"
    }
   ],
   "source": [
    "data1.dtypes"
   ]
  },
  {
   "cell_type": "code",
   "execution_count": 6,
   "metadata": {},
   "outputs": [
    {
     "data": {
      "text/html": [
       "<div>\n",
       "<style scoped>\n",
       "    .dataframe tbody tr th:only-of-type {\n",
       "        vertical-align: middle;\n",
       "    }\n",
       "\n",
       "    .dataframe tbody tr th {\n",
       "        vertical-align: top;\n",
       "    }\n",
       "\n",
       "    .dataframe thead th {\n",
       "        text-align: right;\n",
       "    }\n",
       "</style>\n",
       "<table border=\"1\" class=\"dataframe\">\n",
       "  <thead>\n",
       "    <tr style=\"text-align: right;\">\n",
       "      <th></th>\n",
       "      <th>Ticker</th>\n",
       "      <th>Name</th>\n",
       "      <th>Industry</th>\n",
       "      <th>Year</th>\n",
       "      <th>Financial Statement</th>\n",
       "      <th>Cash</th>\n",
       "      <th>Short Term Investment Cash</th>\n",
       "      <th>Cash &amp; Short Term Investments</th>\n",
       "      <th>Accounts Receivables</th>\n",
       "      <th>Inventories</th>\n",
       "      <th>...</th>\n",
       "      <th>Deferred Taxes (Liability)</th>\n",
       "      <th>Other Liabilities.1</th>\n",
       "      <th>Total Liabilities</th>\n",
       "      <th>Minority Interest (Equity)</th>\n",
       "      <th>Preferred Stock (Equity)</th>\n",
       "      <th>Common Equity</th>\n",
       "      <th>Total Shareholder Equity</th>\n",
       "      <th>Common Shares Outstanding</th>\n",
       "      <th>Prepaid Expenses</th>\n",
       "      <th>Cash Due From Banks (Asset)</th>\n",
       "    </tr>\n",
       "  </thead>\n",
       "  <tbody>\n",
       "    <tr>\n",
       "      <th>0</th>\n",
       "      <td>AAL</td>\n",
       "      <td>American Airlines Group Inc.</td>\n",
       "      <td>Transportation</td>\n",
       "      <td>2013</td>\n",
       "      <td>Balance Sheet</td>\n",
       "      <td>2.200000e+09</td>\n",
       "      <td>6.600000e+08</td>\n",
       "      <td>1.030000e+10</td>\n",
       "      <td>1.600000e+09</td>\n",
       "      <td>1.000000e+09</td>\n",
       "      <td>...</td>\n",
       "      <td>0</td>\n",
       "      <td>5300000000</td>\n",
       "      <td>45000000000</td>\n",
       "      <td>0</td>\n",
       "      <td>0</td>\n",
       "      <td>-2700000000</td>\n",
       "      <td>-2700000000</td>\n",
       "      <td>2.611000e+08</td>\n",
       "      <td>0.0</td>\n",
       "      <td>0</td>\n",
       "    </tr>\n",
       "    <tr>\n",
       "      <th>1</th>\n",
       "      <td>AAL</td>\n",
       "      <td>American Airlines Group Inc.</td>\n",
       "      <td>Transportation</td>\n",
       "      <td>2014</td>\n",
       "      <td>Balance Sheet</td>\n",
       "      <td>2.700000e+09</td>\n",
       "      <td>-1.460000e+08</td>\n",
       "      <td>8.100000e+09</td>\n",
       "      <td>1.800000e+09</td>\n",
       "      <td>1.000000e+09</td>\n",
       "      <td>...</td>\n",
       "      <td>0</td>\n",
       "      <td>3400000000</td>\n",
       "      <td>41800000000</td>\n",
       "      <td>0</td>\n",
       "      <td>0</td>\n",
       "      <td>2000000000</td>\n",
       "      <td>2000000000</td>\n",
       "      <td>6.975000e+08</td>\n",
       "      <td>0.0</td>\n",
       "      <td>0</td>\n",
       "    </tr>\n",
       "    <tr>\n",
       "      <th>2</th>\n",
       "      <td>AAL</td>\n",
       "      <td>American Airlines Group Inc.</td>\n",
       "      <td>Transportation</td>\n",
       "      <td>2015</td>\n",
       "      <td>Balance Sheet</td>\n",
       "      <td>2.100000e+09</td>\n",
       "      <td>-6.830000e+08</td>\n",
       "      <td>6.900000e+09</td>\n",
       "      <td>1.400000e+09</td>\n",
       "      <td>8.630000e+08</td>\n",
       "      <td>...</td>\n",
       "      <td>-2500000000</td>\n",
       "      <td>2500000000</td>\n",
       "      <td>42800000000</td>\n",
       "      <td>0</td>\n",
       "      <td>0</td>\n",
       "      <td>5600000000</td>\n",
       "      <td>5600000000</td>\n",
       "      <td>6.246000e+08</td>\n",
       "      <td>0.0</td>\n",
       "      <td>0</td>\n",
       "    </tr>\n",
       "    <tr>\n",
       "      <th>3</th>\n",
       "      <td>AAPL</td>\n",
       "      <td>Apple Inc.</td>\n",
       "      <td>Technology</td>\n",
       "      <td>2013</td>\n",
       "      <td>Balance Sheet</td>\n",
       "      <td>8.700000e+09</td>\n",
       "      <td>3.500000e+09</td>\n",
       "      <td>4.050000e+10</td>\n",
       "      <td>2.060000e+10</td>\n",
       "      <td>1.800000e+09</td>\n",
       "      <td>...</td>\n",
       "      <td>-16500000000</td>\n",
       "      <td>3700000000</td>\n",
       "      <td>83500000000</td>\n",
       "      <td>0</td>\n",
       "      <td>0</td>\n",
       "      <td>123500000000</td>\n",
       "      <td>123500000000</td>\n",
       "      <td>6.300000e+09</td>\n",
       "      <td>NaN</td>\n",
       "      <td>0</td>\n",
       "    </tr>\n",
       "    <tr>\n",
       "      <th>4</th>\n",
       "      <td>AAPL</td>\n",
       "      <td>Apple Inc.</td>\n",
       "      <td>Technology</td>\n",
       "      <td>2014</td>\n",
       "      <td>Balance Sheet</td>\n",
       "      <td>1.020000e+10</td>\n",
       "      <td>-4.150000e+08</td>\n",
       "      <td>2.510000e+10</td>\n",
       "      <td>2.720000e+10</td>\n",
       "      <td>2.100000e+09</td>\n",
       "      <td>...</td>\n",
       "      <td>-20300000000</td>\n",
       "      <td>4600000000</td>\n",
       "      <td>120300000000</td>\n",
       "      <td>0</td>\n",
       "      <td>0</td>\n",
       "      <td>111500000000</td>\n",
       "      <td>111500000000</td>\n",
       "      <td>5.900000e+09</td>\n",
       "      <td>NaN</td>\n",
       "      <td>0</td>\n",
       "    </tr>\n",
       "  </tbody>\n",
       "</table>\n",
       "<p>5 rows × 33 columns</p>\n",
       "</div>"
      ],
      "text/plain": [
       "  Ticker                          Name        Industry  Year  \\\n",
       "0    AAL  American Airlines Group Inc.  Transportation  2013   \n",
       "1    AAL  American Airlines Group Inc.  Transportation  2014   \n",
       "2    AAL  American Airlines Group Inc.  Transportation  2015   \n",
       "3   AAPL                    Apple Inc.      Technology  2013   \n",
       "4   AAPL                    Apple Inc.      Technology  2014   \n",
       "\n",
       "  Financial Statement          Cash  Short Term Investment Cash  \\\n",
       "0       Balance Sheet  2.200000e+09                6.600000e+08   \n",
       "1       Balance Sheet  2.700000e+09               -1.460000e+08   \n",
       "2       Balance Sheet  2.100000e+09               -6.830000e+08   \n",
       "3       Balance Sheet  8.700000e+09                3.500000e+09   \n",
       "4       Balance Sheet  1.020000e+10               -4.150000e+08   \n",
       "\n",
       "   Cash & Short Term Investments  Accounts Receivables   Inventories  ...  \\\n",
       "0                   1.030000e+10          1.600000e+09  1.000000e+09  ...   \n",
       "1                   8.100000e+09          1.800000e+09  1.000000e+09  ...   \n",
       "2                   6.900000e+09          1.400000e+09  8.630000e+08  ...   \n",
       "3                   4.050000e+10          2.060000e+10  1.800000e+09  ...   \n",
       "4                   2.510000e+10          2.720000e+10  2.100000e+09  ...   \n",
       "\n",
       "   Deferred Taxes (Liability)  Other Liabilities.1  Total Liabilities  \\\n",
       "0                           0           5300000000        45000000000   \n",
       "1                           0           3400000000        41800000000   \n",
       "2                 -2500000000           2500000000        42800000000   \n",
       "3                -16500000000           3700000000        83500000000   \n",
       "4                -20300000000           4600000000       120300000000   \n",
       "\n",
       "   Minority Interest (Equity)  Preferred Stock (Equity)  Common Equity  \\\n",
       "0                           0                         0    -2700000000   \n",
       "1                           0                         0     2000000000   \n",
       "2                           0                         0     5600000000   \n",
       "3                           0                         0   123500000000   \n",
       "4                           0                         0   111500000000   \n",
       "\n",
       "   Total Shareholder Equity  Common Shares Outstanding  Prepaid Expenses  \\\n",
       "0               -2700000000               2.611000e+08               0.0   \n",
       "1                2000000000               6.975000e+08               0.0   \n",
       "2                5600000000               6.246000e+08               0.0   \n",
       "3              123500000000               6.300000e+09               NaN   \n",
       "4              111500000000               5.900000e+09               NaN   \n",
       "\n",
       "   Cash Due From Banks (Asset)  \n",
       "0                            0  \n",
       "1                            0  \n",
       "2                            0  \n",
       "3                            0  \n",
       "4                            0  \n",
       "\n",
       "[5 rows x 33 columns]"
      ]
     },
     "execution_count": 6,
     "metadata": {},
     "output_type": "execute_result"
    }
   ],
   "source": [
    "data1.head()"
   ]
  },
  {
   "cell_type": "markdown",
   "metadata": {},
   "source": [
    "1- How many companies are listed in the data"
   ]
  },
  {
   "cell_type": "code",
   "execution_count": null,
   "metadata": {},
   "outputs": [],
   "source": []
  },
  {
   "cell_type": "markdown",
   "metadata": {},
   "source": [
    "2- What is the year range, i.e., first and last year in the data"
   ]
  },
  {
   "cell_type": "code",
   "execution_count": null,
   "metadata": {},
   "outputs": [],
   "source": []
  },
  {
   "cell_type": "markdown",
   "metadata": {},
   "source": [
    "3- Extract the rows of data about Google `GOOG`"
   ]
  },
  {
   "cell_type": "code",
   "execution_count": null,
   "metadata": {},
   "outputs": [],
   "source": []
  },
  {
   "cell_type": "markdown",
   "metadata": {},
   "source": [
    "4- Extract rows in which Total Assets are between 10 million and 100 million dollars"
   ]
  },
  {
   "cell_type": "code",
   "execution_count": null,
   "metadata": {},
   "outputs": [],
   "source": []
  },
  {
   "cell_type": "markdown",
   "metadata": {},
   "source": [
    "5- Extract the names of companies that have the keyworkd `airlines`"
   ]
  },
  {
   "cell_type": "code",
   "execution_count": null,
   "metadata": {},
   "outputs": [],
   "source": []
  },
  {
   "cell_type": "markdown",
   "metadata": {},
   "source": [
    "6- Calculate the ratio of Cash to Inventories in each row"
   ]
  },
  {
   "cell_type": "code",
   "execution_count": null,
   "metadata": {},
   "outputs": [],
   "source": []
  }
 ],
 "metadata": {
  "kernelspec": {
   "display_name": "Python 3",
   "language": "python",
   "name": "python3"
  },
  "language_info": {
   "codemirror_mode": {
    "name": "ipython",
    "version": 3
   },
   "file_extension": ".py",
   "mimetype": "text/x-python",
   "name": "python",
   "nbconvert_exporter": "python",
   "pygments_lexer": "ipython3",
   "version": "3.7.3"
  }
 },
 "nbformat": 4,
 "nbformat_minor": 2
}
