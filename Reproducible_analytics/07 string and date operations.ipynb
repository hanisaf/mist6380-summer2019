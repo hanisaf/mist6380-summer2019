{
 "cells": [
  {
   "cell_type": "code",
   "execution_count": 1,
   "metadata": {},
   "outputs": [],
   "source": [
    "import pandas as pd"
   ]
  },
  {
   "cell_type": "code",
   "execution_count": 2,
   "metadata": {},
   "outputs": [],
   "source": [
    "data = pd.read_csv('../data/EC2000.csv.gz')"
   ]
  },
  {
   "cell_type": "code",
   "execution_count": 3,
   "metadata": {},
   "outputs": [
    {
     "data": {
      "text/html": [
       "<div>\n",
       "<style scoped>\n",
       "    .dataframe tbody tr th:only-of-type {\n",
       "        vertical-align: middle;\n",
       "    }\n",
       "\n",
       "    .dataframe tbody tr th {\n",
       "        vertical-align: top;\n",
       "    }\n",
       "\n",
       "    .dataframe thead th {\n",
       "        text-align: right;\n",
       "    }\n",
       "</style>\n",
       "<table border=\"1\" class=\"dataframe\">\n",
       "  <thead>\n",
       "    <tr style=\"text-align: right;\">\n",
       "      <th></th>\n",
       "      <th>index</th>\n",
       "      <th>id</th>\n",
       "      <th>text</th>\n",
       "      <th>date</th>\n",
       "      <th>fName</th>\n",
       "      <th>sector</th>\n",
       "      <th>index.1</th>\n",
       "      <th>index_prepared</th>\n",
       "      <th>index_qa</th>\n",
       "    </tr>\n",
       "  </thead>\n",
       "  <tbody>\n",
       "    <tr>\n",
       "      <th>0</th>\n",
       "      <td>1</td>\n",
       "      <td>32934</td>\n",
       "      <td>Zoe's Kitchen, Inc. (NYSE:ZOES)\\nQ2 2015 Earni...</td>\n",
       "      <td>2015-08-28 00:11:00</td>\n",
       "      <td>Zoe's Kitchen, Inc.</td>\n",
       "      <td>Consumer Services</td>\n",
       "      <td>0.561404</td>\n",
       "      <td>0.627907</td>\n",
       "      <td>0.521127</td>\n",
       "    </tr>\n",
       "    <tr>\n",
       "      <th>1</th>\n",
       "      <td>2</td>\n",
       "      <td>32905</td>\n",
       "      <td>Autodesk, Inc. (NASDAQ:ADSK)\\nQ2 2016 Earnings...</td>\n",
       "      <td>2015-08-28 00:07:00</td>\n",
       "      <td>Autodesk, Inc.</td>\n",
       "      <td>Technology</td>\n",
       "      <td>0.364706</td>\n",
       "      <td>0.531250</td>\n",
       "      <td>0.264151</td>\n",
       "    </tr>\n",
       "    <tr>\n",
       "      <th>2</th>\n",
       "      <td>3</td>\n",
       "      <td>32926</td>\n",
       "      <td>Smith &amp; Wesson Holding Corp. (NASDAQ:SWHC)\\nQ1...</td>\n",
       "      <td>2015-08-27 23:25:00</td>\n",
       "      <td>Smith &amp; Wesson Holding Corporation</td>\n",
       "      <td>Capital Goods</td>\n",
       "      <td>0.568627</td>\n",
       "      <td>0.736842</td>\n",
       "      <td>0.468750</td>\n",
       "    </tr>\n",
       "    <tr>\n",
       "      <th>3</th>\n",
       "      <td>4</td>\n",
       "      <td>32930</td>\n",
       "      <td>Ulta Salon, Cosmetics &amp; Fragrance, Inc. (NASDA...</td>\n",
       "      <td>2015-08-27 23:09:00</td>\n",
       "      <td>Ulta Salon, Cosmetics &amp; Fragrance, Inc.</td>\n",
       "      <td>Consumer Services</td>\n",
       "      <td>0.694805</td>\n",
       "      <td>0.813953</td>\n",
       "      <td>0.608939</td>\n",
       "    </tr>\n",
       "    <tr>\n",
       "      <th>4</th>\n",
       "      <td>5</td>\n",
       "      <td>32907</td>\n",
       "      <td>Splunk Inc. (NASDAQ:SPLK)\\nQ2 2016 Earnings Co...</td>\n",
       "      <td>2015-08-27 22:56:00</td>\n",
       "      <td>Splunk Inc.</td>\n",
       "      <td>Technology</td>\n",
       "      <td>0.425000</td>\n",
       "      <td>0.530612</td>\n",
       "      <td>0.352113</td>\n",
       "    </tr>\n",
       "  </tbody>\n",
       "</table>\n",
       "</div>"
      ],
      "text/plain": [
       "   index     id                                               text  \\\n",
       "0      1  32934  Zoe's Kitchen, Inc. (NYSE:ZOES)\\nQ2 2015 Earni...   \n",
       "1      2  32905  Autodesk, Inc. (NASDAQ:ADSK)\\nQ2 2016 Earnings...   \n",
       "2      3  32926  Smith & Wesson Holding Corp. (NASDAQ:SWHC)\\nQ1...   \n",
       "3      4  32930  Ulta Salon, Cosmetics & Fragrance, Inc. (NASDA...   \n",
       "4      5  32907  Splunk Inc. (NASDAQ:SPLK)\\nQ2 2016 Earnings Co...   \n",
       "\n",
       "                  date                                    fName  \\\n",
       "0  2015-08-28 00:11:00                      Zoe's Kitchen, Inc.   \n",
       "1  2015-08-28 00:07:00                           Autodesk, Inc.   \n",
       "2  2015-08-27 23:25:00       Smith & Wesson Holding Corporation   \n",
       "3  2015-08-27 23:09:00  Ulta Salon, Cosmetics & Fragrance, Inc.   \n",
       "4  2015-08-27 22:56:00                              Splunk Inc.   \n",
       "\n",
       "              sector   index.1  index_prepared  index_qa  \n",
       "0  Consumer Services  0.561404        0.627907  0.521127  \n",
       "1         Technology  0.364706        0.531250  0.264151  \n",
       "2      Capital Goods  0.568627        0.736842  0.468750  \n",
       "3  Consumer Services  0.694805        0.813953  0.608939  \n",
       "4         Technology  0.425000        0.530612  0.352113  "
      ]
     },
     "execution_count": 3,
     "metadata": {},
     "output_type": "execute_result"
    }
   ],
   "source": [
    "data.head()\n"
   ]
  },
  {
   "cell_type": "markdown",
   "metadata": {},
   "source": [
    "1- drop first column index, rename fName to company, drop the last three columns"
   ]
  },
  {
   "cell_type": "code",
   "execution_count": null,
   "metadata": {},
   "outputs": [],
   "source": []
  },
  {
   "cell_type": "markdown",
   "metadata": {},
   "source": [
    "2- create a col length that contains the length of text"
   ]
  },
  {
   "cell_type": "code",
   "execution_count": null,
   "metadata": {},
   "outputs": [],
   "source": []
  },
  {
   "cell_type": "markdown",
   "metadata": {},
   "source": [
    "3- create a col words that contains the number of words in text"
   ]
  },
  {
   "cell_type": "code",
   "execution_count": null,
   "metadata": {},
   "outputs": [],
   "source": []
  },
  {
   "cell_type": "markdown",
   "metadata": {},
   "source": [
    "4- are there any emails in the text"
   ]
  },
  {
   "cell_type": "code",
   "execution_count": null,
   "metadata": {},
   "outputs": [],
   "source": []
  },
  {
   "cell_type": "markdown",
   "metadata": {},
   "source": [
    "5- extract these emails"
   ]
  },
  {
   "cell_type": "code",
   "execution_count": null,
   "metadata": {},
   "outputs": [],
   "source": []
  },
  {
   "cell_type": "markdown",
   "metadata": {},
   "source": [
    "6- extract tickers and stock markets from text"
   ]
  },
  {
   "cell_type": "code",
   "execution_count": null,
   "metadata": {},
   "outputs": [],
   "source": []
  },
  {
   "cell_type": "markdown",
   "metadata": {},
   "source": [
    "7- What sectors are more verbose (use more words than others)"
   ]
  },
  {
   "cell_type": "code",
   "execution_count": null,
   "metadata": {},
   "outputs": [],
   "source": []
  },
  {
   "cell_type": "markdown",
   "metadata": {},
   "source": [
    "8- does the word length of text vary per day of the week"
   ]
  },
  {
   "cell_type": "code",
   "execution_count": null,
   "metadata": {},
   "outputs": [],
   "source": []
  },
  {
   "cell_type": "markdown",
   "metadata": {},
   "source": [
    "9- index data by date, then extract the observations from 8/5 to 8/15"
   ]
  },
  {
   "cell_type": "code",
   "execution_count": null,
   "metadata": {},
   "outputs": [],
   "source": []
  }
 ],
 "metadata": {
  "kernelspec": {
   "display_name": "Python 3",
   "language": "python",
   "name": "python3"
  },
  "language_info": {
   "codemirror_mode": {
    "name": "ipython",
    "version": 3
   },
   "file_extension": ".py",
   "mimetype": "text/x-python",
   "name": "python",
   "nbconvert_exporter": "python",
   "pygments_lexer": "ipython3",
   "version": "3.7.1"
  }
 },
 "nbformat": 4,
 "nbformat_minor": 2
}
