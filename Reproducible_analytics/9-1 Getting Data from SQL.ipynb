{
 "cells": [
  {
   "cell_type": "code",
   "execution_count": 10,
   "metadata": {},
   "outputs": [],
   "source": [
    "import sqlite3\n",
    "import pandas as pd"
   ]
  },
  {
   "cell_type": "markdown",
   "metadata": {},
   "source": [
    "## Reading data from a relational database"
   ]
  },
  {
   "cell_type": "code",
   "execution_count": 2,
   "metadata": {},
   "outputs": [],
   "source": [
    "connection = sqlite3.connect('../data/ClassicModels.db')"
   ]
  },
  {
   "cell_type": "code",
   "execution_count": 3,
   "metadata": {},
   "outputs": [],
   "source": [
    "cursor = connection.cursor()"
   ]
  },
  {
   "cell_type": "code",
   "execution_count": 5,
   "metadata": {},
   "outputs": [],
   "source": [
    "query = \"SELECT * FROM Employees WHERE officeCode = 1\""
   ]
  },
  {
   "cell_type": "code",
   "execution_count": 6,
   "metadata": {},
   "outputs": [],
   "source": [
    "results = cursor.execute(query)"
   ]
  },
  {
   "cell_type": "code",
   "execution_count": 8,
   "metadata": {},
   "outputs": [],
   "source": [
    "data = results.fetchall()"
   ]
  },
  {
   "cell_type": "code",
   "execution_count": 9,
   "metadata": {},
   "outputs": [
    {
     "data": {
      "text/plain": [
       "[(1002,\n",
       "  'Murphy',\n",
       "  'Diane',\n",
       "  'x5800',\n",
       "  'dmurphy@classicmodelcars.com',\n",
       "  0,\n",
       "  'President',\n",
       "  '1'),\n",
       " (1056,\n",
       "  'Patterson',\n",
       "  'Mary',\n",
       "  'x4611',\n",
       "  'mpatterso@classicmodelcars.com',\n",
       "  1002,\n",
       "  'VP Sales',\n",
       "  '1'),\n",
       " (1076,\n",
       "  'Firrelli',\n",
       "  'Jeff',\n",
       "  'x9273',\n",
       "  'jfirrelli@classicmodelcars.com',\n",
       "  1002,\n",
       "  'VP Marketing',\n",
       "  '1'),\n",
       " (1143,\n",
       "  'Bow',\n",
       "  'Anthony',\n",
       "  'x5428',\n",
       "  'abow@classicmodelcars.com',\n",
       "  1056,\n",
       "  'Sales Manager (NA)',\n",
       "  '1'),\n",
       " (1165,\n",
       "  'Jennings',\n",
       "  'Leslie',\n",
       "  'x3291',\n",
       "  'ljennings@classicmodelcars.com',\n",
       "  1143,\n",
       "  'Sales Rep',\n",
       "  '1'),\n",
       " (1166,\n",
       "  'Thompson',\n",
       "  'Leslie',\n",
       "  'x4065',\n",
       "  'lthompson@classicmodelcars.com',\n",
       "  1143,\n",
       "  'Sales Rep',\n",
       "  '1')]"
      ]
     },
     "execution_count": 9,
     "metadata": {},
     "output_type": "execute_result"
    }
   ],
   "source": [
    "data"
   ]
  },
  {
   "cell_type": "code",
   "execution_count": 13,
   "metadata": {},
   "outputs": [],
   "source": [
    "columns = [r[0] for r in results.description]"
   ]
  },
  {
   "cell_type": "code",
   "execution_count": 14,
   "metadata": {},
   "outputs": [
    {
     "data": {
      "text/html": [
       "<div>\n",
       "<style scoped>\n",
       "    .dataframe tbody tr th:only-of-type {\n",
       "        vertical-align: middle;\n",
       "    }\n",
       "\n",
       "    .dataframe tbody tr th {\n",
       "        vertical-align: top;\n",
       "    }\n",
       "\n",
       "    .dataframe thead th {\n",
       "        text-align: right;\n",
       "    }\n",
       "</style>\n",
       "<table border=\"1\" class=\"dataframe\">\n",
       "  <thead>\n",
       "    <tr style=\"text-align: right;\">\n",
       "      <th></th>\n",
       "      <th>employeeNumber</th>\n",
       "      <th>lastName</th>\n",
       "      <th>firstName</th>\n",
       "      <th>extension</th>\n",
       "      <th>email</th>\n",
       "      <th>reportsTo</th>\n",
       "      <th>jobTitle</th>\n",
       "      <th>officeCode</th>\n",
       "    </tr>\n",
       "  </thead>\n",
       "  <tbody>\n",
       "    <tr>\n",
       "      <th>0</th>\n",
       "      <td>1002</td>\n",
       "      <td>Murphy</td>\n",
       "      <td>Diane</td>\n",
       "      <td>x5800</td>\n",
       "      <td>dmurphy@classicmodelcars.com</td>\n",
       "      <td>0</td>\n",
       "      <td>President</td>\n",
       "      <td>1</td>\n",
       "    </tr>\n",
       "    <tr>\n",
       "      <th>1</th>\n",
       "      <td>1056</td>\n",
       "      <td>Patterson</td>\n",
       "      <td>Mary</td>\n",
       "      <td>x4611</td>\n",
       "      <td>mpatterso@classicmodelcars.com</td>\n",
       "      <td>1002</td>\n",
       "      <td>VP Sales</td>\n",
       "      <td>1</td>\n",
       "    </tr>\n",
       "    <tr>\n",
       "      <th>2</th>\n",
       "      <td>1076</td>\n",
       "      <td>Firrelli</td>\n",
       "      <td>Jeff</td>\n",
       "      <td>x9273</td>\n",
       "      <td>jfirrelli@classicmodelcars.com</td>\n",
       "      <td>1002</td>\n",
       "      <td>VP Marketing</td>\n",
       "      <td>1</td>\n",
       "    </tr>\n",
       "    <tr>\n",
       "      <th>3</th>\n",
       "      <td>1143</td>\n",
       "      <td>Bow</td>\n",
       "      <td>Anthony</td>\n",
       "      <td>x5428</td>\n",
       "      <td>abow@classicmodelcars.com</td>\n",
       "      <td>1056</td>\n",
       "      <td>Sales Manager (NA)</td>\n",
       "      <td>1</td>\n",
       "    </tr>\n",
       "    <tr>\n",
       "      <th>4</th>\n",
       "      <td>1165</td>\n",
       "      <td>Jennings</td>\n",
       "      <td>Leslie</td>\n",
       "      <td>x3291</td>\n",
       "      <td>ljennings@classicmodelcars.com</td>\n",
       "      <td>1143</td>\n",
       "      <td>Sales Rep</td>\n",
       "      <td>1</td>\n",
       "    </tr>\n",
       "    <tr>\n",
       "      <th>5</th>\n",
       "      <td>1166</td>\n",
       "      <td>Thompson</td>\n",
       "      <td>Leslie</td>\n",
       "      <td>x4065</td>\n",
       "      <td>lthompson@classicmodelcars.com</td>\n",
       "      <td>1143</td>\n",
       "      <td>Sales Rep</td>\n",
       "      <td>1</td>\n",
       "    </tr>\n",
       "  </tbody>\n",
       "</table>\n",
       "</div>"
      ],
      "text/plain": [
       "   employeeNumber   lastName firstName extension  \\\n",
       "0            1002     Murphy     Diane     x5800   \n",
       "1            1056  Patterson      Mary     x4611   \n",
       "2            1076   Firrelli      Jeff     x9273   \n",
       "3            1143        Bow   Anthony     x5428   \n",
       "4            1165   Jennings    Leslie     x3291   \n",
       "5            1166   Thompson    Leslie     x4065   \n",
       "\n",
       "                            email  reportsTo            jobTitle officeCode  \n",
       "0    dmurphy@classicmodelcars.com          0           President          1  \n",
       "1  mpatterso@classicmodelcars.com       1002            VP Sales          1  \n",
       "2  jfirrelli@classicmodelcars.com       1002        VP Marketing          1  \n",
       "3       abow@classicmodelcars.com       1056  Sales Manager (NA)          1  \n",
       "4  ljennings@classicmodelcars.com       1143           Sales Rep          1  \n",
       "5  lthompson@classicmodelcars.com       1143           Sales Rep          1  "
      ]
     },
     "execution_count": 14,
     "metadata": {},
     "output_type": "execute_result"
    }
   ],
   "source": [
    "pd.DataFrame(data, columns=columns)"
   ]
  },
  {
   "cell_type": "code",
   "execution_count": 12,
   "metadata": {},
   "outputs": [
    {
     "data": {
      "text/plain": [
       "(('employeeNumber', None, None, None, None, None, None),\n",
       " ('lastName', None, None, None, None, None, None),\n",
       " ('firstName', None, None, None, None, None, None),\n",
       " ('extension', None, None, None, None, None, None),\n",
       " ('email', None, None, None, None, None, None),\n",
       " ('reportsTo', None, None, None, None, None, None),\n",
       " ('jobTitle', None, None, None, None, None, None),\n",
       " ('officeCode', None, None, None, None, None, None))"
      ]
     },
     "execution_count": 12,
     "metadata": {},
     "output_type": "execute_result"
    }
   ],
   "source": [
    "results.description"
   ]
  },
  {
   "cell_type": "markdown",
   "metadata": {},
   "source": [
    "# Using Pandas"
   ]
  },
  {
   "cell_type": "code",
   "execution_count": 16,
   "metadata": {},
   "outputs": [],
   "source": [
    "df = pd.read_sql_query(query, connection, index_col='employeeNumber')"
   ]
  },
  {
   "cell_type": "code",
   "execution_count": 17,
   "metadata": {},
   "outputs": [
    {
     "data": {
      "text/html": [
       "<div>\n",
       "<style scoped>\n",
       "    .dataframe tbody tr th:only-of-type {\n",
       "        vertical-align: middle;\n",
       "    }\n",
       "\n",
       "    .dataframe tbody tr th {\n",
       "        vertical-align: top;\n",
       "    }\n",
       "\n",
       "    .dataframe thead th {\n",
       "        text-align: right;\n",
       "    }\n",
       "</style>\n",
       "<table border=\"1\" class=\"dataframe\">\n",
       "  <thead>\n",
       "    <tr style=\"text-align: right;\">\n",
       "      <th></th>\n",
       "      <th>lastName</th>\n",
       "      <th>firstName</th>\n",
       "      <th>extension</th>\n",
       "      <th>email</th>\n",
       "      <th>reportsTo</th>\n",
       "      <th>jobTitle</th>\n",
       "      <th>officeCode</th>\n",
       "    </tr>\n",
       "    <tr>\n",
       "      <th>employeeNumber</th>\n",
       "      <th></th>\n",
       "      <th></th>\n",
       "      <th></th>\n",
       "      <th></th>\n",
       "      <th></th>\n",
       "      <th></th>\n",
       "      <th></th>\n",
       "    </tr>\n",
       "  </thead>\n",
       "  <tbody>\n",
       "    <tr>\n",
       "      <th>1002</th>\n",
       "      <td>Murphy</td>\n",
       "      <td>Diane</td>\n",
       "      <td>x5800</td>\n",
       "      <td>dmurphy@classicmodelcars.com</td>\n",
       "      <td>0</td>\n",
       "      <td>President</td>\n",
       "      <td>1</td>\n",
       "    </tr>\n",
       "    <tr>\n",
       "      <th>1056</th>\n",
       "      <td>Patterson</td>\n",
       "      <td>Mary</td>\n",
       "      <td>x4611</td>\n",
       "      <td>mpatterso@classicmodelcars.com</td>\n",
       "      <td>1002</td>\n",
       "      <td>VP Sales</td>\n",
       "      <td>1</td>\n",
       "    </tr>\n",
       "    <tr>\n",
       "      <th>1076</th>\n",
       "      <td>Firrelli</td>\n",
       "      <td>Jeff</td>\n",
       "      <td>x9273</td>\n",
       "      <td>jfirrelli@classicmodelcars.com</td>\n",
       "      <td>1002</td>\n",
       "      <td>VP Marketing</td>\n",
       "      <td>1</td>\n",
       "    </tr>\n",
       "    <tr>\n",
       "      <th>1143</th>\n",
       "      <td>Bow</td>\n",
       "      <td>Anthony</td>\n",
       "      <td>x5428</td>\n",
       "      <td>abow@classicmodelcars.com</td>\n",
       "      <td>1056</td>\n",
       "      <td>Sales Manager (NA)</td>\n",
       "      <td>1</td>\n",
       "    </tr>\n",
       "    <tr>\n",
       "      <th>1165</th>\n",
       "      <td>Jennings</td>\n",
       "      <td>Leslie</td>\n",
       "      <td>x3291</td>\n",
       "      <td>ljennings@classicmodelcars.com</td>\n",
       "      <td>1143</td>\n",
       "      <td>Sales Rep</td>\n",
       "      <td>1</td>\n",
       "    </tr>\n",
       "  </tbody>\n",
       "</table>\n",
       "</div>"
      ],
      "text/plain": [
       "                 lastName firstName extension                           email  \\\n",
       "employeeNumber                                                                  \n",
       "1002               Murphy     Diane     x5800    dmurphy@classicmodelcars.com   \n",
       "1056            Patterson      Mary     x4611  mpatterso@classicmodelcars.com   \n",
       "1076             Firrelli      Jeff     x9273  jfirrelli@classicmodelcars.com   \n",
       "1143                  Bow   Anthony     x5428       abow@classicmodelcars.com   \n",
       "1165             Jennings    Leslie     x3291  ljennings@classicmodelcars.com   \n",
       "\n",
       "                reportsTo            jobTitle officeCode  \n",
       "employeeNumber                                            \n",
       "1002                    0           President          1  \n",
       "1056                 1002            VP Sales          1  \n",
       "1076                 1002        VP Marketing          1  \n",
       "1143                 1056  Sales Manager (NA)          1  \n",
       "1165                 1143           Sales Rep          1  "
      ]
     },
     "execution_count": 17,
     "metadata": {},
     "output_type": "execute_result"
    }
   ],
   "source": [
    "df.head()"
   ]
  },
  {
   "cell_type": "markdown",
   "metadata": {},
   "source": [
    "## Exercise\n",
    "\n",
    "Write an SQL Query to report total payments for the customer below"
   ]
  },
  {
   "cell_type": "code",
   "execution_count": 1,
   "metadata": {},
   "outputs": [],
   "source": [
    "customer = \"Atelier graphique\""
   ]
  },
  {
   "cell_type": "code",
   "execution_count": null,
   "metadata": {},
   "outputs": [],
   "source": []
  }
 ],
 "metadata": {
  "kernelspec": {
   "display_name": "Python 3",
   "language": "python",
   "name": "python3"
  },
  "language_info": {
   "codemirror_mode": {
    "name": "ipython",
    "version": 3
   },
   "file_extension": ".py",
   "mimetype": "text/x-python",
   "name": "python",
   "nbconvert_exporter": "python",
   "pygments_lexer": "ipython3",
   "version": "3.7.3"
  }
 },
 "nbformat": 4,
 "nbformat_minor": 2
}
