{
 "cells": [
  {
   "cell_type": "code",
   "execution_count": 1,
   "metadata": {},
   "outputs": [],
   "source": [
    "# install beautifulsoup for the first time if not there\n",
    "#!conda install BeautifulSoup4\n",
    "#!pip install BeautifulSoup4"
   ]
  },
  {
   "cell_type": "code",
   "execution_count": 2,
   "metadata": {},
   "outputs": [],
   "source": [
    "from bs4 import BeautifulSoup\n",
    "import requests\n",
    "import pandas as pd"
   ]
  },
  {
   "cell_type": "code",
   "execution_count": null,
   "metadata": {},
   "outputs": [],
   "source": []
  },
  {
   "cell_type": "code",
   "execution_count": 87,
   "metadata": {},
   "outputs": [],
   "source": [
    "html=\"\"\"<html>\n",
    "    <head>\n",
    "        <title>\n",
    "            This is an example page\n",
    "        </title>\n",
    "    </head>\n",
    "    <body>\n",
    "        Here is the content of the page\n",
    "        <p>\n",
    "            One paragraph\n",
    "        </p>\n",
    "        <li> one </li>\n",
    "        <li> two </li>\n",
    "        <table>\n",
    "            <tr>\n",
    "                <td>col 1</td>\n",
    "                <td>col 2</td>\n",
    "            </tr>\n",
    "            <tr>\n",
    "                <td>val 1</td>\n",
    "                <td>val 2</td>\n",
    "            </tr>\n",
    "        </table>\n",
    "        End of body\n",
    "    </body>\n",
    "</html>\"\"\""
   ]
  },
  {
   "cell_type": "code",
   "execution_count": 106,
   "metadata": {},
   "outputs": [],
   "source": [
    "soup = BeautifulSoup(html, 'html')"
   ]
  },
  {
   "cell_type": "code",
   "execution_count": 107,
   "metadata": {},
   "outputs": [],
   "source": [
    "def print_html_tree(tag,level = 0):\n",
    "    print('\\t'*level + tag.name)\n",
    "    for child in tag.findChildren():\n",
    "        print_html_tree(child, level+1)"
   ]
  },
  {
   "cell_type": "code",
   "execution_count": 109,
   "metadata": {},
   "outputs": [],
   "source": [
    "#print_html_tree(soup.currentTag)"
   ]
  },
  {
   "cell_type": "markdown",
   "metadata": {},
   "source": [
    "Extract names and titles of [MIS Faulty at UGA](https://www.terry.uga.edu/directory/mis/)\n",
    "\n",
    "How many assistant professors are there?"
   ]
  },
  {
   "cell_type": "code",
   "execution_count": 3,
   "metadata": {},
   "outputs": [],
   "source": [
    "r = requests.get(\"https://www.terry.uga.edu/directory/mis\")"
   ]
  },
  {
   "cell_type": "code",
   "execution_count": 4,
   "metadata": {},
   "outputs": [
    {
     "data": {
      "text/plain": [
       "200"
      ]
     },
     "execution_count": 4,
     "metadata": {},
     "output_type": "execute_result"
    }
   ],
   "source": [
    "r.status_code"
   ]
  },
  {
   "cell_type": "code",
   "execution_count": 5,
   "metadata": {},
   "outputs": [],
   "source": [
    "html = r.text"
   ]
  },
  {
   "cell_type": "code",
   "execution_count": 7,
   "metadata": {},
   "outputs": [
    {
     "data": {
      "text/plain": [
       "str"
      ]
     },
     "execution_count": 7,
     "metadata": {},
     "output_type": "execute_result"
    }
   ],
   "source": [
    "type(html)"
   ]
  },
  {
   "cell_type": "code",
   "execution_count": 8,
   "metadata": {},
   "outputs": [],
   "source": [
    "soup = BeautifulSoup(html, 'html')"
   ]
  },
  {
   "cell_type": "code",
   "execution_count": 63,
   "metadata": {},
   "outputs": [],
   "source": [
    "names = soup.find_all('td', id=\"name\")"
   ]
  },
  {
   "cell_type": "code",
   "execution_count": 64,
   "metadata": {},
   "outputs": [],
   "source": [
    "titles = soup.find_all('td', id=\"title\")"
   ]
  },
  {
   "cell_type": "code",
   "execution_count": 65,
   "metadata": {},
   "outputs": [
    {
     "data": {
      "text/plain": [
       "'Dale Louis Goodhue'"
      ]
     },
     "execution_count": 65,
     "metadata": {},
     "output_type": "execute_result"
    }
   ],
   "source": [
    "names[0].text"
   ]
  },
  {
   "cell_type": "code",
   "execution_count": 66,
   "metadata": {},
   "outputs": [
    {
     "data": {
      "text/plain": [
       "True"
      ]
     },
     "execution_count": 66,
     "metadata": {},
     "output_type": "execute_result"
    }
   ],
   "source": [
    "len(names) == len(titles)"
   ]
  },
  {
   "cell_type": "code",
   "execution_count": 67,
   "metadata": {},
   "outputs": [],
   "source": [
    "# assemble the data\n",
    "res = []\n",
    "for i in range(len(names)):\n",
    "    entry = {'Name': names[i].text.strip(), 'Title': titles[i].text.strip()}\n",
    "    res.append(entry)\n",
    "    "
   ]
  },
  {
   "cell_type": "code",
   "execution_count": 68,
   "metadata": {},
   "outputs": [
    {
     "data": {
      "text/plain": [
       "33"
      ]
     },
     "execution_count": 68,
     "metadata": {},
     "output_type": "execute_result"
    }
   ],
   "source": [
    "len(res)"
   ]
  },
  {
   "cell_type": "code",
   "execution_count": 69,
   "metadata": {},
   "outputs": [],
   "source": [
    "data = pd.DataFrame(res)"
   ]
  },
  {
   "cell_type": "code",
   "execution_count": 70,
   "metadata": {},
   "outputs": [
    {
     "data": {
      "text/html": [
       "<div>\n",
       "<style scoped>\n",
       "    .dataframe tbody tr th:only-of-type {\n",
       "        vertical-align: middle;\n",
       "    }\n",
       "\n",
       "    .dataframe tbody tr th {\n",
       "        vertical-align: top;\n",
       "    }\n",
       "\n",
       "    .dataframe thead th {\n",
       "        text-align: right;\n",
       "    }\n",
       "</style>\n",
       "<table border=\"1\" class=\"dataframe\">\n",
       "  <thead>\n",
       "    <tr style=\"text-align: right;\">\n",
       "      <th></th>\n",
       "      <th>Name</th>\n",
       "      <th>Title</th>\n",
       "    </tr>\n",
       "  </thead>\n",
       "  <tbody>\n",
       "    <tr>\n",
       "      <th>0</th>\n",
       "      <td>Dale Louis Goodhue</td>\n",
       "      <td>Professor Emeritus</td>\n",
       "    </tr>\n",
       "    <tr>\n",
       "      <th>1</th>\n",
       "      <td>Kadianne Francis</td>\n",
       "      <td>Academic Advisor II</td>\n",
       "    </tr>\n",
       "    <tr>\n",
       "      <th>2</th>\n",
       "      <td>Weifeng Li</td>\n",
       "      <td>Assistant Professor</td>\n",
       "    </tr>\n",
       "    <tr>\n",
       "      <th>3</th>\n",
       "      <td>Timothy (Tim) Chester</td>\n",
       "      <td>Adjunct Instructor</td>\n",
       "    </tr>\n",
       "    <tr>\n",
       "      <th>4</th>\n",
       "      <td>Richard (Rick) Thomas Watson</td>\n",
       "      <td>J. Rex Fuqua Distinguished Chair for Internet ...</td>\n",
       "    </tr>\n",
       "  </tbody>\n",
       "</table>\n",
       "</div>"
      ],
      "text/plain": [
       "                           Name  \\\n",
       "0            Dale Louis Goodhue   \n",
       "1              Kadianne Francis   \n",
       "2                    Weifeng Li   \n",
       "3         Timothy (Tim) Chester   \n",
       "4  Richard (Rick) Thomas Watson   \n",
       "\n",
       "                                               Title  \n",
       "0                                 Professor Emeritus  \n",
       "1                                Academic Advisor II  \n",
       "2                                Assistant Professor  \n",
       "3                                 Adjunct Instructor  \n",
       "4  J. Rex Fuqua Distinguished Chair for Internet ...  "
      ]
     },
     "execution_count": 70,
     "metadata": {},
     "output_type": "execute_result"
    }
   ],
   "source": [
    "data.head()"
   ]
  },
  {
   "cell_type": "code",
   "execution_count": 71,
   "metadata": {},
   "outputs": [
    {
     "data": {
      "text/plain": [
       "6"
      ]
     },
     "execution_count": 71,
     "metadata": {},
     "output_type": "execute_result"
    }
   ],
   "source": [
    "sum(data.Title == 'Assistant Professor')"
   ]
  },
  {
   "cell_type": "markdown",
   "metadata": {},
   "source": [
    "## Exercise\n",
    "\n",
    "Extract the names, parties and states of [the US Senate](https://www.congress.gov/members?pageSize=100&q={%22congress%22:%22116%22,%22chamber%22:%22Senate%22})\n",
    "\n",
    "What are the states that have R and D senators?"
   ]
  },
  {
   "cell_type": "code",
   "execution_count": 72,
   "metadata": {},
   "outputs": [],
   "source": [
    "r = requests.get('https://www.congress.gov/members?pageSize=100&q={%22congress%22:%22116%22,%22chamber%22:%22Senate%22')"
   ]
  },
  {
   "cell_type": "code",
   "execution_count": 73,
   "metadata": {},
   "outputs": [
    {
     "data": {
      "text/plain": [
       "200"
      ]
     },
     "execution_count": 73,
     "metadata": {},
     "output_type": "execute_result"
    }
   ],
   "source": [
    "r.status_code"
   ]
  },
  {
   "cell_type": "code",
   "execution_count": 74,
   "metadata": {},
   "outputs": [],
   "source": [
    "html = r.text"
   ]
  },
  {
   "cell_type": "code",
   "execution_count": 75,
   "metadata": {},
   "outputs": [],
   "source": [
    "soup = BeautifulSoup(html, 'html')"
   ]
  },
  {
   "cell_type": "code",
   "execution_count": 76,
   "metadata": {},
   "outputs": [],
   "source": [
    "# extract members data\n",
    "members = soup.find_all('li', class_=\"expanded\")"
   ]
  },
  {
   "cell_type": "code",
   "execution_count": 77,
   "metadata": {},
   "outputs": [],
   "source": [
    "# one member\n",
    "m=members[0]"
   ]
  },
  {
   "cell_type": "code",
   "execution_count": 78,
   "metadata": {},
   "outputs": [
    {
     "data": {
      "text/plain": [
       "<li class=\"expanded\"> <div><span class=\"visualIndicator\">MEMBER</span></div>\n",
       "    1.\n",
       "    <span class=\"result-heading\"><a href=\"https://www.congress.gov/member/james-abdnor/A000009\">Senator Abdnor, James</a></span>\n",
       "<div class=\"quick-search-member\">\n",
       "<div class=\"member-image\"><img alt=\"Abdnor, James\" src=\"/img/member/a000009_200.jpg\"/></div>\n",
       "<div class=\"member-profile member-image-exists\">\n",
       "<span class=\"result-item\">\n",
       "<strong>State:</strong>\n",
       "<span>South Dakota</span>\n",
       "</span>\n",
       "<span class=\"result-item\">\n",
       "<strong>Party:</strong>\n",
       "<span>Republican</span>\n",
       "</span>\n",
       "<span class=\"result-item\">\n",
       "<strong>Served:</strong>\n",
       "<span>\n",
       "<ul class=\"member-served\">\n",
       "<li>Senate: 1981-1987</li> <li>House: 1973-1981</li> </ul>\n",
       "</span>\n",
       "</span>\n",
       "</div>\n",
       "<div class=\"clear\"></div>\n",
       "</div>\n",
       "</li>"
      ]
     },
     "execution_count": 78,
     "metadata": {},
     "output_type": "execute_result"
    }
   ],
   "source": [
    "m"
   ]
  },
  {
   "cell_type": "code",
   "execution_count": 79,
   "metadata": {},
   "outputs": [
    {
     "data": {
      "text/plain": [
       "'Senator Abdnor, James'"
      ]
     },
     "execution_count": 79,
     "metadata": {},
     "output_type": "execute_result"
    }
   ],
   "source": [
    "# extract the name\n",
    "name = m.find(\"span\", class_=\"result-heading\").text\n",
    "name"
   ]
  },
  {
   "cell_type": "code",
   "execution_count": 80,
   "metadata": {},
   "outputs": [
    {
     "data": {
      "text/plain": [
       "[<span class=\"result-item\">\n",
       " <strong>State:</strong>\n",
       " <span>South Dakota</span>\n",
       " </span>, <span class=\"result-item\">\n",
       " <strong>Party:</strong>\n",
       " <span>Republican</span>\n",
       " </span>, <span class=\"result-item\">\n",
       " <strong>Served:</strong>\n",
       " <span>\n",
       " <ul class=\"member-served\">\n",
       " <li>Senate: 1981-1987</li> <li>House: 1973-1981</li> </ul>\n",
       " </span>\n",
       " </span>]"
      ]
     },
     "execution_count": 80,
     "metadata": {},
     "output_type": "execute_result"
    }
   ],
   "source": [
    "# the remaining items are\n",
    "m.find_all(\"span\", class_=\"result-item\")"
   ]
  },
  {
   "cell_type": "code",
   "execution_count": 81,
   "metadata": {},
   "outputs": [],
   "source": [
    "# extract state and party\n",
    "state = m.find_all(\"span\", class_=\"result-item\")[0].find('span').text\n",
    "party = m.find_all(\"span\", class_=\"result-item\")[1].find('span').text"
   ]
  },
  {
   "cell_type": "code",
   "execution_count": 82,
   "metadata": {},
   "outputs": [
    {
     "data": {
      "text/plain": [
       "('Senator Abdnor, James', 'South Dakota', 'Republican')"
      ]
     },
     "execution_count": 82,
     "metadata": {},
     "output_type": "execute_result"
    }
   ],
   "source": [
    "name, state, party"
   ]
  },
  {
   "cell_type": "code",
   "execution_count": 87,
   "metadata": {},
   "outputs": [],
   "source": [
    "# can you repeat the above process for all members\n",
    "# assemble data and answer the question"
   ]
  },
  {
   "cell_type": "code",
   "execution_count": null,
   "metadata": {},
   "outputs": [],
   "source": []
  }
 ],
 "metadata": {
  "kernelspec": {
   "display_name": "Python 3",
   "language": "python",
   "name": "python3"
  },
  "language_info": {
   "codemirror_mode": {
    "name": "ipython",
    "version": 3
   },
   "file_extension": ".py",
   "mimetype": "text/x-python",
   "name": "python",
   "nbconvert_exporter": "python",
   "pygments_lexer": "ipython3",
   "version": "3.7.3"
  }
 },
 "nbformat": 4,
 "nbformat_minor": 2
}
