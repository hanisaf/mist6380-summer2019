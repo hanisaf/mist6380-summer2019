{
 "cells": [
  {
   "cell_type": "markdown",
   "metadata": {
    "collapsed": true
   },
   "source": [
    "The goal of this exercise is to use all the concepts we learned in the warm-up sessions.\n",
    "\n",
    "We have data about Internet companies. The data is organized in a dictionary, each key corresponds to a column in the [spreadsheet](./data/InternetCompanies.csv) \n",
    "\n",
    "- Compute mean market capitalization\n",
    "- Compute mean cash\n",
    "- Compute the cash to revenue ratio with two decimal places in descending order"
   ]
  },
  {
   "cell_type": "code",
   "execution_count": 1,
   "metadata": {},
   "outputs": [],
   "source": [
    "data = {\n",
    " 'Company': ['Apple',\n",
    "             'Google/Alphabet',\n",
    "             'Amazon',\n",
    "             'Facebook',\n",
    "             'Tencent',\n",
    "             'Alibaba',\n",
    "             'Priceline Group',\n",
    "             'Uber',\n",
    "             'Baidu',\n",
    "             'Ant Financial',\n",
    "             'Salesforce',\n",
    "             'Xiaomi',\n",
    "             'Paypal',\n",
    "             'Netflix',\n",
    "             'Yahoo',\n",
    "             'JD.com',\n",
    "             'eBay',\n",
    "             'Airbnb',\n",
    "             'Yahoo Japan',\n",
    "             'Didi Kuaidi'],\n",
    " 'Country': ['USA',\n",
    "             'USA',\n",
    "             'USA',\n",
    "             'USA',\n",
    "             'China',\n",
    "             'China',\n",
    "             'USA',\n",
    "             'USA',\n",
    "             'China',\n",
    "             'China',\n",
    "             'USA',\n",
    "             'China',\n",
    "             'USA',\n",
    "             'USA',\n",
    "             'USA',\n",
    "             'China',\n",
    "             'USA',\n",
    "             'USA',\n",
    "             'Japan',\n",
    "             'China'],\n",
    " 'MarketCap': [' $547 ',\n",
    "               ' $510 ',\n",
    "               ' $341 ',\n",
    "               ' $340 ',\n",
    "               ' $206 ',\n",
    "               ' $205 ',\n",
    "               ' $63 ',\n",
    "               ' $63 ',\n",
    "               ' $62 ',\n",
    "               ' $60 ',\n",
    "               ' $57 ',\n",
    "               ' $46 ',\n",
    "               ' $46 ',\n",
    "               ' $44 ',\n",
    "               ' $36 ',\n",
    "               ' $34 ',\n",
    "               ' $28 ',\n",
    "               ' $26 ',\n",
    "               ' $26 ',\n",
    "               ' $25 '],\n",
    " 'Revenue': [' $235 ',\n",
    "             ' $75 ',\n",
    "             ' $107 ',\n",
    "             ' $18 ',\n",
    "             ' $16 ',\n",
    "             ' $15 ',\n",
    "             ' $9 ',\n",
    "             ' $-   ',\n",
    "             ' $10 ',\n",
    "             ' $-   ',\n",
    "             ' $7 ',\n",
    "             ' $-   ',\n",
    "             ' $9 ',\n",
    "             ' $7 ',\n",
    "             ' $5 ',\n",
    "             ' $28 ',\n",
    "             ' $9 ',\n",
    "             ' $-   ',\n",
    "             ' $5 ',\n",
    "             ' $-   '],\n",
    "    'Cash': [' $233 ',\n",
    "              ' $79 ',\n",
    "              ' $16 ',\n",
    "              ' $21 ',\n",
    "              ' $14 ',\n",
    "              ' $18 ',\n",
    "              ' $11 ',\n",
    "              ' $-   ',\n",
    "              ' $11 ',\n",
    "              ' $-   ',\n",
    "              ' $4 ',\n",
    "              ' $-   ',\n",
    "              ' $6 ',\n",
    "              ' $2 ',\n",
    "              ' $10 ',\n",
    "              ' $5 ',\n",
    "              ' $11 ',\n",
    "              ' $-   ',\n",
    "              ' $5 ',\n",
    "              ' $-   ']\n",
    "}"
   ]
  },
  {
   "cell_type": "code",
   "execution_count": 6,
   "metadata": {},
   "outputs": [],
   "source": [
    "marketcap = data['MarketCap']"
   ]
  },
  {
   "cell_type": "code",
   "execution_count": 7,
   "metadata": {},
   "outputs": [
    {
     "data": {
      "text/plain": [
       "[' $547 ',\n",
       " ' $510 ',\n",
       " ' $341 ',\n",
       " ' $340 ',\n",
       " ' $206 ',\n",
       " ' $205 ',\n",
       " ' $63 ',\n",
       " ' $63 ',\n",
       " ' $62 ',\n",
       " ' $60 ',\n",
       " ' $57 ',\n",
       " ' $46 ',\n",
       " ' $46 ',\n",
       " ' $44 ',\n",
       " ' $36 ',\n",
       " ' $34 ',\n",
       " ' $28 ',\n",
       " ' $26 ',\n",
       " ' $26 ',\n",
       " ' $25 ']"
      ]
     },
     "execution_count": 7,
     "metadata": {},
     "output_type": "execute_result"
    }
   ],
   "source": [
    "marketcap"
   ]
  },
  {
   "cell_type": "code",
   "execution_count": 33,
   "metadata": {},
   "outputs": [],
   "source": [
    "value = marketcap[0]"
   ]
  },
  {
   "cell_type": "code",
   "execution_count": 34,
   "metadata": {},
   "outputs": [
    {
     "data": {
      "text/plain": [
       "' $547 '"
      ]
     },
     "execution_count": 34,
     "metadata": {},
     "output_type": "execute_result"
    }
   ],
   "source": [
    "value"
   ]
  },
  {
   "cell_type": "code",
   "execution_count": 37,
   "metadata": {},
   "outputs": [],
   "source": [
    "nv = value.strip()"
   ]
  },
  {
   "cell_type": "code",
   "execution_count": 38,
   "metadata": {},
   "outputs": [
    {
     "data": {
      "text/plain": [
       "'$547'"
      ]
     },
     "execution_count": 38,
     "metadata": {},
     "output_type": "execute_result"
    }
   ],
   "source": [
    "nv"
   ]
  },
  {
   "cell_type": "code",
   "execution_count": 41,
   "metadata": {},
   "outputs": [
    {
     "data": {
      "text/plain": [
       "'547'"
      ]
     },
     "execution_count": 41,
     "metadata": {},
     "output_type": "execute_result"
    }
   ],
   "source": [
    "nv[1:]"
   ]
  },
  {
   "cell_type": "code",
   "execution_count": 36,
   "metadata": {},
   "outputs": [],
   "source": [
    "value.strip?"
   ]
  },
  {
   "cell_type": "code",
   "execution_count": 17,
   "metadata": {},
   "outputs": [
    {
     "data": {
      "text/plain": [
       "'547'"
      ]
     },
     "execution_count": 17,
     "metadata": {},
     "output_type": "execute_result"
    }
   ],
   "source": [
    "value.strip().strip('$')"
   ]
  },
  {
   "cell_type": "code",
   "execution_count": 19,
   "metadata": {},
   "outputs": [
    {
     "data": {
      "text/plain": [
       "'547'"
      ]
     },
     "execution_count": 19,
     "metadata": {},
     "output_type": "execute_result"
    }
   ],
   "source": [
    "value.strip()[1:]"
   ]
  },
  {
   "cell_type": "code",
   "execution_count": 20,
   "metadata": {},
   "outputs": [
    {
     "data": {
      "text/plain": [
       "'547'"
      ]
     },
     "execution_count": 20,
     "metadata": {},
     "output_type": "execute_result"
    }
   ],
   "source": [
    "value.strip().replace('$', '')"
   ]
  },
  {
   "cell_type": "code",
   "execution_count": 21,
   "metadata": {},
   "outputs": [
    {
     "data": {
      "text/plain": [
       "547.0"
      ]
     },
     "execution_count": 21,
     "metadata": {},
     "output_type": "execute_result"
    }
   ],
   "source": [
    "float(value.strip()[1:])"
   ]
  },
  {
   "cell_type": "code",
   "execution_count": 25,
   "metadata": {},
   "outputs": [],
   "source": [
    "marketcap_values_l = []\n",
    "for value in marketcap:\n",
    "    new_value = 1000000 * float(value.strip()[1:])\n",
    "    marketcap_values_l.append(new_value)"
   ]
  },
  {
   "cell_type": "code",
   "execution_count": 24,
   "metadata": {},
   "outputs": [],
   "source": [
    "marketcap_values = [1000000 * float(value.strip()[1:]) for value in marketcap]"
   ]
  },
  {
   "cell_type": "code",
   "execution_count": 26,
   "metadata": {},
   "outputs": [
    {
     "data": {
      "text/plain": [
       "True"
      ]
     },
     "execution_count": 26,
     "metadata": {},
     "output_type": "execute_result"
    }
   ],
   "source": [
    "marketcap_values_l == marketcap_values"
   ]
  },
  {
   "cell_type": "code",
   "execution_count": 27,
   "metadata": {},
   "outputs": [],
   "source": [
    "mean_market_value = sum(marketcap_values) / len(marketcap_values)"
   ]
  },
  {
   "cell_type": "code",
   "execution_count": 28,
   "metadata": {},
   "outputs": [
    {
     "data": {
      "text/plain": [
       "138250000.0"
      ]
     },
     "execution_count": 28,
     "metadata": {},
     "output_type": "execute_result"
    }
   ],
   "source": [
    "mean_market_value"
   ]
  },
  {
   "cell_type": "code",
   "execution_count": 31,
   "metadata": {},
   "outputs": [],
   "source": [
    "import numpy as np"
   ]
  },
  {
   "cell_type": "code",
   "execution_count": 32,
   "metadata": {},
   "outputs": [
    {
     "data": {
      "text/plain": [
       "138250000.0"
      ]
     },
     "execution_count": 32,
     "metadata": {},
     "output_type": "execute_result"
    }
   ],
   "source": [
    "np.mean(mean_market_value)"
   ]
  },
  {
   "cell_type": "code",
   "execution_count": null,
   "metadata": {},
   "outputs": [],
   "source": []
  }
 ],
 "metadata": {
  "kernelspec": {
   "display_name": "Python 3",
   "language": "python",
   "name": "python3"
  },
  "language_info": {
   "codemirror_mode": {
    "name": "ipython",
    "version": 3
   },
   "file_extension": ".py",
   "mimetype": "text/x-python",
   "name": "python",
   "nbconvert_exporter": "python",
   "pygments_lexer": "ipython3",
   "version": "3.7.3"
  }
 },
 "nbformat": 4,
 "nbformat_minor": 2
}
