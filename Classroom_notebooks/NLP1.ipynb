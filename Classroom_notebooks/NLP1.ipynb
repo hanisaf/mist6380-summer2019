{
 "cells": [
  {
   "cell_type": "code",
   "execution_count": 1,
   "metadata": {},
   "outputs": [],
   "source": [
    "import pandas as pd"
   ]
  },
  {
   "cell_type": "code",
   "execution_count": 2,
   "metadata": {},
   "outputs": [],
   "source": [
    "data = pd.read_csv('../data/EC2000.csv.gz')"
   ]
  },
  {
   "cell_type": "code",
   "execution_count": 3,
   "metadata": {},
   "outputs": [],
   "source": [
    "data2 = data.drop('index', axis='columns')"
   ]
  },
  {
   "cell_type": "code",
   "execution_count": 4,
   "metadata": {},
   "outputs": [],
   "source": [
    "data3 = data2.rename({'fName':'company'}, axis='columns')"
   ]
  },
  {
   "cell_type": "code",
   "execution_count": 5,
   "metadata": {},
   "outputs": [],
   "source": [
    "last_three_cols = data3.columns[-3:]"
   ]
  },
  {
   "cell_type": "code",
   "execution_count": 6,
   "metadata": {},
   "outputs": [],
   "source": [
    "data4 = data3.drop(last_three_cols, axis='columns')"
   ]
  },
  {
   "cell_type": "code",
   "execution_count": 7,
   "metadata": {},
   "outputs": [
    {
     "data": {
      "text/html": [
       "<div>\n",
       "<style scoped>\n",
       "    .dataframe tbody tr th:only-of-type {\n",
       "        vertical-align: middle;\n",
       "    }\n",
       "\n",
       "    .dataframe tbody tr th {\n",
       "        vertical-align: top;\n",
       "    }\n",
       "\n",
       "    .dataframe thead th {\n",
       "        text-align: right;\n",
       "    }\n",
       "</style>\n",
       "<table border=\"1\" class=\"dataframe\">\n",
       "  <thead>\n",
       "    <tr style=\"text-align: right;\">\n",
       "      <th></th>\n",
       "      <th>id</th>\n",
       "      <th>text</th>\n",
       "      <th>date</th>\n",
       "      <th>company</th>\n",
       "      <th>sector</th>\n",
       "    </tr>\n",
       "  </thead>\n",
       "  <tbody>\n",
       "    <tr>\n",
       "      <th>0</th>\n",
       "      <td>32934</td>\n",
       "      <td>Zoe's Kitchen, Inc. (NYSE:ZOES)\\nQ2 2015 Earni...</td>\n",
       "      <td>2015-08-28 00:11:00</td>\n",
       "      <td>Zoe's Kitchen, Inc.</td>\n",
       "      <td>Consumer Services</td>\n",
       "    </tr>\n",
       "    <tr>\n",
       "      <th>1</th>\n",
       "      <td>32905</td>\n",
       "      <td>Autodesk, Inc. (NASDAQ:ADSK)\\nQ2 2016 Earnings...</td>\n",
       "      <td>2015-08-28 00:07:00</td>\n",
       "      <td>Autodesk, Inc.</td>\n",
       "      <td>Technology</td>\n",
       "    </tr>\n",
       "    <tr>\n",
       "      <th>2</th>\n",
       "      <td>32926</td>\n",
       "      <td>Smith &amp; Wesson Holding Corp. (NASDAQ:SWHC)\\nQ1...</td>\n",
       "      <td>2015-08-27 23:25:00</td>\n",
       "      <td>Smith &amp; Wesson Holding Corporation</td>\n",
       "      <td>Capital Goods</td>\n",
       "    </tr>\n",
       "    <tr>\n",
       "      <th>3</th>\n",
       "      <td>32930</td>\n",
       "      <td>Ulta Salon, Cosmetics &amp; Fragrance, Inc. (NASDA...</td>\n",
       "      <td>2015-08-27 23:09:00</td>\n",
       "      <td>Ulta Salon, Cosmetics &amp; Fragrance, Inc.</td>\n",
       "      <td>Consumer Services</td>\n",
       "    </tr>\n",
       "    <tr>\n",
       "      <th>4</th>\n",
       "      <td>32907</td>\n",
       "      <td>Splunk Inc. (NASDAQ:SPLK)\\nQ2 2016 Earnings Co...</td>\n",
       "      <td>2015-08-27 22:56:00</td>\n",
       "      <td>Splunk Inc.</td>\n",
       "      <td>Technology</td>\n",
       "    </tr>\n",
       "  </tbody>\n",
       "</table>\n",
       "</div>"
      ],
      "text/plain": [
       "      id                                               text  \\\n",
       "0  32934  Zoe's Kitchen, Inc. (NYSE:ZOES)\\nQ2 2015 Earni...   \n",
       "1  32905  Autodesk, Inc. (NASDAQ:ADSK)\\nQ2 2016 Earnings...   \n",
       "2  32926  Smith & Wesson Holding Corp. (NASDAQ:SWHC)\\nQ1...   \n",
       "3  32930  Ulta Salon, Cosmetics & Fragrance, Inc. (NASDA...   \n",
       "4  32907  Splunk Inc. (NASDAQ:SPLK)\\nQ2 2016 Earnings Co...   \n",
       "\n",
       "                  date                                  company  \\\n",
       "0  2015-08-28 00:11:00                      Zoe's Kitchen, Inc.   \n",
       "1  2015-08-28 00:07:00                           Autodesk, Inc.   \n",
       "2  2015-08-27 23:25:00       Smith & Wesson Holding Corporation   \n",
       "3  2015-08-27 23:09:00  Ulta Salon, Cosmetics & Fragrance, Inc.   \n",
       "4  2015-08-27 22:56:00                              Splunk Inc.   \n",
       "\n",
       "              sector  \n",
       "0  Consumer Services  \n",
       "1         Technology  \n",
       "2      Capital Goods  \n",
       "3  Consumer Services  \n",
       "4         Technology  "
      ]
     },
     "execution_count": 7,
     "metadata": {},
     "output_type": "execute_result"
    }
   ],
   "source": [
    "data4.head()"
   ]
  },
  {
   "cell_type": "markdown",
   "metadata": {},
   "source": [
    "## extract tickers and stock markets from text"
   ]
  },
  {
   "cell_type": "code",
   "execution_count": 16,
   "metadata": {},
   "outputs": [
    {
     "data": {
      "text/plain": [
       "0      (NYSE:\n",
       "1    (NASDAQ:\n",
       "2    (NASDAQ:\n",
       "3    (NASDAQ:\n",
       "4    (NASDAQ:\n",
       "Name: text, dtype: object"
      ]
     },
     "execution_count": 16,
     "metadata": {},
     "output_type": "execute_result"
    }
   ],
   "source": [
    "data4.head().text.str.findall(\"\\(\\w+:\").str.get(0)"
   ]
  },
  {
   "cell_type": "code",
   "execution_count": 18,
   "metadata": {},
   "outputs": [
    {
     "data": {
      "text/html": [
       "<div>\n",
       "<style scoped>\n",
       "    .dataframe tbody tr th:only-of-type {\n",
       "        vertical-align: middle;\n",
       "    }\n",
       "\n",
       "    .dataframe tbody tr th {\n",
       "        vertical-align: top;\n",
       "    }\n",
       "\n",
       "    .dataframe thead th {\n",
       "        text-align: right;\n",
       "    }\n",
       "</style>\n",
       "<table border=\"1\" class=\"dataframe\">\n",
       "  <thead>\n",
       "    <tr style=\"text-align: right;\">\n",
       "      <th></th>\n",
       "      <th>0</th>\n",
       "    </tr>\n",
       "  </thead>\n",
       "  <tbody>\n",
       "    <tr>\n",
       "      <th>0</th>\n",
       "      <td>NYSE</td>\n",
       "    </tr>\n",
       "    <tr>\n",
       "      <th>1</th>\n",
       "      <td>NASDAQ</td>\n",
       "    </tr>\n",
       "    <tr>\n",
       "      <th>2</th>\n",
       "      <td>NASDAQ</td>\n",
       "    </tr>\n",
       "    <tr>\n",
       "      <th>3</th>\n",
       "      <td>NASDAQ</td>\n",
       "    </tr>\n",
       "    <tr>\n",
       "      <th>4</th>\n",
       "      <td>NASDAQ</td>\n",
       "    </tr>\n",
       "  </tbody>\n",
       "</table>\n",
       "</div>"
      ],
      "text/plain": [
       "        0\n",
       "0    NYSE\n",
       "1  NASDAQ\n",
       "2  NASDAQ\n",
       "3  NASDAQ\n",
       "4  NASDAQ"
      ]
     },
     "execution_count": 18,
     "metadata": {},
     "output_type": "execute_result"
    }
   ],
   "source": [
    "data4.head().text.str.extract(\"\\((\\w+):\")"
   ]
  },
  {
   "cell_type": "code",
   "execution_count": 22,
   "metadata": {},
   "outputs": [
    {
     "data": {
      "text/plain": [
       "0      (NYSE:ZOES)\n",
       "1    (NASDAQ:ADSK)\n",
       "2    (NASDAQ:SWHC)\n",
       "3    (NASDAQ:ULTA)\n",
       "4    (NASDAQ:SPLK)\n",
       "Name: text, dtype: object"
      ]
     },
     "execution_count": 22,
     "metadata": {},
     "output_type": "execute_result"
    }
   ],
   "source": [
    "data4.head().text.str.findall(\"\\(\\w+:\\w+\\)\").str.get(0)"
   ]
  },
  {
   "cell_type": "code",
   "execution_count": 25,
   "metadata": {},
   "outputs": [
    {
     "data": {
      "text/html": [
       "<div>\n",
       "<style scoped>\n",
       "    .dataframe tbody tr th:only-of-type {\n",
       "        vertical-align: middle;\n",
       "    }\n",
       "\n",
       "    .dataframe tbody tr th {\n",
       "        vertical-align: top;\n",
       "    }\n",
       "\n",
       "    .dataframe thead th {\n",
       "        text-align: right;\n",
       "    }\n",
       "</style>\n",
       "<table border=\"1\" class=\"dataframe\">\n",
       "  <thead>\n",
       "    <tr style=\"text-align: right;\">\n",
       "      <th></th>\n",
       "      <th>0</th>\n",
       "      <th>1</th>\n",
       "    </tr>\n",
       "  </thead>\n",
       "  <tbody>\n",
       "    <tr>\n",
       "      <th>0</th>\n",
       "      <td>NYSE</td>\n",
       "      <td>ZOES</td>\n",
       "    </tr>\n",
       "    <tr>\n",
       "      <th>1</th>\n",
       "      <td>NASDAQ</td>\n",
       "      <td>ADSK</td>\n",
       "    </tr>\n",
       "    <tr>\n",
       "      <th>2</th>\n",
       "      <td>NASDAQ</td>\n",
       "      <td>SWHC</td>\n",
       "    </tr>\n",
       "    <tr>\n",
       "      <th>3</th>\n",
       "      <td>NASDAQ</td>\n",
       "      <td>ULTA</td>\n",
       "    </tr>\n",
       "    <tr>\n",
       "      <th>4</th>\n",
       "      <td>NASDAQ</td>\n",
       "      <td>SPLK</td>\n",
       "    </tr>\n",
       "  </tbody>\n",
       "</table>\n",
       "</div>"
      ],
      "text/plain": [
       "        0     1\n",
       "0    NYSE  ZOES\n",
       "1  NASDAQ  ADSK\n",
       "2  NASDAQ  SWHC\n",
       "3  NASDAQ  ULTA\n",
       "4  NASDAQ  SPLK"
      ]
     },
     "execution_count": 25,
     "metadata": {},
     "output_type": "execute_result"
    }
   ],
   "source": [
    "data4.head().text.str.extract(\"\\((\\w+):\\w+\\)\")"
   ]
  },
  {
   "cell_type": "code",
   "execution_count": 24,
   "metadata": {},
   "outputs": [
    {
     "data": {
      "text/html": [
       "<div>\n",
       "<style scoped>\n",
       "    .dataframe tbody tr th:only-of-type {\n",
       "        vertical-align: middle;\n",
       "    }\n",
       "\n",
       "    .dataframe tbody tr th {\n",
       "        vertical-align: top;\n",
       "    }\n",
       "\n",
       "    .dataframe thead th {\n",
       "        text-align: right;\n",
       "    }\n",
       "</style>\n",
       "<table border=\"1\" class=\"dataframe\">\n",
       "  <thead>\n",
       "    <tr style=\"text-align: right;\">\n",
       "      <th></th>\n",
       "      <th>0</th>\n",
       "    </tr>\n",
       "  </thead>\n",
       "  <tbody>\n",
       "    <tr>\n",
       "      <th>0</th>\n",
       "      <td>ZOES</td>\n",
       "    </tr>\n",
       "    <tr>\n",
       "      <th>1</th>\n",
       "      <td>ADSK</td>\n",
       "    </tr>\n",
       "    <tr>\n",
       "      <th>2</th>\n",
       "      <td>SWHC</td>\n",
       "    </tr>\n",
       "    <tr>\n",
       "      <th>3</th>\n",
       "      <td>ULTA</td>\n",
       "    </tr>\n",
       "    <tr>\n",
       "      <th>4</th>\n",
       "      <td>SPLK</td>\n",
       "    </tr>\n",
       "  </tbody>\n",
       "</table>\n",
       "</div>"
      ],
      "text/plain": [
       "      0\n",
       "0  ZOES\n",
       "1  ADSK\n",
       "2  SWHC\n",
       "3  ULTA\n",
       "4  SPLK"
      ]
     },
     "execution_count": 24,
     "metadata": {},
     "output_type": "execute_result"
    }
   ],
   "source": [
    "data4.head().text.str.extract(\"\\(\\w+:(\\w+)\\)\")"
   ]
  },
  {
   "cell_type": "code",
   "execution_count": 27,
   "metadata": {},
   "outputs": [],
   "source": [
    "stock_ticker = data4.text.str.extract(\"\\((\\w+):(\\w+)\\)\")"
   ]
  },
  {
   "cell_type": "code",
   "execution_count": 29,
   "metadata": {},
   "outputs": [],
   "source": [
    "stock_ticker.columns = ['Market', 'Ticker']"
   ]
  },
  {
   "cell_type": "code",
   "execution_count": 33,
   "metadata": {},
   "outputs": [],
   "source": [
    "data5 = pd.merge(data4, stock_ticker, left_index=True, right_index=True)"
   ]
  },
  {
   "cell_type": "code",
   "execution_count": 34,
   "metadata": {},
   "outputs": [
    {
     "data": {
      "text/html": [
       "<div>\n",
       "<style scoped>\n",
       "    .dataframe tbody tr th:only-of-type {\n",
       "        vertical-align: middle;\n",
       "    }\n",
       "\n",
       "    .dataframe tbody tr th {\n",
       "        vertical-align: top;\n",
       "    }\n",
       "\n",
       "    .dataframe thead th {\n",
       "        text-align: right;\n",
       "    }\n",
       "</style>\n",
       "<table border=\"1\" class=\"dataframe\">\n",
       "  <thead>\n",
       "    <tr style=\"text-align: right;\">\n",
       "      <th></th>\n",
       "      <th>id</th>\n",
       "      <th>text</th>\n",
       "      <th>date</th>\n",
       "      <th>company</th>\n",
       "      <th>sector</th>\n",
       "      <th>Market</th>\n",
       "      <th>Ticker</th>\n",
       "    </tr>\n",
       "  </thead>\n",
       "  <tbody>\n",
       "    <tr>\n",
       "      <th>0</th>\n",
       "      <td>32934</td>\n",
       "      <td>Zoe's Kitchen, Inc. (NYSE:ZOES)\\nQ2 2015 Earni...</td>\n",
       "      <td>2015-08-28 00:11:00</td>\n",
       "      <td>Zoe's Kitchen, Inc.</td>\n",
       "      <td>Consumer Services</td>\n",
       "      <td>NYSE</td>\n",
       "      <td>ZOES</td>\n",
       "    </tr>\n",
       "    <tr>\n",
       "      <th>1</th>\n",
       "      <td>32905</td>\n",
       "      <td>Autodesk, Inc. (NASDAQ:ADSK)\\nQ2 2016 Earnings...</td>\n",
       "      <td>2015-08-28 00:07:00</td>\n",
       "      <td>Autodesk, Inc.</td>\n",
       "      <td>Technology</td>\n",
       "      <td>NASDAQ</td>\n",
       "      <td>ADSK</td>\n",
       "    </tr>\n",
       "    <tr>\n",
       "      <th>2</th>\n",
       "      <td>32926</td>\n",
       "      <td>Smith &amp; Wesson Holding Corp. (NASDAQ:SWHC)\\nQ1...</td>\n",
       "      <td>2015-08-27 23:25:00</td>\n",
       "      <td>Smith &amp; Wesson Holding Corporation</td>\n",
       "      <td>Capital Goods</td>\n",
       "      <td>NASDAQ</td>\n",
       "      <td>SWHC</td>\n",
       "    </tr>\n",
       "    <tr>\n",
       "      <th>3</th>\n",
       "      <td>32930</td>\n",
       "      <td>Ulta Salon, Cosmetics &amp; Fragrance, Inc. (NASDA...</td>\n",
       "      <td>2015-08-27 23:09:00</td>\n",
       "      <td>Ulta Salon, Cosmetics &amp; Fragrance, Inc.</td>\n",
       "      <td>Consumer Services</td>\n",
       "      <td>NASDAQ</td>\n",
       "      <td>ULTA</td>\n",
       "    </tr>\n",
       "    <tr>\n",
       "      <th>4</th>\n",
       "      <td>32907</td>\n",
       "      <td>Splunk Inc. (NASDAQ:SPLK)\\nQ2 2016 Earnings Co...</td>\n",
       "      <td>2015-08-27 22:56:00</td>\n",
       "      <td>Splunk Inc.</td>\n",
       "      <td>Technology</td>\n",
       "      <td>NASDAQ</td>\n",
       "      <td>SPLK</td>\n",
       "    </tr>\n",
       "  </tbody>\n",
       "</table>\n",
       "</div>"
      ],
      "text/plain": [
       "      id                                               text  \\\n",
       "0  32934  Zoe's Kitchen, Inc. (NYSE:ZOES)\\nQ2 2015 Earni...   \n",
       "1  32905  Autodesk, Inc. (NASDAQ:ADSK)\\nQ2 2016 Earnings...   \n",
       "2  32926  Smith & Wesson Holding Corp. (NASDAQ:SWHC)\\nQ1...   \n",
       "3  32930  Ulta Salon, Cosmetics & Fragrance, Inc. (NASDA...   \n",
       "4  32907  Splunk Inc. (NASDAQ:SPLK)\\nQ2 2016 Earnings Co...   \n",
       "\n",
       "                  date                                  company  \\\n",
       "0  2015-08-28 00:11:00                      Zoe's Kitchen, Inc.   \n",
       "1  2015-08-28 00:07:00                           Autodesk, Inc.   \n",
       "2  2015-08-27 23:25:00       Smith & Wesson Holding Corporation   \n",
       "3  2015-08-27 23:09:00  Ulta Salon, Cosmetics & Fragrance, Inc.   \n",
       "4  2015-08-27 22:56:00                              Splunk Inc.   \n",
       "\n",
       "              sector  Market Ticker  \n",
       "0  Consumer Services    NYSE   ZOES  \n",
       "1         Technology  NASDAQ   ADSK  \n",
       "2      Capital Goods  NASDAQ   SWHC  \n",
       "3  Consumer Services  NASDAQ   ULTA  \n",
       "4         Technology  NASDAQ   SPLK  "
      ]
     },
     "execution_count": 34,
     "metadata": {},
     "output_type": "execute_result"
    }
   ],
   "source": [
    "data5.head()"
   ]
  },
  {
   "cell_type": "markdown",
   "metadata": {},
   "source": [
    "## are there any emails in the text"
   ]
  },
  {
   "cell_type": "code",
   "execution_count": 64,
   "metadata": {},
   "outputs": [],
   "source": [
    "email_pattern = \"[\\w\\.]+@\\w+\\.\\w+\""
   ]
  },
  {
   "cell_type": "code",
   "execution_count": 65,
   "metadata": {},
   "outputs": [],
   "source": [
    "emails = data5.text.str.findall(email_pattern)"
   ]
  },
  {
   "cell_type": "code",
   "execution_count": 66,
   "metadata": {},
   "outputs": [
    {
     "data": {
      "text/plain": [
       "75                            [rtoll@tollbrothersinc.com]\n",
       "94      [ir@ltbridge.com, ir@ltbridge.com, ir@ltbridge...\n",
       "105                             [investor@salesforce.com]\n",
       "115                                       [ir@immomo.com]\n",
       "254                             [avogel@cytosorbents.com]\n",
       "273                                   [ir@ultragenyx.com]\n",
       "348                                          [ir@yod.com]\n",
       "361                               [ir@orientpaperinc.com]\n",
       "409                             [info@alexcoresource.com]\n",
       "462                    [ir@cyclacel.com, ir@cyclacel.com]\n",
       "563                                        [ir@ricks.com]\n",
       "620      [info@fortunasilver.com, info@fortunasilver.com]\n",
       "713                                       [agys@jcir.com]\n",
       "858                              [questions@entercom.com]\n",
       "894     [ir@odysseymarine.com, ir@odysseymarine.com, i...\n",
       "982     [mtraveline@sjindustries.com, aanthony@sjindus...\n",
       "1014                             [ir@capstoneturbine.com]\n",
       "1070             [mlowe@esperion.com, mlowe@esperion.com]\n",
       "1416                            [david.poplar@wendys.com]\n",
       "1546                              [tross@finprofiles.com]\n",
       "1582                              [investor@j2global.com]\n",
       "1634                        [ngoc.nguyen@hawaiiantel.com]\n",
       "1665                                [lgodfrey@vnrllc.com]\n",
       "1688                      [investor.relations@sprint.com]\n",
       "1711                                         [ir@kvh.com]\n",
       "1931                                [susan.hardy@crl.com]\n",
       "1958                                         [ir@umc.com]\n",
       "1972                                 [jcrivelli@bokf.com]\n",
       "Name: text, dtype: object"
      ]
     },
     "execution_count": 66,
     "metadata": {},
     "output_type": "execute_result"
    }
   ],
   "source": [
    "emails[emails.str.len() > 0]"
   ]
  },
  {
   "cell_type": "code",
   "execution_count": 67,
   "metadata": {},
   "outputs": [],
   "source": [
    "data5['emails']=emails"
   ]
  },
  {
   "cell_type": "markdown",
   "metadata": {},
   "source": [
    "## extract these emails"
   ]
  },
  {
   "cell_type": "code",
   "execution_count": 68,
   "metadata": {},
   "outputs": [
    {
     "data": {
      "text/html": [
       "<div>\n",
       "<style scoped>\n",
       "    .dataframe tbody tr th:only-of-type {\n",
       "        vertical-align: middle;\n",
       "    }\n",
       "\n",
       "    .dataframe tbody tr th {\n",
       "        vertical-align: top;\n",
       "    }\n",
       "\n",
       "    .dataframe thead th {\n",
       "        text-align: right;\n",
       "    }\n",
       "</style>\n",
       "<table border=\"1\" class=\"dataframe\">\n",
       "  <thead>\n",
       "    <tr style=\"text-align: right;\">\n",
       "      <th></th>\n",
       "      <th>id</th>\n",
       "      <th>text</th>\n",
       "      <th>date</th>\n",
       "      <th>company</th>\n",
       "      <th>sector</th>\n",
       "      <th>Market</th>\n",
       "      <th>Ticker</th>\n",
       "      <th>emails</th>\n",
       "    </tr>\n",
       "  </thead>\n",
       "  <tbody>\n",
       "    <tr>\n",
       "      <th>0</th>\n",
       "      <td>32934</td>\n",
       "      <td>Zoe's Kitchen, Inc. (NYSE:ZOES)\\nQ2 2015 Earni...</td>\n",
       "      <td>2015-08-28 00:11:00</td>\n",
       "      <td>Zoe's Kitchen, Inc.</td>\n",
       "      <td>Consumer Services</td>\n",
       "      <td>NYSE</td>\n",
       "      <td>ZOES</td>\n",
       "      <td>[]</td>\n",
       "    </tr>\n",
       "    <tr>\n",
       "      <th>1</th>\n",
       "      <td>32905</td>\n",
       "      <td>Autodesk, Inc. (NASDAQ:ADSK)\\nQ2 2016 Earnings...</td>\n",
       "      <td>2015-08-28 00:07:00</td>\n",
       "      <td>Autodesk, Inc.</td>\n",
       "      <td>Technology</td>\n",
       "      <td>NASDAQ</td>\n",
       "      <td>ADSK</td>\n",
       "      <td>[]</td>\n",
       "    </tr>\n",
       "    <tr>\n",
       "      <th>2</th>\n",
       "      <td>32926</td>\n",
       "      <td>Smith &amp; Wesson Holding Corp. (NASDAQ:SWHC)\\nQ1...</td>\n",
       "      <td>2015-08-27 23:25:00</td>\n",
       "      <td>Smith &amp; Wesson Holding Corporation</td>\n",
       "      <td>Capital Goods</td>\n",
       "      <td>NASDAQ</td>\n",
       "      <td>SWHC</td>\n",
       "      <td>[]</td>\n",
       "    </tr>\n",
       "    <tr>\n",
       "      <th>3</th>\n",
       "      <td>32930</td>\n",
       "      <td>Ulta Salon, Cosmetics &amp; Fragrance, Inc. (NASDA...</td>\n",
       "      <td>2015-08-27 23:09:00</td>\n",
       "      <td>Ulta Salon, Cosmetics &amp; Fragrance, Inc.</td>\n",
       "      <td>Consumer Services</td>\n",
       "      <td>NASDAQ</td>\n",
       "      <td>ULTA</td>\n",
       "      <td>[]</td>\n",
       "    </tr>\n",
       "    <tr>\n",
       "      <th>4</th>\n",
       "      <td>32907</td>\n",
       "      <td>Splunk Inc. (NASDAQ:SPLK)\\nQ2 2016 Earnings Co...</td>\n",
       "      <td>2015-08-27 22:56:00</td>\n",
       "      <td>Splunk Inc.</td>\n",
       "      <td>Technology</td>\n",
       "      <td>NASDAQ</td>\n",
       "      <td>SPLK</td>\n",
       "      <td>[]</td>\n",
       "    </tr>\n",
       "  </tbody>\n",
       "</table>\n",
       "</div>"
      ],
      "text/plain": [
       "      id                                               text  \\\n",
       "0  32934  Zoe's Kitchen, Inc. (NYSE:ZOES)\\nQ2 2015 Earni...   \n",
       "1  32905  Autodesk, Inc. (NASDAQ:ADSK)\\nQ2 2016 Earnings...   \n",
       "2  32926  Smith & Wesson Holding Corp. (NASDAQ:SWHC)\\nQ1...   \n",
       "3  32930  Ulta Salon, Cosmetics & Fragrance, Inc. (NASDA...   \n",
       "4  32907  Splunk Inc. (NASDAQ:SPLK)\\nQ2 2016 Earnings Co...   \n",
       "\n",
       "                  date                                  company  \\\n",
       "0  2015-08-28 00:11:00                      Zoe's Kitchen, Inc.   \n",
       "1  2015-08-28 00:07:00                           Autodesk, Inc.   \n",
       "2  2015-08-27 23:25:00       Smith & Wesson Holding Corporation   \n",
       "3  2015-08-27 23:09:00  Ulta Salon, Cosmetics & Fragrance, Inc.   \n",
       "4  2015-08-27 22:56:00                              Splunk Inc.   \n",
       "\n",
       "              sector  Market Ticker emails  \n",
       "0  Consumer Services    NYSE   ZOES     []  \n",
       "1         Technology  NASDAQ   ADSK     []  \n",
       "2      Capital Goods  NASDAQ   SWHC     []  \n",
       "3  Consumer Services  NASDAQ   ULTA     []  \n",
       "4         Technology  NASDAQ   SPLK     []  "
      ]
     },
     "execution_count": 68,
     "metadata": {},
     "output_type": "execute_result"
    }
   ],
   "source": [
    "data5.head()"
   ]
  },
  {
   "cell_type": "code",
   "execution_count": null,
   "metadata": {},
   "outputs": [],
   "source": []
  }
 ],
 "metadata": {
  "kernelspec": {
   "display_name": "Python 3",
   "language": "python",
   "name": "python3"
  },
  "language_info": {
   "codemirror_mode": {
    "name": "ipython",
    "version": 3
   },
   "file_extension": ".py",
   "mimetype": "text/x-python",
   "name": "python",
   "nbconvert_exporter": "python",
   "pygments_lexer": "ipython3",
   "version": "3.7.3"
  }
 },
 "nbformat": 4,
 "nbformat_minor": 2
}
