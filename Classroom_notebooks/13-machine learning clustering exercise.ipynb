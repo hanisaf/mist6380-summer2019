{
 "cells": [
  {
   "cell_type": "markdown",
   "metadata": {},
   "source": [
    "Using the FT Global 500 data in the file ```FTGlobal.xls```:\n",
    "\n",
    "1. Extract three clusters from the top 20 companies by market value that have complete data for each row. Use the following features: `Value`, `Turnover`, `Income`,    `Assets`,     `PE`,  `Yield`\n",
    "2. Group the data by cluster and calculate the mean of the features\n",
    "3. What do the clusters mean?\n"
   ]
  },
  {
   "cell_type": "code",
   "execution_count": 7,
   "metadata": {},
   "outputs": [],
   "source": [
    "import pandas as pd"
   ]
  },
  {
   "cell_type": "code",
   "execution_count": 8,
   "metadata": {},
   "outputs": [],
   "source": [
    "data=pd.read_excel('../data/FTGlobal.xls', skiprows=4)"
   ]
  },
  {
   "cell_type": "code",
   "execution_count": 9,
   "metadata": {},
   "outputs": [
    {
     "data": {
      "text/plain": [
       "Index(['Global rank 2015', 'Global rank 2014', 'Company', 'Country',\n",
       "       'Market value $m', 'Sector', 'Turnover $m', 'Net income $m',\n",
       "       'Total assets $m', 'Employees', 'Price $', 'P/e ratio',\n",
       "       'Dividend yield (%)', 'Year End '],\n",
       "      dtype='object')"
      ]
     },
     "execution_count": 9,
     "metadata": {},
     "output_type": "execute_result"
    }
   ],
   "source": [
    "data.columns"
   ]
  },
  {
   "cell_type": "code",
   "execution_count": 10,
   "metadata": {},
   "outputs": [],
   "source": [
    "cols = ['Market value $m', 'Turnover $m', 'Net income $m', 'Total assets $m', 'P/e ratio', 'Dividend yield (%)']"
   ]
  },
  {
   "cell_type": "code",
   "execution_count": 13,
   "metadata": {},
   "outputs": [
    {
     "data": {
      "text/plain": [
       "Market value $m       float64\n",
       "Turnover $m            object\n",
       "Net income $m         float64\n",
       "Total assets $m       float64\n",
       "P/e ratio             float64\n",
       "Dividend yield (%)    float64\n",
       "dtype: object"
      ]
     },
     "execution_count": 13,
     "metadata": {},
     "output_type": "execute_result"
    }
   ],
   "source": [
    "data[cols].dtypes"
   ]
  },
  {
   "cell_type": "code",
   "execution_count": 19,
   "metadata": {
    "scrolled": true
   },
   "outputs": [],
   "source": [
    "data['Turnover $m'] = pd.to_numeric(data['Turnover $m'], errors='coerce')"
   ]
  },
  {
   "cell_type": "code",
   "execution_count": 22,
   "metadata": {},
   "outputs": [],
   "source": [
    "data=data.dropna()"
   ]
  },
  {
   "cell_type": "code",
   "execution_count": 27,
   "metadata": {},
   "outputs": [],
   "source": [
    "data=data.sort_values('Market value $m', ascending=False).iloc[:20]"
   ]
  },
  {
   "cell_type": "code",
   "execution_count": 28,
   "metadata": {},
   "outputs": [],
   "source": [
    "X=data[cols]"
   ]
  },
  {
   "cell_type": "code",
   "execution_count": 29,
   "metadata": {},
   "outputs": [
    {
     "data": {
      "text/html": [
       "<div>\n",
       "<style scoped>\n",
       "    .dataframe tbody tr th:only-of-type {\n",
       "        vertical-align: middle;\n",
       "    }\n",
       "\n",
       "    .dataframe tbody tr th {\n",
       "        vertical-align: top;\n",
       "    }\n",
       "\n",
       "    .dataframe thead th {\n",
       "        text-align: right;\n",
       "    }\n",
       "</style>\n",
       "<table border=\"1\" class=\"dataframe\">\n",
       "  <thead>\n",
       "    <tr style=\"text-align: right;\">\n",
       "      <th></th>\n",
       "      <th>Market value $m</th>\n",
       "      <th>Turnover $m</th>\n",
       "      <th>Net income $m</th>\n",
       "      <th>Total assets $m</th>\n",
       "      <th>P/e ratio</th>\n",
       "      <th>Dividend yield (%)</th>\n",
       "    </tr>\n",
       "  </thead>\n",
       "  <tbody>\n",
       "    <tr>\n",
       "      <th>0</th>\n",
       "      <td>724773.1</td>\n",
       "      <td>182795.00</td>\n",
       "      <td>39510.00</td>\n",
       "      <td>231839.00</td>\n",
       "      <td>19.291473</td>\n",
       "      <td>1.454633</td>\n",
       "    </tr>\n",
       "    <tr>\n",
       "      <th>1</th>\n",
       "      <td>356548.7</td>\n",
       "      <td>364763.00</td>\n",
       "      <td>32520.00</td>\n",
       "      <td>349493.00</td>\n",
       "      <td>11.198946</td>\n",
       "      <td>3.176471</td>\n",
       "    </tr>\n",
       "    <tr>\n",
       "      <th>4</th>\n",
       "      <td>333524.8</td>\n",
       "      <td>86833.00</td>\n",
       "      <td>22074.00</td>\n",
       "      <td>172384.00</td>\n",
       "      <td>15.458175</td>\n",
       "      <td>2.754889</td>\n",
       "    </tr>\n",
       "    <tr>\n",
       "      <th>5</th>\n",
       "      <td>329715.1</td>\n",
       "      <td>367853.67</td>\n",
       "      <td>17268.62</td>\n",
       "      <td>385177.72</td>\n",
       "      <td>12.300000</td>\n",
       "      <td>3.613369</td>\n",
       "    </tr>\n",
       "    <tr>\n",
       "      <th>7</th>\n",
       "      <td>279723.9</td>\n",
       "      <td>74331.00</td>\n",
       "      <td>16323.00</td>\n",
       "      <td>127723.00</td>\n",
       "      <td>17.649123</td>\n",
       "      <td>2.743539</td>\n",
       "    </tr>\n",
       "  </tbody>\n",
       "</table>\n",
       "</div>"
      ],
      "text/plain": [
       "   Market value $m  Turnover $m  Net income $m  Total assets $m  P/e ratio  \\\n",
       "0         724773.1    182795.00       39510.00        231839.00  19.291473   \n",
       "1         356548.7    364763.00       32520.00        349493.00  11.198946   \n",
       "4         333524.8     86833.00       22074.00        172384.00  15.458175   \n",
       "5         329715.1    367853.67       17268.62        385177.72  12.300000   \n",
       "7         279723.9     74331.00       16323.00        127723.00  17.649123   \n",
       "\n",
       "   Dividend yield (%)  \n",
       "0            1.454633  \n",
       "1            3.176471  \n",
       "4            2.754889  \n",
       "5            3.613369  \n",
       "7            2.743539  "
      ]
     },
     "execution_count": 29,
     "metadata": {},
     "output_type": "execute_result"
    }
   ],
   "source": [
    "X.head()"
   ]
  },
  {
   "cell_type": "code",
   "execution_count": 30,
   "metadata": {},
   "outputs": [],
   "source": [
    "from sklearn.cluster import KMeans"
   ]
  },
  {
   "cell_type": "code",
   "execution_count": 31,
   "metadata": {},
   "outputs": [],
   "source": [
    "kmeans = KMeans(n_clusters=3)\n",
    "kmeans.fit(X)\n",
    "y_kmeans = kmeans.predict(X)\n",
    "data['cluster']=y_kmeans"
   ]
  },
  {
   "cell_type": "code",
   "execution_count": 32,
   "metadata": {},
   "outputs": [
    {
     "data": {
      "text/plain": [
       "array([0, 2, 1, 2, 1, 1, 1, 2, 2, 1, 2, 1, 1, 1, 1, 1, 1, 1, 2, 1])"
      ]
     },
     "execution_count": 32,
     "metadata": {},
     "output_type": "execute_result"
    }
   ],
   "source": [
    "y_kmeans"
   ]
  },
  {
   "cell_type": "code",
   "execution_count": 35,
   "metadata": {},
   "outputs": [
    {
     "data": {
      "text/html": [
       "<div>\n",
       "<style scoped>\n",
       "    .dataframe tbody tr th:only-of-type {\n",
       "        vertical-align: middle;\n",
       "    }\n",
       "\n",
       "    .dataframe tbody tr th {\n",
       "        vertical-align: top;\n",
       "    }\n",
       "\n",
       "    .dataframe thead th {\n",
       "        text-align: right;\n",
       "    }\n",
       "</style>\n",
       "<table border=\"1\" class=\"dataframe\">\n",
       "  <thead>\n",
       "    <tr style=\"text-align: right;\">\n",
       "      <th></th>\n",
       "      <th>Market value $m</th>\n",
       "      <th>Turnover $m</th>\n",
       "      <th>Net income $m</th>\n",
       "      <th>Total assets $m</th>\n",
       "      <th>P/e ratio</th>\n",
       "      <th>Dividend yield (%)</th>\n",
       "    </tr>\n",
       "    <tr>\n",
       "      <th>cluster</th>\n",
       "      <th></th>\n",
       "      <th></th>\n",
       "      <th></th>\n",
       "      <th></th>\n",
       "      <th></th>\n",
       "      <th></th>\n",
       "    </tr>\n",
       "  </thead>\n",
       "  <tbody>\n",
       "    <tr>\n",
       "      <th>0</th>\n",
       "      <td>724773.100000</td>\n",
       "      <td>182795.000000</td>\n",
       "      <td>39510.000000</td>\n",
       "      <td>231839.000000</td>\n",
       "      <td>19.291473</td>\n",
       "      <td>1.454633</td>\n",
       "    </tr>\n",
       "    <tr>\n",
       "      <th>1</th>\n",
       "      <td>235322.939231</td>\n",
       "      <td>90458.180769</td>\n",
       "      <td>13816.176923</td>\n",
       "      <td>159471.662308</td>\n",
       "      <td>18.631443</td>\n",
       "      <td>2.836124</td>\n",
       "    </tr>\n",
       "    <tr>\n",
       "      <th>2</th>\n",
       "      <td>272034.208333</td>\n",
       "      <td>333574.291667</td>\n",
       "      <td>18775.128333</td>\n",
       "      <td>388234.150000</td>\n",
       "      <td>13.771912</td>\n",
       "      <td>3.526295</td>\n",
       "    </tr>\n",
       "  </tbody>\n",
       "</table>\n",
       "</div>"
      ],
      "text/plain": [
       "         Market value $m    Turnover $m  Net income $m  Total assets $m  \\\n",
       "cluster                                                                   \n",
       "0          724773.100000  182795.000000   39510.000000    231839.000000   \n",
       "1          235322.939231   90458.180769   13816.176923    159471.662308   \n",
       "2          272034.208333  333574.291667   18775.128333    388234.150000   \n",
       "\n",
       "         P/e ratio  Dividend yield (%)  \n",
       "cluster                                 \n",
       "0        19.291473            1.454633  \n",
       "1        18.631443            2.836124  \n",
       "2        13.771912            3.526295  "
      ]
     },
     "execution_count": 35,
     "metadata": {},
     "output_type": "execute_result"
    }
   ],
   "source": [
    "data.groupby('cluster')[cols].mean()"
   ]
  },
  {
   "cell_type": "code",
   "execution_count": 38,
   "metadata": {},
   "outputs": [
    {
     "data": {
      "text/plain": [
       "0    Apple\n",
       "Name: Company, dtype: object"
      ]
     },
     "execution_count": 38,
     "metadata": {},
     "output_type": "execute_result"
    }
   ],
   "source": [
    "data[data.cluster==0].Company"
   ]
  },
  {
   "cell_type": "code",
   "execution_count": 40,
   "metadata": {},
   "outputs": [
    {
     "data": {
      "text/plain": [
       "4                  Microsoft\n",
       "7          Johnson & Johnson\n",
       "9                   Novartis\n",
       "10              China Mobile\n",
       "13                    Nestle\n",
       "15                     Roche\n",
       "17          Procter & Gamble\n",
       "18       Samsung Electronics\n",
       "19                    Pfizer\n",
       "21    Verizon Communications\n",
       "22                   Chevron\n",
       "24      Anheuser-Busch InBev\n",
       "27                    Oracle\n",
       "Name: Company, dtype: object"
      ]
     },
     "execution_count": 40,
     "metadata": {},
     "output_type": "execute_result"
    }
   ],
   "source": [
    "data[data.cluster==1].Company"
   ]
  },
  {
   "cell_type": "code",
   "execution_count": 41,
   "metadata": {},
   "outputs": [
    {
     "data": {
      "text/plain": [
       "1           Exxon Mobil\n",
       "5            PetroChina\n",
       "11      Wal-Mart Stores\n",
       "12     General Electric\n",
       "14         Toyota Motor\n",
       "25    Royal Dutch Shell\n",
       "Name: Company, dtype: object"
      ]
     },
     "execution_count": 41,
     "metadata": {},
     "output_type": "execute_result"
    }
   ],
   "source": [
    "data[data.cluster==2].Company"
   ]
  },
  {
   "cell_type": "code",
   "execution_count": 39,
   "metadata": {},
   "outputs": [],
   "source": [
    "#data.groupby('cluster').Company"
   ]
  },
  {
   "cell_type": "code",
   "execution_count": null,
   "metadata": {},
   "outputs": [],
   "source": []
  }
 ],
 "metadata": {
  "kernelspec": {
   "display_name": "Python 3",
   "language": "python",
   "name": "python3"
  },
  "language_info": {
   "codemirror_mode": {
    "name": "ipython",
    "version": 3
   },
   "file_extension": ".py",
   "mimetype": "text/x-python",
   "name": "python",
   "nbconvert_exporter": "python",
   "pygments_lexer": "ipython3",
   "version": "3.7.3"
  }
 },
 "nbformat": 4,
 "nbformat_minor": 2
}
