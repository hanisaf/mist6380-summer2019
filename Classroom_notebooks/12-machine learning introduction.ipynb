{
 "cells": [
  {
   "cell_type": "code",
   "execution_count": 1,
   "metadata": {
    "slideshow": {
     "slide_type": "slide"
    }
   },
   "outputs": [],
   "source": [
    "import pandas as pd\n",
    "import numpy as np\n",
    "import seaborn as sns\n",
    "from sklearn import tree\n",
    "from sklearn.metrics import r2_score, accuracy_score\n",
    "from sklearn.model_selection import train_test_split\n",
    "from sklearn.feature_selection import SelectFromModel\n",
    "import matplotlib.pyplot as plt"
   ]
  },
  {
   "cell_type": "code",
   "execution_count": 2,
   "metadata": {
    "slideshow": {
     "slide_type": "slide"
    }
   },
   "outputs": [],
   "source": [
    "# I'm using the recent release of sklearn\n",
    "#pip install scikit-learn --upgrade"
   ]
  },
  {
   "cell_type": "code",
   "execution_count": 3,
   "metadata": {
    "slideshow": {
     "slide_type": "slide"
    }
   },
   "outputs": [
    {
     "name": "stdout",
     "output_type": "stream",
     "text": [
      "Requirement already satisfied: graphviz in c:\\users\\hanisaf.myid.011\\appdata\\roaming\\python\\python37\\site-packages (0.10.1)\n"
     ]
    }
   ],
   "source": [
    "#to plot decision tree\n",
    "!pip install graphviz \n",
    "import graphviz"
   ]
  },
  {
   "cell_type": "code",
   "execution_count": 4,
   "metadata": {
    "slideshow": {
     "slide_type": "slide"
    }
   },
   "outputs": [],
   "source": [
    "#supress warnings\n",
    "import warnings\n",
    "warnings.filterwarnings('ignore')"
   ]
  },
  {
   "cell_type": "code",
   "execution_count": 5,
   "metadata": {
    "slideshow": {
     "slide_type": "slide"
    }
   },
   "outputs": [],
   "source": [
    "%matplotlib inline"
   ]
  },
  {
   "cell_type": "code",
   "execution_count": 6,
   "metadata": {
    "slideshow": {
     "slide_type": "slide"
    }
   },
   "outputs": [],
   "source": [
    "data=pd.read_json('../data/cars.json')"
   ]
  },
  {
   "cell_type": "code",
   "execution_count": 7,
   "metadata": {
    "slideshow": {
     "slide_type": "slide"
    }
   },
   "outputs": [
    {
     "data": {
      "text/html": [
       "<div>\n",
       "<style scoped>\n",
       "    .dataframe tbody tr th:only-of-type {\n",
       "        vertical-align: middle;\n",
       "    }\n",
       "\n",
       "    .dataframe tbody tr th {\n",
       "        vertical-align: top;\n",
       "    }\n",
       "\n",
       "    .dataframe thead th {\n",
       "        text-align: right;\n",
       "    }\n",
       "</style>\n",
       "<table border=\"1\" class=\"dataframe\">\n",
       "  <thead>\n",
       "    <tr style=\"text-align: right;\">\n",
       "      <th></th>\n",
       "      <th>Acceleration</th>\n",
       "      <th>Cylinders</th>\n",
       "      <th>Displacement</th>\n",
       "      <th>Horsepower</th>\n",
       "      <th>Miles_per_Gallon</th>\n",
       "      <th>Name</th>\n",
       "      <th>Origin</th>\n",
       "      <th>Weight_in_lbs</th>\n",
       "      <th>Year</th>\n",
       "    </tr>\n",
       "  </thead>\n",
       "  <tbody>\n",
       "    <tr>\n",
       "      <th>0</th>\n",
       "      <td>12.0</td>\n",
       "      <td>8</td>\n",
       "      <td>307.0</td>\n",
       "      <td>130.0</td>\n",
       "      <td>18.0</td>\n",
       "      <td>chevrolet chevelle malibu</td>\n",
       "      <td>USA</td>\n",
       "      <td>3504</td>\n",
       "      <td>1970-01-01</td>\n",
       "    </tr>\n",
       "    <tr>\n",
       "      <th>1</th>\n",
       "      <td>11.5</td>\n",
       "      <td>8</td>\n",
       "      <td>350.0</td>\n",
       "      <td>165.0</td>\n",
       "      <td>15.0</td>\n",
       "      <td>buick skylark 320</td>\n",
       "      <td>USA</td>\n",
       "      <td>3693</td>\n",
       "      <td>1970-01-01</td>\n",
       "    </tr>\n",
       "    <tr>\n",
       "      <th>2</th>\n",
       "      <td>11.0</td>\n",
       "      <td>8</td>\n",
       "      <td>318.0</td>\n",
       "      <td>150.0</td>\n",
       "      <td>18.0</td>\n",
       "      <td>plymouth satellite</td>\n",
       "      <td>USA</td>\n",
       "      <td>3436</td>\n",
       "      <td>1970-01-01</td>\n",
       "    </tr>\n",
       "    <tr>\n",
       "      <th>3</th>\n",
       "      <td>12.0</td>\n",
       "      <td>8</td>\n",
       "      <td>304.0</td>\n",
       "      <td>150.0</td>\n",
       "      <td>16.0</td>\n",
       "      <td>amc rebel sst</td>\n",
       "      <td>USA</td>\n",
       "      <td>3433</td>\n",
       "      <td>1970-01-01</td>\n",
       "    </tr>\n",
       "    <tr>\n",
       "      <th>4</th>\n",
       "      <td>10.5</td>\n",
       "      <td>8</td>\n",
       "      <td>302.0</td>\n",
       "      <td>140.0</td>\n",
       "      <td>17.0</td>\n",
       "      <td>ford torino</td>\n",
       "      <td>USA</td>\n",
       "      <td>3449</td>\n",
       "      <td>1970-01-01</td>\n",
       "    </tr>\n",
       "  </tbody>\n",
       "</table>\n",
       "</div>"
      ],
      "text/plain": [
       "   Acceleration  Cylinders  Displacement  Horsepower  Miles_per_Gallon  \\\n",
       "0          12.0          8         307.0       130.0              18.0   \n",
       "1          11.5          8         350.0       165.0              15.0   \n",
       "2          11.0          8         318.0       150.0              18.0   \n",
       "3          12.0          8         304.0       150.0              16.0   \n",
       "4          10.5          8         302.0       140.0              17.0   \n",
       "\n",
       "                        Name Origin  Weight_in_lbs        Year  \n",
       "0  chevrolet chevelle malibu    USA           3504  1970-01-01  \n",
       "1          buick skylark 320    USA           3693  1970-01-01  \n",
       "2         plymouth satellite    USA           3436  1970-01-01  \n",
       "3              amc rebel sst    USA           3433  1970-01-01  \n",
       "4                ford torino    USA           3449  1970-01-01  "
      ]
     },
     "execution_count": 7,
     "metadata": {},
     "output_type": "execute_result"
    }
   ],
   "source": [
    "data.head()"
   ]
  },
  {
   "cell_type": "code",
   "execution_count": 8,
   "metadata": {
    "slideshow": {
     "slide_type": "slide"
    }
   },
   "outputs": [
    {
     "data": {
      "text/plain": [
       "Acceleration        float64\n",
       "Cylinders             int64\n",
       "Displacement        float64\n",
       "Horsepower          float64\n",
       "Miles_per_Gallon    float64\n",
       "Name                 object\n",
       "Origin               object\n",
       "Weight_in_lbs         int64\n",
       "Year                 object\n",
       "dtype: object"
      ]
     },
     "execution_count": 8,
     "metadata": {},
     "output_type": "execute_result"
    }
   ],
   "source": [
    "data.dtypes"
   ]
  },
  {
   "cell_type": "code",
   "execution_count": 9,
   "metadata": {
    "slideshow": {
     "slide_type": "slide"
    }
   },
   "outputs": [],
   "source": [
    "data['year']=pd.to_datetime(data.Year).dt.year\n",
    "data=data .dropna()"
   ]
  },
  {
   "cell_type": "markdown",
   "metadata": {
    "slideshow": {
     "slide_type": "slide"
    }
   },
   "source": [
    "# We are interested in what makes a car fuel efficient"
   ]
  },
  {
   "cell_type": "code",
   "execution_count": 10,
   "metadata": {
    "slideshow": {
     "slide_type": "slide"
    }
   },
   "outputs": [
    {
     "data": {
      "text/html": [
       "<div>\n",
       "<style scoped>\n",
       "    .dataframe tbody tr th:only-of-type {\n",
       "        vertical-align: middle;\n",
       "    }\n",
       "\n",
       "    .dataframe tbody tr th {\n",
       "        vertical-align: top;\n",
       "    }\n",
       "\n",
       "    .dataframe thead th {\n",
       "        text-align: right;\n",
       "    }\n",
       "</style>\n",
       "<table border=\"1\" class=\"dataframe\">\n",
       "  <thead>\n",
       "    <tr style=\"text-align: right;\">\n",
       "      <th></th>\n",
       "      <th>Acceleration</th>\n",
       "      <th>Cylinders</th>\n",
       "      <th>Displacement</th>\n",
       "      <th>Horsepower</th>\n",
       "      <th>Miles_per_Gallon</th>\n",
       "      <th>Weight_in_lbs</th>\n",
       "      <th>year</th>\n",
       "    </tr>\n",
       "  </thead>\n",
       "  <tbody>\n",
       "    <tr>\n",
       "      <th>count</th>\n",
       "      <td>392.000000</td>\n",
       "      <td>392.000000</td>\n",
       "      <td>392.000000</td>\n",
       "      <td>392.000000</td>\n",
       "      <td>392.000000</td>\n",
       "      <td>392.000000</td>\n",
       "      <td>392.000000</td>\n",
       "    </tr>\n",
       "    <tr>\n",
       "      <th>mean</th>\n",
       "      <td>15.541327</td>\n",
       "      <td>5.471939</td>\n",
       "      <td>194.411990</td>\n",
       "      <td>104.469388</td>\n",
       "      <td>23.445918</td>\n",
       "      <td>2977.584184</td>\n",
       "      <td>1976.051020</td>\n",
       "    </tr>\n",
       "    <tr>\n",
       "      <th>std</th>\n",
       "      <td>2.758864</td>\n",
       "      <td>1.705783</td>\n",
       "      <td>104.644004</td>\n",
       "      <td>38.491160</td>\n",
       "      <td>7.805007</td>\n",
       "      <td>849.402560</td>\n",
       "      <td>3.788858</td>\n",
       "    </tr>\n",
       "    <tr>\n",
       "      <th>min</th>\n",
       "      <td>8.000000</td>\n",
       "      <td>3.000000</td>\n",
       "      <td>68.000000</td>\n",
       "      <td>46.000000</td>\n",
       "      <td>9.000000</td>\n",
       "      <td>1613.000000</td>\n",
       "      <td>1970.000000</td>\n",
       "    </tr>\n",
       "    <tr>\n",
       "      <th>25%</th>\n",
       "      <td>13.775000</td>\n",
       "      <td>4.000000</td>\n",
       "      <td>105.000000</td>\n",
       "      <td>75.000000</td>\n",
       "      <td>17.000000</td>\n",
       "      <td>2225.250000</td>\n",
       "      <td>1973.000000</td>\n",
       "    </tr>\n",
       "    <tr>\n",
       "      <th>50%</th>\n",
       "      <td>15.500000</td>\n",
       "      <td>4.000000</td>\n",
       "      <td>151.000000</td>\n",
       "      <td>93.500000</td>\n",
       "      <td>22.750000</td>\n",
       "      <td>2803.500000</td>\n",
       "      <td>1976.000000</td>\n",
       "    </tr>\n",
       "    <tr>\n",
       "      <th>75%</th>\n",
       "      <td>17.025000</td>\n",
       "      <td>8.000000</td>\n",
       "      <td>275.750000</td>\n",
       "      <td>126.000000</td>\n",
       "      <td>29.000000</td>\n",
       "      <td>3614.750000</td>\n",
       "      <td>1979.000000</td>\n",
       "    </tr>\n",
       "    <tr>\n",
       "      <th>max</th>\n",
       "      <td>24.800000</td>\n",
       "      <td>8.000000</td>\n",
       "      <td>455.000000</td>\n",
       "      <td>230.000000</td>\n",
       "      <td>46.600000</td>\n",
       "      <td>5140.000000</td>\n",
       "      <td>1982.000000</td>\n",
       "    </tr>\n",
       "  </tbody>\n",
       "</table>\n",
       "</div>"
      ],
      "text/plain": [
       "       Acceleration   Cylinders  Displacement  Horsepower  Miles_per_Gallon  \\\n",
       "count    392.000000  392.000000    392.000000  392.000000        392.000000   \n",
       "mean      15.541327    5.471939    194.411990  104.469388         23.445918   \n",
       "std        2.758864    1.705783    104.644004   38.491160          7.805007   \n",
       "min        8.000000    3.000000     68.000000   46.000000          9.000000   \n",
       "25%       13.775000    4.000000    105.000000   75.000000         17.000000   \n",
       "50%       15.500000    4.000000    151.000000   93.500000         22.750000   \n",
       "75%       17.025000    8.000000    275.750000  126.000000         29.000000   \n",
       "max       24.800000    8.000000    455.000000  230.000000         46.600000   \n",
       "\n",
       "       Weight_in_lbs         year  \n",
       "count     392.000000   392.000000  \n",
       "mean     2977.584184  1976.051020  \n",
       "std       849.402560     3.788858  \n",
       "min      1613.000000  1970.000000  \n",
       "25%      2225.250000  1973.000000  \n",
       "50%      2803.500000  1976.000000  \n",
       "75%      3614.750000  1979.000000  \n",
       "max      5140.000000  1982.000000  "
      ]
     },
     "execution_count": 10,
     "metadata": {},
     "output_type": "execute_result"
    }
   ],
   "source": [
    "data.describe()"
   ]
  },
  {
   "cell_type": "code",
   "execution_count": 11,
   "metadata": {
    "slideshow": {
     "slide_type": "slide"
    }
   },
   "outputs": [
    {
     "data": {
      "text/html": [
       "<div>\n",
       "<style scoped>\n",
       "    .dataframe tbody tr th:only-of-type {\n",
       "        vertical-align: middle;\n",
       "    }\n",
       "\n",
       "    .dataframe tbody tr th {\n",
       "        vertical-align: top;\n",
       "    }\n",
       "\n",
       "    .dataframe thead th {\n",
       "        text-align: right;\n",
       "    }\n",
       "</style>\n",
       "<table border=\"1\" class=\"dataframe\">\n",
       "  <thead>\n",
       "    <tr style=\"text-align: right;\">\n",
       "      <th></th>\n",
       "      <th>Acceleration</th>\n",
       "      <th>Cylinders</th>\n",
       "      <th>Displacement</th>\n",
       "      <th>Horsepower</th>\n",
       "      <th>Miles_per_Gallon</th>\n",
       "      <th>Weight_in_lbs</th>\n",
       "      <th>year</th>\n",
       "    </tr>\n",
       "  </thead>\n",
       "  <tbody>\n",
       "    <tr>\n",
       "      <th>Acceleration</th>\n",
       "      <td>1.000000</td>\n",
       "      <td>-0.504683</td>\n",
       "      <td>-0.543800</td>\n",
       "      <td>-0.689196</td>\n",
       "      <td>0.423329</td>\n",
       "      <td>-0.416839</td>\n",
       "      <td>0.287630</td>\n",
       "    </tr>\n",
       "    <tr>\n",
       "      <th>Cylinders</th>\n",
       "      <td>-0.504683</td>\n",
       "      <td>1.000000</td>\n",
       "      <td>0.950823</td>\n",
       "      <td>0.842983</td>\n",
       "      <td>-0.777618</td>\n",
       "      <td>0.897527</td>\n",
       "      <td>-0.345244</td>\n",
       "    </tr>\n",
       "    <tr>\n",
       "      <th>Displacement</th>\n",
       "      <td>-0.543800</td>\n",
       "      <td>0.950823</td>\n",
       "      <td>1.000000</td>\n",
       "      <td>0.897257</td>\n",
       "      <td>-0.805127</td>\n",
       "      <td>0.932994</td>\n",
       "      <td>-0.370041</td>\n",
       "    </tr>\n",
       "    <tr>\n",
       "      <th>Horsepower</th>\n",
       "      <td>-0.689196</td>\n",
       "      <td>0.842983</td>\n",
       "      <td>0.897257</td>\n",
       "      <td>1.000000</td>\n",
       "      <td>-0.778427</td>\n",
       "      <td>0.864538</td>\n",
       "      <td>-0.416316</td>\n",
       "    </tr>\n",
       "    <tr>\n",
       "      <th>Miles_per_Gallon</th>\n",
       "      <td>0.423329</td>\n",
       "      <td>-0.777618</td>\n",
       "      <td>-0.805127</td>\n",
       "      <td>-0.778427</td>\n",
       "      <td>1.000000</td>\n",
       "      <td>-0.832244</td>\n",
       "      <td>0.580755</td>\n",
       "    </tr>\n",
       "    <tr>\n",
       "      <th>Weight_in_lbs</th>\n",
       "      <td>-0.416839</td>\n",
       "      <td>0.897527</td>\n",
       "      <td>0.932994</td>\n",
       "      <td>0.864538</td>\n",
       "      <td>-0.832244</td>\n",
       "      <td>1.000000</td>\n",
       "      <td>-0.310499</td>\n",
       "    </tr>\n",
       "    <tr>\n",
       "      <th>year</th>\n",
       "      <td>0.287630</td>\n",
       "      <td>-0.345244</td>\n",
       "      <td>-0.370041</td>\n",
       "      <td>-0.416316</td>\n",
       "      <td>0.580755</td>\n",
       "      <td>-0.310499</td>\n",
       "      <td>1.000000</td>\n",
       "    </tr>\n",
       "  </tbody>\n",
       "</table>\n",
       "</div>"
      ],
      "text/plain": [
       "                  Acceleration  Cylinders  Displacement  Horsepower  \\\n",
       "Acceleration          1.000000  -0.504683     -0.543800   -0.689196   \n",
       "Cylinders            -0.504683   1.000000      0.950823    0.842983   \n",
       "Displacement         -0.543800   0.950823      1.000000    0.897257   \n",
       "Horsepower           -0.689196   0.842983      0.897257    1.000000   \n",
       "Miles_per_Gallon      0.423329  -0.777618     -0.805127   -0.778427   \n",
       "Weight_in_lbs        -0.416839   0.897527      0.932994    0.864538   \n",
       "year                  0.287630  -0.345244     -0.370041   -0.416316   \n",
       "\n",
       "                  Miles_per_Gallon  Weight_in_lbs      year  \n",
       "Acceleration              0.423329      -0.416839  0.287630  \n",
       "Cylinders                -0.777618       0.897527 -0.345244  \n",
       "Displacement             -0.805127       0.932994 -0.370041  \n",
       "Horsepower               -0.778427       0.864538 -0.416316  \n",
       "Miles_per_Gallon          1.000000      -0.832244  0.580755  \n",
       "Weight_in_lbs            -0.832244       1.000000 -0.310499  \n",
       "year                      0.580755      -0.310499  1.000000  "
      ]
     },
     "execution_count": 11,
     "metadata": {},
     "output_type": "execute_result"
    }
   ],
   "source": [
    "data.corr()"
   ]
  },
  {
   "cell_type": "code",
   "execution_count": 12,
   "metadata": {
    "slideshow": {
     "slide_type": "slide"
    }
   },
   "outputs": [
    {
     "data": {
      "text/plain": [
       "<seaborn.axisgrid.FacetGrid at 0x1bfad6e7c50>"
      ]
     },
     "execution_count": 12,
     "metadata": {},
     "output_type": "execute_result"
    },
    {
     "data": {
      "image/png": "[encoded data removed]",
      "text/plain": [
       "<Figure size 421.5x360 with 1 Axes>"
      ]
     },
     "metadata": {
      "needs_background": "light"
     },
     "output_type": "display_data"
    }
   ],
   "source": [
    "sns.catplot(y='Miles_per_Gallon', x='Cylinders', hue='year', data=data)"
   ]
  },
  {
   "cell_type": "code",
   "execution_count": 13,
   "metadata": {
    "slideshow": {
     "slide_type": "slide"
    }
   },
   "outputs": [
    {
     "data": {
      "text/plain": [
       "<seaborn.axisgrid.FacetGrid at 0x1bfad7e7908>"
      ]
     },
     "execution_count": 13,
     "metadata": {},
     "output_type": "execute_result"
    },
    {
     "data": {
      "image/png": "[encoded data removed]",
      "text/plain": [
       "<Figure size 414.75x360 with 1 Axes>"
      ]
     },
     "metadata": {
      "needs_background": "light"
     },
     "output_type": "display_data"
    }
   ],
   "source": [
    "sns.catplot(y='Miles_per_Gallon', x='Origin', hue='Cylinders', data=data)"
   ]
  },
  {
   "cell_type": "code",
   "execution_count": 14,
   "metadata": {
    "slideshow": {
     "slide_type": "slide"
    }
   },
   "outputs": [
    {
     "data": {
      "text/plain": [
       "<seaborn.axisgrid.FacetGrid at 0x1bfadbeeba8>"
      ]
     },
     "execution_count": 14,
     "metadata": {},
     "output_type": "execute_result"
    },
    {
     "data": {
      "image/png": "[encoded data removed]",
      "text/plain": [
       "<Figure size 431.125x360 with 1 Axes>"
      ]
     },
     "metadata": {
      "needs_background": "light"
     },
     "output_type": "display_data"
    }
   ],
   "source": [
    "sns.relplot(x='year', y='Miles_per_Gallon', kind='line', hue='Origin', data=data)"
   ]
  },
  {
   "cell_type": "markdown",
   "metadata": {
    "slideshow": {
     "slide_type": "slide"
    }
   },
   "source": [
    "# we want to model fuel efficiency based on multiple factors"
   ]
  },
  {
   "cell_type": "code",
   "execution_count": 15,
   "metadata": {
    "slideshow": {
     "slide_type": "slide"
    }
   },
   "outputs": [],
   "source": [
    "X = data[['Cylinders']]\n",
    "y = data['Miles_per_Gallon']"
   ]
  },
  {
   "cell_type": "code",
   "execution_count": 16,
   "metadata": {
    "slideshow": {
     "slide_type": "slide"
    }
   },
   "outputs": [],
   "source": [
    "dtree = tree.DecisionTreeRegressor().fit(X, y)"
   ]
  },
  {
   "cell_type": "code",
   "execution_count": 17,
   "metadata": {},
   "outputs": [
    {
     "name": "stdout",
     "output_type": "stream",
     "text": [
      "digraph Tree {\n",
      "node [shape=box] ;\n",
      "0 [label=\"Cylinders <= 5.5\\nmse = 60.763\\nsamples = 392\\nvalue = 23.446\"] ;\n",
      "1 [label=\"Cylinders <= 3.5\\nmse = 33.155\\nsamples = 206\\nvalue = 29.086\"] ;\n",
      "0 -> 1 [labeldistance=2.5, labelangle=45, headlabel=\"True\"] ;\n",
      "2 [label=\"mse = 4.933\\nsamples = 4\\nvalue = 20.55\"] ;\n",
      "1 -> 2 ;\n",
      "3 [label=\"Cylinders <= 4.5\\nmse = 32.242\\nsamples = 202\\nvalue = 29.255\"] ;\n",
      "1 -> 3 ;\n",
      "4 [label=\"mse = 31.994\\nsamples = 199\\nvalue = 29.284\"] ;\n",
      "3 -> 4 ;\n",
      "5 [label=\"mse = 45.136\\nsamples = 3\\nvalue = 27.367\"] ;\n",
      "3 -> 5 ;\n",
      "6 [label=\"Cylinders <= 7.0\\nmse = 17.078\\nsamples = 186\\nvalue = 17.199\"] ;\n",
      "0 -> 6 [labeldistance=2.5, labelangle=-45, headlabel=\"False\"] ;\n",
      "7 [label=\"mse = 14.483\\nsamples = 83\\nvalue = 19.973\"] ;\n",
      "6 -> 7 ;\n",
      "8 [label=\"mse = 7.966\\nsamples = 103\\nvalue = 14.963\"] ;\n",
      "6 -> 8 ;\n",
      "}\n"
     ]
    }
   ],
   "source": [
    "print(tree.export_graphviz(dtree, feature_names=X.columns))"
   ]
  },
  {
   "cell_type": "code",
   "execution_count": 18,
   "metadata": {
    "slideshow": {
     "slide_type": "slide"
    }
   },
   "outputs": [],
   "source": [
    "#graphviz.Source(tree.export_graphviz(dtree, feature_names=X.columns))"
   ]
  },
  {
   "cell_type": "code",
   "execution_count": 19,
   "metadata": {
    "slideshow": {
     "slide_type": "slide"
    }
   },
   "outputs": [],
   "source": [
    "yfit = dtree.predict(X)"
   ]
  },
  {
   "cell_type": "code",
   "execution_count": 20,
   "metadata": {
    "slideshow": {
     "slide_type": "slide"
    }
   },
   "outputs": [
    {
     "data": {
      "text/plain": [
       "<matplotlib.axes._subplots.AxesSubplot at 0x1bfadbc5c88>"
      ]
     },
     "execution_count": 20,
     "metadata": {},
     "output_type": "execute_result"
    },
    {
     "data": {
      "image/png": "[encoded data removed]",
      "text/plain": [
       "<Figure size 432x288 with 1 Axes>"
      ]
     },
     "metadata": {
      "needs_background": "light"
     },
     "output_type": "display_data"
    }
   ],
   "source": [
    "sns.scatterplot(y, yfit)"
   ]
  },
  {
   "cell_type": "code",
   "execution_count": 21,
   "metadata": {
    "slideshow": {
     "slide_type": "slide"
    }
   },
   "outputs": [],
   "source": [
    "resid = y-yfit"
   ]
  },
  {
   "cell_type": "code",
   "execution_count": 22,
   "metadata": {
    "slideshow": {
     "slide_type": "slide"
    }
   },
   "outputs": [
    {
     "data": {
      "text/plain": [
       "<matplotlib.axes._subplots.AxesSubplot at 0x1bfaddd3c18>"
      ]
     },
     "execution_count": 22,
     "metadata": {},
     "output_type": "execute_result"
    },
    {
     "data": {
      "image/png": "[encoded data removed]",
      "text/plain": [
       "<Figure size 432x288 with 1 Axes>"
      ]
     },
     "metadata": {
      "needs_background": "light"
     },
     "output_type": "display_data"
    }
   ],
   "source": [
    "sns.distplot(resid)"
   ]
  },
  {
   "cell_type": "code",
   "execution_count": 23,
   "metadata": {
    "slideshow": {
     "slide_type": "slide"
    }
   },
   "outputs": [
    {
     "data": {
      "text/plain": [
       "0.6412742329799173"
      ]
     },
     "execution_count": 23,
     "metadata": {},
     "output_type": "execute_result"
    }
   ],
   "source": [
    "r2_score(y, yfit)"
   ]
  },
  {
   "cell_type": "markdown",
   "metadata": {
    "slideshow": {
     "slide_type": "slide"
    }
   },
   "source": [
    "## Lets add more features"
   ]
  },
  {
   "cell_type": "code",
   "execution_count": 24,
   "metadata": {
    "slideshow": {
     "slide_type": "slide"
    }
   },
   "outputs": [],
   "source": [
    "X2 = data[['Acceleration', 'Cylinders', 'Displacement', 'Horsepower', 'Weight_in_lbs']]\n",
    "y = data['Miles_per_Gallon']\n"
   ]
  },
  {
   "cell_type": "code",
   "execution_count": 25,
   "metadata": {
    "slideshow": {
     "slide_type": "slide"
    }
   },
   "outputs": [],
   "source": [
    "dtree2 = tree.DecisionTreeRegressor().fit(X2, y)"
   ]
  },
  {
   "cell_type": "code",
   "execution_count": 26,
   "metadata": {
    "slideshow": {
     "slide_type": "slide"
    }
   },
   "outputs": [],
   "source": [
    "yfit2 = dtree2.predict(X2)"
   ]
  },
  {
   "cell_type": "code",
   "execution_count": 27,
   "metadata": {
    "slideshow": {
     "slide_type": "slide"
    }
   },
   "outputs": [
    {
     "data": {
      "text/plain": [
       "<matplotlib.axes._subplots.AxesSubplot at 0x1bfade25b38>"
      ]
     },
     "execution_count": 27,
     "metadata": {},
     "output_type": "execute_result"
    },
    {
     "data": {
      "image/png": "[encoded data removed]",
      "text/plain": [
       "<Figure size 432x288 with 1 Axes>"
      ]
     },
     "metadata": {
      "needs_background": "light"
     },
     "output_type": "display_data"
    }
   ],
   "source": [
    "sns.scatterplot(y, yfit2)"
   ]
  },
  {
   "cell_type": "code",
   "execution_count": 28,
   "metadata": {
    "slideshow": {
     "slide_type": "slide"
    }
   },
   "outputs": [],
   "source": [
    "resid2 = y-yfit2"
   ]
  },
  {
   "cell_type": "code",
   "execution_count": 29,
   "metadata": {
    "slideshow": {
     "slide_type": "slide"
    }
   },
   "outputs": [
    {
     "data": {
      "text/plain": [
       "<matplotlib.axes._subplots.AxesSubplot at 0x1bfadd8c9e8>"
      ]
     },
     "execution_count": 29,
     "metadata": {},
     "output_type": "execute_result"
    },
    {
     "data": {
      "image/png": "[encoded data removed]",
      "text/plain": [
       "<Figure size 432x288 with 1 Axes>"
      ]
     },
     "metadata": {
      "needs_background": "light"
     },
     "output_type": "display_data"
    }
   ],
   "source": [
    "sns.distplot(resid2)"
   ]
  },
  {
   "cell_type": "code",
   "execution_count": 30,
   "metadata": {
    "slideshow": {
     "slide_type": "slide"
    }
   },
   "outputs": [
    {
     "data": {
      "text/plain": [
       "0.9998110751402748"
      ]
     },
     "execution_count": 30,
     "metadata": {},
     "output_type": "execute_result"
    }
   ],
   "source": [
    "r2_score(y, yfit2)"
   ]
  },
  {
   "cell_type": "markdown",
   "metadata": {
    "slideshow": {
     "slide_type": "slide"
    }
   },
   "source": [
    "## Shall we celebrate?"
   ]
  },
  {
   "cell_type": "code",
   "execution_count": 31,
   "metadata": {
    "scrolled": true,
    "slideshow": {
     "slide_type": "slide"
    }
   },
   "outputs": [
    {
     "name": "stdout",
     "output_type": "stream",
     "text": [
      "digraph Tree {\n",
      "node [shape=box] ;\n",
      "0 [label=\"Displacement <= 190.5\\nmse = 60.763\\nsamples = 392\\nvalue = 23.446\"] ;\n",
      "1 [label=\"Horsepower <= 70.5\\nmse = 35.072\\nsamples = 222\\nvalue = 28.642\"] ;\n",
      "0 -> 1 [labeldistance=2.5, labelangle=45, headlabel=\"True\"] ;\n",
      "2 [label=\"Acceleration <= 23.6\\nmse = 25.405\\nsamples = 71\\nvalue = 33.666\"] ;\n",
      "1 -> 2 ;\n",
      "3 [label=\"Acceleration <= 21.95\\nmse = 23.136\\nsamples = 69\\nvalue = 33.375\"] ;\n",
      "2 -> 3 ;\n",
      "4 [label=\"Horsepower <= 47.0\\nmse = 20.945\\nsamples = 66\\nvalue = 33.733\"] ;\n",
      "3 -> 4 ;\n",
      "5 [label=\"mse = 0.0\\nsamples = 2\\nvalue = 26.0\"] ;\n",
      "4 -> 5 ;\n",
      "6 [label=\"Horsepower <= 48.5\\nmse = 19.672\\nsamples = 64\\nvalue = 33.975\"] ;\n",
      "4 -> 6 ;\n",
      "7 [label=\"Weight_in_lbs <= 2035.0\\nmse = 0.36\\nsamples = 2\\nvalue = 43.7\"] ;\n",
      "6 -> 7 ;\n",
      "8 [label=\"mse = 0.0\\nsamples = 1\\nvalue = 43.1\"] ;\n",
      "7 -> 8 ;\n",
      "9 [label=\"mse = -0.0\\nsamples = 1\\nvalue = 44.3\"] ;\n",
      "7 -> 9 ;\n",
      "10 [label=\"Acceleration <= 19.45\\nmse = 17.146\\nsamples = 62\\nvalue = 33.661\"] ;\n",
      "6 -> 10 ;\n",
      "11 [label=\"Displacement <= 93.5\\nmse = 16.77\\nsamples = 55\\nvalue = 34.067\"] ;\n",
      "10 -> 11 ;\n",
      "12 [label=\"Weight_in_lbs <= 2022.5\\nmse = 18.401\\nsamples = 37\\nvalue = 34.841\"] ;\n",
      "11 -> 12 ;\n",
      "13 [label=\"Acceleration <= 13.9\\nmse = 14.154\\nsamples = 31\\nvalue = 33.881\"] ;\n",
      "12 -> 13 ;\n",
      "14 [label=\"mse = 0.0\\nsamples = 1\\nvalue = 44.6\"] ;\n",
      "13 -> 14 ;\n",
      "15 [label=\"Acceleration <= 16.05\\nmse = 10.668\\nsamples = 30\\nvalue = 33.523\"] ;\n",
      "13 -> 15 ;\n",
      "16 [label=\"Weight_in_lbs <= 1964.0\\nmse = 11.32\\nsamples = 9\\nvalue = 31.444\"] ;\n",
      "15 -> 16 ;\n",
      "17 [label=\"Weight_in_lbs <= 1950.0\\nmse = 2.108\\nsamples = 4\\nvalue = 28.45\"] ;\n",
      "16 -> 17 ;\n",
      "18 [label=\"Acceleration <= 14.75\\nmse = 0.142\\nsamples = 3\\nvalue = 29.267\"] ;\n",
      "17 -> 18 ;\n",
      "19 [label=\"mse = 0.0\\nsamples = 2\\nvalue = 29.0\"] ;\n",
      "18 -> 19 ;\n",
      "20 [label=\"mse = 0.0\\nsamples = 1\\nvalue = 29.8\"] ;\n",
      "18 -> 20 ;\n",
      "21 [label=\"mse = 0.0\\nsamples = 1\\nvalue = 26.0\"] ;\n",
      "17 -> 21 ;\n",
      "22 [label=\"Acceleration <= 15.1\\nmse = 5.778\\nsamples = 5\\nvalue = 33.84\"] ;\n",
      "16 -> 22 ;\n",
      "23 [label=\"mse = 0.0\\nsamples = 1\\nvalue = 38.0\"] ;\n",
      "22 -> 23 ;\n",
      "24 [label=\"Displacement <= 82.5\\nmse = 1.815\\nsamples = 4\\nvalue = 32.8\"] ;\n",
      "22 -> 24 ;\n",
      "25 [label=\"mse = 0.0\\nsamples = 1\\nvalue = 31.0\"] ;\n",
      "24 -> 25 ;\n",
      "26 [label=\"Weight_in_lbs <= 1970.0\\nmse = 0.98\\nsamples = 3\\nvalue = 33.4\"] ;\n",
      "24 -> 26 ;\n",
      "27 [label=\"mse = 0.0\\nsamples = 1\\nvalue = 32.0\"] ;\n",
      "26 -> 27 ;\n",
      "28 [label=\"mse = 0.0\\nsamples = 2\\nvalue = 34.1\"] ;\n",
      "26 -> 28 ;\n",
      "29 [label=\"Acceleration <= 16.45\\nmse = 7.743\\nsamples = 21\\nvalue = 34.414\"] ;\n",
      "15 -> 29 ;\n",
      "30 [label=\"Horsepower <= 62.0\\nmse = 1.886\\nsamples = 5\\nvalue = 37.08\"] ;\n",
      "29 -> 30 ;\n",
      "31 [label=\"Acceleration <= 16.25\\nmse = 0.25\\nsamples = 2\\nvalue = 35.6\"] ;\n",
      "30 -> 31 ;\n",
      "32 [label=\"mse = 0.0\\nsamples = 1\\nvalue = 35.1\"] ;\n",
      "31 -> 32 ;\n",
      "33 [label=\"mse = 0.0\\nsamples = 1\\nvalue = 36.1\"] ;\n",
      "31 -> 33 ;\n",
      "34 [label=\"Weight_in_lbs <= 1935.0\\nmse = 0.542\\nsamples = 3\\nvalue = 38.067\"] ;\n",
      "30 -> 34 ;\n",
      "35 [label=\"mse = 0.0\\nsamples = 1\\nvalue = 39.0\"] ;\n",
      "34 -> 35 ;\n",
      "36 [label=\"Acceleration <= 16.3\\nmse = 0.16\\nsamples = 2\\nvalue = 37.6\"] ;\n",
      "34 -> 36 ;\n",
      "37 [label=\"mse = 0.0\\nsamples = 1\\nvalue = 38.0\"] ;\n",
      "36 -> 37 ;\n",
      "38 [label=\"mse = 0.0\\nsamples = 1\\nvalue = 37.2\"] ;\n",
      "36 -> 38 ;\n",
      "39 [label=\"Horsepower <= 60.5\\nmse = 6.659\\nsamples = 16\\nvalue = 33.581\"] ;\n",
      "29 -> 39 ;\n",
      "40 [label=\"Horsepower <= 55.5\\nmse = 7.956\\nsamples = 7\\nvalue = 34.714\"] ;\n",
      "39 -> 40 ;\n",
      "41 [label=\"Displacement <= 77.0\\nmse = 0.707\\nsamples = 4\\nvalue = 32.45\"] ;\n",
      "40 -> 41 ;\n",
      "42 [label=\"mse = 0.0\\nsamples = 1\\nvalue = 31.0\"] ;\n",
      "41 -> 42 ;\n",
      "43 [label=\"Weight_in_lbs <= 1890.0\\nmse = 0.009\\nsamples = 3\\nvalue = 32.933\"] ;\n",
      "41 -> 43 ;\n",
      "44 [label=\"mse = 0.0\\nsamples = 2\\nvalue = 33.0\"] ;\n",
      "43 -> 44 ;\n",
      "45 [label=\"mse = 0.0\\nsamples = 1\\nvalue = 32.8\"] ;\n",
      "43 -> 45 ;\n",
      "46 [label=\"Weight_in_lbs <= 1790.0\\nmse = 1.669\\nsamples = 3\\nvalue = 37.733\"] ;\n",
      "40 -> 46 ;\n",
      "47 [label=\"mse = 0.0\\nsamples = 1\\nvalue = 39.1\"] ;\n",
      "46 -> 47 ;\n",
      "48 [label=\"Displacement <= 84.0\\nmse = 1.102\\nsamples = 2\\nvalue = 37.05\"] ;\n",
      "46 -> 48 ;\n",
      "49 [label=\"mse = 0.0\\nsamples = 1\\nvalue = 36.0\"] ;\n",
      "48 -> 49 ;\n",
      "50 [label=\"mse = 0.0\\nsamples = 1\\nvalue = 38.1\"] ;\n",
      "48 -> 50 ;\n",
      "51 [label=\"Acceleration <= 19.3\\nmse = 3.876\\nsamples = 9\\nvalue = 32.7\"] ;\n",
      "39 -> 51 ;\n",
      "52 [label=\"Weight_in_lbs <= 1693.0\\nmse = 1.76\\nsamples = 8\\nvalue = 32.162\"] ;\n",
      "51 -> 52 ;\n",
      "53 [label=\"mse = 0.0\\nsamples = 1\\nvalue = 35.0\"] ;\n",
      "52 -> 53 ;\n",
      "54 [label=\"Acceleration <= 16.9\\nmse = 0.697\\nsamples = 7\\nvalue = 31.757\"] ;\n",
      "52 -> 54 ;\n",
      "55 [label=\"mse = 0.0\\nsamples = 1\\nvalue = 33.5\"] ;\n",
      "54 -> 55 ;\n",
      "56 [label=\"Weight_in_lbs <= 1980.0\\nmse = 0.222\\nsamples = 6\\nvalue = 31.467\"] ;\n",
      "54 -> 56 ;\n",
      "57 [label=\"mse = 0.0\\nsamples = 3\\nvalue = 31.0\"] ;\n",
      "56 -> 57 ;\n",
      "58 [label=\"Acceleration <= 19.1\\nmse = 0.009\\nsamples = 3\\nvalue = 31.933\"] ;\n",
      "56 -> 58 ;\n",
      "59 [label=\"mse = 0.0\\nsamples = 2\\nvalue = 32.0\"] ;\n",
      "58 -> 59 ;\n",
      "60 [label=\"mse = 0.0\\nsamples = 1\\nvalue = 31.8\"] ;\n",
      "58 -> 60 ;\n",
      "61 [label=\"mse = 0.0\\nsamples = 1\\nvalue = 37.0\"] ;\n",
      "51 -> 61 ;\n",
      "62 [label=\"Displacement <= 87.5\\nmse = 10.983\\nsamples = 6\\nvalue = 39.8\"] ;\n",
      "12 -> 62 ;\n",
      "63 [label=\"Displacement <= 85.5\\nmse = 9.716\\nsamples = 3\\nvalue = 42.267\"] ;\n",
      "62 -> 63 ;\n",
      "64 [label=\"Horsepower <= 67.5\\nmse = 0.49\\nsamples = 2\\nvalue = 40.1\"] ;\n",
      "63 -> 64 ;\n",
      "65 [label=\"mse = 0.0\\nsamples = 1\\nvalue = 40.8\"] ;\n",
      "64 -> 65 ;\n",
      "66 [label=\"mse = 0.0\\nsamples = 1\\nvalue = 39.4\"] ;\n",
      "64 -> 66 ;\n",
      "67 [label=\"mse = -0.0\\nsamples = 1\\nvalue = 46.6\"] ;\n",
      "63 -> 67 ;\n",
      "68 [label=\"Horsepower <= 65.0\\nmse = 0.082\\nsamples = 3\\nvalue = 37.333\"] ;\n",
      "62 -> 68 ;\n",
      "69 [label=\"mse = 0.0\\nsamples = 1\\nvalue = 37.7\"] ;\n",
      "68 -> 69 ;\n",
      "70 [label=\"Acceleration <= 16.45\\nmse = 0.023\\nsamples = 2\\nvalue = 37.15\"] ;\n",
      "68 -> 70 ;\n",
      "71 [label=\"mse = 0.0\\nsamples = 1\\nvalue = 37.3\"] ;\n",
      "70 -> 71 ;\n",
      "72 [label=\"mse = 0.0\\nsamples = 1\\nvalue = 37.0\"] ;\n",
      "70 -> 72 ;\n",
      "73 [label=\"Acceleration <= 16.3\\nmse = 9.663\\nsamples = 18\\nvalue = 32.478\"] ;\n",
      "11 -> 73 ;\n",
      "74 [label=\"Horsepower <= 68.0\\nmse = 2.831\\nsamples = 7\\nvalue = 34.857\"] ;\n",
      "73 -> 74 ;\n",
      "75 [label=\"Acceleration <= 14.8\\nmse = 2.025\\nsamples = 4\\nvalue = 35.8\"] ;\n",
      "74 -> 75 ;\n",
      "76 [label=\"Acceleration <= 14.55\\nmse = 0.903\\nsamples = 2\\nvalue = 37.05\"] ;\n",
      "75 -> 76 ;\n",
      "77 [label=\"mse = 0.0\\nsamples = 1\\nvalue = 36.1\"] ;\n",
      "76 -> 77 ;\n",
      "78 [label=\"mse = 0.0\\nsamples = 1\\nvalue = 38.0\"] ;\n",
      "76 -> 78 ;\n",
      "79 [label=\"Acceleration <= 15.55\\nmse = 0.023\\nsamples = 2\\nvalue = 34.55\"] ;\n",
      "75 -> 79 ;\n",
      "80 [label=\"mse = 0.0\\nsamples = 1\\nvalue = 34.7\"] ;\n",
      "79 -> 80 ;\n",
      "81 [label=\"mse = 0.0\\nsamples = 1\\nvalue = 34.4\"] ;\n",
      "79 -> 81 ;\n",
      "82 [label=\"Displacement <= 101.5\\nmse = 1.14\\nsamples = 3\\nvalue = 33.6\"] ;\n",
      "74 -> 82 ;\n",
      "83 [label=\"mse = 0.0\\nsamples = 1\\nvalue = 32.1\"] ;\n",
      "82 -> 83 ;\n",
      "84 [label=\"Weight_in_lbs <= 2175.0\\nmse = 0.022\\nsamples = 2\\nvalue = 34.35\"] ;\n",
      "82 -> 84 ;\n",
      "85 [label=\"mse = 0.0\\nsamples = 1\\nvalue = 34.5\"] ;\n",
      "84 -> 85 ;\n",
      "86 [label=\"mse = 0.0\\nsamples = 1\\nvalue = 34.2\"] ;\n",
      "84 -> 86 ;\n",
      "87 [label=\"Horsepower <= 69.5\\nmse = 8.115\\nsamples = 11\\nvalue = 30.964\"] ;\n",
      "73 -> 87 ;\n",
      "88 [label=\"Displacement <= 96.5\\nmse = 5.271\\nsamples = 9\\nvalue = 30.067\"] ;\n",
      "87 -> 88 ;\n",
      "89 [label=\"mse = 0.0\\nsamples = 1\\nvalue = 26.0\"] ;\n",
      "88 -> 89 ;\n",
      "90 [label=\"Weight_in_lbs <= 1909.5\\nmse = 3.604\\nsamples = 8\\nvalue = 30.575\"] ;\n",
      "88 -> 90 ;\n",
      "91 [label=\"mse = 0.0\\nsamples = 1\\nvalue = 27.0\"] ;\n",
      "90 -> 91 ;\n",
      "92 [label=\"Acceleration <= 17.4\\nmse = 2.033\\nsamples = 7\\nvalue = 31.086\"] ;\n",
      "90 -> 92 ;\n",
      "93 [label=\"Acceleration <= 16.8\\nmse = 0.125\\nsamples = 4\\nvalue = 30.0\"] ;\n",
      "92 -> 93 ;\n",
      "94 [label=\"Acceleration <= 16.55\\nmse = 0.056\\nsamples = 3\\nvalue = 29.833\"] ;\n",
      "93 -> 94 ;\n",
      "95 [label=\"mse = 0.0\\nsamples = 2\\nvalue = 30.0\"] ;\n",
      "94 -> 95 ;\n",
      "96 [label=\"mse = 0.0\\nsamples = 1\\nvalue = 29.5\"] ;\n",
      "94 -> 96 ;\n",
      "97 [label=\"mse = 0.0\\nsamples = 1\\nvalue = 30.5\"] ;\n",
      "93 -> 97 ;\n",
      "98 [label=\"Weight_in_lbs <= 2105.0\\nmse = 0.909\\nsamples = 3\\nvalue = 32.533\"] ;\n",
      "92 -> 98 ;\n",
      "99 [label=\"Weight_in_lbs <= 2055.0\\nmse = 0.16\\nsamples = 2\\nvalue = 31.9\"] ;\n",
      "98 -> 99 ;\n",
      "100 [label=\"mse = 0.0\\nsamples = 1\\nvalue = 31.5\"] ;\n",
      "99 -> 100 ;\n",
      "101 [label=\"mse = 0.0\\nsamples = 1\\nvalue = 32.3\"] ;\n",
      "99 -> 101 ;\n",
      "102 [label=\"mse = 0.0\\nsamples = 1\\nvalue = 33.8\"] ;\n",
      "98 -> 102 ;\n",
      "103 [label=\"Displacement <= 103.0\\nmse = 1.0\\nsamples = 2\\nvalue = 35.0\"] ;\n",
      "87 -> 103 ;\n",
      "104 [label=\"mse = 0.0\\nsamples = 1\\nvalue = 36.0\"] ;\n",
      "103 -> 104 ;\n",
      "105 [label=\"mse = 0.0\\nsamples = 1\\nvalue = 34.0\"] ;\n",
      "103 -> 105 ;\n",
      "106 [label=\"Cylinders <= 4.5\\nmse = 8.631\\nsamples = 7\\nvalue = 30.471\"] ;\n",
      "10 -> 106 ;\n",
      "107 [label=\"Acceleration <= 20.6\\nmse = 3.235\\nsamples = 6\\nvalue = 29.483\"] ;\n",
      "106 -> 107 ;\n",
      "108 [label=\"Displacement <= 85.0\\nmse = 2.889\\nsamples = 3\\nvalue = 28.333\"] ;\n",
      "107 -> 108 ;\n",
      "109 [label=\"Displacement <= 73.5\\nmse = 0.25\\nsamples = 2\\nvalue = 29.5\"] ;\n",
      "108 -> 109 ;\n",
      "110 [label=\"mse = 0.0\\nsamples = 1\\nvalue = 29.0\"] ;\n",
      "109 -> 110 ;\n",
      "111 [label=\"mse = 0.0\\nsamples = 1\\nvalue = 30.0\"] ;\n",
      "109 -> 111 ;\n",
      "112 [label=\"mse = 0.0\\nsamples = 1\\nvalue = 26.0\"] ;\n",
      "108 -> 112 ;\n",
      "113 [label=\"Displacement <= 84.5\\nmse = 0.936\\nsamples = 3\\nvalue = 30.633\"] ;\n",
      "107 -> 113 ;\n",
      "114 [label=\"mse = 0.0\\nsamples = 1\\nvalue = 32.0\"] ;\n",
      "113 -> 114 ;\n",
      "115 [label=\"Horsepower <= 66.0\\nmse = 0.002\\nsamples = 2\\nvalue = 29.95\"] ;\n",
      "113 -> 115 ;\n",
      "116 [label=\"mse = 0.0\\nsamples = 1\\nvalue = 29.9\"] ;\n",
      "115 -> 116 ;\n",
      "117 [label=\"mse = -0.0\\nsamples = 1\\nvalue = 30.0\"] ;\n",
      "115 -> 117 ;\n",
      "118 [label=\"mse = -0.0\\nsamples = 1\\nvalue = 36.4\"] ;\n",
      "106 -> 118 ;\n",
      "119 [label=\"Displacement <= 91.0\\nmse = 6.5\\nsamples = 3\\nvalue = 25.5\"] ;\n",
      "3 -> 119 ;\n",
      "120 [label=\"mse = 0.0\\nsamples = 1\\nvalue = 29.0\"] ;\n",
      "119 -> 120 ;\n",
      "121 [label=\"Acceleration <= 22.8\\nmse = 0.562\\nsamples = 2\\nvalue = 23.75\"] ;\n",
      "119 -> 121 ;\n",
      "122 [label=\"mse = 0.0\\nsamples = 1\\nvalue = 24.5\"] ;\n",
      "121 -> 122 ;\n",
      "123 [label=\"mse = 0.0\\nsamples = 1\\nvalue = 23.0\"] ;\n",
      "121 -> 123 ;\n",
      "124 [label=\"Horsepower <= 50.0\\nmse = 0.09\\nsamples = 2\\nvalue = 43.7\"] ;\n",
      "2 -> 124 ;\n",
      "125 [label=\"mse = 0.0\\nsamples = 1\\nvalue = 43.4\"] ;\n",
      "124 -> 125 ;\n",
      "126 [label=\"mse = -0.0\\nsamples = 1\\nvalue = 44.0\"] ;\n",
      "124 -> 126 ;\n",
      "127 [label=\"Horsepower <= 84.5\\nmse = 22.169\\nsamples = 151\\nvalue = 26.28\"] ;\n",
      "1 -> 127 ;\n",
      "128 [label=\"Acceleration <= 15.4\\nmse = 16.76\\nsamples = 57\\nvalue = 28.947\"] ;\n",
      "127 -> 128 ;\n",
      "129 [label=\"Weight_in_lbs <= 2475.0\\nmse = 13.937\\nsamples = 25\\nvalue = 31.132\"] ;\n",
      "128 -> 129 ;\n",
      "130 [label=\"Displacement <= 97.5\\nmse = 13.478\\nsamples = 23\\nvalue = 31.496\"] ;\n",
      "129 -> 130 ;\n",
      "131 [label=\"Weight_in_lbs <= 2245.0\\nmse = 3.217\\nsamples = 8\\nvalue = 29.55\"] ;\n",
      "130 -> 131 ;\n",
      "132 [label=\"Displacement <= 89.5\\nmse = 1.62\\nsamples = 7\\nvalue = 30.057\"] ;\n",
      "131 -> 132 ;\n",
      "133 [label=\"Displacement <= 88.5\\nmse = 0.669\\nsamples = 3\\nvalue = 31.133\"] ;\n",
      "132 -> 133 ;\n",
      "134 [label=\"mse = 0.0\\nsamples = 1\\nvalue = 30.0\"] ;\n",
      "133 -> 134 ;\n",
      "135 [label=\"Acceleration <= 14.45\\nmse = 0.04\\nsamples = 2\\nvalue = 31.7\"] ;\n",
      "133 -> 135 ;\n",
      "136 [label=\"mse = 0.0\\nsamples = 1\\nvalue = 31.9\"] ;\n",
      "135 -> 136 ;\n",
      "137 [label=\"mse = 0.0\\nsamples = 1\\nvalue = 31.5\"] ;\n",
      "135 -> 137 ;\n",
      "138 [label=\"Acceleration <= 14.3\\nmse = 0.812\\nsamples = 4\\nvalue = 29.25\"] ;\n",
      "132 -> 138 ;\n",
      "139 [label=\"Weight_in_lbs <= 2007.5\\nmse = 0.25\\nsamples = 2\\nvalue = 30.0\"] ;\n",
      "138 -> 139 ;\n",
      "140 [label=\"mse = 0.0\\nsamples = 1\\nvalue = 29.5\"] ;\n",
      "139 -> 140 ;\n",
      "141 [label=\"mse = 0.0\\nsamples = 1\\nvalue = 30.5\"] ;\n",
      "139 -> 141 ;\n",
      "142 [label=\"Horsepower <= 76.5\\nmse = 0.25\\nsamples = 2\\nvalue = 28.5\"] ;\n",
      "138 -> 142 ;\n",
      "143 [label=\"mse = 0.0\\nsamples = 1\\nvalue = 28.0\"] ;\n",
      "142 -> 143 ;\n",
      "144 [label=\"mse = 0.0\\nsamples = 1\\nvalue = 29.0\"] ;\n",
      "142 -> 144 ;\n",
      "145 [label=\"mse = 0.0\\nsamples = 1\\nvalue = 26.0\"] ;\n",
      "131 -> 145 ;\n",
      "146 [label=\"Weight_in_lbs <= 2149.5\\nmse = 15.854\\nsamples = 15\\nvalue = 32.533\"] ;\n",
      "130 -> 146 ;\n",
      "147 [label=\"Weight_in_lbs <= 2062.0\\nmse = 7.109\\nsamples = 3\\nvalue = 37.733\"] ;\n",
      "146 -> 147 ;\n",
      "148 [label=\"Horsepower <= 77.0\\nmse = 0.023\\nsamples = 2\\nvalue = 35.85\"] ;\n",
      "147 -> 148 ;\n",
      "149 [label=\"mse = 0.0\\nsamples = 1\\nvalue = 36.0\"] ;\n",
      "148 -> 149 ;\n",
      "150 [label=\"mse = 0.0\\nsamples = 1\\nvalue = 35.7\"] ;\n",
      "148 -> 150 ;\n",
      "151 [label=\"mse = -0.0\\nsamples = 1\\nvalue = 41.5\"] ;\n",
      "147 -> 151 ;\n",
      "152 [label=\"Displacement <= 103.0\\nmse = 9.591\\nsamples = 12\\nvalue = 31.233\"] ;\n",
      "146 -> 152 ;\n",
      "153 [label=\"Horsepower <= 81.5\\nmse = 0.25\\nsamples = 2\\nvalue = 27.5\"] ;\n",
      "152 -> 153 ;\n",
      "154 [label=\"mse = 0.0\\nsamples = 1\\nvalue = 28.0\"] ;\n",
      "153 -> 154 ;\n",
      "155 [label=\"mse = 0.0\\nsamples = 1\\nvalue = 27.0\"] ;\n",
      "153 -> 155 ;\n",
      "156 [label=\"Displacement <= 109.5\\nmse = 8.114\\nsamples = 10\\nvalue = 31.98\"] ;\n",
      "152 -> 156 ;\n",
      "157 [label=\"Weight_in_lbs <= 2220.0\\nmse = 2.882\\nsamples = 5\\nvalue = 33.16\"] ;\n",
      "156 -> 157 ;\n",
      "158 [label=\"Acceleration <= 14.45\\nmse = 1.642\\nsamples = 3\\nvalue = 34.233\"] ;\n",
      "157 -> 158 ;\n",
      "159 [label=\"Horsepower <= 74.5\\nmse = 0.123\\nsamples = 2\\nvalue = 33.35\"] ;\n",
      "158 -> 159 ;\n",
      "160 [label=\"mse = 0.0\\nsamples = 1\\nvalue = 33.0\"] ;\n",
      "159 -> 160 ;\n",
      "161 [label=\"mse = 0.0\\nsamples = 1\\nvalue = 33.7\"] ;\n",
      "159 -> 161 ;\n",
      "162 [label=\"mse = 0.0\\nsamples = 1\\nvalue = 36.0\"] ;\n",
      "158 -> 162 ;\n",
      "163 [label=\"Acceleration <= 14.85\\nmse = 0.422\\nsamples = 2\\nvalue = 31.55\"] ;\n",
      "157 -> 163 ;\n",
      "164 [label=\"mse = 0.0\\nsamples = 1\\nvalue = 30.9\"] ;\n",
      "163 -> 164 ;\n",
      "165 [label=\"mse = 0.0\\nsamples = 1\\nvalue = 32.2\"] ;\n",
      "163 -> 165 ;\n",
      "166 [label=\"Horsepower <= 77.5\\nmse = 10.56\\nsamples = 5\\nvalue = 30.8\"] ;\n",
      "156 -> 166 ;\n",
      "167 [label=\"mse = 0.0\\nsamples = 1\\nvalue = 26.0\"] ;\n",
      "166 -> 167 ;\n",
      "168 [label=\"Displacement <= 123.0\\nmse = 6.0\\nsamples = 4\\nvalue = 32.0\"] ;\n",
      "166 -> 168 ;\n",
      "169 [label=\"mse = 0.0\\nsamples = 1\\nvalue = 30.0\"] ;\n",
      "168 -> 169 ;\n",
      "170 [label=\"Acceleration <= 12.95\\nmse = 6.222\\nsamples = 3\\nvalue = 32.667\"] ;\n",
      "168 -> 170 ;\n",
      "171 [label=\"Weight_in_lbs <= 2340.0\\nmse = 1.0\\nsamples = 2\\nvalue = 31.0\"] ;\n",
      "170 -> 171 ;\n",
      "172 [label=\"mse = 0.0\\nsamples = 1\\nvalue = 32.0\"] ;\n",
      "171 -> 172 ;\n",
      "173 [label=\"mse = 0.0\\nsamples = 1\\nvalue = 30.0\"] ;\n",
      "171 -> 173 ;\n",
      "174 [label=\"mse = 0.0\\nsamples = 1\\nvalue = 36.0\"] ;\n",
      "170 -> 174 ;\n",
      "175 [label=\"Acceleration <= 14.3\\nmse = 0.202\\nsamples = 2\\nvalue = 26.95\"] ;\n",
      "129 -> 175 ;\n",
      "176 [label=\"mse = 0.0\\nsamples = 1\\nvalue = 26.5\"] ;\n",
      "175 -> 176 ;\n",
      "177 [label=\"mse = -0.0\\nsamples = 1\\nvalue = 27.4\"] ;\n",
      "175 -> 177 ;\n",
      "178 [label=\"Displacement <= 120.5\\nmse = 12.324\\nsamples = 32\\nvalue = 27.241\"] ;\n",
      "128 -> 178 ;\n",
      "179 [label=\"Weight_in_lbs <= 2277.5\\nmse = 11.287\\nsamples = 18\\nvalue = 28.639\"] ;\n",
      "178 -> 179 ;\n",
      "180 [label=\"Weight_in_lbs <= 2091.5\\nmse = 11.218\\nsamples = 12\\nvalue = 27.4\"] ;\n",
      "179 -> 180 ;\n",
      "181 [label=\"mse = 0.0\\nsamples = 1\\nvalue = 33.5\"] ;\n",
      "180 -> 181 ;\n",
      "182 [label=\"Acceleration <= 15.65\\nmse = 8.548\\nsamples = 11\\nvalue = 26.845\"] ;\n",
      "180 -> 182 ;\n",
      "183 [label=\"mse = 0.0\\nsamples = 2\\nvalue = 24.0\"] ;\n",
      "182 -> 183 ;\n",
      "184 [label=\"Acceleration <= 15.9\\nmse = 8.248\\nsamples = 9\\nvalue = 27.478\"] ;\n",
      "182 -> 184 ;\n",
      "185 [label=\"mse = 0.0\\nsamples = 1\\nvalue = 34.3\"] ;\n",
      "184 -> 185 ;\n",
      "186 [label=\"Acceleration <= 16.7\\nmse = 2.734\\nsamples = 8\\nvalue = 26.625\"] ;\n",
      "184 -> 186 ;\n",
      "187 [label=\"Displacement <= 93.5\\nmse = 2.688\\nsamples = 4\\nvalue = 27.75\"] ;\n",
      "186 -> 187 ;\n",
      "188 [label=\"mse = 0.0\\nsamples = 1\\nvalue = 25.0\"] ;\n",
      "187 -> 188 ;\n",
      "189 [label=\"Weight_in_lbs <= 2163.0\\nmse = 0.222\\nsamples = 3\\nvalue = 28.667\"] ;\n",
      "187 -> 189 ;\n",
      "190 [label=\"mse = 0.0\\nsamples = 1\\nvalue = 28.0\"] ;\n",
      "189 -> 190 ;\n",
      "191 [label=\"mse = 0.0\\nsamples = 2\\nvalue = 29.0\"] ;\n",
      "189 -> 191 ;\n",
      "192 [label=\"Horsepower <= 79.5\\nmse = 0.25\\nsamples = 4\\nvalue = 25.5\"] ;\n",
      "186 -> 192 ;\n",
      "193 [label=\"mse = 0.0\\nsamples = 2\\nvalue = 26.0\"] ;\n",
      "192 -> 193 ;\n",
      "194 [label=\"mse = 0.0\\nsamples = 2\\nvalue = 25.0\"] ;\n",
      "192 -> 194 ;\n",
      "195 [label=\"Horsepower <= 77.0\\nmse = 2.215\\nsamples = 6\\nvalue = 31.117\"] ;\n",
      "179 -> 195 ;\n",
      "196 [label=\"Acceleration <= 17.25\\nmse = 0.237\\nsamples = 4\\nvalue = 31.925\"] ;\n",
      "195 -> 196 ;\n",
      "197 [label=\"mse = 0.0\\nsamples = 2\\nvalue = 32.4\"] ;\n",
      "196 -> 197 ;\n",
      "198 [label=\"Acceleration <= 17.9\\nmse = 0.023\\nsamples = 2\\nvalue = 31.45\"] ;\n",
      "196 -> 198 ;\n",
      "199 [label=\"mse = 0.0\\nsamples = 1\\nvalue = 31.3\"] ;\n",
      "198 -> 199 ;\n",
      "200 [label=\"mse = -0.0\\nsamples = 1\\nvalue = 31.6\"] ;\n",
      "198 -> 200 ;\n",
      "201 [label=\"Weight_in_lbs <= 2672.5\\nmse = 2.25\\nsamples = 2\\nvalue = 29.5\"] ;\n",
      "195 -> 201 ;\n",
      "202 [label=\"mse = 0.0\\nsamples = 1\\nvalue = 28.0\"] ;\n",
      "201 -> 202 ;\n",
      "203 [label=\"mse = 0.0\\nsamples = 1\\nvalue = 31.0\"] ;\n",
      "201 -> 203 ;\n",
      "204 [label=\"Weight_in_lbs <= 2429.5\\nmse = 7.911\\nsamples = 14\\nvalue = 25.443\"] ;\n",
      "178 -> 204 ;\n",
      "205 [label=\"Weight_in_lbs <= 2404.5\\nmse = 0.25\\nsamples = 2\\nvalue = 21.5\"] ;\n",
      "204 -> 205 ;\n",
      "206 [label=\"mse = 0.0\\nsamples = 1\\nvalue = 21.0\"] ;\n",
      "205 -> 206 ;\n",
      "207 [label=\"mse = 0.0\\nsamples = 1\\nvalue = 22.0\"] ;\n",
      "205 -> 207 ;\n",
      "208 [label=\"Cylinders <= 5.5\\nmse = 6.165\\nsamples = 12\\nvalue = 26.1\"] ;\n",
      "204 -> 208 ;\n",
      "209 [label=\"Acceleration <= 16.45\\nmse = 4.627\\nsamples = 11\\nvalue = 25.682\"] ;\n",
      "208 -> 209 ;\n",
      "210 [label=\"Weight_in_lbs <= 2580.0\\nmse = 1.04\\nsamples = 3\\nvalue = 27.6\"] ;\n",
      "209 -> 210 ;\n",
      "211 [label=\"Weight_in_lbs <= 2507.5\\nmse = 0.81\\nsamples = 2\\nvalue = 28.1\"] ;\n",
      "210 -> 211 ;\n",
      "212 [label=\"mse = 0.0\\nsamples = 1\\nvalue = 27.2\"] ;\n",
      "211 -> 212 ;\n",
      "213 [label=\"mse = -0.0\\nsamples = 1\\nvalue = 29.0\"] ;\n",
      "211 -> 213 ;\n",
      "214 [label=\"mse = 0.0\\nsamples = 1\\nvalue = 26.6\"] ;\n",
      "210 -> 214 ;\n",
      "215 [label=\"Acceleration <= 20.25\\nmse = 4.075\\nsamples = 8\\nvalue = 24.962\"] ;\n",
      "209 -> 215 ;\n",
      "216 [label=\"Displacement <= 121.5\\nmse = 2.156\\nsamples = 6\\nvalue = 24.067\"] ;\n",
      "215 -> 216 ;\n",
      "217 [label=\"mse = 0.0\\nsamples = 1\\nvalue = 22.0\"] ;\n",
      "216 -> 217 ;\n",
      "218 [label=\"Weight_in_lbs <= 2567.0\\nmse = 1.562\\nsamples = 5\\nvalue = 24.48\"] ;\n",
      "216 -> 218 ;\n",
      "219 [label=\"Acceleration <= 16.75\\nmse = 0.25\\nsamples = 2\\nvalue = 25.5\"] ;\n",
      "218 -> 219 ;\n",
      "220 [label=\"mse = 0.0\\nsamples = 1\\nvalue = 26.0\"] ;\n",
      "219 -> 220 ;\n",
      "221 [label=\"mse = 0.0\\nsamples = 1\\nvalue = 25.0\"] ;\n",
      "219 -> 221 ;\n",
      "222 [label=\"Weight_in_lbs <= 3084.5\\nmse = 1.28\\nsamples = 3\\nvalue = 23.8\"] ;\n",
      "218 -> 222 ;\n",
      "223 [label=\"mse = -0.0\\nsamples = 2\\nvalue = 23.0\"] ;\n",
      "222 -> 223 ;\n",
      "224 [label=\"mse = -0.0\\nsamples = 1\\nvalue = 25.4\"] ;\n",
      "222 -> 224 ;\n",
      "225 [label=\"Weight_in_lbs <= 3210.0\\nmse = 0.203\\nsamples = 2\\nvalue = 27.65\"] ;\n",
      "215 -> 225 ;\n",
      "226 [label=\"mse = 0.0\\nsamples = 1\\nvalue = 27.2\"] ;\n",
      "225 -> 226 ;\n",
      "227 [label=\"mse = 0.0\\nsamples = 1\\nvalue = 28.1\"] ;\n",
      "225 -> 227 ;\n",
      "228 [label=\"mse = -0.0\\nsamples = 1\\nvalue = 30.7\"] ;\n",
      "208 -> 228 ;\n",
      "229 [label=\"Weight_in_lbs <= 2920.0\\nmse = 18.52\\nsamples = 94\\nvalue = 24.663\"] ;\n",
      "127 -> 229 ;\n",
      "230 [label=\"Displacement <= 88.5\\nmse = 16.391\\nsamples = 79\\nvalue = 25.419\"] ;\n",
      "229 -> 230 ;\n",
      "231 [label=\"Weight_in_lbs <= 2375.0\\nmse = 4.933\\nsamples = 4\\nvalue = 20.55\"] ;\n",
      "230 -> 231 ;\n",
      "232 [label=\"Horsepower <= 93.5\\nmse = 0.25\\nsamples = 2\\nvalue = 18.5\"] ;\n",
      "231 -> 232 ;\n",
      "233 [label=\"mse = 0.0\\nsamples = 1\\nvalue = 18.0\"] ;\n",
      "232 -> 233 ;\n",
      "234 [label=\"mse = 0.0\\nsamples = 1\\nvalue = 19.0\"] ;\n",
      "232 -> 234 ;\n",
      "235 [label=\"Acceleration <= 13.0\\nmse = 1.21\\nsamples = 2\\nvalue = 22.6\"] ;\n",
      "231 -> 235 ;\n",
      "236 [label=\"mse = 0.0\\nsamples = 1\\nvalue = 23.7\"] ;\n",
      "235 -> 236 ;\n",
      "237 [label=\"mse = -0.0\\nsamples = 1\\nvalue = 21.5\"] ;\n",
      "235 -> 237 ;\n",
      "238 [label=\"Horsepower <= 93.5\\nmse = 15.67\\nsamples = 75\\nvalue = 25.679\"] ;\n",
      "230 -> 238 ;\n",
      "239 [label=\"Acceleration <= 18.3\\nmse = 17.646\\nsamples = 41\\nvalue = 26.563\"] ;\n",
      "238 -> 239 ;\n",
      "240 [label=\"Weight_in_lbs <= 2578.5\\nmse = 15.778\\nsamples = 36\\nvalue = 27.086\"] ;\n",
      "239 -> 240 ;\n",
      "241 [label=\"Weight_in_lbs <= 2432.0\\nmse = 20.657\\nsamples = 20\\nvalue = 28.325\"] ;\n",
      "240 -> 241 ;\n",
      "242 [label=\"Horsepower <= 87.0\\nmse = 15.781\\nsamples = 14\\nvalue = 26.929\"] ;\n",
      "241 -> 242 ;\n",
      "243 [label=\"Weight_in_lbs <= 2223.0\\nmse = 0.667\\nsamples = 3\\nvalue = 22.0\"] ;\n",
      "242 -> 243 ;\n",
      "244 [label=\"mse = 0.0\\nsamples = 1\\nvalue = 23.0\"] ;\n",
      "243 -> 244 ;\n",
      "245 [label=\"Weight_in_lbs <= 2310.5\\nmse = 0.25\\nsamples = 2\\nvalue = 21.5\"] ;\n",
      "243 -> 245 ;\n",
      "246 [label=\"mse = 0.0\\nsamples = 1\\nvalue = 21.0\"] ;\n",
      "245 -> 246 ;\n",
      "247 [label=\"mse = 0.0\\nsamples = 1\\nvalue = 22.0\"] ;\n",
      "245 -> 247 ;\n",
      "248 [label=\"Displacement <= 110.0\\nmse = 11.471\\nsamples = 11\\nvalue = 28.273\"] ;\n",
      "242 -> 248 ;\n",
      "249 [label=\"Weight_in_lbs <= 2410.5\\nmse = 1.388\\nsamples = 7\\nvalue = 26.429\"] ;\n",
      "248 -> 249 ;\n",
      "250 [label=\"Displacement <= 97.5\\nmse = 0.472\\nsamples = 6\\nvalue = 26.833\"] ;\n",
      "249 -> 250 ;\n",
      "251 [label=\"Horsepower <= 90.0\\nmse = 0.188\\nsamples = 4\\nvalue = 27.25\"] ;\n",
      "250 -> 251 ;\n",
      "252 [label=\"mse = 0.0\\nsamples = 3\\nvalue = 27.0\"] ;\n",
      "251 -> 252 ;\n",
      "253 [label=\"mse = 0.0\\nsamples = 1\\nvalue = 28.0\"] ;\n",
      "251 -> 253 ;\n",
      "254 [label=\"mse = 0.0\\nsamples = 2\\nvalue = 26.0\"] ;\n",
      "250 -> 254 ;\n",
      "255 [label=\"mse = 0.0\\nsamples = 1\\nvalue = 24.0\"] ;\n",
      "249 -> 255 ;\n",
      "256 [label=\"Horsepower <= 89.0\\nmse = 12.75\\nsamples = 4\\nvalue = 31.5\"] ;\n",
      "248 -> 256 ;\n",
      "257 [label=\"Weight_in_lbs <= 2277.5\\nmse = 1.0\\nsamples = 2\\nvalue = 35.0\"] ;\n",
      "256 -> 257 ;\n",
      "258 [label=\"mse = 0.0\\nsamples = 1\\nvalue = 36.0\"] ;\n",
      "257 -> 258 ;\n",
      "259 [label=\"mse = 0.0\\nsamples = 1\\nvalue = 34.0\"] ;\n",
      "257 -> 259 ;\n",
      "260 [label=\"mse = 0.0\\nsamples = 2\\nvalue = 28.0\"] ;\n",
      "256 -> 260 ;\n",
      "261 [label=\"Weight_in_lbs <= 2564.0\\nmse = 16.868\\nsamples = 6\\nvalue = 31.583\"] ;\n",
      "241 -> 261 ;\n",
      "262 [label=\"Displacement <= 113.0\\nmse = 11.172\\nsamples = 4\\nvalue = 33.375\"] ;\n",
      "261 -> 262 ;\n",
      "263 [label=\"mse = 0.0\\nsamples = 1\\nvalue = 28.0\"] ;\n",
      "262 -> 263 ;\n",
      "264 [label=\"Horsepower <= 91.0\\nmse = 2.056\\nsamples = 3\\nvalue = 35.167\"] ;\n",
      "262 -> 264 ;\n",
      "265 [label=\"Displacement <= 136.5\\nmse = 0.562\\nsamples = 2\\nvalue = 34.25\"] ;\n",
      "264 -> 265 ;\n",
      "266 [label=\"mse = 0.0\\nsamples = 1\\nvalue = 35.0\"] ;\n",
      "265 -> 266 ;\n",
      "267 [label=\"mse = 0.0\\nsamples = 1\\nvalue = 33.5\"] ;\n",
      "265 -> 267 ;\n",
      "268 [label=\"mse = 0.0\\nsamples = 1\\nvalue = 37.0\"] ;\n",
      "264 -> 268 ;\n",
      "269 [label=\"Displacement <= 126.0\\nmse = 9.0\\nsamples = 2\\nvalue = 28.0\"] ;\n",
      "261 -> 269 ;\n",
      "270 [label=\"mse = 0.0\\nsamples = 1\\nvalue = 31.0\"] ;\n",
      "269 -> 270 ;\n",
      "271 [label=\"mse = 0.0\\nsamples = 1\\nvalue = 25.0\"] ;\n",
      "269 -> 271 ;\n",
      "272 [label=\"Weight_in_lbs <= 2583.5\\nmse = 5.364\\nsamples = 16\\nvalue = 25.538\"] ;\n",
      "240 -> 272 ;\n",
      "273 [label=\"mse = 0.0\\nsamples = 1\\nvalue = 20.0\"] ;\n",
      "272 -> 273 ;\n",
      "274 [label=\"Weight_in_lbs <= 2822.5\\nmse = 3.541\\nsamples = 15\\nvalue = 25.907\"] ;\n",
      "272 -> 274 ;\n",
      "275 [label=\"Horsepower <= 89.5\\nmse = 2.47\\nsamples = 11\\nvalue = 26.555\"] ;\n",
      "274 -> 275 ;\n",
      "276 [label=\"Weight_in_lbs <= 2772.5\\nmse = 0.726\\nsamples = 5\\nvalue = 25.42\"] ;\n",
      "275 -> 276 ;\n",
      "277 [label=\"Displacement <= 145.5\\nmse = 0.127\\nsamples = 4\\nvalue = 25.025\"] ;\n",
      "276 -> 277 ;\n",
      "278 [label=\"Horsepower <= 88.5\\nmse = 0.047\\nsamples = 3\\nvalue = 25.2\"] ;\n",
      "277 -> 278 ;\n",
      "279 [label=\"Horsepower <= 87.5\\nmse = 0.003\\nsamples = 2\\nvalue = 25.05\"] ;\n",
      "278 -> 279 ;\n",
      "280 [label=\"mse = 0.0\\nsamples = 1\\nvalue = 25.0\"] ;\n",
      "279 -> 280 ;\n",
      "281 [label=\"mse = 0.0\\nsamples = 1\\nvalue = 25.1\"] ;\n",
      "279 -> 281 ;\n",
      "282 [label=\"mse = 0.0\\nsamples = 1\\nvalue = 25.5\"] ;\n",
      "278 -> 282 ;\n",
      "283 [label=\"mse = 0.0\\nsamples = 1\\nvalue = 24.5\"] ;\n",
      "277 -> 283 ;\n",
      "284 [label=\"mse = 0.0\\nsamples = 1\\nvalue = 27.0\"] ;\n",
      "276 -> 284 ;\n",
      "285 [label=\"Horsepower <= 91.0\\nmse = 1.957\\nsamples = 6\\nvalue = 27.5\"] ;\n",
      "275 -> 285 ;\n",
      "286 [label=\"Displacement <= 142.5\\nmse = 1.01\\nsamples = 4\\nvalue = 28.3\"] ;\n",
      "285 -> 286 ;\n",
      "287 [label=\"mse = 0.0\\nsamples = 1\\nvalue = 29.8\"] ;\n",
      "286 -> 287 ;\n",
      "288 [label=\"Weight_in_lbs <= 2706.5\\nmse = 0.347\\nsamples = 3\\nvalue = 27.8\"] ;\n",
      "286 -> 288 ;\n",
      "289 [label=\"Weight_in_lbs <= 2674.0\\nmse = 0.04\\nsamples = 2\\nvalue = 28.2\"] ;\n",
      "288 -> 289 ;\n",
      "290 [label=\"mse = 0.0\\nsamples = 1\\nvalue = 28.4\"] ;\n",
      "289 -> 290 ;\n",
      "291 [label=\"mse = 0.0\\nsamples = 1\\nvalue = 28.0\"] ;\n",
      "289 -> 291 ;\n",
      "292 [label=\"mse = 0.0\\nsamples = 1\\nvalue = 27.0\"] ;\n",
      "288 -> 292 ;\n",
      "293 [label=\"Weight_in_lbs <= 2602.5\\nmse = 0.01\\nsamples = 2\\nvalue = 25.9\"] ;\n",
      "285 -> 293 ;\n",
      "294 [label=\"mse = 0.0\\nsamples = 1\\nvalue = 26.0\"] ;\n",
      "293 -> 294 ;\n",
      "295 [label=\"mse = 0.0\\nsamples = 1\\nvalue = 25.8\"] ;\n",
      "293 -> 295 ;\n",
      "296 [label=\"Acceleration <= 17.85\\nmse = 2.157\\nsamples = 4\\nvalue = 24.125\"] ;\n",
      "274 -> 296 ;\n",
      "297 [label=\"Weight_in_lbs <= 2877.5\\nmse = 0.576\\nsamples = 3\\nvalue = 23.367\"] ;\n",
      "296 -> 297 ;\n",
      "298 [label=\"Weight_in_lbs <= 2860.0\\nmse = 0.01\\nsamples = 2\\nvalue = 23.9\"] ;\n",
      "297 -> 298 ;\n",
      "299 [label=\"mse = 0.0\\nsamples = 1\\nvalue = 23.8\"] ;\n",
      "298 -> 299 ;\n",
      "300 [label=\"mse = 0.0\\nsamples = 1\\nvalue = 24.0\"] ;\n",
      "298 -> 300 ;\n",
      "301 [label=\"mse = 0.0\\nsamples = 1\\nvalue = 22.3\"] ;\n",
      "297 -> 301 ;\n",
      "302 [label=\"mse = -0.0\\nsamples = 1\\nvalue = 26.4\"] ;\n",
      "296 -> 302 ;\n",
      "303 [label=\"Weight_in_lbs <= 2506.5\\nmse = 14.96\\nsamples = 5\\nvalue = 22.8\"] ;\n",
      "239 -> 303 ;\n",
      "304 [label=\"Horsepower <= 86.5\\nmse = 0.222\\nsamples = 3\\nvalue = 19.667\"] ;\n",
      "303 -> 304 ;\n",
      "305 [label=\"mse = 0.0\\nsamples = 1\\nvalue = 19.0\"] ;\n",
      "304 -> 305 ;\n",
      "306 [label=\"mse = 0.0\\nsamples = 2\\nvalue = 20.0\"] ;\n",
      "304 -> 306 ;\n",
      "307 [label=\"Acceleration <= 19.1\\nmse = 0.25\\nsamples = 2\\nvalue = 27.5\"] ;\n",
      "303 -> 307 ;\n",
      "308 [label=\"mse = 0.0\\nsamples = 1\\nvalue = 27.0\"] ;\n",
      "307 -> 308 ;\n",
      "309 [label=\"mse = 0.0\\nsamples = 1\\nvalue = 28.0\"] ;\n",
      "307 -> 309 ;\n",
      "310 [label=\"Acceleration <= 11.95\\nmse = 11.205\\nsamples = 34\\nvalue = 24.612\"] ;\n",
      "238 -> 310 ;\n",
      "311 [label=\"Weight_in_lbs <= 2752.5\\nmse = 3.803\\nsamples = 2\\nvalue = 30.75\"] ;\n",
      "310 -> 311 ;\n",
      "312 [label=\"mse = 0.0\\nsamples = 1\\nvalue = 28.8\"] ;\n",
      "311 -> 312 ;\n",
      "313 [label=\"mse = 0.0\\nsamples = 1\\nvalue = 32.7\"] ;\n",
      "311 -> 313 ;\n",
      "314 [label=\"Weight_in_lbs <= 2803.5\\nmse = 9.166\\nsamples = 32\\nvalue = 24.228\"] ;\n",
      "310 -> 314 ;\n",
      "315 [label=\"Acceleration <= 14.85\\nmse = 8.096\\nsamples = 27\\nvalue = 24.763\"] ;\n",
      "314 -> 315 ;\n",
      "316 [label=\"Weight_in_lbs <= 2607.5\\nmse = 11.403\\nsamples = 16\\nvalue = 25.525\"] ;\n",
      "315 -> 316 ;\n",
      "317 [label=\"Weight_in_lbs <= 2386.0\\nmse = 6.517\\nsamples = 8\\nvalue = 24.037\"] ;\n",
      "316 -> 317 ;\n",
      "318 [label=\"Weight_in_lbs <= 2267.0\\nmse = 0.809\\nsamples = 3\\nvalue = 26.067\"] ;\n",
      "317 -> 318 ;\n",
      "319 [label=\"Weight_in_lbs <= 2231.0\\nmse = 0.25\\nsamples = 2\\nvalue = 25.5\"] ;\n",
      "318 -> 319 ;\n",
      "320 [label=\"mse = 0.0\\nsamples = 1\\nvalue = 25.0\"] ;\n",
      "319 -> 320 ;\n",
      "321 [label=\"mse = 0.0\\nsamples = 1\\nvalue = 26.0\"] ;\n",
      "319 -> 321 ;\n",
      "322 [label=\"mse = -0.0\\nsamples = 1\\nvalue = 27.2\"] ;\n",
      "318 -> 322 ;\n",
      "323 [label=\"Weight_in_lbs <= 2537.5\\nmse = 5.99\\nsamples = 5\\nvalue = 22.82\"] ;\n",
      "317 -> 323 ;\n",
      "324 [label=\"Displacement <= 127.0\\nmse = 0.847\\nsamples = 3\\nvalue = 21.7\"] ;\n",
      "323 -> 324 ;\n",
      "325 [label=\"mse = 0.0\\nsamples = 1\\nvalue = 23.0\"] ;\n",
      "324 -> 325 ;\n",
      "326 [label=\"Cylinders <= 5.0\\nmse = 0.003\\nsamples = 2\\nvalue = 21.05\"] ;\n",
      "324 -> 326 ;\n",
      "327 [label=\"mse = 0.0\\nsamples = 1\\nvalue = 21.1\"] ;\n",
      "326 -> 327 ;\n",
      "328 [label=\"mse = 0.0\\nsamples = 1\\nvalue = 21.0\"] ;\n",
      "326 -> 328 ;\n",
      "329 [label=\"Horsepower <= 102.5\\nmse = 9.0\\nsamples = 2\\nvalue = 24.5\"] ;\n",
      "323 -> 329 ;\n",
      "330 [label=\"mse = 0.0\\nsamples = 1\\nvalue = 27.5\"] ;\n",
      "329 -> 330 ;\n",
      "331 [label=\"mse = 0.0\\nsamples = 1\\nvalue = 21.5\"] ;\n",
      "329 -> 331 ;\n",
      "332 [label=\"Weight_in_lbs <= 2637.5\\nmse = 11.864\\nsamples = 8\\nvalue = 27.013\"] ;\n",
      "316 -> 332 ;\n",
      "333 [label=\"mse = 0.0\\nsamples = 1\\nvalue = 32.9\"] ;\n",
      "332 -> 333 ;\n",
      "334 [label=\"Displacement <= 139.0\\nmse = 7.899\\nsamples = 7\\nvalue = 26.171\"] ;\n",
      "332 -> 334 ;\n",
      "335 [label=\"Horsepower <= 112.5\\nmse = 0.222\\nsamples = 3\\nvalue = 24.333\"] ;\n",
      "334 -> 335 ;\n",
      "336 [label=\"mse = 0.0\\nsamples = 2\\nvalue = 24.0\"] ;\n",
      "335 -> 336 ;\n",
      "337 [label=\"mse = 0.0\\nsamples = 1\\nvalue = 25.0\"] ;\n",
      "335 -> 337 ;\n",
      "338 [label=\"Horsepower <= 100.5\\nmse = 9.223\\nsamples = 4\\nvalue = 27.55\"] ;\n",
      "334 -> 338 ;\n",
      "339 [label=\"mse = 0.0\\nsamples = 1\\nvalue = 32.0\"] ;\n",
      "338 -> 339 ;\n",
      "340 [label=\"Acceleration <= 12.75\\nmse = 3.496\\nsamples = 3\\nvalue = 26.067\"] ;\n",
      "338 -> 340 ;\n",
      "341 [label=\"mse = 0.0\\nsamples = 1\\nvalue = 23.5\"] ;\n",
      "340 -> 341 ;\n",
      "342 [label=\"Acceleration <= 13.65\\nmse = 0.302\\nsamples = 2\\nvalue = 27.35\"] ;\n",
      "340 -> 342 ;\n",
      "343 [label=\"mse = 0.0\\nsamples = 1\\nvalue = 26.8\"] ;\n",
      "342 -> 343 ;\n",
      "344 [label=\"mse = 0.0\\nsamples = 1\\nvalue = 27.9\"] ;\n",
      "342 -> 344 ;\n",
      "345 [label=\"Weight_in_lbs <= 2377.0\\nmse = 1.213\\nsamples = 11\\nvalue = 23.655\"] ;\n",
      "315 -> 345 ;\n",
      "346 [label=\"Displacement <= 117.5\\nmse = 0.422\\nsamples = 4\\nvalue = 24.625\"] ;\n",
      "345 -> 346 ;\n",
      "347 [label=\"Displacement <= 108.5\\nmse = 0.222\\nsamples = 3\\nvalue = 24.333\"] ;\n",
      "346 -> 347 ;\n",
      "348 [label=\"mse = 0.0\\nsamples = 1\\nvalue = 25.0\"] ;\n",
      "347 -> 348 ;\n",
      "349 [label=\"mse = 0.0\\nsamples = 2\\nvalue = 24.0\"] ;\n",
      "347 -> 349 ;\n",
      "350 [label=\"mse = 0.0\\nsamples = 1\\nvalue = 25.5\"] ;\n",
      "346 -> 350 ;\n",
      "351 [label=\"Horsepower <= 110.0\\nmse = 0.82\\nsamples = 7\\nvalue = 23.1\"] ;\n",
      "345 -> 351 ;\n",
      "352 [label=\"Displacement <= 111.5\\nmse = 0.519\\nsamples = 6\\nvalue = 23.35\"] ;\n",
      "351 -> 352 ;\n",
      "353 [label=\"mse = 0.0\\nsamples = 1\\nvalue = 22.0\"] ;\n",
      "352 -> 353 ;\n",
      "354 [label=\"Weight_in_lbs <= 2619.5\\nmse = 0.186\\nsamples = 5\\nvalue = 23.62\"] ;\n",
      "352 -> 354 ;\n",
      "355 [label=\"Weight_in_lbs <= 2447.0\\nmse = 0.002\\nsamples = 3\\nvalue = 23.967\"] ;\n",
      "354 -> 355 ;\n",
      "356 [label=\"mse = 0.0\\nsamples = 1\\nvalue = 23.9\"] ;\n",
      "355 -> 356 ;\n",
      "357 [label=\"mse = -0.0\\nsamples = 2\\nvalue = 24.0\"] ;\n",
      "355 -> 357 ;\n",
      "358 [label=\"Acceleration <= 15.85\\nmse = 0.01\\nsamples = 2\\nvalue = 23.1\"] ;\n",
      "354 -> 358 ;\n",
      "359 [label=\"mse = 0.0\\nsamples = 1\\nvalue = 23.0\"] ;\n",
      "358 -> 359 ;\n",
      "360 [label=\"mse = -0.0\\nsamples = 1\\nvalue = 23.2\"] ;\n",
      "358 -> 360 ;\n",
      "361 [label=\"mse = 0.0\\nsamples = 1\\nvalue = 21.6\"] ;\n",
      "351 -> 361 ;\n",
      "362 [label=\"Displacement <= 162.0\\nmse = 5.054\\nsamples = 5\\nvalue = 21.34\"] ;\n",
      "314 -> 362 ;\n",
      "363 [label=\"Horsepower <= 100.0\\nmse = 1.167\\nsamples = 4\\nvalue = 20.325\"] ;\n",
      "362 -> 363 ;\n",
      "364 [label=\"mse = 0.0\\nsamples = 1\\nvalue = 22.0\"] ;\n",
      "363 -> 364 ;\n",
      "365 [label=\"Cylinders <= 4.5\\nmse = 0.309\\nsamples = 3\\nvalue = 19.767\"] ;\n",
      "363 -> 365 ;\n",
      "366 [label=\"mse = 0.0\\nsamples = 1\\nvalue = 19.0\"] ;\n",
      "365 -> 366 ;\n",
      "367 [label=\"Displacement <= 143.5\\nmse = 0.023\\nsamples = 2\\nvalue = 20.15\"] ;\n",
      "365 -> 367 ;\n",
      "368 [label=\"mse = 0.0\\nsamples = 1\\nvalue = 20.3\"] ;\n",
      "367 -> 368 ;\n",
      "369 [label=\"mse = 0.0\\nsamples = 1\\nvalue = 20.0\"] ;\n",
      "367 -> 369 ;\n",
      "370 [label=\"mse = 0.0\\nsamples = 1\\nvalue = 25.4\"] ;\n",
      "362 -> 370 ;\n",
      "371 [label=\"Weight_in_lbs <= 3071.5\\nmse = 10.859\\nsamples = 15\\nvalue = 20.68\"] ;\n",
      "229 -> 371 ;\n",
      "372 [label=\"Acceleration <= 15.95\\nmse = 8.691\\nsamples = 10\\nvalue = 22.15\"] ;\n",
      "371 -> 372 ;\n",
      "373 [label=\"Horsepower <= 116.0\\nmse = 6.07\\nsamples = 5\\nvalue = 20.24\"] ;\n",
      "372 -> 373 ;\n",
      "374 [label=\"Cylinders <= 5.0\\nmse = 2.688\\nsamples = 4\\nvalue = 19.25\"] ;\n",
      "373 -> 374 ;\n",
      "375 [label=\"Weight_in_lbs <= 2939.0\\nmse = 4.0\\nsamples = 2\\nvalue = 20.0\"] ;\n",
      "374 -> 375 ;\n",
      "376 [label=\"mse = 0.0\\nsamples = 1\\nvalue = 18.0\"] ;\n",
      "375 -> 376 ;\n",
      "377 [label=\"mse = 0.0\\nsamples = 1\\nvalue = 22.0\"] ;\n",
      "375 -> 377 ;\n",
      "378 [label=\"Displacement <= 163.5\\nmse = 0.25\\nsamples = 2\\nvalue = 18.5\"] ;\n",
      "374 -> 378 ;\n",
      "379 [label=\"mse = 0.0\\nsamples = 1\\nvalue = 19.0\"] ;\n",
      "378 -> 379 ;\n",
      "380 [label=\"mse = 0.0\\nsamples = 1\\nvalue = 18.0\"] ;\n",
      "378 -> 380 ;\n",
      "381 [label=\"mse = -0.0\\nsamples = 1\\nvalue = 24.2\"] ;\n",
      "373 -> 381 ;\n",
      "382 [label=\"Displacement <= 135.5\\nmse = 4.014\\nsamples = 5\\nvalue = 24.06\"] ;\n",
      "372 -> 382 ;\n",
      "383 [label=\"Horsepower <= 87.5\\nmse = 1.0\\nsamples = 2\\nvalue = 22.0\"] ;\n",
      "382 -> 383 ;\n",
      "384 [label=\"mse = 0.0\\nsamples = 1\\nvalue = 21.0\"] ;\n",
      "383 -> 384 ;\n",
      "385 [label=\"mse = 0.0\\nsamples = 1\\nvalue = 23.0\"] ;\n",
      "383 -> 385 ;\n",
      "386 [label=\"Weight_in_lbs <= 2976.5\\nmse = 1.309\\nsamples = 3\\nvalue = 25.433\"] ;\n",
      "382 -> 386 ;\n",
      "387 [label=\"Weight_in_lbs <= 2947.5\\nmse = 1.0\\nsamples = 2\\nvalue = 26.0\"] ;\n",
      "386 -> 387 ;\n",
      "388 [label=\"mse = 0.0\\nsamples = 1\\nvalue = 25.0\"] ;\n",
      "387 -> 388 ;\n",
      "389 [label=\"mse = 0.0\\nsamples = 1\\nvalue = 27.0\"] ;\n",
      "387 -> 389 ;\n",
      "390 [label=\"mse = 0.0\\nsamples = 1\\nvalue = 24.3\"] ;\n",
      "386 -> 390 ;\n",
      "391 [label=\"Horsepower <= 111.0\\nmse = 2.23\\nsamples = 5\\nvalue = 17.74\"] ;\n",
      "371 -> 391 ;\n",
      "392 [label=\"Weight_in_lbs <= 3210.0\\nmse = 0.25\\nsamples = 2\\nvalue = 19.5\"] ;\n",
      "391 -> 392 ;\n",
      "393 [label=\"mse = 0.0\\nsamples = 1\\nvalue = 20.0\"] ;\n",
      "392 -> 393 ;\n",
      "394 [label=\"mse = 0.0\\nsamples = 1\\nvalue = 19.0\"] ;\n",
      "392 -> 394 ;\n",
      "395 [label=\"Weight_in_lbs <= 3275.0\\nmse = 0.109\\nsamples = 3\\nvalue = 16.567\"] ;\n",
      "391 -> 395 ;\n",
      "396 [label=\"mse = 0.0\\nsamples = 1\\nvalue = 17.0\"] ;\n",
      "395 -> 396 ;\n",
      "397 [label=\"Horsepower <= 126.5\\nmse = 0.022\\nsamples = 2\\nvalue = 16.35\"] ;\n",
      "395 -> 397 ;\n",
      "398 [label=\"mse = 0.0\\nsamples = 1\\nvalue = 16.5\"] ;\n",
      "397 -> 398 ;\n",
      "399 [label=\"mse = -0.0\\nsamples = 1\\nvalue = 16.2\"] ;\n",
      "397 -> 399 ;\n",
      "400 [label=\"Horsepower <= 127.0\\nmse = 13.001\\nsamples = 170\\nvalue = 16.66\"] ;\n",
      "0 -> 400 [labeldistance=2.5, labelangle=-45, headlabel=\"False\"] ;\n",
      "401 [label=\"Displacement <= 261.0\\nmse = 10.026\\nsamples = 74\\nvalue = 19.438\"] ;\n",
      "400 -> 401 ;\n",
      "402 [label=\"Displacement <= 241.0\\nmse = 4.527\\nsamples = 68\\nvalue = 19.06\"] ;\n",
      "401 -> 402 ;\n",
      "403 [label=\"Weight_in_lbs <= 3434.5\\nmse = 2.867\\nsamples = 43\\nvalue = 19.865\"] ;\n",
      "402 -> 403 ;\n",
      "404 [label=\"Horsepower <= 83.0\\nmse = 2.302\\nsamples = 34\\nvalue = 20.318\"] ;\n",
      "403 -> 404 ;\n",
      "405 [label=\"mse = 0.0\\nsamples = 1\\nvalue = 24.0\"] ;\n",
      "404 -> 405 ;\n",
      "406 [label=\"Horsepower <= 107.5\\nmse = 1.948\\nsamples = 33\\nvalue = 20.206\"] ;\n",
      "404 -> 406 ;\n",
      "407 [label=\"Displacement <= 198.5\\nmse = 1.868\\nsamples = 28\\nvalue = 19.975\"] ;\n",
      "406 -> 407 ;\n",
      "408 [label=\"Weight_in_lbs <= 3003.0\\nmse = 1.556\\nsamples = 3\\nvalue = 21.667\"] ;\n",
      "407 -> 408 ;\n",
      "409 [label=\"Acceleration <= 15.75\\nmse = 0.25\\nsamples = 2\\nvalue = 22.5\"] ;\n",
      "408 -> 409 ;\n",
      "410 [label=\"mse = 0.0\\nsamples = 1\\nvalue = 22.0\"] ;\n",
      "409 -> 410 ;\n",
      "411 [label=\"mse = 0.0\\nsamples = 1\\nvalue = 23.0\"] ;\n",
      "409 -> 411 ;\n",
      "412 [label=\"mse = 0.0\\nsamples = 1\\nvalue = 20.0\"] ;\n",
      "408 -> 412 ;\n",
      "413 [label=\"Horsepower <= 92.5\\nmse = 1.521\\nsamples = 25\\nvalue = 19.772\"] ;\n",
      "407 -> 413 ;\n",
      "414 [label=\"Weight_in_lbs <= 3147.5\\nmse = 0.935\\nsamples = 11\\nvalue = 20.291\"] ;\n",
      "413 -> 414 ;\n",
      "415 [label=\"Weight_in_lbs <= 3077.5\\nmse = 0.67\\nsamples = 7\\nvalue = 20.786\"] ;\n",
      "414 -> 415 ;\n",
      "416 [label=\"Acceleration <= 16.9\\nmse = 0.21\\nsamples = 6\\nvalue = 20.5\"] ;\n",
      "415 -> 416 ;\n",
      "417 [label=\"Weight_in_lbs <= 2806.5\\nmse = 0.108\\nsamples = 4\\nvalue = 20.75\"] ;\n",
      "416 -> 417 ;\n",
      "418 [label=\"mse = 0.0\\nsamples = 2\\nvalue = 21.0\"] ;\n",
      "417 -> 418 ;\n",
      "419 [label=\"Acceleration <= 16.25\\nmse = 0.09\\nsamples = 2\\nvalue = 20.5\"] ;\n",
      "417 -> 419 ;\n",
      "420 [label=\"mse = 0.0\\nsamples = 1\\nvalue = 20.2\"] ;\n",
      "419 -> 420 ;\n",
      "421 [label=\"mse = 0.0\\nsamples = 1\\nvalue = 20.8\"] ;\n",
      "419 -> 421 ;\n",
      "422 [label=\"Weight_in_lbs <= 3025.0\\nmse = 0.04\\nsamples = 2\\nvalue = 20.0\"] ;\n",
      "416 -> 422 ;\n",
      "423 [label=\"mse = 0.0\\nsamples = 1\\nvalue = 19.8\"] ;\n",
      "422 -> 423 ;\n",
      "424 [label=\"mse = -0.0\\nsamples = 1\\nvalue = 20.2\"] ;\n",
      "422 -> 424 ;\n",
      "425 [label=\"mse = 0.0\\nsamples = 1\\nvalue = 22.5\"] ;\n",
      "415 -> 425 ;\n",
      "426 [label=\"Acceleration <= 17.1\\nmse = 0.222\\nsamples = 4\\nvalue = 19.425\"] ;\n",
      "414 -> 426 ;\n",
      "427 [label=\"mse = 0.0\\nsamples = 1\\nvalue = 19.0\"] ;\n",
      "426 -> 427 ;\n",
      "428 [label=\"Displacement <= 228.5\\nmse = 0.216\\nsamples = 3\\nvalue = 19.567\"] ;\n",
      "426 -> 428 ;\n",
      "429 [label=\"mse = 0.0\\nsamples = 1\\nvalue = 19.1\"] ;\n",
      "428 -> 429 ;\n",
      "430 [label=\"Weight_in_lbs <= 3237.5\\nmse = 0.16\\nsamples = 2\\nvalue = 19.8\"] ;\n",
      "428 -> 430 ;\n",
      "431 [label=\"mse = 0.0\\nsamples = 1\\nvalue = 19.4\"] ;\n",
      "430 -> 431 ;\n",
      "432 [label=\"mse = 0.0\\nsamples = 1\\nvalue = 20.2\"] ;\n",
      "430 -> 432 ;\n",
      "433 [label=\"Weight_in_lbs <= 3138.0\\nmse = 1.604\\nsamples = 14\\nvalue = 19.364\"] ;\n",
      "413 -> 433 ;\n",
      "434 [label=\"Weight_in_lbs <= 2929.5\\nmse = 0.531\\nsamples = 7\\nvalue = 18.571\"] ;\n",
      "433 -> 434 ;\n",
      "435 [label=\"Weight_in_lbs <= 2907.5\\nmse = 0.56\\nsamples = 5\\nvalue = 18.8\"] ;\n",
      "434 -> 435 ;\n",
      "436 [label=\"Acceleration <= 14.0\\nmse = 0.25\\nsamples = 4\\nvalue = 18.5\"] ;\n",
      "435 -> 436 ;\n",
      "437 [label=\"mse = 0.0\\nsamples = 1\\nvalue = 19.0\"] ;\n",
      "436 -> 437 ;\n",
      "438 [label=\"Weight_in_lbs <= 2845.0\\nmse = 0.222\\nsamples = 3\\nvalue = 18.333\"] ;\n",
      "436 -> 438 ;\n",
      "439 [label=\"mse = 0.0\\nsamples = 2\\nvalue = 18.0\"] ;\n",
      "438 -> 439 ;\n",
      "440 [label=\"mse = 0.0\\nsamples = 1\\nvalue = 19.0\"] ;\n",
      "438 -> 440 ;\n",
      "441 [label=\"mse = 0.0\\nsamples = 1\\nvalue = 20.0\"] ;\n",
      "435 -> 441 ;\n",
      "442 [label=\"mse = 0.0\\nsamples = 2\\nvalue = 18.0\"] ;\n",
      "434 -> 442 ;\n",
      "443 [label=\"Displacement <= 231.5\\nmse = 1.42\\nsamples = 7\\nvalue = 20.157\"] ;\n",
      "433 -> 443 ;\n",
      "444 [label=\"Acceleration <= 15.6\\nmse = 0.751\\nsamples = 6\\nvalue = 20.517\"] ;\n",
      "443 -> 444 ;\n",
      "445 [label=\"mse = 0.0\\nsamples = 1\\nvalue = 22.0\"] ;\n",
      "444 -> 445 ;\n",
      "446 [label=\"Weight_in_lbs <= 3322.0\\nmse = 0.374\\nsamples = 5\\nvalue = 20.22\"] ;\n",
      "444 -> 446 ;\n",
      "447 [label=\"Displacement <= 212.5\\nmse = 0.562\\nsamples = 2\\nvalue = 19.75\"] ;\n",
      "446 -> 447 ;\n",
      "448 [label=\"mse = 0.0\\nsamples = 1\\nvalue = 20.5\"] ;\n",
      "447 -> 448 ;\n",
      "449 [label=\"mse = 0.0\\nsamples = 1\\nvalue = 19.0\"] ;\n",
      "447 -> 449 ;\n",
      "450 [label=\"Acceleration <= 16.35\\nmse = 0.002\\nsamples = 3\\nvalue = 20.533\"] ;\n",
      "446 -> 450 ;\n",
      "451 [label=\"mse = 0.0\\nsamples = 1\\nvalue = 20.6\"] ;\n",
      "450 -> 451 ;\n",
      "452 [label=\"mse = 0.0\\nsamples = 2\\nvalue = 20.5\"] ;\n",
      "450 -> 452 ;\n",
      "453 [label=\"mse = 0.0\\nsamples = 1\\nvalue = 18.0\"] ;\n",
      "443 -> 453 ;\n",
      "454 [label=\"Displacement <= 228.0\\nmse = 0.424\\nsamples = 5\\nvalue = 21.5\"] ;\n",
      "406 -> 454 ;\n",
      "455 [label=\"mse = 0.0\\nsamples = 1\\nvalue = 20.6\"] ;\n",
      "454 -> 455 ;\n",
      "456 [label=\"Acceleration <= 15.6\\nmse = 0.277\\nsamples = 4\\nvalue = 21.725\"] ;\n",
      "454 -> 456 ;\n",
      "457 [label=\"Acceleration <= 14.85\\nmse = 0.167\\nsamples = 3\\nvalue = 21.5\"] ;\n",
      "456 -> 457 ;\n",
      "458 [label=\"mse = 0.0\\nsamples = 1\\nvalue = 22.0\"] ;\n",
      "457 -> 458 ;\n",
      "459 [label=\"Horsepower <= 112.5\\nmse = 0.062\\nsamples = 2\\nvalue = 21.25\"] ;\n",
      "457 -> 459 ;\n",
      "460 [label=\"mse = 0.0\\nsamples = 1\\nvalue = 21.0\"] ;\n",
      "459 -> 460 ;\n",
      "461 [label=\"mse = 0.0\\nsamples = 1\\nvalue = 21.5\"] ;\n",
      "459 -> 461 ;\n",
      "462 [label=\"mse = -0.0\\nsamples = 1\\nvalue = 22.4\"] ;\n",
      "456 -> 462 ;\n",
      "463 [label=\"Weight_in_lbs <= 3452.0\\nmse = 1.305\\nsamples = 9\\nvalue = 18.156\"] ;\n",
      "403 -> 463 ;\n",
      "464 [label=\"mse = 0.0\\nsamples = 1\\nvalue = 16.0\"] ;\n",
      "463 -> 464 ;\n",
      "465 [label=\"Weight_in_lbs <= 3846.0\\nmse = 0.814\\nsamples = 8\\nvalue = 18.425\"] ;\n",
      "463 -> 465 ;\n",
      "466 [label=\"Horsepower <= 97.5\\nmse = 0.599\\nsamples = 7\\nvalue = 18.629\"] ;\n",
      "465 -> 466 ;\n",
      "467 [label=\"Acceleration <= 17.8\\nmse = 0.04\\nsamples = 2\\nvalue = 17.8\"] ;\n",
      "466 -> 467 ;\n",
      "468 [label=\"mse = 0.0\\nsamples = 1\\nvalue = 17.6\"] ;\n",
      "467 -> 468 ;\n",
      "469 [label=\"mse = -0.0\\nsamples = 1\\nvalue = 18.0\"] ;\n",
      "467 -> 469 ;\n",
      "470 [label=\"Weight_in_lbs <= 3640.5\\nmse = 0.438\\nsamples = 5\\nvalue = 18.96\"] ;\n",
      "466 -> 470 ;\n",
      "471 [label=\"Acceleration <= 17.1\\nmse = 0.21\\nsamples = 4\\nvalue = 18.7\"] ;\n",
      "470 -> 471 ;\n",
      "472 [label=\"mse = 0.0\\nsamples = 1\\nvalue = 18.0\"] ;\n",
      "471 -> 472 ;\n",
      "473 [label=\"Horsepower <= 107.5\\nmse = 0.062\\nsamples = 3\\nvalue = 18.933\"] ;\n",
      "471 -> 473 ;\n",
      "474 [label=\"Acceleration <= 18.45\\nmse = 0.01\\nsamples = 2\\nvalue = 19.1\"] ;\n",
      "473 -> 474 ;\n",
      "475 [label=\"mse = 0.0\\nsamples = 1\\nvalue = 19.0\"] ;\n",
      "474 -> 475 ;\n",
      "476 [label=\"mse = -0.0\\nsamples = 1\\nvalue = 19.2\"] ;\n",
      "474 -> 476 ;\n",
      "477 [label=\"mse = -0.0\\nsamples = 1\\nvalue = 18.6\"] ;\n",
      "473 -> 477 ;\n",
      "478 [label=\"mse = 0.0\\nsamples = 1\\nvalue = 20.0\"] ;\n",
      "470 -> 478 ;\n",
      "479 [label=\"mse = 0.0\\nsamples = 1\\nvalue = 17.0\"] ;\n",
      "465 -> 479 ;\n",
      "480 [label=\"Acceleration <= 21.6\\nmse = 4.352\\nsamples = 25\\nvalue = 17.676\"] ;\n",
      "402 -> 480 ;\n",
      "481 [label=\"Acceleration <= 16.75\\nmse = 2.852\\nsamples = 24\\nvalue = 17.417\"] ;\n",
      "480 -> 481 ;\n",
      "482 [label=\"Acceleration <= 15.05\\nmse = 1.586\\nsamples = 12\\nvalue = 18.583\"] ;\n",
      "481 -> 482 ;\n",
      "483 [label=\"Weight_in_lbs <= 3317.5\\nmse = 2.688\\nsamples = 4\\nvalue = 19.25\"] ;\n",
      "482 -> 483 ;\n",
      "484 [label=\"Acceleration <= 14.75\\nmse = 0.222\\nsamples = 3\\nvalue = 18.333\"] ;\n",
      "483 -> 484 ;\n",
      "485 [label=\"mse = 0.0\\nsamples = 2\\nvalue = 18.0\"] ;\n",
      "484 -> 485 ;\n",
      "486 [label=\"mse = 0.0\\nsamples = 1\\nvalue = 19.0\"] ;\n",
      "484 -> 486 ;\n",
      "487 [label=\"mse = 0.0\\nsamples = 1\\nvalue = 22.0\"] ;\n",
      "483 -> 487 ;\n",
      "488 [label=\"Cylinders <= 7.0\\nmse = 0.702\\nsamples = 8\\nvalue = 18.25\"] ;\n",
      "482 -> 488 ;\n",
      "489 [label=\"Weight_in_lbs <= 3315.5\\nmse = 0.358\\nsamples = 7\\nvalue = 18.014\"] ;\n",
      "488 -> 489 ;\n",
      "490 [label=\"Acceleration <= 16.0\\nmse = 0.25\\nsamples = 2\\nvalue = 18.5\"] ;\n",
      "489 -> 490 ;\n",
      "491 [label=\"mse = 0.0\\nsamples = 1\\nvalue = 19.0\"] ;\n",
      "490 -> 491 ;\n",
      "492 [label=\"mse = 0.0\\nsamples = 1\\nvalue = 18.0\"] ;\n",
      "490 -> 492 ;\n",
      "493 [label=\"Horsepower <= 102.5\\nmse = 0.27\\nsamples = 5\\nvalue = 17.82\"] ;\n",
      "489 -> 493 ;\n",
      "494 [label=\"mse = 0.0\\nsamples = 1\\nvalue = 17.0\"] ;\n",
      "493 -> 494 ;\n",
      "495 [label=\"Acceleration <= 16.3\\nmse = 0.127\\nsamples = 4\\nvalue = 18.025\"] ;\n",
      "493 -> 495 ;\n",
      "496 [label=\"Acceleration <= 16.1\\nmse = 0.047\\nsamples = 3\\nvalue = 18.2\"] ;\n",
      "495 -> 496 ;\n",
      "497 [label=\"Displacement <= 254.0\\nmse = 0.003\\nsamples = 2\\nvalue = 18.05\"] ;\n",
      "496 -> 497 ;\n",
      "498 [label=\"mse = 0.0\\nsamples = 1\\nvalue = 18.0\"] ;\n",
      "497 -> 498 ;\n",
      "499 [label=\"mse = 0.0\\nsamples = 1\\nvalue = 18.1\"] ;\n",
      "497 -> 499 ;\n",
      "500 [label=\"mse = 0.0\\nsamples = 1\\nvalue = 18.5\"] ;\n",
      "496 -> 500 ;\n",
      "501 [label=\"mse = 0.0\\nsamples = 1\\nvalue = 17.5\"] ;\n",
      "495 -> 501 ;\n",
      "502 [label=\"mse = -0.0\\nsamples = 1\\nvalue = 19.9\"] ;\n",
      "488 -> 502 ;\n",
      "503 [label=\"Horsepower <= 75.0\\nmse = 1.396\\nsamples = 12\\nvalue = 16.25\"] ;\n",
      "481 -> 503 ;\n",
      "504 [label=\"mse = 0.0\\nsamples = 2\\nvalue = 15.0\"] ;\n",
      "503 -> 504 ;\n",
      "505 [label=\"Horsepower <= 99.0\\nmse = 1.3\\nsamples = 10\\nvalue = 16.5\"] ;\n",
      "503 -> 505 ;\n",
      "506 [label=\"Displacement <= 254.0\\nmse = 0.167\\nsamples = 3\\nvalue = 18.0\"] ;\n",
      "505 -> 506 ;\n",
      "507 [label=\"Horsepower <= 88.0\\nmse = 0.062\\nsamples = 2\\nvalue = 18.25\"] ;\n",
      "506 -> 507 ;\n",
      "508 [label=\"mse = 0.0\\nsamples = 1\\nvalue = 18.0\"] ;\n",
      "507 -> 508 ;\n",
      "509 [label=\"mse = 0.0\\nsamples = 1\\nvalue = 18.5\"] ;\n",
      "507 -> 509 ;\n",
      "510 [label=\"mse = 0.0\\nsamples = 1\\nvalue = 17.5\"] ;\n",
      "506 -> 510 ;\n",
      "511 [label=\"Displacement <= 259.0\\nmse = 0.408\\nsamples = 7\\nvalue = 15.857\"] ;\n",
      "505 -> 511 ;\n",
      "512 [label=\"Acceleration <= 18.75\\nmse = 0.222\\nsamples = 6\\nvalue = 15.667\"] ;\n",
      "511 -> 512 ;\n",
      "513 [label=\"Acceleration <= 17.5\\nmse = 0.16\\nsamples = 5\\nvalue = 15.8\"] ;\n",
      "512 -> 513 ;\n",
      "514 [label=\"Weight_in_lbs <= 3558.5\\nmse = 0.25\\nsamples = 2\\nvalue = 15.5\"] ;\n",
      "513 -> 514 ;\n",
      "515 [label=\"mse = 0.0\\nsamples = 1\\nvalue = 15.0\"] ;\n",
      "514 -> 515 ;\n",
      "516 [label=\"mse = 0.0\\nsamples = 1\\nvalue = 16.0\"] ;\n",
      "514 -> 516 ;\n",
      "517 [label=\"mse = 0.0\\nsamples = 3\\nvalue = 16.0\"] ;\n",
      "513 -> 517 ;\n",
      "518 [label=\"mse = 0.0\\nsamples = 1\\nvalue = 15.0\"] ;\n",
      "512 -> 518 ;\n",
      "519 [label=\"mse = 0.0\\nsamples = 1\\nvalue = 17.0\"] ;\n",
      "511 -> 519 ;\n",
      "520 [label=\"mse = 0.0\\nsamples = 1\\nvalue = 23.9\"] ;\n",
      "480 -> 520 ;\n",
      "521 [label=\"Horsepower <= 95.0\\nmse = 52.428\\nsamples = 6\\nvalue = 23.717\"] ;\n",
      "401 -> 521 ;\n",
      "522 [label=\"mse = 0.0\\nsamples = 1\\nvalue = 38.0\"] ;\n",
      "521 -> 522 ;\n",
      "523 [label=\"Acceleration <= 16.2\\nmse = 13.95\\nsamples = 5\\nvalue = 20.86\"] ;\n",
      "521 -> 523 ;\n",
      "524 [label=\"Weight_in_lbs <= 3783.5\\nmse = 3.842\\nsamples = 3\\nvalue = 18.233\"] ;\n",
      "523 -> 524 ;\n",
      "525 [label=\"Horsepower <= 117.5\\nmse = 0.16\\nsamples = 2\\nvalue = 19.6\"] ;\n",
      "524 -> 525 ;\n",
      "526 [label=\"mse = 0.0\\nsamples = 1\\nvalue = 20.0\"] ;\n",
      "525 -> 526 ;\n",
      "527 [label=\"mse = -0.0\\nsamples = 1\\nvalue = 19.2\"] ;\n",
      "525 -> 527 ;\n",
      "528 [label=\"mse = 0.0\\nsamples = 1\\nvalue = 15.5\"] ;\n",
      "524 -> 528 ;\n",
      "529 [label=\"Acceleration <= 18.2\\nmse = 3.24\\nsamples = 2\\nvalue = 24.8\"] ;\n",
      "523 -> 529 ;\n",
      "530 [label=\"mse = 0.0\\nsamples = 1\\nvalue = 23.0\"] ;\n",
      "529 -> 530 ;\n",
      "531 [label=\"mse = -0.0\\nsamples = 1\\nvalue = 26.6\"] ;\n",
      "529 -> 531 ;\n",
      "532 [label=\"Weight_in_lbs <= 4361.5\\nmse = 4.761\\nsamples = 96\\nvalue = 14.519\"] ;\n",
      "400 -> 532 ;\n",
      "533 [label=\"Weight_in_lbs <= 3589.5\\nmse = 3.672\\nsamples = 65\\nvalue = 15.312\"] ;\n",
      "532 -> 533 ;\n",
      "534 [label=\"Weight_in_lbs <= 3187.0\\nmse = 4.344\\nsamples = 12\\nvalue = 16.767\"] ;\n",
      "533 -> 534 ;\n",
      "535 [label=\"Displacement <= 378.5\\nmse = 0.25\\nsamples = 2\\nvalue = 13.5\"] ;\n",
      "534 -> 535 ;\n",
      "536 [label=\"mse = 0.0\\nsamples = 1\\nvalue = 13.0\"] ;\n",
      "535 -> 536 ;\n",
      "537 [label=\"mse = 0.0\\nsamples = 1\\nvalue = 14.0\"] ;\n",
      "535 -> 537 ;\n",
      "538 [label=\"Horsepower <= 147.5\\nmse = 2.602\\nsamples = 10\\nvalue = 17.42\"] ;\n",
      "534 -> 538 ;\n",
      "539 [label=\"Acceleration <= 12.4\\nmse = 1.208\\nsamples = 5\\nvalue = 18.5\"] ;\n",
      "538 -> 539 ;\n",
      "540 [label=\"Acceleration <= 10.85\\nmse = 0.247\\nsamples = 3\\nvalue = 17.7\"] ;\n",
      "539 -> 540 ;\n",
      "541 [label=\"mse = 0.0\\nsamples = 1\\nvalue = 17.0\"] ;\n",
      "540 -> 541 ;\n",
      "542 [label=\"Displacement <= 304.5\\nmse = 0.003\\nsamples = 2\\nvalue = 18.05\"] ;\n",
      "540 -> 542 ;\n",
      "543 [label=\"mse = 0.0\\nsamples = 1\\nvalue = 18.1\"] ;\n",
      "542 -> 543 ;\n",
      "544 [label=\"mse = 0.0\\nsamples = 1\\nvalue = 18.0\"] ;\n",
      "542 -> 544 ;\n",
      "545 [label=\"Weight_in_lbs <= 3497.5\\nmse = 0.25\\nsamples = 2\\nvalue = 19.7\"] ;\n",
      "539 -> 545 ;\n",
      "546 [label=\"mse = 0.0\\nsamples = 1\\nvalue = 19.2\"] ;\n",
      "545 -> 546 ;\n",
      "547 [label=\"mse = 0.0\\nsamples = 1\\nvalue = 20.2\"] ;\n",
      "545 -> 547 ;\n",
      "548 [label=\"Weight_in_lbs <= 3434.5\\nmse = 1.662\\nsamples = 5\\nvalue = 16.34\"] ;\n",
      "538 -> 548 ;\n",
      "549 [label=\"Acceleration <= 11.5\\nmse = 0.25\\nsamples = 2\\nvalue = 15.5\"] ;\n",
      "548 -> 549 ;\n",
      "550 [label=\"mse = 0.0\\nsamples = 1\\nvalue = 15.0\"] ;\n",
      "549 -> 550 ;\n",
      "551 [label=\"mse = 0.0\\nsamples = 1\\nvalue = 16.0\"] ;\n",
      "549 -> 551 ;\n",
      "552 [label=\"Weight_in_lbs <= 3504.0\\nmse = 1.82\\nsamples = 3\\nvalue = 16.9\"] ;\n",
      "548 -> 552 ;\n",
      "553 [label=\"Cylinders <= 7.0\\nmse = 0.022\\nsamples = 2\\nvalue = 17.85\"] ;\n",
      "552 -> 553 ;\n",
      "554 [label=\"mse = 0.0\\nsamples = 1\\nvalue = 17.7\"] ;\n",
      "553 -> 554 ;\n",
      "555 [label=\"mse = -0.0\\nsamples = 1\\nvalue = 18.0\"] ;\n",
      "553 -> 555 ;\n",
      "556 [label=\"mse = 0.0\\nsamples = 1\\nvalue = 15.0\"] ;\n",
      "552 -> 556 ;\n",
      "557 [label=\"Horsepower <= 143.5\\nmse = 2.933\\nsamples = 53\\nvalue = 14.983\"] ;\n",
      "533 -> 557 ;\n",
      "558 [label=\"Weight_in_lbs <= 3855.0\\nmse = 4.065\\nsamples = 14\\nvalue = 15.943\"] ;\n",
      "557 -> 558 ;\n",
      "559 [label=\"Acceleration <= 13.3\\nmse = 0.787\\nsamples = 4\\nvalue = 18.05\"] ;\n",
      "558 -> 559 ;\n",
      "560 [label=\"mse = 0.0\\nsamples = 1\\nvalue = 19.4\"] ;\n",
      "559 -> 560 ;\n",
      "561 [label=\"Acceleration <= 15.3\\nmse = 0.24\\nsamples = 3\\nvalue = 17.6\"] ;\n",
      "559 -> 561 ;\n",
      "562 [label=\"Displacement <= 310.0\\nmse = 0.09\\nsamples = 2\\nvalue = 17.9\"] ;\n",
      "561 -> 562 ;\n",
      "563 [label=\"mse = 0.0\\nsamples = 1\\nvalue = 17.6\"] ;\n",
      "562 -> 563 ;\n",
      "564 [label=\"mse = 0.0\\nsamples = 1\\nvalue = 18.2\"] ;\n",
      "562 -> 564 ;\n",
      "565 [label=\"mse = 0.0\\nsamples = 1\\nvalue = 17.0\"] ;\n",
      "561 -> 565 ;\n",
      "566 [label=\"Acceleration <= 13.85\\nmse = 2.89\\nsamples = 10\\nvalue = 15.1\"] ;\n",
      "558 -> 566 ;\n",
      "567 [label=\"Horsepower <= 139.0\\nmse = 0.222\\nsamples = 3\\nvalue = 17.167\"] ;\n",
      "566 -> 567 ;\n",
      "568 [label=\"mse = 0.0\\nsamples = 1\\nvalue = 16.5\"] ;\n",
      "567 -> 568 ;\n",
      "569 [label=\"mse = 0.0\\nsamples = 2\\nvalue = 17.5\"] ;\n",
      "567 -> 569 ;\n",
      "570 [label=\"Acceleration <= 14.95\\nmse = 1.418\\nsamples = 7\\nvalue = 14.214\"] ;\n",
      "566 -> 570 ;\n",
      "571 [label=\"Horsepower <= 138.5\\nmse = 1.16\\nsamples = 5\\nvalue = 14.7\"] ;\n",
      "570 -> 571 ;\n",
      "572 [label=\"Acceleration <= 14.25\\nmse = 0.667\\nsamples = 3\\nvalue = 14.0\"] ;\n",
      "571 -> 572 ;\n",
      "573 [label=\"mse = 0.0\\nsamples = 1\\nvalue = 13.0\"] ;\n",
      "572 -> 573 ;\n",
      "574 [label=\"Weight_in_lbs <= 4168.5\\nmse = 0.25\\nsamples = 2\\nvalue = 14.5\"] ;\n",
      "572 -> 574 ;\n",
      "575 [label=\"mse = 0.0\\nsamples = 1\\nvalue = 14.0\"] ;\n",
      "574 -> 575 ;\n",
      "576 [label=\"mse = 0.0\\nsamples = 1\\nvalue = 15.0\"] ;\n",
      "574 -> 576 ;\n",
      "577 [label=\"Displacement <= 326.5\\nmse = 0.062\\nsamples = 2\\nvalue = 15.75\"] ;\n",
      "571 -> 577 ;\n",
      "578 [label=\"mse = 0.0\\nsamples = 1\\nvalue = 16.0\"] ;\n",
      "577 -> 578 ;\n",
      "579 [label=\"mse = 0.0\\nsamples = 1\\nvalue = 15.5\"] ;\n",
      "577 -> 579 ;\n",
      "580 [label=\"mse = 0.0\\nsamples = 2\\nvalue = 13.0\"] ;\n",
      "570 -> 580 ;\n",
      "581 [label=\"Weight_in_lbs <= 3668.0\\nmse = 2.077\\nsamples = 39\\nvalue = 14.638\"] ;\n",
      "557 -> 581 ;\n",
      "582 [label=\"Horsepower <= 170.0\\nmse = 2.25\\nsamples = 2\\nvalue = 12.5\"] ;\n",
      "581 -> 582 ;\n",
      "583 [label=\"mse = 0.0\\nsamples = 1\\nvalue = 14.0\"] ;\n",
      "582 -> 583 ;\n",
      "584 [label=\"mse = 0.0\\nsamples = 1\\nvalue = 11.0\"] ;\n",
      "582 -> 584 ;\n",
      "585 [label=\"Weight_in_lbs <= 4357.0\\nmse = 1.807\\nsamples = 37\\nvalue = 14.754\"] ;\n",
      "581 -> 585 ;\n",
      "586 [label=\"Displacement <= 311.5\\nmse = 1.726\\nsamples = 36\\nvalue = 14.694\"] ;\n",
      "585 -> 586 ;\n",
      "587 [label=\"Horsepower <= 147.5\\nmse = 2.2\\nsamples = 5\\nvalue = 15.5\"] ;\n",
      "586 -> 587 ;\n",
      "588 [label=\"mse = 0.0\\nsamples = 1\\nvalue = 17.5\"] ;\n",
      "587 -> 588 ;\n",
      "589 [label=\"Acceleration <= 14.0\\nmse = 1.5\\nsamples = 4\\nvalue = 15.0\"] ;\n",
      "587 -> 589 ;\n",
      "590 [label=\"Acceleration <= 12.0\\nmse = 1.556\\nsamples = 3\\nvalue = 15.333\"] ;\n",
      "589 -> 590 ;\n",
      "591 [label=\"mse = 2.25\\nsamples = 2\\nvalue = 15.5\"] ;\n",
      "590 -> 591 ;\n",
      "592 [label=\"mse = 0.0\\nsamples = 1\\nvalue = 15.0\"] ;\n",
      "590 -> 592 ;\n",
      "593 [label=\"mse = 0.0\\nsamples = 1\\nvalue = 14.0\"] ;\n",
      "589 -> 593 ;\n",
      "594 [label=\"Displacement <= 355.5\\nmse = 1.528\\nsamples = 31\\nvalue = 14.565\"] ;\n",
      "586 -> 594 ;\n",
      "595 [label=\"Weight_in_lbs <= 4132.0\\nmse = 1.015\\nsamples = 21\\nvalue = 14.262\"] ;\n",
      "594 -> 595 ;\n",
      "596 [label=\"Acceleration <= 11.75\\nmse = 0.694\\nsamples = 11\\nvalue = 13.818\"] ;\n",
      "595 -> 596 ;\n",
      "597 [label=\"mse = 0.0\\nsamples = 1\\nvalue = 15.0\"] ;\n",
      "596 -> 597 ;\n",
      "598 [label=\"Weight_in_lbs <= 4066.0\\nmse = 0.61\\nsamples = 10\\nvalue = 13.7\"] ;\n",
      "596 -> 598 ;\n",
      "599 [label=\"Weight_in_lbs <= 3858.5\\nmse = 0.64\\nsamples = 5\\nvalue = 13.4\"] ;\n",
      "598 -> 599 ;\n",
      "600 [label=\"Weight_in_lbs <= 3766.0\\nmse = 1.0\\nsamples = 2\\nvalue = 14.0\"] ;\n",
      "599 -> 600 ;\n",
      "601 [label=\"mse = 0.0\\nsamples = 1\\nvalue = 13.0\"] ;\n",
      "600 -> 601 ;\n",
      "602 [label=\"mse = 0.0\\nsamples = 1\\nvalue = 15.0\"] ;\n",
      "600 -> 602 ;\n",
      "603 [label=\"mse = 0.0\\nsamples = 3\\nvalue = 13.0\"] ;\n",
      "599 -> 603 ;\n",
      "604 [label=\"Horsepower <= 147.5\\nmse = 0.4\\nsamples = 5\\nvalue = 14.0\"] ;\n",
      "598 -> 604 ;\n",
      "605 [label=\"mse = 0.0\\nsamples = 1\\nvalue = 15.0\"] ;\n",
      "604 -> 605 ;\n",
      "606 [label=\"Horsepower <= 164.0\\nmse = 0.188\\nsamples = 4\\nvalue = 13.75\"] ;\n",
      "604 -> 606 ;\n",
      "607 [label=\"mse = 0.0\\nsamples = 3\\nvalue = 14.0\"] ;\n",
      "606 -> 607 ;\n",
      "608 [label=\"mse = 0.0\\nsamples = 1\\nvalue = 13.0\"] ;\n",
      "606 -> 608 ;\n",
      "609 [label=\"Horsepower <= 151.0\\nmse = 0.912\\nsamples = 10\\nvalue = 14.75\"] ;\n",
      "595 -> 609 ;\n",
      "610 [label=\"Horsepower <= 149.5\\nmse = 0.56\\nsamples = 5\\nvalue = 15.3\"] ;\n",
      "609 -> 610 ;\n",
      "611 [label=\"Displacement <= 334.5\\nmse = 0.062\\nsamples = 2\\nvalue = 15.75\"] ;\n",
      "610 -> 611 ;\n",
      "612 [label=\"mse = 0.0\\nsamples = 1\\nvalue = 15.5\"] ;\n",
      "611 -> 612 ;\n",
      "613 [label=\"mse = 0.0\\nsamples = 1\\nvalue = 16.0\"] ;\n",
      "611 -> 613 ;\n",
      "614 [label=\"Weight_in_lbs <= 4213.5\\nmse = 0.667\\nsamples = 3\\nvalue = 15.0\"] ;\n",
      "610 -> 614 ;\n",
      "615 [label=\"Weight_in_lbs <= 4162.5\\nmse = 0.25\\nsamples = 2\\nvalue = 15.5\"] ;\n",
      "614 -> 615 ;\n",
      "616 [label=\"mse = 0.0\\nsamples = 1\\nvalue = 15.0\"] ;\n",
      "615 -> 616 ;\n",
      "617 [label=\"mse = 0.0\\nsamples = 1\\nvalue = 16.0\"] ;\n",
      "615 -> 617 ;\n",
      "618 [label=\"mse = 0.0\\nsamples = 1\\nvalue = 14.0\"] ;\n",
      "614 -> 618 ;\n",
      "619 [label=\"Acceleration <= 11.7\\nmse = 0.66\\nsamples = 5\\nvalue = 14.2\"] ;\n",
      "609 -> 619 ;\n",
      "620 [label=\"mse = 0.0\\nsamples = 1\\nvalue = 15.5\"] ;\n",
      "619 -> 620 ;\n",
      "621 [label=\"Weight_in_lbs <= 4244.5\\nmse = 0.297\\nsamples = 4\\nvalue = 13.875\"] ;\n",
      "619 -> 621 ;\n",
      "622 [label=\"Horsepower <= 152.5\\nmse = 0.056\\nsamples = 3\\nvalue = 14.167\"] ;\n",
      "621 -> 622 ;\n",
      "623 [label=\"mse = 0.0\\nsamples = 1\\nvalue = 14.5\"] ;\n",
      "622 -> 623 ;\n",
      "624 [label=\"mse = 0.0\\nsamples = 2\\nvalue = 14.0\"] ;\n",
      "622 -> 624 ;\n",
      "625 [label=\"mse = 0.0\\nsamples = 1\\nvalue = 13.0\"] ;\n",
      "621 -> 625 ;\n",
      "626 [label=\"Acceleration <= 12.6\\nmse = 2.01\\nsamples = 10\\nvalue = 15.2\"] ;\n",
      "594 -> 626 ;\n",
      "627 [label=\"Displacement <= 375.0\\nmse = 0.889\\nsamples = 9\\nvalue = 14.833\"] ;\n",
      "626 -> 627 ;\n",
      "628 [label=\"mse = 0.0\\nsamples = 1\\nvalue = 13.0\"] ;\n",
      "627 -> 628 ;\n",
      "629 [label=\"Displacement <= 434.5\\nmse = 0.527\\nsamples = 8\\nvalue = 15.062\"] ;\n",
      "627 -> 629 ;\n",
      "630 [label=\"Weight_in_lbs <= 4035.0\\nmse = 0.201\\nsamples = 6\\nvalue = 15.417\"] ;\n",
      "629 -> 630 ;\n",
      "631 [label=\"mse = 0.0\\nsamples = 2\\nvalue = 15.0\"] ;\n",
      "630 -> 631 ;\n",
      "632 [label=\"Weight_in_lbs <= 4301.5\\nmse = 0.172\\nsamples = 4\\nvalue = 15.625\"] ;\n",
      "630 -> 632 ;\n",
      "633 [label=\"mse = 0.0\\nsamples = 2\\nvalue = 16.0\"] ;\n",
      "632 -> 633 ;\n",
      "634 [label=\"Displacement <= 414.5\\nmse = 0.062\\nsamples = 2\\nvalue = 15.25\"] ;\n",
      "632 -> 634 ;\n",
      "635 [label=\"mse = 0.0\\nsamples = 1\\nvalue = 15.5\"] ;\n",
      "634 -> 635 ;\n",
      "636 [label=\"mse = 0.0\\nsamples = 1\\nvalue = 15.0\"] ;\n",
      "634 -> 636 ;\n",
      "637 [label=\"mse = 0.0\\nsamples = 2\\nvalue = 14.0\"] ;\n",
      "629 -> 637 ;\n",
      "638 [label=\"mse = 0.0\\nsamples = 1\\nvalue = 18.5\"] ;\n",
      "626 -> 638 ;\n",
      "639 [label=\"mse = 0.0\\nsamples = 1\\nvalue = 16.9\"] ;\n",
      "585 -> 639 ;\n",
      "640 [label=\"Horsepower <= 191.5\\nmse = 2.955\\nsamples = 31\\nvalue = 12.855\"] ;\n",
      "532 -> 640 ;\n",
      "641 [label=\"Weight_in_lbs <= 4683.5\\nmse = 1.92\\nsamples = 22\\nvalue = 13.477\"] ;\n",
      "640 -> 641 ;\n",
      "642 [label=\"Weight_in_lbs <= 4662.5\\nmse = 1.757\\nsamples = 16\\nvalue = 13.906\"] ;\n",
      "641 -> 642 ;\n",
      "643 [label=\"Acceleration <= 13.75\\nmse = 1.562\\nsamples = 15\\nvalue = 13.767\"] ;\n",
      "642 -> 643 ;\n",
      "644 [label=\"Acceleration <= 12.3\\nmse = 1.311\\nsamples = 12\\nvalue = 13.458\"] ;\n",
      "643 -> 644 ;\n",
      "645 [label=\"Horsepower <= 177.5\\nmse = 1.672\\nsamples = 4\\nvalue = 14.375\"] ;\n",
      "644 -> 645 ;\n",
      "646 [label=\"Horsepower <= 162.5\\nmse = 0.222\\nsamples = 3\\nvalue = 13.667\"] ;\n",
      "645 -> 646 ;\n",
      "647 [label=\"mse = 0.0\\nsamples = 1\\nvalue = 13.0\"] ;\n",
      "646 -> 647 ;\n",
      "648 [label=\"mse = 0.0\\nsamples = 2\\nvalue = 14.0\"] ;\n",
      "646 -> 648 ;\n",
      "649 [label=\"mse = 0.0\\nsamples = 1\\nvalue = 16.5\"] ;\n",
      "645 -> 649 ;\n",
      "650 [label=\"Horsepower <= 152.5\\nmse = 0.5\\nsamples = 8\\nvalue = 13.0\"] ;\n",
      "644 -> 650 ;\n",
      "651 [label=\"mse = 0.0\\nsamples = 2\\nvalue = 14.0\"] ;\n",
      "650 -> 651 ;\n",
      "652 [label=\"Displacement <= 350.5\\nmse = 0.222\\nsamples = 6\\nvalue = 12.667\"] ;\n",
      "650 -> 652 ;\n",
      "653 [label=\"Horsepower <= 157.5\\nmse = 0.222\\nsamples = 3\\nvalue = 12.333\"] ;\n",
      "652 -> 653 ;\n",
      "654 [label=\"mse = 0.0\\nsamples = 1\\nvalue = 13.0\"] ;\n",
      "653 -> 654 ;\n",
      "655 [label=\"mse = 0.0\\nsamples = 2\\nvalue = 12.0\"] ;\n",
      "653 -> 655 ;\n",
      "656 [label=\"mse = 0.0\\nsamples = 3\\nvalue = 13.0\"] ;\n",
      "652 -> 656 ;\n",
      "657 [label=\"Displacement <= 310.0\\nmse = 0.667\\nsamples = 3\\nvalue = 15.0\"] ;\n",
      "643 -> 657 ;\n",
      "658 [label=\"mse = 0.0\\nsamples = 1\\nvalue = 14.0\"] ;\n",
      "657 -> 658 ;\n",
      "659 [label=\"Acceleration <= 14.25\\nmse = 0.25\\nsamples = 2\\nvalue = 15.5\"] ;\n",
      "657 -> 659 ;\n",
      "660 [label=\"mse = 0.0\\nsamples = 1\\nvalue = 15.0\"] ;\n",
      "659 -> 660 ;\n",
      "661 [label=\"mse = 0.0\\nsamples = 1\\nvalue = 16.0\"] ;\n",
      "659 -> 661 ;\n",
      "662 [label=\"mse = 0.0\\nsamples = 1\\nvalue = 16.0\"] ;\n",
      "642 -> 662 ;\n",
      "663 [label=\"Weight_in_lbs <= 4826.0\\nmse = 0.556\\nsamples = 6\\nvalue = 12.333\"] ;\n",
      "641 -> 663 ;\n",
      "664 [label=\"mse = 0.0\\nsamples = 2\\nvalue = 13.0\"] ;\n",
      "663 -> 664 ;\n",
      "665 [label=\"Weight_in_lbs <= 5068.5\\nmse = 0.5\\nsamples = 4\\nvalue = 12.0\"] ;\n",
      "663 -> 665 ;\n",
      "666 [label=\"Horsepower <= 158.5\\nmse = 0.222\\nsamples = 3\\nvalue = 11.667\"] ;\n",
      "665 -> 666 ;\n",
      "667 [label=\"mse = 0.0\\nsamples = 1\\nvalue = 11.0\"] ;\n",
      "666 -> 667 ;\n",
      "668 [label=\"mse = 0.0\\nsamples = 2\\nvalue = 12.0\"] ;\n",
      "666 -> 668 ;\n",
      "669 [label=\"mse = 0.0\\nsamples = 1\\nvalue = 13.0\"] ;\n",
      "665 -> 669 ;\n",
      "670 [label=\"Displacement <= 394.5\\nmse = 2.222\\nsamples = 9\\nvalue = 11.333\"] ;\n",
      "640 -> 670 ;\n",
      "671 [label=\"Acceleration <= 13.75\\nmse = 0.5\\nsamples = 4\\nvalue = 10.0\"] ;\n",
      "670 -> 671 ;\n",
      "672 [label=\"mse = 0.0\\nsamples = 1\\nvalue = 11.0\"] ;\n",
      "671 -> 672 ;\n",
      "673 [label=\"Displacement <= 305.5\\nmse = 0.222\\nsamples = 3\\nvalue = 9.667\"] ;\n",
      "671 -> 673 ;\n",
      "674 [label=\"mse = 0.0\\nsamples = 1\\nvalue = 9.0\"] ;\n",
      "673 -> 674 ;\n",
      "675 [label=\"mse = 0.0\\nsamples = 2\\nvalue = 10.0\"] ;\n",
      "673 -> 675 ;\n",
      "676 [label=\"Weight_in_lbs <= 4529.0\\nmse = 1.04\\nsamples = 5\\nvalue = 12.4\"] ;\n",
      "670 -> 676 ;\n",
      "677 [label=\"mse = 0.0\\nsamples = 1\\nvalue = 14.0\"] ;\n",
      "676 -> 677 ;\n",
      "678 [label=\"Weight_in_lbs <= 4684.0\\nmse = 0.5\\nsamples = 4\\nvalue = 12.0\"] ;\n",
      "676 -> 678 ;\n",
      "679 [label=\"mse = 0.0\\nsamples = 1\\nvalue = 11.0\"] ;\n",
      "678 -> 679 ;\n",
      "680 [label=\"Weight_in_lbs <= 4843.0\\nmse = 0.222\\nsamples = 3\\nvalue = 12.333\"] ;\n",
      "678 -> 680 ;\n",
      "681 [label=\"mse = 0.0\\nsamples = 1\\nvalue = 13.0\"] ;\n",
      "680 -> 681 ;\n",
      "682 [label=\"mse = 0.0\\nsamples = 2\\nvalue = 12.0\"] ;\n",
      "680 -> 682 ;\n",
      "}\n"
     ]
    }
   ],
   "source": [
    "print(tree.export_graphviz(dtree2, feature_names=X2.columns))"
   ]
  },
  {
   "cell_type": "markdown",
   "metadata": {
    "slideshow": {
     "slide_type": "slide"
    }
   },
   "source": [
    "# Split data to training and validation sets"
   ]
  },
  {
   "cell_type": "code",
   "execution_count": 32,
   "metadata": {
    "slideshow": {
     "slide_type": "slide"
    }
   },
   "outputs": [
    {
     "data": {
      "text/plain": [
       "0.6269420073612748"
      ]
     },
     "execution_count": 32,
     "metadata": {},
     "output_type": "execute_result"
    }
   ],
   "source": [
    "X_train, X_test, y_train, y_test = train_test_split(X, y, random_state=0,train_size=0.5)\n",
    "dtree = tree.DecisionTreeRegressor().fit(X_train, y_train)\n",
    "yfit_test = dtree.predict(X_test)\n",
    "r2_score(y_test, yfit_test)"
   ]
  },
  {
   "cell_type": "code",
   "execution_count": 33,
   "metadata": {
    "slideshow": {
     "slide_type": "slide"
    }
   },
   "outputs": [
    {
     "data": {
      "text/plain": [
       "0.6015108626941219"
      ]
     },
     "execution_count": 33,
     "metadata": {},
     "output_type": "execute_result"
    }
   ],
   "source": [
    "X2_train, X2_test, y_train, y_test = train_test_split(X2, y, random_state=0,train_size=0.5)\n",
    "dtree2 = tree.DecisionTreeRegressor().fit(X2_train, y_train)\n",
    "yfit2_test = dtree2.predict(X2_test)\n",
    "r2_score(y_test, yfit2_test)"
   ]
  },
  {
   "cell_type": "markdown",
   "metadata": {
    "slideshow": {
     "slide_type": "slide"
    }
   },
   "source": [
    "# Feature selection"
   ]
  },
  {
   "cell_type": "code",
   "execution_count": 34,
   "metadata": {
    "slideshow": {
     "slide_type": "slide"
    }
   },
   "outputs": [
    {
     "data": {
      "text/plain": [
       "Index(['Acceleration', 'Cylinders', 'Displacement', 'Horsepower',\n",
       "       'Weight_in_lbs'],\n",
       "      dtype='object')"
      ]
     },
     "execution_count": 34,
     "metadata": {},
     "output_type": "execute_result"
    }
   ],
   "source": [
    "X2.columns"
   ]
  },
  {
   "cell_type": "code",
   "execution_count": 35,
   "metadata": {
    "slideshow": {
     "slide_type": "slide"
    }
   },
   "outputs": [
    {
     "data": {
      "text/plain": [
       "array([0.0493485 , 0.60046508, 0.06206698, 0.21425574, 0.07386371])"
      ]
     },
     "execution_count": 35,
     "metadata": {},
     "output_type": "execute_result"
    }
   ],
   "source": [
    "dtree2.feature_importances_  "
   ]
  },
  {
   "cell_type": "code",
   "execution_count": 36,
   "metadata": {
    "slideshow": {
     "slide_type": "slide"
    }
   },
   "outputs": [
    {
     "data": {
      "text/plain": [
       "0.5941415933448058"
      ]
     },
     "execution_count": 36,
     "metadata": {},
     "output_type": "execute_result"
    }
   ],
   "source": [
    "X3 = data[['Cylinders', 'Horsepower']]\n",
    "X3_train, X3_test, y_train, y_test = train_test_split(X3, y, random_state=0,train_size=0.5)\n",
    "dtree3 = tree.DecisionTreeRegressor().fit(X3_train, y_train)\n",
    "yfit3_test = dtree3.predict(X3_test)\n",
    "r2_score(y_test, yfit3_test)"
   ]
  },
  {
   "cell_type": "code",
   "execution_count": 37,
   "metadata": {
    "scrolled": true,
    "slideshow": {
     "slide_type": "slide"
    }
   },
   "outputs": [
    {
     "name": "stdout",
     "output_type": "stream",
     "text": [
      "digraph Tree {\n",
      "node [shape=box] ;\n",
      "0 [label=\"Cylinders <= 5.5\\nmse = 61.962\\nsamples = 196\\nvalue = 23.522\"] ;\n",
      "1 [label=\"Horsepower <= 74.5\\nmse = 33.863\\nsamples = 107\\nvalue = 29.05\"] ;\n",
      "0 -> 1 [labeldistance=2.5, labelangle=45, headlabel=\"True\"] ;\n",
      "2 [label=\"Horsepower <= 50.0\\nmse = 24.592\\nsamples = 43\\nvalue = 33.486\"] ;\n",
      "1 -> 2 ;\n",
      "3 [label=\"Horsepower <= 47.0\\nmse = 58.275\\nsamples = 4\\nvalue = 39.2\"] ;\n",
      "2 -> 3 ;\n",
      "4 [label=\"mse = 0.0\\nsamples = 1\\nvalue = 26.0\"] ;\n",
      "3 -> 4 ;\n",
      "5 [label=\"mse = 0.26\\nsamples = 3\\nvalue = 43.6\"] ;\n",
      "3 -> 5 ;\n",
      "6 [label=\"Horsepower <= 56.0\\nmse = 17.446\\nsamples = 39\\nvalue = 32.9\"] ;\n",
      "2 -> 6 ;\n",
      "7 [label=\"Horsepower <= 53.0\\nmse = 16.276\\nsamples = 3\\nvalue = 28.267\"] ;\n",
      "6 -> 7 ;\n",
      "8 [label=\"mse = 3.61\\nsamples = 2\\nvalue = 30.9\"] ;\n",
      "7 -> 8 ;\n",
      "9 [label=\"mse = 0.0\\nsamples = 1\\nvalue = 23.0\"] ;\n",
      "7 -> 9 ;\n",
      "10 [label=\"Horsepower <= 69.5\\nmse = 15.605\\nsamples = 36\\nvalue = 33.286\"] ;\n",
      "6 -> 10 ;\n",
      "11 [label=\"Horsepower <= 64.0\\nmse = 18.866\\nsamples = 24\\nvalue = 34.029\"] ;\n",
      "10 -> 11 ;\n",
      "12 [label=\"Horsepower <= 59.0\\nmse = 27.002\\nsamples = 4\\nvalue = 31.525\"] ;\n",
      "11 -> 12 ;\n",
      "13 [label=\"mse = 0.0\\nsamples = 1\\nvalue = 39.1\"] ;\n",
      "12 -> 13 ;\n",
      "14 [label=\"Horsepower <= 60.5\\nmse = 10.5\\nsamples = 3\\nvalue = 29.0\"] ;\n",
      "12 -> 14 ;\n",
      "15 [label=\"mse = 0.0\\nsamples = 1\\nvalue = 24.5\"] ;\n",
      "14 -> 15 ;\n",
      "16 [label=\"Horsepower <= 62.0\\nmse = 0.562\\nsamples = 2\\nvalue = 31.25\"] ;\n",
      "14 -> 16 ;\n",
      "17 [label=\"mse = 0.0\\nsamples = 1\\nvalue = 32.0\"] ;\n",
      "16 -> 17 ;\n",
      "18 [label=\"mse = 0.0\\nsamples = 1\\nvalue = 30.5\"] ;\n",
      "16 -> 18 ;\n",
      "19 [label=\"Horsepower <= 66.5\\nmse = 15.734\\nsamples = 20\\nvalue = 34.53\"] ;\n",
      "11 -> 19 ;\n",
      "20 [label=\"Horsepower <= 65.5\\nmse = 21.766\\nsamples = 8\\nvalue = 35.912\"] ;\n",
      "19 -> 20 ;\n",
      "21 [label=\"mse = 24.87\\nsamples = 7\\nvalue = 35.886\"] ;\n",
      "20 -> 21 ;\n",
      "22 [label=\"mse = 0.0\\nsamples = 1\\nvalue = 36.1\"] ;\n",
      "20 -> 22 ;\n",
      "23 [label=\"Horsepower <= 68.5\\nmse = 9.589\\nsamples = 12\\nvalue = 33.608\"] ;\n",
      "19 -> 23 ;\n",
      "24 [label=\"Cylinders <= 4.5\\nmse = 9.692\\nsamples = 10\\nvalue = 33.1\"] ;\n",
      "23 -> 24 ;\n",
      "25 [label=\"Horsepower <= 67.5\\nmse = 9.424\\nsamples = 9\\nvalue = 32.733\"] ;\n",
      "24 -> 25 ;\n",
      "26 [label=\"mse = 11.222\\nsamples = 6\\nvalue = 33.333\"] ;\n",
      "25 -> 26 ;\n",
      "27 [label=\"mse = 3.669\\nsamples = 3\\nvalue = 31.533\"] ;\n",
      "25 -> 27 ;\n",
      "28 [label=\"mse = 0.0\\nsamples = 1\\nvalue = 36.4\"] ;\n",
      "24 -> 28 ;\n",
      "29 [label=\"mse = 1.322\\nsamples = 2\\nvalue = 36.15\"] ;\n",
      "23 -> 29 ;\n",
      "30 [label=\"Horsepower <= 73.0\\nmse = 5.77\\nsamples = 12\\nvalue = 31.8\"] ;\n",
      "10 -> 30 ;\n",
      "31 [label=\"Horsepower <= 70.5\\nmse = 4.724\\nsamples = 10\\nvalue = 31.26\"] ;\n",
      "30 -> 31 ;\n",
      "32 [label=\"mse = 3.872\\nsamples = 6\\nvalue = 31.933\"] ;\n",
      "31 -> 32 ;\n",
      "33 [label=\"Horsepower <= 71.5\\nmse = 4.303\\nsamples = 4\\nvalue = 30.25\"] ;\n",
      "31 -> 33 ;\n",
      "34 [label=\"mse = 3.682\\nsamples = 3\\nvalue = 29.533\"] ;\n",
      "33 -> 34 ;\n",
      "35 [label=\"mse = -0.0\\nsamples = 1\\nvalue = 32.4\"] ;\n",
      "33 -> 35 ;\n",
      "36 [label=\"mse = 2.25\\nsamples = 2\\nvalue = 34.5\"] ;\n",
      "30 -> 36 ;\n",
      "37 [label=\"Horsepower <= 89.0\\nmse = 17.992\\nsamples = 64\\nvalue = 26.07\"] ;\n",
      "1 -> 37 ;\n",
      "38 [label=\"Horsepower <= 87.5\\nmse = 17.653\\nsamples = 37\\nvalue = 27.514\"] ;\n",
      "37 -> 38 ;\n",
      "39 [label=\"Horsepower <= 84.5\\nmse = 13.46\\nsamples = 30\\nvalue = 27.067\"] ;\n",
      "38 -> 39 ;\n",
      "40 [label=\"Horsepower <= 83.5\\nmse = 9.229\\nsamples = 23\\nvalue = 28.009\"] ;\n",
      "39 -> 40 ;\n",
      "41 [label=\"Cylinders <= 4.5\\nmse = 6.567\\nsamples = 18\\nvalue = 27.356\"] ;\n",
      "40 -> 41 ;\n",
      "42 [label=\"Horsepower <= 81.5\\nmse = 6.715\\nsamples = 17\\nvalue = 27.471\"] ;\n",
      "41 -> 42 ;\n",
      "43 [label=\"Horsepower <= 78.5\\nmse = 4.21\\nsamples = 13\\nvalue = 27.269\"] ;\n",
      "42 -> 43 ;\n",
      "44 [label=\"Horsepower <= 76.5\\nmse = 6.242\\nsamples = 7\\nvalue = 27.629\"] ;\n",
      "43 -> 44 ;\n",
      "45 [label=\"mse = 5.679\\nsamples = 6\\nvalue = 27.15\"] ;\n",
      "44 -> 45 ;\n",
      "46 [label=\"mse = 0.0\\nsamples = 1\\nvalue = 30.5\"] ;\n",
      "44 -> 46 ;\n",
      "47 [label=\"Horsepower <= 79.5\\nmse = 1.512\\nsamples = 6\\nvalue = 26.85\"] ;\n",
      "43 -> 47 ;\n",
      "48 [label=\"mse = 1.0\\nsamples = 2\\nvalue = 27.0\"] ;\n",
      "47 -> 48 ;\n",
      "49 [label=\"mse = 1.752\\nsamples = 4\\nvalue = 26.775\"] ;\n",
      "47 -> 49 ;\n",
      "50 [label=\"mse = 14.297\\nsamples = 4\\nvalue = 28.125\"] ;\n",
      "42 -> 50 ;\n",
      "51 [label=\"mse = 0.0\\nsamples = 1\\nvalue = 25.4\"] ;\n",
      "41 -> 51 ;\n",
      "52 [label=\"mse = 11.75\\nsamples = 5\\nvalue = 30.36\"] ;\n",
      "40 -> 52 ;\n",
      "53 [label=\"Horsepower <= 86.5\\nmse = 14.862\\nsamples = 7\\nvalue = 23.971\"] ;\n",
      "39 -> 53 ;\n",
      "54 [label=\"Horsepower <= 85.5\\nmse = 15.622\\nsamples = 6\\nvalue = 24.467\"] ;\n",
      "53 -> 54 ;\n",
      "55 [label=\"mse = 24.32\\nsamples = 3\\nvalue = 24.6\"] ;\n",
      "54 -> 55 ;\n",
      "56 [label=\"mse = 6.889\\nsamples = 3\\nvalue = 24.333\"] ;\n",
      "54 -> 56 ;\n",
      "57 [label=\"mse = 0.0\\nsamples = 1\\nvalue = 21.0\"] ;\n",
      "53 -> 57 ;\n",
      "58 [label=\"mse = 31.102\\nsamples = 7\\nvalue = 29.429\"] ;\n",
      "38 -> 58 ;\n",
      "59 [label=\"Cylinders <= 3.5\\nmse = 11.691\\nsamples = 27\\nvalue = 24.093\"] ;\n",
      "37 -> 59 ;\n",
      "60 [label=\"Horsepower <= 98.5\\nmse = 6.176\\nsamples = 3\\nvalue = 20.233\"] ;\n",
      "59 -> 60 ;\n",
      "61 [label=\"Horsepower <= 93.5\\nmse = 0.25\\nsamples = 2\\nvalue = 18.5\"] ;\n",
      "60 -> 61 ;\n",
      "62 [label=\"mse = 0.0\\nsamples = 1\\nvalue = 18.0\"] ;\n",
      "61 -> 62 ;\n",
      "63 [label=\"mse = 0.0\\nsamples = 1\\nvalue = 19.0\"] ;\n",
      "61 -> 63 ;\n",
      "64 [label=\"mse = -0.0\\nsamples = 1\\nvalue = 23.7\"] ;\n",
      "60 -> 64 ;\n",
      "65 [label=\"Horsepower <= 97.5\\nmse = 10.286\\nsamples = 24\\nvalue = 24.575\"] ;\n",
      "59 -> 65 ;\n",
      "66 [label=\"Horsepower <= 95.5\\nmse = 7.368\\nsamples = 16\\nvalue = 25.494\"] ;\n",
      "65 -> 66 ;\n",
      "67 [label=\"Horsepower <= 90.5\\nmse = 5.859\\nsamples = 11\\nvalue = 25.164\"] ;\n",
      "66 -> 67 ;\n",
      "68 [label=\"mse = 2.442\\nsamples = 3\\nvalue = 26.433\"] ;\n",
      "67 -> 68 ;\n",
      "69 [label=\"Horsepower <= 91.5\\nmse = 6.309\\nsamples = 8\\nvalue = 24.688\"] ;\n",
      "67 -> 69 ;\n",
      "70 [label=\"mse = 0.0\\nsamples = 1\\nvalue = 20.0\"] ;\n",
      "69 -> 70 ;\n",
      "71 [label=\"Horsepower <= 93.5\\nmse = 3.622\\nsamples = 7\\nvalue = 25.357\"] ;\n",
      "69 -> 71 ;\n",
      "72 [label=\"Horsepower <= 92.5\\nmse = 1.556\\nsamples = 3\\nvalue = 26.333\"] ;\n",
      "71 -> 72 ;\n",
      "73 [label=\"mse = 2.25\\nsamples = 2\\nvalue = 26.5\"] ;\n",
      "72 -> 73 ;\n",
      "74 [label=\"mse = 0.0\\nsamples = 1\\nvalue = 26.0\"] ;\n",
      "72 -> 74 ;\n",
      "75 [label=\"Horsepower <= 94.5\\nmse = 3.922\\nsamples = 4\\nvalue = 24.625\"] ;\n",
      "71 -> 75 ;\n",
      "76 [label=\"mse = 0.0\\nsamples = 1\\nvalue = 22.0\"] ;\n",
      "75 -> 76 ;\n",
      "77 [label=\"mse = 2.167\\nsamples = 3\\nvalue = 25.5\"] ;\n",
      "75 -> 77 ;\n",
      "78 [label=\"Horsepower <= 96.5\\nmse = 9.922\\nsamples = 5\\nvalue = 26.22\"] ;\n",
      "66 -> 78 ;\n",
      "79 [label=\"mse = 16.0\\nsamples = 2\\nvalue = 28.0\"] ;\n",
      "78 -> 79 ;\n",
      "80 [label=\"mse = 2.349\\nsamples = 3\\nvalue = 25.033\"] ;\n",
      "78 -> 80 ;\n",
      "81 [label=\"Horsepower <= 112.5\\nmse = 11.057\\nsamples = 8\\nvalue = 22.738\"] ;\n",
      "65 -> 81 ;\n",
      "82 [label=\"Horsepower <= 111.0\\nmse = 11.268\\nsamples = 6\\nvalue = 21.817\"] ;\n",
      "81 -> 82 ;\n",
      "83 [label=\"Horsepower <= 103.5\\nmse = 8.527\\nsamples = 4\\nvalue = 23.475\"] ;\n",
      "82 -> 83 ;\n",
      "84 [label=\"Horsepower <= 100.0\\nmse = 1.0\\nsamples = 2\\nvalue = 21.0\"] ;\n",
      "83 -> 84 ;\n",
      "85 [label=\"mse = 0.0\\nsamples = 1\\nvalue = 22.0\"] ;\n",
      "84 -> 85 ;\n",
      "86 [label=\"mse = 0.0\\nsamples = 1\\nvalue = 20.0\"] ;\n",
      "84 -> 86 ;\n",
      "87 [label=\"Horsepower <= 107.5\\nmse = 3.802\\nsamples = 2\\nvalue = 25.95\"] ;\n",
      "83 -> 87 ;\n",
      "88 [label=\"mse = 0.0\\nsamples = 1\\nvalue = 27.9\"] ;\n",
      "87 -> 88 ;\n",
      "89 [label=\"mse = -0.0\\nsamples = 1\\nvalue = 24.0\"] ;\n",
      "87 -> 89 ;\n",
      "90 [label=\"mse = 0.25\\nsamples = 2\\nvalue = 18.5\"] ;\n",
      "82 -> 90 ;\n",
      "91 [label=\"Horsepower <= 114.0\\nmse = 0.25\\nsamples = 2\\nvalue = 25.5\"] ;\n",
      "81 -> 91 ;\n",
      "92 [label=\"mse = 0.0\\nsamples = 1\\nvalue = 26.0\"] ;\n",
      "91 -> 92 ;\n",
      "93 [label=\"mse = 0.0\\nsamples = 1\\nvalue = 25.0\"] ;\n",
      "91 -> 93 ;\n",
      "94 [label=\"Horsepower <= 141.0\\nmse = 14.82\\nsamples = 89\\nvalue = 16.875\"] ;\n",
      "0 -> 94 [labeldistance=2.5, labelangle=-45, headlabel=\"False\"] ;\n",
      "95 [label=\"Horsepower <= 134.5\\nmse = 10.898\\nsamples = 52\\nvalue = 19.11\"] ;\n",
      "94 -> 95 ;\n",
      "96 [label=\"Horsepower <= 131.0\\nmse = 11.777\\nsamples = 44\\nvalue = 19.398\"] ;\n",
      "95 -> 96 ;\n",
      "97 [label=\"Horsepower <= 127.5\\nmse = 7.841\\nsamples = 43\\nvalue = 19.088\"] ;\n",
      "96 -> 97 ;\n",
      "98 [label=\"Horsepower <= 78.5\\nmse = 6.975\\nsamples = 40\\nvalue = 19.37\"] ;\n",
      "97 -> 98 ;\n",
      "99 [label=\"mse = 0.0\\nsamples = 1\\nvalue = 15.0\"] ;\n",
      "98 -> 99 ;\n",
      "100 [label=\"Cylinders <= 7.0\\nmse = 6.652\\nsamples = 39\\nvalue = 19.482\"] ;\n",
      "98 -> 100 ;\n",
      "101 [label=\"Horsepower <= 117.5\\nmse = 5.108\\nsamples = 35\\nvalue = 19.277\"] ;\n",
      "100 -> 101 ;\n",
      "102 [label=\"Horsepower <= 112.5\\nmse = 5.003\\nsamples = 33\\nvalue = 19.43\"] ;\n",
      "101 -> 102 ;\n",
      "103 [label=\"Horsepower <= 96.0\\nmse = 3.343\\nsamples = 31\\nvalue = 19.126\"] ;\n",
      "102 -> 103 ;\n",
      "104 [label=\"Horsepower <= 89.0\\nmse = 2.254\\nsamples = 11\\nvalue = 19.482\"] ;\n",
      "103 -> 104 ;\n",
      "105 [label=\"Horsepower <= 86.5\\nmse = 1.542\\nsamples = 5\\nvalue = 18.84\"] ;\n",
      "104 -> 105 ;\n",
      "106 [label=\"mse = 1.787\\nsamples = 3\\nvalue = 19.4\"] ;\n",
      "105 -> 106 ;\n",
      "107 [label=\"mse = 0.0\\nsamples = 2\\nvalue = 18.0\"] ;\n",
      "105 -> 107 ;\n",
      "108 [label=\"Horsepower <= 92.5\\nmse = 2.218\\nsamples = 6\\nvalue = 20.017\"] ;\n",
      "104 -> 108 ;\n",
      "109 [label=\"mse = 2.105\\nsamples = 4\\nvalue = 20.4\"] ;\n",
      "108 -> 109 ;\n",
      "110 [label=\"mse = 1.562\\nsamples = 2\\nvalue = 19.25\"] ;\n",
      "108 -> 110 ;\n",
      "111 [label=\"Horsepower <= 109.0\\nmse = 3.834\\nsamples = 20\\nvalue = 18.93\"] ;\n",
      "103 -> 111 ;\n",
      "112 [label=\"Horsepower <= 97.5\\nmse = 1.786\\nsamples = 15\\nvalue = 18.74\"] ;\n",
      "111 -> 112 ;\n",
      "113 [label=\"mse = 0.0\\nsamples = 2\\nvalue = 18.0\"] ;\n",
      "112 -> 113 ;\n",
      "114 [label=\"Horsepower <= 99.0\\nmse = 1.964\\nsamples = 13\\nvalue = 18.854\"] ;\n",
      "112 -> 114 ;\n",
      "115 [label=\"mse = 0.0\\nsamples = 1\\nvalue = 18.5\"] ;\n",
      "114 -> 115 ;\n",
      "116 [label=\"Horsepower <= 106.5\\nmse = 2.116\\nsamples = 12\\nvalue = 18.883\"] ;\n",
      "114 -> 116 ;\n",
      "117 [label=\"Horsepower <= 102.5\\nmse = 2.307\\nsamples = 11\\nvalue = 18.873\"] ;\n",
      "116 -> 117 ;\n",
      "118 [label=\"mse = 2.609\\nsamples = 8\\nvalue = 18.875\"] ;\n",
      "117 -> 118 ;\n",
      "119 [label=\"mse = 1.502\\nsamples = 3\\nvalue = 18.867\"] ;\n",
      "117 -> 119 ;\n",
      "120 [label=\"mse = 0.0\\nsamples = 1\\nvalue = 19.0\"] ;\n",
      "116 -> 120 ;\n",
      "121 [label=\"mse = 9.544\\nsamples = 5\\nvalue = 19.5\"] ;\n",
      "111 -> 121 ;\n",
      "122 [label=\"mse = 7.023\\nsamples = 2\\nvalue = 24.15\"] ;\n",
      "102 -> 122 ;\n",
      "123 [label=\"Horsepower <= 122.5\\nmse = 0.062\\nsamples = 2\\nvalue = 16.75\"] ;\n",
      "101 -> 123 ;\n",
      "124 [label=\"mse = 0.0\\nsamples = 1\\nvalue = 16.5\"] ;\n",
      "123 -> 124 ;\n",
      "125 [label=\"mse = 0.0\\nsamples = 1\\nvalue = 17.0\"] ;\n",
      "123 -> 125 ;\n",
      "126 [label=\"Horsepower <= 107.5\\nmse = 16.577\\nsamples = 4\\nvalue = 21.275\"] ;\n",
      "100 -> 126 ;\n",
      "127 [label=\"mse = 0.0\\nsamples = 1\\nvalue = 26.6\"] ;\n",
      "126 -> 127 ;\n",
      "128 [label=\"Horsepower <= 122.5\\nmse = 9.5\\nsamples = 3\\nvalue = 19.5\"] ;\n",
      "126 -> 128 ;\n",
      "129 [label=\"Horsepower <= 115.0\\nmse = 5.062\\nsamples = 2\\nvalue = 17.75\"] ;\n",
      "128 -> 129 ;\n",
      "130 [label=\"mse = 0.0\\nsamples = 1\\nvalue = 20.0\"] ;\n",
      "129 -> 130 ;\n",
      "131 [label=\"mse = 0.0\\nsamples = 1\\nvalue = 15.5\"] ;\n",
      "129 -> 131 ;\n",
      "132 [label=\"mse = 0.0\\nsamples = 1\\nvalue = 23.0\"] ;\n",
      "128 -> 132 ;\n",
      "133 [label=\"mse = 4.222\\nsamples = 3\\nvalue = 15.333\"] ;\n",
      "97 -> 133 ;\n",
      "134 [label=\"mse = -0.0\\nsamples = 1\\nvalue = 32.7\"] ;\n",
      "96 -> 134 ;\n",
      "135 [label=\"Horsepower <= 137.5\\nmse = 3.094\\nsamples = 8\\nvalue = 17.525\"] ;\n",
      "95 -> 135 ;\n",
      "136 [label=\"mse = 0.0\\nsamples = 1\\nvalue = 14.0\"] ;\n",
      "135 -> 136 ;\n",
      "137 [label=\"Horsepower <= 138.5\\nmse = 1.508\\nsamples = 7\\nvalue = 18.029\"] ;\n",
      "135 -> 137 ;\n",
      "138 [label=\"mse = 0.0\\nsamples = 1\\nvalue = 16.5\"] ;\n",
      "137 -> 138 ;\n",
      "139 [label=\"Horsepower <= 139.5\\nmse = 1.305\\nsamples = 6\\nvalue = 18.283\"] ;\n",
      "137 -> 139 ;\n",
      "140 [label=\"mse = 1.103\\nsamples = 2\\nvalue = 19.15\"] ;\n",
      "139 -> 140 ;\n",
      "141 [label=\"mse = 0.843\\nsamples = 4\\nvalue = 17.85\"] ;\n",
      "139 -> 141 ;\n",
      "142 [label=\"Horsepower <= 172.5\\nmse = 3.455\\nsamples = 37\\nvalue = 13.735\"] ;\n",
      "94 -> 142 ;\n",
      "143 [label=\"Cylinders <= 7.0\\nmse = 2.554\\nsamples = 20\\nvalue = 14.41\"] ;\n",
      "142 -> 143 ;\n",
      "144 [label=\"mse = 0.0\\nsamples = 1\\nvalue = 17.7\"] ;\n",
      "143 -> 144 ;\n",
      "145 [label=\"Horsepower <= 152.5\\nmse = 2.089\\nsamples = 19\\nvalue = 14.237\"] ;\n",
      "143 -> 145 ;\n",
      "146 [label=\"Horsepower <= 149.0\\nmse = 2.421\\nsamples = 11\\nvalue = 14.682\"] ;\n",
      "145 -> 146 ;\n",
      "147 [label=\"Horsepower <= 143.5\\nmse = 1.047\\nsamples = 4\\nvalue = 13.875\"] ;\n",
      "146 -> 147 ;\n",
      "148 [label=\"mse = 0.0\\nsamples = 1\\nvalue = 15.5\"] ;\n",
      "147 -> 148 ;\n",
      "149 [label=\"Horsepower <= 146.5\\nmse = 0.222\\nsamples = 3\\nvalue = 13.333\"] ;\n",
      "147 -> 149 ;\n",
      "150 [label=\"mse = 0.0\\nsamples = 2\\nvalue = 13.0\"] ;\n",
      "149 -> 150 ;\n",
      "151 [label=\"mse = 0.0\\nsamples = 1\\nvalue = 14.0\"] ;\n",
      "149 -> 151 ;\n",
      "152 [label=\"Horsepower <= 151.0\\nmse = 2.622\\nsamples = 7\\nvalue = 15.143\"] ;\n",
      "146 -> 152 ;\n",
      "153 [label=\"mse = 2.979\\nsamples = 6\\nvalue = 15.25\"] ;\n",
      "152 -> 153 ;\n",
      "154 [label=\"mse = 0.0\\nsamples = 1\\nvalue = 14.5\"] ;\n",
      "152 -> 154 ;\n",
      "155 [label=\"Horsepower <= 167.5\\nmse = 0.984\\nsamples = 8\\nvalue = 13.625\"] ;\n",
      "145 -> 155 ;\n",
      "156 [label=\"Horsepower <= 154.0\\nmse = 0.24\\nsamples = 5\\nvalue = 13.4\"] ;\n",
      "155 -> 156 ;\n",
      "157 [label=\"mse = 0.0\\nsamples = 1\\nvalue = 14.0\"] ;\n",
      "156 -> 157 ;\n",
      "158 [label=\"Horsepower <= 159.0\\nmse = 0.188\\nsamples = 4\\nvalue = 13.25\"] ;\n",
      "156 -> 158 ;\n",
      "159 [label=\"mse = 0.0\\nsamples = 2\\nvalue = 13.0\"] ;\n",
      "158 -> 159 ;\n",
      "160 [label=\"Horsepower <= 162.5\\nmse = 0.25\\nsamples = 2\\nvalue = 13.5\"] ;\n",
      "158 -> 160 ;\n",
      "161 [label=\"mse = 0.0\\nsamples = 1\\nvalue = 14.0\"] ;\n",
      "160 -> 161 ;\n",
      "162 [label=\"mse = 0.0\\nsamples = 1\\nvalue = 13.0\"] ;\n",
      "160 -> 162 ;\n",
      "163 [label=\"mse = 2.0\\nsamples = 3\\nvalue = 14.0\"] ;\n",
      "155 -> 163 ;\n",
      "164 [label=\"Horsepower <= 227.5\\nmse = 3.349\\nsamples = 17\\nvalue = 12.941\"] ;\n",
      "142 -> 164 ;\n",
      "165 [label=\"Horsepower <= 191.5\\nmse = 2.938\\nsamples = 16\\nvalue = 12.75\"] ;\n",
      "164 -> 165 ;\n",
      "166 [label=\"Horsepower <= 185.0\\nmse = 1.835\\nsamples = 11\\nvalue = 13.273\"] ;\n",
      "165 -> 166 ;\n",
      "167 [label=\"Horsepower <= 177.5\\nmse = 1.877\\nsamples = 9\\nvalue = 13.111\"] ;\n",
      "166 -> 167 ;\n",
      "168 [label=\"mse = 0.24\\nsamples = 5\\nvalue = 13.4\"] ;\n",
      "167 -> 168 ;\n",
      "169 [label=\"mse = 3.688\\nsamples = 4\\nvalue = 12.75\"] ;\n",
      "167 -> 169 ;\n",
      "170 [label=\"mse = 1.0\\nsamples = 2\\nvalue = 14.0\"] ;\n",
      "166 -> 170 ;\n",
      "171 [label=\"Horsepower <= 204.0\\nmse = 3.44\\nsamples = 5\\nvalue = 11.6\"] ;\n",
      "165 -> 171 ;\n",
      "172 [label=\"mse = 0.0\\nsamples = 1\\nvalue = 9.0\"] ;\n",
      "171 -> 172 ;\n",
      "173 [label=\"Horsepower <= 220.0\\nmse = 2.188\\nsamples = 4\\nvalue = 12.25\"] ;\n",
      "171 -> 173 ;\n",
      "174 [label=\"mse = 2.25\\nsamples = 2\\nvalue = 11.5\"] ;\n",
      "173 -> 174 ;\n",
      "175 [label=\"mse = 1.0\\nsamples = 2\\nvalue = 13.0\"] ;\n",
      "173 -> 175 ;\n",
      "176 [label=\"mse = 0.0\\nsamples = 1\\nvalue = 16.0\"] ;\n",
      "164 -> 176 ;\n",
      "}\n"
     ]
    }
   ],
   "source": [
    "print(tree.export_graphviz(dtree3, feature_names=X3.columns))"
   ]
  },
  {
   "cell_type": "code",
   "execution_count": 38,
   "metadata": {
    "slideshow": {
     "slide_type": "slide"
    }
   },
   "outputs": [
    {
     "data": {
      "text/plain": [
       "0.6808497087040155"
      ]
     },
     "execution_count": 38,
     "metadata": {},
     "output_type": "execute_result"
    }
   ],
   "source": [
    "X3 = data[['Cylinders', 'Horsepower']]\n",
    "X3_train, X3_test, y_train, y_test = train_test_split(X3, y, random_state=0,train_size=0.5)\n",
    "dtree3 = tree.DecisionTreeRegressor(max_leaf_nodes=5).fit(X3_train, y_train)\n",
    "yfit3_test = dtree3.predict(X3_test)\n",
    "r2_score(y_test, yfit3_test)"
   ]
  },
  {
   "cell_type": "code",
   "execution_count": 39,
   "metadata": {
    "slideshow": {
     "slide_type": "slide"
    }
   },
   "outputs": [
    {
     "name": "stdout",
     "output_type": "stream",
     "text": [
      "digraph Tree {\n",
      "node [shape=box] ;\n",
      "0 [label=\"Cylinders <= 5.5\\nmse = 61.962\\nsamples = 196\\nvalue = 23.522\"] ;\n",
      "1 [label=\"Horsepower <= 74.5\\nmse = 33.863\\nsamples = 107\\nvalue = 29.05\"] ;\n",
      "0 -> 1 [labeldistance=2.5, labelangle=45, headlabel=\"True\"] ;\n",
      "3 [label=\"mse = 24.592\\nsamples = 43\\nvalue = 33.486\"] ;\n",
      "1 -> 3 ;\n",
      "4 [label=\"Horsepower <= 89.0\\nmse = 17.992\\nsamples = 64\\nvalue = 26.07\"] ;\n",
      "1 -> 4 ;\n",
      "7 [label=\"mse = 17.653\\nsamples = 37\\nvalue = 27.514\"] ;\n",
      "4 -> 7 ;\n",
      "8 [label=\"mse = 11.691\\nsamples = 27\\nvalue = 24.093\"] ;\n",
      "4 -> 8 ;\n",
      "2 [label=\"Horsepower <= 141.0\\nmse = 14.82\\nsamples = 89\\nvalue = 16.875\"] ;\n",
      "0 -> 2 [labeldistance=2.5, labelangle=-45, headlabel=\"False\"] ;\n",
      "5 [label=\"mse = 10.898\\nsamples = 52\\nvalue = 19.11\"] ;\n",
      "2 -> 5 ;\n",
      "6 [label=\"mse = 3.455\\nsamples = 37\\nvalue = 13.735\"] ;\n",
      "2 -> 6 ;\n",
      "}\n"
     ]
    }
   ],
   "source": [
    "print(tree.export_graphviz(dtree3, feature_names=X3.columns))"
   ]
  },
  {
   "cell_type": "markdown",
   "metadata": {
    "slideshow": {
     "slide_type": "slide"
    }
   },
   "source": [
    "# Add country as a feature"
   ]
  },
  {
   "cell_type": "code",
   "execution_count": 40,
   "metadata": {
    "slideshow": {
     "slide_type": "slide"
    }
   },
   "outputs": [],
   "source": [
    "X4 = data[['Acceleration', 'Cylinders', 'Displacement', 'Horsepower', 'Weight_in_lbs', 'Origin']]\n",
    "y = data['Miles_per_Gallon']\n",
    "\n"
   ]
  },
  {
   "cell_type": "code",
   "execution_count": 41,
   "metadata": {
    "slideshow": {
     "slide_type": "slide"
    }
   },
   "outputs": [
    {
     "ename": "ValueError",
     "evalue": "could not convert string to float: 'USA'",
     "output_type": "error",
     "traceback": [
      "\u001b[1;31m---------------------------------------------------------------------------\u001b[0m",
      "\u001b[1;31mValueError\u001b[0m                                Traceback (most recent call last)",
      "\u001b[1;32m<ipython-input-41-f1c35d236edb>\u001b[0m in \u001b[0;36m<module>\u001b[1;34m\u001b[0m\n\u001b[1;32m----> 1\u001b[1;33m \u001b[0mdtree4\u001b[0m \u001b[1;33m=\u001b[0m \u001b[0mtree\u001b[0m\u001b[1;33m.\u001b[0m\u001b[0mDecisionTreeRegressor\u001b[0m\u001b[1;33m(\u001b[0m\u001b[1;33m)\u001b[0m\u001b[1;33m.\u001b[0m\u001b[0mfit\u001b[0m\u001b[1;33m(\u001b[0m\u001b[0mX4\u001b[0m\u001b[1;33m,\u001b[0m \u001b[0my\u001b[0m\u001b[1;33m)\u001b[0m\u001b[1;33m\u001b[0m\u001b[1;33m\u001b[0m\u001b[0m\n\u001b[0m",
      "\u001b[1;32m~\\AppData\\Roaming\\Python\\Python37\\site-packages\\sklearn\\tree\\tree.py\u001b[0m in \u001b[0;36mfit\u001b[1;34m(self, X, y, sample_weight, check_input, X_idx_sorted)\u001b[0m\n\u001b[0;32m   1155\u001b[0m             \u001b[0msample_weight\u001b[0m\u001b[1;33m=\u001b[0m\u001b[0msample_weight\u001b[0m\u001b[1;33m,\u001b[0m\u001b[1;33m\u001b[0m\u001b[1;33m\u001b[0m\u001b[0m\n\u001b[0;32m   1156\u001b[0m             \u001b[0mcheck_input\u001b[0m\u001b[1;33m=\u001b[0m\u001b[0mcheck_input\u001b[0m\u001b[1;33m,\u001b[0m\u001b[1;33m\u001b[0m\u001b[1;33m\u001b[0m\u001b[0m\n\u001b[1;32m-> 1157\u001b[1;33m             X_idx_sorted=X_idx_sorted)\n\u001b[0m\u001b[0;32m   1158\u001b[0m         \u001b[1;32mreturn\u001b[0m \u001b[0mself\u001b[0m\u001b[1;33m\u001b[0m\u001b[1;33m\u001b[0m\u001b[0m\n\u001b[0;32m   1159\u001b[0m \u001b[1;33m\u001b[0m\u001b[0m\n",
      "\u001b[1;32m~\\AppData\\Roaming\\Python\\Python37\\site-packages\\sklearn\\tree\\tree.py\u001b[0m in \u001b[0;36mfit\u001b[1;34m(self, X, y, sample_weight, check_input, X_idx_sorted)\u001b[0m\n\u001b[0;32m    128\u001b[0m         \u001b[0mrandom_state\u001b[0m \u001b[1;33m=\u001b[0m \u001b[0mcheck_random_state\u001b[0m\u001b[1;33m(\u001b[0m\u001b[0mself\u001b[0m\u001b[1;33m.\u001b[0m\u001b[0mrandom_state\u001b[0m\u001b[1;33m)\u001b[0m\u001b[1;33m\u001b[0m\u001b[1;33m\u001b[0m\u001b[0m\n\u001b[0;32m    129\u001b[0m         \u001b[1;32mif\u001b[0m \u001b[0mcheck_input\u001b[0m\u001b[1;33m:\u001b[0m\u001b[1;33m\u001b[0m\u001b[1;33m\u001b[0m\u001b[0m\n\u001b[1;32m--> 130\u001b[1;33m             \u001b[0mX\u001b[0m \u001b[1;33m=\u001b[0m \u001b[0mcheck_array\u001b[0m\u001b[1;33m(\u001b[0m\u001b[0mX\u001b[0m\u001b[1;33m,\u001b[0m \u001b[0mdtype\u001b[0m\u001b[1;33m=\u001b[0m\u001b[0mDTYPE\u001b[0m\u001b[1;33m,\u001b[0m \u001b[0maccept_sparse\u001b[0m\u001b[1;33m=\u001b[0m\u001b[1;34m\"csc\"\u001b[0m\u001b[1;33m)\u001b[0m\u001b[1;33m\u001b[0m\u001b[1;33m\u001b[0m\u001b[0m\n\u001b[0m\u001b[0;32m    131\u001b[0m             \u001b[0my\u001b[0m \u001b[1;33m=\u001b[0m \u001b[0mcheck_array\u001b[0m\u001b[1;33m(\u001b[0m\u001b[0my\u001b[0m\u001b[1;33m,\u001b[0m \u001b[0mensure_2d\u001b[0m\u001b[1;33m=\u001b[0m\u001b[1;32mFalse\u001b[0m\u001b[1;33m,\u001b[0m \u001b[0mdtype\u001b[0m\u001b[1;33m=\u001b[0m\u001b[1;32mNone\u001b[0m\u001b[1;33m)\u001b[0m\u001b[1;33m\u001b[0m\u001b[1;33m\u001b[0m\u001b[0m\n\u001b[0;32m    132\u001b[0m             \u001b[1;32mif\u001b[0m \u001b[0missparse\u001b[0m\u001b[1;33m(\u001b[0m\u001b[0mX\u001b[0m\u001b[1;33m)\u001b[0m\u001b[1;33m:\u001b[0m\u001b[1;33m\u001b[0m\u001b[1;33m\u001b[0m\u001b[0m\n",
      "\u001b[1;32m~\\AppData\\Roaming\\Python\\Python37\\site-packages\\sklearn\\utils\\validation.py\u001b[0m in \u001b[0;36mcheck_array\u001b[1;34m(array, accept_sparse, accept_large_sparse, dtype, order, copy, force_all_finite, ensure_2d, allow_nd, ensure_min_samples, ensure_min_features, warn_on_dtype, estimator)\u001b[0m\n\u001b[0;32m    494\u001b[0m             \u001b[1;32mtry\u001b[0m\u001b[1;33m:\u001b[0m\u001b[1;33m\u001b[0m\u001b[1;33m\u001b[0m\u001b[0m\n\u001b[0;32m    495\u001b[0m                 \u001b[0mwarnings\u001b[0m\u001b[1;33m.\u001b[0m\u001b[0msimplefilter\u001b[0m\u001b[1;33m(\u001b[0m\u001b[1;34m'error'\u001b[0m\u001b[1;33m,\u001b[0m \u001b[0mComplexWarning\u001b[0m\u001b[1;33m)\u001b[0m\u001b[1;33m\u001b[0m\u001b[1;33m\u001b[0m\u001b[0m\n\u001b[1;32m--> 496\u001b[1;33m                 \u001b[0marray\u001b[0m \u001b[1;33m=\u001b[0m \u001b[0mnp\u001b[0m\u001b[1;33m.\u001b[0m\u001b[0masarray\u001b[0m\u001b[1;33m(\u001b[0m\u001b[0marray\u001b[0m\u001b[1;33m,\u001b[0m \u001b[0mdtype\u001b[0m\u001b[1;33m=\u001b[0m\u001b[0mdtype\u001b[0m\u001b[1;33m,\u001b[0m \u001b[0morder\u001b[0m\u001b[1;33m=\u001b[0m\u001b[0morder\u001b[0m\u001b[1;33m)\u001b[0m\u001b[1;33m\u001b[0m\u001b[1;33m\u001b[0m\u001b[0m\n\u001b[0m\u001b[0;32m    497\u001b[0m             \u001b[1;32mexcept\u001b[0m \u001b[0mComplexWarning\u001b[0m\u001b[1;33m:\u001b[0m\u001b[1;33m\u001b[0m\u001b[1;33m\u001b[0m\u001b[0m\n\u001b[0;32m    498\u001b[0m                 raise ValueError(\"Complex data not supported\\n\"\n",
      "\u001b[1;32mC:\\ProgramData\\Anaconda3\\lib\\site-packages\\numpy\\core\\numeric.py\u001b[0m in \u001b[0;36masarray\u001b[1;34m(a, dtype, order)\u001b[0m\n\u001b[0;32m    536\u001b[0m \u001b[1;33m\u001b[0m\u001b[0m\n\u001b[0;32m    537\u001b[0m     \"\"\"\n\u001b[1;32m--> 538\u001b[1;33m     \u001b[1;32mreturn\u001b[0m \u001b[0marray\u001b[0m\u001b[1;33m(\u001b[0m\u001b[0ma\u001b[0m\u001b[1;33m,\u001b[0m \u001b[0mdtype\u001b[0m\u001b[1;33m,\u001b[0m \u001b[0mcopy\u001b[0m\u001b[1;33m=\u001b[0m\u001b[1;32mFalse\u001b[0m\u001b[1;33m,\u001b[0m \u001b[0morder\u001b[0m\u001b[1;33m=\u001b[0m\u001b[0morder\u001b[0m\u001b[1;33m)\u001b[0m\u001b[1;33m\u001b[0m\u001b[1;33m\u001b[0m\u001b[0m\n\u001b[0m\u001b[0;32m    539\u001b[0m \u001b[1;33m\u001b[0m\u001b[0m\n\u001b[0;32m    540\u001b[0m \u001b[1;33m\u001b[0m\u001b[0m\n",
      "\u001b[1;31mValueError\u001b[0m: could not convert string to float: 'USA'"
     ]
    }
   ],
   "source": [
    "dtree4 = tree.DecisionTreeRegressor().fit(X4, y)"
   ]
  },
  {
   "cell_type": "code",
   "execution_count": 42,
   "metadata": {
    "slideshow": {
     "slide_type": "slide"
    }
   },
   "outputs": [],
   "source": [
    "data2=data.drop(['Name', 'Year'], axis='columns')"
   ]
  },
  {
   "cell_type": "code",
   "execution_count": 44,
   "metadata": {},
   "outputs": [
    {
     "data": {
      "text/plain": [
       "array(['USA', 'Japan', 'Europe'], dtype=object)"
      ]
     },
     "execution_count": 44,
     "metadata": {},
     "output_type": "execute_result"
    }
   ],
   "source": [
    "data2.Origin.unique()"
   ]
  },
  {
   "cell_type": "code",
   "execution_count": 46,
   "metadata": {
    "slideshow": {
     "slide_type": "slide"
    }
   },
   "outputs": [
    {
     "data": {
      "text/html": [
       "<div>\n",
       "<style scoped>\n",
       "    .dataframe tbody tr th:only-of-type {\n",
       "        vertical-align: middle;\n",
       "    }\n",
       "\n",
       "    .dataframe tbody tr th {\n",
       "        vertical-align: top;\n",
       "    }\n",
       "\n",
       "    .dataframe thead th {\n",
       "        text-align: right;\n",
       "    }\n",
       "</style>\n",
       "<table border=\"1\" class=\"dataframe\">\n",
       "  <thead>\n",
       "    <tr style=\"text-align: right;\">\n",
       "      <th></th>\n",
       "      <th>Acceleration</th>\n",
       "      <th>Cylinders</th>\n",
       "      <th>Displacement</th>\n",
       "      <th>Horsepower</th>\n",
       "      <th>Miles_per_Gallon</th>\n",
       "      <th>Weight_in_lbs</th>\n",
       "      <th>year</th>\n",
       "      <th>Origin_Europe</th>\n",
       "      <th>Origin_Japan</th>\n",
       "      <th>Origin_USA</th>\n",
       "    </tr>\n",
       "  </thead>\n",
       "  <tbody>\n",
       "    <tr>\n",
       "      <th>0</th>\n",
       "      <td>12.0</td>\n",
       "      <td>8</td>\n",
       "      <td>307.0</td>\n",
       "      <td>130.0</td>\n",
       "      <td>18.0</td>\n",
       "      <td>3504</td>\n",
       "      <td>1970</td>\n",
       "      <td>0</td>\n",
       "      <td>0</td>\n",
       "      <td>1</td>\n",
       "    </tr>\n",
       "    <tr>\n",
       "      <th>1</th>\n",
       "      <td>11.5</td>\n",
       "      <td>8</td>\n",
       "      <td>350.0</td>\n",
       "      <td>165.0</td>\n",
       "      <td>15.0</td>\n",
       "      <td>3693</td>\n",
       "      <td>1970</td>\n",
       "      <td>0</td>\n",
       "      <td>0</td>\n",
       "      <td>1</td>\n",
       "    </tr>\n",
       "    <tr>\n",
       "      <th>2</th>\n",
       "      <td>11.0</td>\n",
       "      <td>8</td>\n",
       "      <td>318.0</td>\n",
       "      <td>150.0</td>\n",
       "      <td>18.0</td>\n",
       "      <td>3436</td>\n",
       "      <td>1970</td>\n",
       "      <td>0</td>\n",
       "      <td>0</td>\n",
       "      <td>1</td>\n",
       "    </tr>\n",
       "    <tr>\n",
       "      <th>3</th>\n",
       "      <td>12.0</td>\n",
       "      <td>8</td>\n",
       "      <td>304.0</td>\n",
       "      <td>150.0</td>\n",
       "      <td>16.0</td>\n",
       "      <td>3433</td>\n",
       "      <td>1970</td>\n",
       "      <td>0</td>\n",
       "      <td>0</td>\n",
       "      <td>1</td>\n",
       "    </tr>\n",
       "    <tr>\n",
       "      <th>4</th>\n",
       "      <td>10.5</td>\n",
       "      <td>8</td>\n",
       "      <td>302.0</td>\n",
       "      <td>140.0</td>\n",
       "      <td>17.0</td>\n",
       "      <td>3449</td>\n",
       "      <td>1970</td>\n",
       "      <td>0</td>\n",
       "      <td>0</td>\n",
       "      <td>1</td>\n",
       "    </tr>\n",
       "  </tbody>\n",
       "</table>\n",
       "</div>"
      ],
      "text/plain": [
       "   Acceleration  Cylinders  Displacement  Horsepower  Miles_per_Gallon  \\\n",
       "0          12.0          8         307.0       130.0              18.0   \n",
       "1          11.5          8         350.0       165.0              15.0   \n",
       "2          11.0          8         318.0       150.0              18.0   \n",
       "3          12.0          8         304.0       150.0              16.0   \n",
       "4          10.5          8         302.0       140.0              17.0   \n",
       "\n",
       "   Weight_in_lbs  year  Origin_Europe  Origin_Japan  Origin_USA  \n",
       "0           3504  1970              0             0           1  \n",
       "1           3693  1970              0             0           1  \n",
       "2           3436  1970              0             0           1  \n",
       "3           3433  1970              0             0           1  \n",
       "4           3449  1970              0             0           1  "
      ]
     },
     "execution_count": 46,
     "metadata": {},
     "output_type": "execute_result"
    }
   ],
   "source": [
    "data3=pd.get_dummies(data2)\n",
    "data3.head()"
   ]
  },
  {
   "cell_type": "code",
   "execution_count": 47,
   "metadata": {
    "slideshow": {
     "slide_type": "slide"
    }
   },
   "outputs": [],
   "source": [
    "X4 = data3.drop('Miles_per_Gallon', axis='columns')\n",
    "y = data3['Miles_per_Gallon']"
   ]
  },
  {
   "cell_type": "code",
   "execution_count": 51,
   "metadata": {
    "slideshow": {
     "slide_type": "slide"
    }
   },
   "outputs": [],
   "source": [
    "dtree4 = tree.DecisionTreeRegressor(max_leaf_nodes=10).fit(X4, y)"
   ]
  },
  {
   "cell_type": "code",
   "execution_count": 53,
   "metadata": {},
   "outputs": [
    {
     "data": {
      "text/plain": [
       "array([0.        , 0.        , 0.67157188, 0.18566642, 0.04327679,\n",
       "       0.09948491, 0.        , 0.        , 0.        ])"
      ]
     },
     "execution_count": 53,
     "metadata": {},
     "output_type": "execute_result"
    }
   ],
   "source": [
    "dtree4.feature_importances_"
   ]
  },
  {
   "cell_type": "code",
   "execution_count": 52,
   "metadata": {
    "scrolled": false,
    "slideshow": {
     "slide_type": "slide"
    }
   },
   "outputs": [
    {
     "name": "stdout",
     "output_type": "stream",
     "text": [
      "digraph Tree {\n",
      "node [shape=box] ;\n",
      "0 [label=\"Displacement <= 190.5\\nmse = 60.763\\nsamples = 392\\nvalue = 23.446\"] ;\n",
      "1 [label=\"Horsepower <= 70.5\\nmse = 35.072\\nsamples = 222\\nvalue = 28.642\"] ;\n",
      "0 -> 1 [labeldistance=2.5, labelangle=45, headlabel=\"True\"] ;\n",
      "3 [label=\"year <= 1977.5\\nmse = 25.405\\nsamples = 71\\nvalue = 33.666\"] ;\n",
      "1 -> 3 ;\n",
      "9 [label=\"mse = 10.009\\nsamples = 28\\nvalue = 29.75\"] ;\n",
      "3 -> 9 ;\n",
      "10 [label=\"Horsepower <= 50.0\\nmse = 18.941\\nsamples = 43\\nvalue = 36.216\"] ;\n",
      "3 -> 10 ;\n",
      "17 [label=\"mse = 0.26\\nsamples = 3\\nvalue = 43.6\"] ;\n",
      "10 -> 17 ;\n",
      "18 [label=\"mse = 15.947\\nsamples = 40\\nvalue = 35.662\"] ;\n",
      "10 -> 18 ;\n",
      "4 [label=\"year <= 1978.5\\nmse = 22.169\\nsamples = 151\\nvalue = 26.28\"] ;\n",
      "1 -> 4 ;\n",
      "5 [label=\"Weight_in_lbs <= 2305.0\\nmse = 13.001\\nsamples = 94\\nvalue = 24.12\"] ;\n",
      "4 -> 5 ;\n",
      "11 [label=\"mse = 9.286\\nsamples = 39\\nvalue = 26.708\"] ;\n",
      "5 -> 11 ;\n",
      "12 [label=\"mse = 7.521\\nsamples = 55\\nvalue = 22.285\"] ;\n",
      "5 -> 12 ;\n",
      "6 [label=\"Weight_in_lbs <= 2580.0\\nmse = 16.908\\nsamples = 57\\nvalue = 29.842\"] ;\n",
      "4 -> 6 ;\n",
      "13 [label=\"mse = 12.26\\nsamples = 24\\nvalue = 33.117\"] ;\n",
      "6 -> 13 ;\n",
      "14 [label=\"mse = 6.818\\nsamples = 33\\nvalue = 27.461\"] ;\n",
      "6 -> 14 ;\n",
      "2 [label=\"Horsepower <= 127.0\\nmse = 13.001\\nsamples = 170\\nvalue = 16.66\"] ;\n",
      "0 -> 2 [labeldistance=2.5, labelangle=-45, headlabel=\"False\"] ;\n",
      "7 [label=\"mse = 10.026\\nsamples = 74\\nvalue = 19.438\"] ;\n",
      "2 -> 7 ;\n",
      "8 [label=\"year <= 1976.5\\nmse = 4.761\\nsamples = 96\\nvalue = 14.519\"] ;\n",
      "2 -> 8 ;\n",
      "15 [label=\"mse = 3.136\\nsamples = 76\\nvalue = 13.822\"] ;\n",
      "8 -> 15 ;\n",
      "16 [label=\"mse = 2.09\\nsamples = 20\\nvalue = 17.165\"] ;\n",
      "8 -> 16 ;\n",
      "}\n"
     ]
    }
   ],
   "source": [
    "print(tree.export_graphviz(dtree4, feature_names=X4.columns))"
   ]
  },
  {
   "cell_type": "code",
   "execution_count": null,
   "metadata": {
    "slideshow": {
     "slide_type": "slide"
    }
   },
   "outputs": [],
   "source": []
  },
  {
   "cell_type": "code",
   "execution_count": null,
   "metadata": {},
   "outputs": [],
   "source": []
  }
 ],
 "metadata": {
  "celltoolbar": "Slideshow",
  "kernelspec": {
   "display_name": "Python 3",
   "language": "python",
   "name": "python3"
  },
  "language_info": {
   "codemirror_mode": {
    "name": "ipython",
    "version": 3
   },
   "file_extension": ".py",
   "mimetype": "text/x-python",
   "name": "python",
   "nbconvert_exporter": "python",
   "pygments_lexer": "ipython3",
   "version": "3.7.3"
  }
 },
 "nbformat": 4,
 "nbformat_minor": 2
}
