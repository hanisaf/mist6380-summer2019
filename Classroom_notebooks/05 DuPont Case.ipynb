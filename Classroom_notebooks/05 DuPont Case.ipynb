{
 "cells": [
  {
   "cell_type": "code",
   "execution_count": 31,
   "metadata": {},
   "outputs": [],
   "source": [
    "import pandas as pd\n",
    "import numpy as np"
   ]
  },
  {
   "cell_type": "markdown",
   "metadata": {},
   "source": [
    "Download the EY DuPont Excel Spreadsheet from eLC `Analytics_mindset_case_studies_DuPont`\n",
    "\n",
    "Load the spreadsheet into pandas"
   ]
  },
  {
   "cell_type": "code",
   "execution_count": 4,
   "metadata": {},
   "outputs": [],
   "source": [
    "data =data1 = pd.read_excel('Analytics_mindset_case_studies_DuPont.xls', sheet_name='Balance Sheet Data')"
   ]
  },
  {
   "cell_type": "code",
   "execution_count": 3,
   "metadata": {},
   "outputs": [
    {
     "data": {
      "text/plain": [
       "(523, 33)"
      ]
     },
     "execution_count": 3,
     "metadata": {},
     "output_type": "execute_result"
    }
   ],
   "source": [
    "data1.shape"
   ]
  },
  {
   "cell_type": "code",
   "execution_count": 4,
   "metadata": {},
   "outputs": [
    {
     "data": {
      "text/plain": [
       "Ticker                                  object\n",
       "Name                                    object\n",
       "Industry                                object\n",
       "Year                                     int64\n",
       "Financial Statement                     object\n",
       "Cash                                   float64\n",
       "Short Term Investment Cash             float64\n",
       "Cash & Short Term Investments          float64\n",
       "Accounts Receivables                   float64\n",
       "Inventories                            float64\n",
       "Other Current Assets                   float64\n",
       "Total Current Assets                   float64\n",
       "Gross Property, Plant and Equipment    float64\n",
       "Total Depreciation                     float64\n",
       "Intangible Assets                      float64\n",
       "Total Other Assets                     float64\n",
       "Total Assets                             int64\n",
       "Accounts Payable                         int64\n",
       "Short Term Debt                        float64\n",
       "Accrued Expenses (Liability)           float64\n",
       "Other Current Liabilities                int64\n",
       "Other Liabilities                      float64\n",
       "Long Term Debt                           int64\n",
       "Deferred Taxes (Liability)               int64\n",
       "Other Liabilities.1                      int64\n",
       "Total Liabilities                        int64\n",
       "Minority Interest (Equity)               int64\n",
       "Preferred Stock (Equity)                 int64\n",
       "Common Equity                            int64\n",
       "Total Shareholder Equity                 int64\n",
       "Common Shares Outstanding              float64\n",
       "Prepaid Expenses                       float64\n",
       "Cash Due From Banks (Asset)              int64\n",
       "dtype: object"
      ]
     },
     "execution_count": 4,
     "metadata": {},
     "output_type": "execute_result"
    }
   ],
   "source": [
    "data1.dtypes"
   ]
  },
  {
   "cell_type": "code",
   "execution_count": 5,
   "metadata": {},
   "outputs": [
    {
     "data": {
      "text/html": [
       "<div>\n",
       "<style scoped>\n",
       "    .dataframe tbody tr th:only-of-type {\n",
       "        vertical-align: middle;\n",
       "    }\n",
       "\n",
       "    .dataframe tbody tr th {\n",
       "        vertical-align: top;\n",
       "    }\n",
       "\n",
       "    .dataframe thead th {\n",
       "        text-align: right;\n",
       "    }\n",
       "</style>\n",
       "<table border=\"1\" class=\"dataframe\">\n",
       "  <thead>\n",
       "    <tr style=\"text-align: right;\">\n",
       "      <th></th>\n",
       "      <th>Ticker</th>\n",
       "      <th>Name</th>\n",
       "      <th>Industry</th>\n",
       "      <th>Year</th>\n",
       "      <th>Financial Statement</th>\n",
       "      <th>Cash</th>\n",
       "      <th>Short Term Investment Cash</th>\n",
       "      <th>Cash &amp; Short Term Investments</th>\n",
       "      <th>Accounts Receivables</th>\n",
       "      <th>Inventories</th>\n",
       "      <th>...</th>\n",
       "      <th>Deferred Taxes (Liability)</th>\n",
       "      <th>Other Liabilities.1</th>\n",
       "      <th>Total Liabilities</th>\n",
       "      <th>Minority Interest (Equity)</th>\n",
       "      <th>Preferred Stock (Equity)</th>\n",
       "      <th>Common Equity</th>\n",
       "      <th>Total Shareholder Equity</th>\n",
       "      <th>Common Shares Outstanding</th>\n",
       "      <th>Prepaid Expenses</th>\n",
       "      <th>Cash Due From Banks (Asset)</th>\n",
       "    </tr>\n",
       "  </thead>\n",
       "  <tbody>\n",
       "    <tr>\n",
       "      <th>0</th>\n",
       "      <td>AAL</td>\n",
       "      <td>American Airlines Group Inc.</td>\n",
       "      <td>Transportation</td>\n",
       "      <td>2013</td>\n",
       "      <td>Balance Sheet</td>\n",
       "      <td>2.200000e+09</td>\n",
       "      <td>6.600000e+08</td>\n",
       "      <td>1.030000e+10</td>\n",
       "      <td>1.600000e+09</td>\n",
       "      <td>1.000000e+09</td>\n",
       "      <td>...</td>\n",
       "      <td>0</td>\n",
       "      <td>5300000000</td>\n",
       "      <td>45000000000</td>\n",
       "      <td>0</td>\n",
       "      <td>0</td>\n",
       "      <td>-2700000000</td>\n",
       "      <td>-2700000000</td>\n",
       "      <td>2.611000e+08</td>\n",
       "      <td>0.0</td>\n",
       "      <td>0</td>\n",
       "    </tr>\n",
       "    <tr>\n",
       "      <th>1</th>\n",
       "      <td>AAL</td>\n",
       "      <td>American Airlines Group Inc.</td>\n",
       "      <td>Transportation</td>\n",
       "      <td>2014</td>\n",
       "      <td>Balance Sheet</td>\n",
       "      <td>2.700000e+09</td>\n",
       "      <td>-1.460000e+08</td>\n",
       "      <td>8.100000e+09</td>\n",
       "      <td>1.800000e+09</td>\n",
       "      <td>1.000000e+09</td>\n",
       "      <td>...</td>\n",
       "      <td>0</td>\n",
       "      <td>3400000000</td>\n",
       "      <td>41800000000</td>\n",
       "      <td>0</td>\n",
       "      <td>0</td>\n",
       "      <td>2000000000</td>\n",
       "      <td>2000000000</td>\n",
       "      <td>6.975000e+08</td>\n",
       "      <td>0.0</td>\n",
       "      <td>0</td>\n",
       "    </tr>\n",
       "    <tr>\n",
       "      <th>2</th>\n",
       "      <td>AAL</td>\n",
       "      <td>American Airlines Group Inc.</td>\n",
       "      <td>Transportation</td>\n",
       "      <td>2015</td>\n",
       "      <td>Balance Sheet</td>\n",
       "      <td>2.100000e+09</td>\n",
       "      <td>-6.830000e+08</td>\n",
       "      <td>6.900000e+09</td>\n",
       "      <td>1.400000e+09</td>\n",
       "      <td>8.630000e+08</td>\n",
       "      <td>...</td>\n",
       "      <td>-2500000000</td>\n",
       "      <td>2500000000</td>\n",
       "      <td>42800000000</td>\n",
       "      <td>0</td>\n",
       "      <td>0</td>\n",
       "      <td>5600000000</td>\n",
       "      <td>5600000000</td>\n",
       "      <td>6.246000e+08</td>\n",
       "      <td>0.0</td>\n",
       "      <td>0</td>\n",
       "    </tr>\n",
       "    <tr>\n",
       "      <th>3</th>\n",
       "      <td>AAPL</td>\n",
       "      <td>Apple Inc.</td>\n",
       "      <td>Technology</td>\n",
       "      <td>2013</td>\n",
       "      <td>Balance Sheet</td>\n",
       "      <td>8.700000e+09</td>\n",
       "      <td>3.500000e+09</td>\n",
       "      <td>4.050000e+10</td>\n",
       "      <td>2.060000e+10</td>\n",
       "      <td>1.800000e+09</td>\n",
       "      <td>...</td>\n",
       "      <td>-16500000000</td>\n",
       "      <td>3700000000</td>\n",
       "      <td>83500000000</td>\n",
       "      <td>0</td>\n",
       "      <td>0</td>\n",
       "      <td>123500000000</td>\n",
       "      <td>123500000000</td>\n",
       "      <td>6.300000e+09</td>\n",
       "      <td>NaN</td>\n",
       "      <td>0</td>\n",
       "    </tr>\n",
       "    <tr>\n",
       "      <th>4</th>\n",
       "      <td>AAPL</td>\n",
       "      <td>Apple Inc.</td>\n",
       "      <td>Technology</td>\n",
       "      <td>2014</td>\n",
       "      <td>Balance Sheet</td>\n",
       "      <td>1.020000e+10</td>\n",
       "      <td>-4.150000e+08</td>\n",
       "      <td>2.510000e+10</td>\n",
       "      <td>2.720000e+10</td>\n",
       "      <td>2.100000e+09</td>\n",
       "      <td>...</td>\n",
       "      <td>-20300000000</td>\n",
       "      <td>4600000000</td>\n",
       "      <td>120300000000</td>\n",
       "      <td>0</td>\n",
       "      <td>0</td>\n",
       "      <td>111500000000</td>\n",
       "      <td>111500000000</td>\n",
       "      <td>5.900000e+09</td>\n",
       "      <td>NaN</td>\n",
       "      <td>0</td>\n",
       "    </tr>\n",
       "  </tbody>\n",
       "</table>\n",
       "<p>5 rows × 33 columns</p>\n",
       "</div>"
      ],
      "text/plain": [
       "  Ticker                          Name        Industry  Year  \\\n",
       "0    AAL  American Airlines Group Inc.  Transportation  2013   \n",
       "1    AAL  American Airlines Group Inc.  Transportation  2014   \n",
       "2    AAL  American Airlines Group Inc.  Transportation  2015   \n",
       "3   AAPL                    Apple Inc.      Technology  2013   \n",
       "4   AAPL                    Apple Inc.      Technology  2014   \n",
       "\n",
       "  Financial Statement          Cash  Short Term Investment Cash  \\\n",
       "0       Balance Sheet  2.200000e+09                6.600000e+08   \n",
       "1       Balance Sheet  2.700000e+09               -1.460000e+08   \n",
       "2       Balance Sheet  2.100000e+09               -6.830000e+08   \n",
       "3       Balance Sheet  8.700000e+09                3.500000e+09   \n",
       "4       Balance Sheet  1.020000e+10               -4.150000e+08   \n",
       "\n",
       "   Cash & Short Term Investments  Accounts Receivables   Inventories  ...  \\\n",
       "0                   1.030000e+10          1.600000e+09  1.000000e+09  ...   \n",
       "1                   8.100000e+09          1.800000e+09  1.000000e+09  ...   \n",
       "2                   6.900000e+09          1.400000e+09  8.630000e+08  ...   \n",
       "3                   4.050000e+10          2.060000e+10  1.800000e+09  ...   \n",
       "4                   2.510000e+10          2.720000e+10  2.100000e+09  ...   \n",
       "\n",
       "   Deferred Taxes (Liability)  Other Liabilities.1  Total Liabilities  \\\n",
       "0                           0           5300000000        45000000000   \n",
       "1                           0           3400000000        41800000000   \n",
       "2                 -2500000000           2500000000        42800000000   \n",
       "3                -16500000000           3700000000        83500000000   \n",
       "4                -20300000000           4600000000       120300000000   \n",
       "\n",
       "   Minority Interest (Equity)  Preferred Stock (Equity)  Common Equity  \\\n",
       "0                           0                         0    -2700000000   \n",
       "1                           0                         0     2000000000   \n",
       "2                           0                         0     5600000000   \n",
       "3                           0                         0   123500000000   \n",
       "4                           0                         0   111500000000   \n",
       "\n",
       "   Total Shareholder Equity  Common Shares Outstanding  Prepaid Expenses  \\\n",
       "0               -2700000000               2.611000e+08               0.0   \n",
       "1                2000000000               6.975000e+08               0.0   \n",
       "2                5600000000               6.246000e+08               0.0   \n",
       "3              123500000000               6.300000e+09               NaN   \n",
       "4              111500000000               5.900000e+09               NaN   \n",
       "\n",
       "   Cash Due From Banks (Asset)  \n",
       "0                            0  \n",
       "1                            0  \n",
       "2                            0  \n",
       "3                            0  \n",
       "4                            0  \n",
       "\n",
       "[5 rows x 33 columns]"
      ]
     },
     "execution_count": 5,
     "metadata": {},
     "output_type": "execute_result"
    }
   ],
   "source": [
    "data1.head()"
   ]
  },
  {
   "cell_type": "markdown",
   "metadata": {},
   "source": [
    "1- What is the average of Cash across all observations?"
   ]
  },
  {
   "cell_type": "code",
   "execution_count": 6,
   "metadata": {},
   "outputs": [
    {
     "data": {
      "text/plain": [
       "1762267160.1960785"
      ]
     },
     "execution_count": 6,
     "metadata": {},
     "output_type": "execute_result"
    }
   ],
   "source": [
    "data.Cash.mean()"
   ]
  },
  {
   "cell_type": "code",
   "execution_count": 8,
   "metadata": {},
   "outputs": [
    {
     "data": {
      "text/plain": [
       "1762267160.1960785"
      ]
     },
     "execution_count": 8,
     "metadata": {},
     "output_type": "execute_result"
    }
   ],
   "source": [
    "data.mean().Cash"
   ]
  },
  {
   "cell_type": "markdown",
   "metadata": {},
   "source": [
    "2- Using hirearchical indexing, what is the average of Cash per Industry?"
   ]
  },
  {
   "cell_type": "code",
   "execution_count": 15,
   "metadata": {},
   "outputs": [
    {
     "data": {
      "text/plain": [
       "Industry\n",
       "Transportation       6.879578e+08\n",
       "Technology           3.248366e+09\n",
       "Public Utilities     2.122944e+09\n",
       "Capital Goods        2.778978e+09\n",
       "Finance              5.223418e+07\n",
       "Consumer Services    1.682941e+09\n",
       "Name: Cash, dtype: float64"
      ]
     },
     "execution_count": 15,
     "metadata": {},
     "output_type": "execute_result"
    }
   ],
   "source": [
    "data.set_index('Industry').Cash.mean(level='Industry')"
   ]
  },
  {
   "cell_type": "markdown",
   "metadata": {},
   "source": [
    "3- Using hirearchical indexing, what is the average of Cash per Industry and Year?"
   ]
  },
  {
   "cell_type": "code",
   "execution_count": 47,
   "metadata": {},
   "outputs": [
    {
     "data": {
      "text/plain": [
       "Year  Industry         \n",
       "2013  Transportation       8.391607e+08\n",
       "2014  Transportation       6.225001e+08\n",
       "2015  Transportation       6.101110e+08\n",
       "2013  Technology           2.746511e+09\n",
       "2014  Technology           3.219600e+09\n",
       "2015  Technology           3.727844e+09\n",
       "2013  Public Utilities     3.140372e+09\n",
       "2014  Public Utilities     1.987169e+09\n",
       "2015  Public Utilities     1.276374e+09\n",
       "2013  Capital Goods        2.905749e+09\n",
       "2014  Capital Goods        2.584066e+09\n",
       "2015  Capital Goods        2.854079e+09\n",
       "2013  Finance              4.983160e+07\n",
       "2014  Finance              4.952483e+07\n",
       "2015  Finance              5.744286e+07\n",
       "2013  Consumer Services    1.618581e+09\n",
       "2014  Consumer Services    1.675891e+09\n",
       "2015  Consumer Services    1.744988e+09\n",
       "Name: Cash, dtype: float64"
      ]
     },
     "execution_count": 47,
     "metadata": {},
     "output_type": "execute_result"
    }
   ],
   "source": [
    "res=data.set_index(['Industry', 'Year']).Cash.mean(level=['Year', 'Industry'])\n",
    "res"
   ]
  },
  {
   "cell_type": "code",
   "execution_count": 24,
   "metadata": {},
   "outputs": [
    {
     "data": {
      "text/html": [
       "<div>\n",
       "<style scoped>\n",
       "    .dataframe tbody tr th:only-of-type {\n",
       "        vertical-align: middle;\n",
       "    }\n",
       "\n",
       "    .dataframe tbody tr th {\n",
       "        vertical-align: top;\n",
       "    }\n",
       "\n",
       "    .dataframe thead th {\n",
       "        text-align: right;\n",
       "    }\n",
       "</style>\n",
       "<table border=\"1\" class=\"dataframe\">\n",
       "  <thead>\n",
       "    <tr style=\"text-align: right;\">\n",
       "      <th>Year</th>\n",
       "      <th>2013</th>\n",
       "      <th>2014</th>\n",
       "      <th>2015</th>\n",
       "    </tr>\n",
       "    <tr>\n",
       "      <th>Industry</th>\n",
       "      <th></th>\n",
       "      <th></th>\n",
       "      <th></th>\n",
       "    </tr>\n",
       "  </thead>\n",
       "  <tbody>\n",
       "    <tr>\n",
       "      <th>Capital Goods</th>\n",
       "      <td>2.905749e+09</td>\n",
       "      <td>2.584066e+09</td>\n",
       "      <td>2.854079e+09</td>\n",
       "    </tr>\n",
       "    <tr>\n",
       "      <th>Consumer Services</th>\n",
       "      <td>1.618581e+09</td>\n",
       "      <td>1.675891e+09</td>\n",
       "      <td>1.744988e+09</td>\n",
       "    </tr>\n",
       "    <tr>\n",
       "      <th>Finance</th>\n",
       "      <td>4.983160e+07</td>\n",
       "      <td>4.952483e+07</td>\n",
       "      <td>5.744286e+07</td>\n",
       "    </tr>\n",
       "    <tr>\n",
       "      <th>Public Utilities</th>\n",
       "      <td>3.140372e+09</td>\n",
       "      <td>1.987169e+09</td>\n",
       "      <td>1.276374e+09</td>\n",
       "    </tr>\n",
       "    <tr>\n",
       "      <th>Technology</th>\n",
       "      <td>2.746511e+09</td>\n",
       "      <td>3.219600e+09</td>\n",
       "      <td>3.727844e+09</td>\n",
       "    </tr>\n",
       "    <tr>\n",
       "      <th>Transportation</th>\n",
       "      <td>8.391607e+08</td>\n",
       "      <td>6.225001e+08</td>\n",
       "      <td>6.101110e+08</td>\n",
       "    </tr>\n",
       "  </tbody>\n",
       "</table>\n",
       "</div>"
      ],
      "text/plain": [
       "Year                       2013          2014          2015\n",
       "Industry                                                   \n",
       "Capital Goods      2.905749e+09  2.584066e+09  2.854079e+09\n",
       "Consumer Services  1.618581e+09  1.675891e+09  1.744988e+09\n",
       "Finance            4.983160e+07  4.952483e+07  5.744286e+07\n",
       "Public Utilities   3.140372e+09  1.987169e+09  1.276374e+09\n",
       "Technology         2.746511e+09  3.219600e+09  3.727844e+09\n",
       "Transportation     8.391607e+08  6.225001e+08  6.101110e+08"
      ]
     },
     "execution_count": 24,
     "metadata": {},
     "output_type": "execute_result"
    }
   ],
   "source": [
    "res.unstack('Year')"
   ]
  },
  {
   "cell_type": "code",
   "execution_count": null,
   "metadata": {},
   "outputs": [],
   "source": []
  },
  {
   "cell_type": "markdown",
   "metadata": {},
   "source": [
    "4- Assuming entries of `0` are missing data, replace these entries with NaN"
   ]
  },
  {
   "cell_type": "code",
   "execution_count": 33,
   "metadata": {},
   "outputs": [],
   "source": [
    "data['Cash2'] = data.Cash.replace(0, np.nan)"
   ]
  },
  {
   "cell_type": "markdown",
   "metadata": {},
   "source": [
    "5- Do you answers of 1, 2, 3 change?"
   ]
  },
  {
   "cell_type": "code",
   "execution_count": null,
   "metadata": {},
   "outputs": [],
   "source": [
    "data.Cash.mean()"
   ]
  },
  {
   "cell_type": "code",
   "execution_count": null,
   "metadata": {},
   "outputs": [],
   "source": [
    "data.Cash2.mean()"
   ]
  },
  {
   "cell_type": "code",
   "execution_count": 37,
   "metadata": {},
   "outputs": [
    {
     "data": {
      "text/plain": [
       "2024225792.1171172"
      ]
     },
     "execution_count": 37,
     "metadata": {},
     "output_type": "execute_result"
    }
   ],
   "source": [
    "data.Cash2.dropna().mean()"
   ]
  },
  {
   "cell_type": "code",
   "execution_count": 41,
   "metadata": {},
   "outputs": [
    {
     "data": {
      "text/html": [
       "<div>\n",
       "<style scoped>\n",
       "    .dataframe tbody tr th:only-of-type {\n",
       "        vertical-align: middle;\n",
       "    }\n",
       "\n",
       "    .dataframe tbody tr th {\n",
       "        vertical-align: top;\n",
       "    }\n",
       "\n",
       "    .dataframe thead th {\n",
       "        text-align: right;\n",
       "    }\n",
       "</style>\n",
       "<table border=\"1\" class=\"dataframe\">\n",
       "  <thead>\n",
       "    <tr style=\"text-align: right;\">\n",
       "      <th></th>\n",
       "      <th>Cash</th>\n",
       "      <th>Cash2</th>\n",
       "    </tr>\n",
       "    <tr>\n",
       "      <th>Industry</th>\n",
       "      <th></th>\n",
       "      <th></th>\n",
       "    </tr>\n",
       "  </thead>\n",
       "  <tbody>\n",
       "    <tr>\n",
       "      <th>Transportation</th>\n",
       "      <td>6.879578e+08</td>\n",
       "      <td>7.125278e+08</td>\n",
       "    </tr>\n",
       "    <tr>\n",
       "      <th>Technology</th>\n",
       "      <td>3.248366e+09</td>\n",
       "      <td>3.248366e+09</td>\n",
       "    </tr>\n",
       "    <tr>\n",
       "      <th>Public Utilities</th>\n",
       "      <td>2.122944e+09</td>\n",
       "      <td>2.122944e+09</td>\n",
       "    </tr>\n",
       "    <tr>\n",
       "      <th>Capital Goods</th>\n",
       "      <td>2.778978e+09</td>\n",
       "      <td>2.778978e+09</td>\n",
       "    </tr>\n",
       "    <tr>\n",
       "      <th>Finance</th>\n",
       "      <td>5.223418e+07</td>\n",
       "      <td>2.018139e+08</td>\n",
       "    </tr>\n",
       "    <tr>\n",
       "      <th>Consumer Services</th>\n",
       "      <td>1.682941e+09</td>\n",
       "      <td>1.682941e+09</td>\n",
       "    </tr>\n",
       "  </tbody>\n",
       "</table>\n",
       "</div>"
      ],
      "text/plain": [
       "                           Cash         Cash2\n",
       "Industry                                     \n",
       "Transportation     6.879578e+08  7.125278e+08\n",
       "Technology         3.248366e+09  3.248366e+09\n",
       "Public Utilities   2.122944e+09  2.122944e+09\n",
       "Capital Goods      2.778978e+09  2.778978e+09\n",
       "Finance            5.223418e+07  2.018139e+08\n",
       "Consumer Services  1.682941e+09  1.682941e+09"
      ]
     },
     "execution_count": 41,
     "metadata": {},
     "output_type": "execute_result"
    }
   ],
   "source": [
    "data.set_index('Industry')[['Cash', 'Cash2']].mean(level='Industry')"
   ]
  },
  {
   "cell_type": "code",
   "execution_count": 48,
   "metadata": {},
   "outputs": [],
   "source": [
    "res2=data.set_index(['Industry', 'Year'])[['Cash', 'Cash2']].mean(level=['Year', 'Industry'])"
   ]
  },
  {
   "cell_type": "code",
   "execution_count": 49,
   "metadata": {},
   "outputs": [
    {
     "data": {
      "text/html": [
       "<div>\n",
       "<style scoped>\n",
       "    .dataframe tbody tr th:only-of-type {\n",
       "        vertical-align: middle;\n",
       "    }\n",
       "\n",
       "    .dataframe tbody tr th {\n",
       "        vertical-align: top;\n",
       "    }\n",
       "\n",
       "    .dataframe thead tr th {\n",
       "        text-align: left;\n",
       "    }\n",
       "\n",
       "    .dataframe thead tr:last-of-type th {\n",
       "        text-align: right;\n",
       "    }\n",
       "</style>\n",
       "<table border=\"1\" class=\"dataframe\">\n",
       "  <thead>\n",
       "    <tr>\n",
       "      <th></th>\n",
       "      <th colspan=\"3\" halign=\"left\">Cash</th>\n",
       "      <th colspan=\"3\" halign=\"left\">Cash2</th>\n",
       "    </tr>\n",
       "    <tr>\n",
       "      <th>Year</th>\n",
       "      <th>2013</th>\n",
       "      <th>2014</th>\n",
       "      <th>2015</th>\n",
       "      <th>2013</th>\n",
       "      <th>2014</th>\n",
       "      <th>2015</th>\n",
       "    </tr>\n",
       "    <tr>\n",
       "      <th>Industry</th>\n",
       "      <th></th>\n",
       "      <th></th>\n",
       "      <th></th>\n",
       "      <th></th>\n",
       "      <th></th>\n",
       "      <th></th>\n",
       "    </tr>\n",
       "  </thead>\n",
       "  <tbody>\n",
       "    <tr>\n",
       "      <th>Capital Goods</th>\n",
       "      <td>2.905749e+09</td>\n",
       "      <td>2.584066e+09</td>\n",
       "      <td>2.854079e+09</td>\n",
       "      <td>2.905749e+09</td>\n",
       "      <td>2.584066e+09</td>\n",
       "      <td>2.854079e+09</td>\n",
       "    </tr>\n",
       "    <tr>\n",
       "      <th>Consumer Services</th>\n",
       "      <td>1.618581e+09</td>\n",
       "      <td>1.675891e+09</td>\n",
       "      <td>1.744988e+09</td>\n",
       "      <td>1.618581e+09</td>\n",
       "      <td>1.675891e+09</td>\n",
       "      <td>1.744988e+09</td>\n",
       "    </tr>\n",
       "    <tr>\n",
       "      <th>Finance</th>\n",
       "      <td>4.983160e+07</td>\n",
       "      <td>4.952483e+07</td>\n",
       "      <td>5.744286e+07</td>\n",
       "      <td>1.993264e+08</td>\n",
       "      <td>1.795275e+08</td>\n",
       "      <td>2.297714e+08</td>\n",
       "    </tr>\n",
       "    <tr>\n",
       "      <th>Public Utilities</th>\n",
       "      <td>3.140372e+09</td>\n",
       "      <td>1.987169e+09</td>\n",
       "      <td>1.276374e+09</td>\n",
       "      <td>3.140372e+09</td>\n",
       "      <td>1.987169e+09</td>\n",
       "      <td>1.276374e+09</td>\n",
       "    </tr>\n",
       "    <tr>\n",
       "      <th>Technology</th>\n",
       "      <td>2.746511e+09</td>\n",
       "      <td>3.219600e+09</td>\n",
       "      <td>3.727844e+09</td>\n",
       "      <td>2.746511e+09</td>\n",
       "      <td>3.219600e+09</td>\n",
       "      <td>3.727844e+09</td>\n",
       "    </tr>\n",
       "    <tr>\n",
       "      <th>Transportation</th>\n",
       "      <td>8.391607e+08</td>\n",
       "      <td>6.225001e+08</td>\n",
       "      <td>6.101110e+08</td>\n",
       "      <td>8.702407e+08</td>\n",
       "      <td>6.447322e+08</td>\n",
       "      <td>6.311493e+08</td>\n",
       "    </tr>\n",
       "  </tbody>\n",
       "</table>\n",
       "</div>"
      ],
      "text/plain": [
       "                           Cash                                     Cash2  \\\n",
       "Year                       2013          2014          2015          2013   \n",
       "Industry                                                                    \n",
       "Capital Goods      2.905749e+09  2.584066e+09  2.854079e+09  2.905749e+09   \n",
       "Consumer Services  1.618581e+09  1.675891e+09  1.744988e+09  1.618581e+09   \n",
       "Finance            4.983160e+07  4.952483e+07  5.744286e+07  1.993264e+08   \n",
       "Public Utilities   3.140372e+09  1.987169e+09  1.276374e+09  3.140372e+09   \n",
       "Technology         2.746511e+09  3.219600e+09  3.727844e+09  2.746511e+09   \n",
       "Transportation     8.391607e+08  6.225001e+08  6.101110e+08  8.702407e+08   \n",
       "\n",
       "                                               \n",
       "Year                       2014          2015  \n",
       "Industry                                       \n",
       "Capital Goods      2.584066e+09  2.854079e+09  \n",
       "Consumer Services  1.675891e+09  1.744988e+09  \n",
       "Finance            1.795275e+08  2.297714e+08  \n",
       "Public Utilities   1.987169e+09  1.276374e+09  \n",
       "Technology         3.219600e+09  3.727844e+09  \n",
       "Transportation     6.447322e+08  6.311493e+08  "
      ]
     },
     "execution_count": 49,
     "metadata": {},
     "output_type": "execute_result"
    }
   ],
   "source": [
    "res2.unstack('Year')"
   ]
  },
  {
   "cell_type": "code",
   "execution_count": 50,
   "metadata": {},
   "outputs": [
    {
     "data": {
      "text/plain": [
       "MultiIndex(levels=[['Cash', 'Cash2'], [2013, 2014, 2015]],\n",
       "           codes=[[0, 0, 0, 1, 1, 1], [0, 1, 2, 0, 1, 2]],\n",
       "           names=[None, 'Year'])"
      ]
     },
     "execution_count": 50,
     "metadata": {},
     "output_type": "execute_result"
    }
   ],
   "source": [
    "_.columns"
   ]
  },
  {
   "cell_type": "markdown",
   "metadata": {},
   "source": [
    "6- Replace missing values with the average Cash per Industry, and re-answer 1, 2, 3"
   ]
  },
  {
   "cell_type": "code",
   "execution_count": 79,
   "metadata": {},
   "outputs": [
    {
     "data": {
      "text/plain": [
       "Industry\n",
       "Transportation       7.125278e+08\n",
       "Technology           3.248366e+09\n",
       "Public Utilities     2.122944e+09\n",
       "Capital Goods        2.778978e+09\n",
       "Finance              2.018139e+08\n",
       "Consumer Services    1.682941e+09\n",
       "Name: Cash2, dtype: float64"
      ]
     },
     "execution_count": 79,
     "metadata": {},
     "output_type": "execute_result"
    }
   ],
   "source": [
    "data1.set_index('Industry').Cash2.mean(level='Industry')"
   ]
  },
  {
   "cell_type": "code",
   "execution_count": 66,
   "metadata": {},
   "outputs": [],
   "source": [
    "replacement=data.set_index('Industry').Cash2.mean(level='Industry')"
   ]
  },
  {
   "cell_type": "code",
   "execution_count": 70,
   "metadata": {},
   "outputs": [],
   "source": [
    "data2 = data.set_index('Industry')"
   ]
  },
  {
   "cell_type": "code",
   "execution_count": 71,
   "metadata": {},
   "outputs": [],
   "source": [
    "data2['Cash3'] = data.set_index('Industry').Cash2.fillna(replacement)"
   ]
  },
  {
   "cell_type": "code",
   "execution_count": 80,
   "metadata": {},
   "outputs": [
    {
     "data": {
      "text/plain": [
       "Cash     1.762267e+09\n",
       "Cash2    2.024226e+09\n",
       "Cash3    1.798074e+09\n",
       "dtype: float64"
      ]
     },
     "execution_count": 80,
     "metadata": {},
     "output_type": "execute_result"
    }
   ],
   "source": [
    "data2[['Cash', 'Cash2', 'Cash3']].mean()"
   ]
  },
  {
   "cell_type": "code",
   "execution_count": null,
   "metadata": {},
   "outputs": [],
   "source": [
    "#data2['Cash'] = data2['Cash2']"
   ]
  },
  {
   "cell_type": "code",
   "execution_count": null,
   "metadata": {},
   "outputs": [],
   "source": [
    "#data2.drop('Cash2', axis='columns')"
   ]
  },
  {
   "cell_type": "markdown",
   "metadata": {},
   "source": [
    "7- Extract the subsample of observations related to `GOOGL`, `AAPL`, and `MSFT`"
   ]
  },
  {
   "cell_type": "code",
   "execution_count": 86,
   "metadata": {},
   "outputs": [],
   "source": [
    "subset1 = data[ (data.Ticker == 'GOOGL') | (data.Ticker == 'AAPL') | (data.Ticker == 'MSFT')   ]"
   ]
  },
  {
   "cell_type": "code",
   "execution_count": 88,
   "metadata": {},
   "outputs": [],
   "source": [
    "new_data=data.set_index('Ticker')"
   ]
  },
  {
   "cell_type": "code",
   "execution_count": 93,
   "metadata": {},
   "outputs": [
    {
     "data": {
      "text/html": [
       "<div>\n",
       "<style scoped>\n",
       "    .dataframe tbody tr th:only-of-type {\n",
       "        vertical-align: middle;\n",
       "    }\n",
       "\n",
       "    .dataframe tbody tr th {\n",
       "        vertical-align: top;\n",
       "    }\n",
       "\n",
       "    .dataframe thead th {\n",
       "        text-align: right;\n",
       "    }\n",
       "</style>\n",
       "<table border=\"1\" class=\"dataframe\">\n",
       "  <thead>\n",
       "    <tr style=\"text-align: right;\">\n",
       "      <th></th>\n",
       "      <th>Name</th>\n",
       "      <th>Industry</th>\n",
       "      <th>Year</th>\n",
       "      <th>Financial Statement</th>\n",
       "      <th>Cash</th>\n",
       "      <th>Short Term Investment Cash</th>\n",
       "      <th>Cash &amp; Short Term Investments</th>\n",
       "      <th>Accounts Receivables</th>\n",
       "      <th>Inventories</th>\n",
       "      <th>Other Current Assets</th>\n",
       "      <th>...</th>\n",
       "      <th>Other Liabilities.1</th>\n",
       "      <th>Total Liabilities</th>\n",
       "      <th>Minority Interest (Equity)</th>\n",
       "      <th>Preferred Stock (Equity)</th>\n",
       "      <th>Common Equity</th>\n",
       "      <th>Total Shareholder Equity</th>\n",
       "      <th>Common Shares Outstanding</th>\n",
       "      <th>Prepaid Expenses</th>\n",
       "      <th>Cash Due From Banks (Asset)</th>\n",
       "      <th>Cash2</th>\n",
       "    </tr>\n",
       "    <tr>\n",
       "      <th>Ticker</th>\n",
       "      <th></th>\n",
       "      <th></th>\n",
       "      <th></th>\n",
       "      <th></th>\n",
       "      <th></th>\n",
       "      <th></th>\n",
       "      <th></th>\n",
       "      <th></th>\n",
       "      <th></th>\n",
       "      <th></th>\n",
       "      <th></th>\n",
       "      <th></th>\n",
       "      <th></th>\n",
       "      <th></th>\n",
       "      <th></th>\n",
       "      <th></th>\n",
       "      <th></th>\n",
       "      <th></th>\n",
       "      <th></th>\n",
       "      <th></th>\n",
       "      <th></th>\n",
       "    </tr>\n",
       "  </thead>\n",
       "  <tbody>\n",
       "    <tr>\n",
       "      <th>GOOGL</th>\n",
       "      <td>Alphabet Inc.</td>\n",
       "      <td>Technology</td>\n",
       "      <td>2013</td>\n",
       "      <td>Balance Sheet</td>\n",
       "      <td>9.900000e+09</td>\n",
       "      <td>4.100000e+09</td>\n",
       "      <td>5.870000e+10</td>\n",
       "      <td>9.400000e+09</td>\n",
       "      <td>4.260000e+08</td>\n",
       "      <td>4.400000e+09</td>\n",
       "      <td>...</td>\n",
       "      <td>3400000000</td>\n",
       "      <td>23600000000</td>\n",
       "      <td>0</td>\n",
       "      <td>0</td>\n",
       "      <td>87300000000</td>\n",
       "      <td>87300000000</td>\n",
       "      <td>6.710000e+08</td>\n",
       "      <td>0.0</td>\n",
       "      <td>0</td>\n",
       "      <td>9.900000e+09</td>\n",
       "    </tr>\n",
       "    <tr>\n",
       "      <th>GOOGL</th>\n",
       "      <td>Alphabet Inc.</td>\n",
       "      <td>Technology</td>\n",
       "      <td>2014</td>\n",
       "      <td>Balance Sheet</td>\n",
       "      <td>1.600000e+10</td>\n",
       "      <td>-5.510000e+08</td>\n",
       "      <td>6.440000e+10</td>\n",
       "      <td>1.160000e+10</td>\n",
       "      <td>0.000000e+00</td>\n",
       "      <td>4.700000e+09</td>\n",
       "      <td>...</td>\n",
       "      <td>4500000000</td>\n",
       "      <td>26600000000</td>\n",
       "      <td>0</td>\n",
       "      <td>0</td>\n",
       "      <td>104500000000</td>\n",
       "      <td>104500000000</td>\n",
       "      <td>6.802000e+08</td>\n",
       "      <td>0.0</td>\n",
       "      <td>0</td>\n",
       "      <td>1.600000e+10</td>\n",
       "    </tr>\n",
       "    <tr>\n",
       "      <th>GOOGL</th>\n",
       "      <td>Alphabet Inc.</td>\n",
       "      <td>Technology</td>\n",
       "      <td>2015</td>\n",
       "      <td>Balance Sheet</td>\n",
       "      <td>1.450000e+10</td>\n",
       "      <td>-1.800000e+09</td>\n",
       "      <td>7.310000e+10</td>\n",
       "      <td>1.390000e+10</td>\n",
       "      <td>0.000000e+00</td>\n",
       "      <td>3.100000e+09</td>\n",
       "      <td>...</td>\n",
       "      <td>5500000000</td>\n",
       "      <td>27100000000</td>\n",
       "      <td>0</td>\n",
       "      <td>0</td>\n",
       "      <td>120300000000</td>\n",
       "      <td>120300000000</td>\n",
       "      <td>6.873000e+08</td>\n",
       "      <td>0.0</td>\n",
       "      <td>0</td>\n",
       "      <td>1.450000e+10</td>\n",
       "    </tr>\n",
       "    <tr>\n",
       "      <th>AAPL</th>\n",
       "      <td>Apple Inc.</td>\n",
       "      <td>Technology</td>\n",
       "      <td>2013</td>\n",
       "      <td>Balance Sheet</td>\n",
       "      <td>8.700000e+09</td>\n",
       "      <td>3.500000e+09</td>\n",
       "      <td>4.050000e+10</td>\n",
       "      <td>2.060000e+10</td>\n",
       "      <td>1.800000e+09</td>\n",
       "      <td>1.030000e+10</td>\n",
       "      <td>...</td>\n",
       "      <td>3700000000</td>\n",
       "      <td>83500000000</td>\n",
       "      <td>0</td>\n",
       "      <td>0</td>\n",
       "      <td>123500000000</td>\n",
       "      <td>123500000000</td>\n",
       "      <td>6.300000e+09</td>\n",
       "      <td>NaN</td>\n",
       "      <td>0</td>\n",
       "      <td>8.700000e+09</td>\n",
       "    </tr>\n",
       "    <tr>\n",
       "      <th>AAPL</th>\n",
       "      <td>Apple Inc.</td>\n",
       "      <td>Technology</td>\n",
       "      <td>2014</td>\n",
       "      <td>Balance Sheet</td>\n",
       "      <td>1.020000e+10</td>\n",
       "      <td>-4.150000e+08</td>\n",
       "      <td>2.510000e+10</td>\n",
       "      <td>2.720000e+10</td>\n",
       "      <td>2.100000e+09</td>\n",
       "      <td>1.410000e+10</td>\n",
       "      <td>...</td>\n",
       "      <td>4600000000</td>\n",
       "      <td>120300000000</td>\n",
       "      <td>0</td>\n",
       "      <td>0</td>\n",
       "      <td>111500000000</td>\n",
       "      <td>111500000000</td>\n",
       "      <td>5.900000e+09</td>\n",
       "      <td>NaN</td>\n",
       "      <td>0</td>\n",
       "      <td>1.020000e+10</td>\n",
       "    </tr>\n",
       "    <tr>\n",
       "      <th>AAPL</th>\n",
       "      <td>Apple Inc.</td>\n",
       "      <td>Technology</td>\n",
       "      <td>2015</td>\n",
       "      <td>Balance Sheet</td>\n",
       "      <td>1.910000e+10</td>\n",
       "      <td>7.300000e+09</td>\n",
       "      <td>4.160000e+10</td>\n",
       "      <td>3.030000e+10</td>\n",
       "      <td>2.300000e+09</td>\n",
       "      <td>1.510000e+10</td>\n",
       "      <td>...</td>\n",
       "      <td>9400000000</td>\n",
       "      <td>171100000000</td>\n",
       "      <td>0</td>\n",
       "      <td>0</td>\n",
       "      <td>119400000000</td>\n",
       "      <td>119400000000</td>\n",
       "      <td>5.600000e+09</td>\n",
       "      <td>NaN</td>\n",
       "      <td>0</td>\n",
       "      <td>1.910000e+10</td>\n",
       "    </tr>\n",
       "    <tr>\n",
       "      <th>MSFT</th>\n",
       "      <td>Microsoft Corp.</td>\n",
       "      <td>Technology</td>\n",
       "      <td>2013</td>\n",
       "      <td>Balance Sheet</td>\n",
       "      <td>2.000000e+09</td>\n",
       "      <td>-3.100000e+09</td>\n",
       "      <td>7.700000e+10</td>\n",
       "      <td>1.750000e+10</td>\n",
       "      <td>1.900000e+09</td>\n",
       "      <td>5.000000e+09</td>\n",
       "      <td>...</td>\n",
       "      <td>290000000</td>\n",
       "      <td>63500000000</td>\n",
       "      <td>0</td>\n",
       "      <td>0</td>\n",
       "      <td>78900000000</td>\n",
       "      <td>78900000000</td>\n",
       "      <td>8.300000e+09</td>\n",
       "      <td>0.0</td>\n",
       "      <td>0</td>\n",
       "      <td>2.000000e+09</td>\n",
       "    </tr>\n",
       "    <tr>\n",
       "      <th>MSFT</th>\n",
       "      <td>Microsoft Corp.</td>\n",
       "      <td>Technology</td>\n",
       "      <td>2014</td>\n",
       "      <td>Balance Sheet</td>\n",
       "      <td>8.700000e+09</td>\n",
       "      <td>4.900000e+09</td>\n",
       "      <td>8.570000e+10</td>\n",
       "      <td>1.950000e+10</td>\n",
       "      <td>2.700000e+09</td>\n",
       "      <td>6.300000e+09</td>\n",
       "      <td>...</td>\n",
       "      <td>1000000000</td>\n",
       "      <td>82600000000</td>\n",
       "      <td>0</td>\n",
       "      <td>0</td>\n",
       "      <td>89800000000</td>\n",
       "      <td>89800000000</td>\n",
       "      <td>8.200000e+09</td>\n",
       "      <td>0.0</td>\n",
       "      <td>0</td>\n",
       "      <td>8.700000e+09</td>\n",
       "    </tr>\n",
       "    <tr>\n",
       "      <th>MSFT</th>\n",
       "      <td>Microsoft Corp.</td>\n",
       "      <td>Technology</td>\n",
       "      <td>2015</td>\n",
       "      <td>Balance Sheet</td>\n",
       "      <td>4.800000e+09</td>\n",
       "      <td>-3.100000e+09</td>\n",
       "      <td>9.650000e+10</td>\n",
       "      <td>1.790000e+10</td>\n",
       "      <td>2.900000e+09</td>\n",
       "      <td>7.400000e+09</td>\n",
       "      <td>...</td>\n",
       "      <td>1200000000</td>\n",
       "      <td>96100000000</td>\n",
       "      <td>0</td>\n",
       "      <td>0</td>\n",
       "      <td>80100000000</td>\n",
       "      <td>80100000000</td>\n",
       "      <td>8.000000e+09</td>\n",
       "      <td>0.0</td>\n",
       "      <td>0</td>\n",
       "      <td>4.800000e+09</td>\n",
       "    </tr>\n",
       "  </tbody>\n",
       "</table>\n",
       "<p>9 rows × 33 columns</p>\n",
       "</div>"
      ],
      "text/plain": [
       "                   Name    Industry  Year Financial Statement          Cash  \\\n",
       "Ticker                                                                        \n",
       "GOOGL     Alphabet Inc.  Technology  2013       Balance Sheet  9.900000e+09   \n",
       "GOOGL     Alphabet Inc.  Technology  2014       Balance Sheet  1.600000e+10   \n",
       "GOOGL     Alphabet Inc.  Technology  2015       Balance Sheet  1.450000e+10   \n",
       "AAPL         Apple Inc.  Technology  2013       Balance Sheet  8.700000e+09   \n",
       "AAPL         Apple Inc.  Technology  2014       Balance Sheet  1.020000e+10   \n",
       "AAPL         Apple Inc.  Technology  2015       Balance Sheet  1.910000e+10   \n",
       "MSFT    Microsoft Corp.  Technology  2013       Balance Sheet  2.000000e+09   \n",
       "MSFT    Microsoft Corp.  Technology  2014       Balance Sheet  8.700000e+09   \n",
       "MSFT    Microsoft Corp.  Technology  2015       Balance Sheet  4.800000e+09   \n",
       "\n",
       "        Short Term Investment Cash  Cash & Short Term Investments  \\\n",
       "Ticker                                                              \n",
       "GOOGL                 4.100000e+09                   5.870000e+10   \n",
       "GOOGL                -5.510000e+08                   6.440000e+10   \n",
       "GOOGL                -1.800000e+09                   7.310000e+10   \n",
       "AAPL                  3.500000e+09                   4.050000e+10   \n",
       "AAPL                 -4.150000e+08                   2.510000e+10   \n",
       "AAPL                  7.300000e+09                   4.160000e+10   \n",
       "MSFT                 -3.100000e+09                   7.700000e+10   \n",
       "MSFT                  4.900000e+09                   8.570000e+10   \n",
       "MSFT                 -3.100000e+09                   9.650000e+10   \n",
       "\n",
       "        Accounts Receivables   Inventories  Other Current Assets  ...  \\\n",
       "Ticker                                                            ...   \n",
       "GOOGL           9.400000e+09  4.260000e+08          4.400000e+09  ...   \n",
       "GOOGL           1.160000e+10  0.000000e+00          4.700000e+09  ...   \n",
       "GOOGL           1.390000e+10  0.000000e+00          3.100000e+09  ...   \n",
       "AAPL            2.060000e+10  1.800000e+09          1.030000e+10  ...   \n",
       "AAPL            2.720000e+10  2.100000e+09          1.410000e+10  ...   \n",
       "AAPL            3.030000e+10  2.300000e+09          1.510000e+10  ...   \n",
       "MSFT            1.750000e+10  1.900000e+09          5.000000e+09  ...   \n",
       "MSFT            1.950000e+10  2.700000e+09          6.300000e+09  ...   \n",
       "MSFT            1.790000e+10  2.900000e+09          7.400000e+09  ...   \n",
       "\n",
       "        Other Liabilities.1  Total Liabilities  Minority Interest (Equity)  \\\n",
       "Ticker                                                                       \n",
       "GOOGL            3400000000        23600000000                           0   \n",
       "GOOGL            4500000000        26600000000                           0   \n",
       "GOOGL            5500000000        27100000000                           0   \n",
       "AAPL             3700000000        83500000000                           0   \n",
       "AAPL             4600000000       120300000000                           0   \n",
       "AAPL             9400000000       171100000000                           0   \n",
       "MSFT              290000000        63500000000                           0   \n",
       "MSFT             1000000000        82600000000                           0   \n",
       "MSFT             1200000000        96100000000                           0   \n",
       "\n",
       "        Preferred Stock (Equity)  Common Equity  Total Shareholder Equity  \\\n",
       "Ticker                                                                      \n",
       "GOOGL                          0    87300000000               87300000000   \n",
       "GOOGL                          0   104500000000              104500000000   \n",
       "GOOGL                          0   120300000000              120300000000   \n",
       "AAPL                           0   123500000000              123500000000   \n",
       "AAPL                           0   111500000000              111500000000   \n",
       "AAPL                           0   119400000000              119400000000   \n",
       "MSFT                           0    78900000000               78900000000   \n",
       "MSFT                           0    89800000000               89800000000   \n",
       "MSFT                           0    80100000000               80100000000   \n",
       "\n",
       "        Common Shares Outstanding  Prepaid Expenses  \\\n",
       "Ticker                                                \n",
       "GOOGL                6.710000e+08               0.0   \n",
       "GOOGL                6.802000e+08               0.0   \n",
       "GOOGL                6.873000e+08               0.0   \n",
       "AAPL                 6.300000e+09               NaN   \n",
       "AAPL                 5.900000e+09               NaN   \n",
       "AAPL                 5.600000e+09               NaN   \n",
       "MSFT                 8.300000e+09               0.0   \n",
       "MSFT                 8.200000e+09               0.0   \n",
       "MSFT                 8.000000e+09               0.0   \n",
       "\n",
       "        Cash Due From Banks (Asset)         Cash2  \n",
       "Ticker                                             \n",
       "GOOGL                             0  9.900000e+09  \n",
       "GOOGL                             0  1.600000e+10  \n",
       "GOOGL                             0  1.450000e+10  \n",
       "AAPL                              0  8.700000e+09  \n",
       "AAPL                              0  1.020000e+10  \n",
       "AAPL                              0  1.910000e+10  \n",
       "MSFT                              0  2.000000e+09  \n",
       "MSFT                              0  8.700000e+09  \n",
       "MSFT                              0  4.800000e+09  \n",
       "\n",
       "[9 rows x 33 columns]"
      ]
     },
     "execution_count": 93,
     "metadata": {},
     "output_type": "execute_result"
    }
   ],
   "source": [
    "new_data.loc[ ['GOOGL', 'AAPL', 'MSFT'], : ]"
   ]
  },
  {
   "cell_type": "markdown",
   "metadata": {},
   "source": [
    "8- Save this subsample to a new Excel file"
   ]
  },
  {
   "cell_type": "code",
   "execution_count": 98,
   "metadata": {},
   "outputs": [],
   "source": [
    "subset1.to_excel('subsuet.xlsx', sheet_name='sheet2')"
   ]
  },
  {
   "cell_type": "markdown",
   "metadata": {},
   "source": [
    "9- Collect your trophy as a master data ninja"
   ]
  }
 ],
 "metadata": {
  "kernelspec": {
   "display_name": "Python 3",
   "language": "python",
   "name": "python3"
  },
  "language_info": {
   "codemirror_mode": {
    "name": "ipython",
    "version": 3
   },
   "file_extension": ".py",
   "mimetype": "text/x-python",
   "name": "python",
   "nbconvert_exporter": "python",
   "pygments_lexer": "ipython3",
   "version": "3.7.3"
  }
 },
 "nbformat": 4,
 "nbformat_minor": 2
}
