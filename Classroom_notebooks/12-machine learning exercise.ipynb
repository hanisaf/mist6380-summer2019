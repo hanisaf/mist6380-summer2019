{
 "cells": [
  {
   "cell_type": "code",
   "execution_count": 28,
   "metadata": {},
   "outputs": [],
   "source": [
    "import pandas as pd\n",
    "import numpy as np\n",
    "import seaborn as sns\n",
    "from sklearn import tree\n",
    "from sklearn.metrics import r2_score, accuracy_score\n",
    "from sklearn.model_selection import train_test_split\n",
    "from sklearn.feature_selection import SelectFromModel\n",
    "import matplotlib.pyplot as plt\n",
    "from sklearn.model_selection import train_test_split\n"
   ]
  },
  {
   "cell_type": "code",
   "execution_count": 2,
   "metadata": {},
   "outputs": [],
   "source": [
    "# I'm using the recent release of sklearn\n",
    "#!pip install scikit-learn --upgrade --user"
   ]
  },
  {
   "cell_type": "code",
   "execution_count": 3,
   "metadata": {},
   "outputs": [],
   "source": [
    "#to plot decision tree\n",
    "#!pip install graphviz --user\n",
    "import graphviz"
   ]
  },
  {
   "cell_type": "code",
   "execution_count": 4,
   "metadata": {},
   "outputs": [],
   "source": [
    "#supress warnings\n",
    "import warnings\n",
    "warnings.filterwarnings('ignore')"
   ]
  },
  {
   "cell_type": "code",
   "execution_count": 5,
   "metadata": {},
   "outputs": [],
   "source": [
    "%matplotlib inline"
   ]
  },
  {
   "cell_type": "markdown",
   "metadata": {},
   "source": [
    "Analyze the Hosmer & Lemeshow low birth weight data using machine learning technique you learned in class"
   ]
  },
  {
   "cell_type": "code",
   "execution_count": 6,
   "metadata": {},
   "outputs": [],
   "source": [
    "data=pd.read_excel('../data/birth_weight.xlsx')"
   ]
  },
  {
   "cell_type": "code",
   "execution_count": 7,
   "metadata": {},
   "outputs": [
    {
     "data": {
      "text/html": [
       "<div>\n",
       "<style scoped>\n",
       "    .dataframe tbody tr th:only-of-type {\n",
       "        vertical-align: middle;\n",
       "    }\n",
       "\n",
       "    .dataframe tbody tr th {\n",
       "        vertical-align: top;\n",
       "    }\n",
       "\n",
       "    .dataframe thead th {\n",
       "        text-align: right;\n",
       "    }\n",
       "</style>\n",
       "<table border=\"1\" class=\"dataframe\">\n",
       "  <thead>\n",
       "    <tr style=\"text-align: right;\">\n",
       "      <th></th>\n",
       "      <th>identification code</th>\n",
       "      <th>birthweight&lt;2500g</th>\n",
       "      <th>age of mother</th>\n",
       "      <th>weight at last menstrual period</th>\n",
       "      <th>race</th>\n",
       "      <th>smoked during pregnancy</th>\n",
       "      <th>premature labor history (count)</th>\n",
       "      <th>has history of hypertension</th>\n",
       "      <th>presence, uterine irritability</th>\n",
       "      <th>number of visits to physician during 1st trimester</th>\n",
       "      <th>birthweight (grams)</th>\n",
       "    </tr>\n",
       "  </thead>\n",
       "  <tbody>\n",
       "    <tr>\n",
       "      <th>0</th>\n",
       "      <td>85</td>\n",
       "      <td>0</td>\n",
       "      <td>19</td>\n",
       "      <td>182</td>\n",
       "      <td>black</td>\n",
       "      <td>nonsmoker</td>\n",
       "      <td>0</td>\n",
       "      <td>0</td>\n",
       "      <td>1</td>\n",
       "      <td>0</td>\n",
       "      <td>2523</td>\n",
       "    </tr>\n",
       "    <tr>\n",
       "      <th>1</th>\n",
       "      <td>86</td>\n",
       "      <td>0</td>\n",
       "      <td>33</td>\n",
       "      <td>155</td>\n",
       "      <td>other</td>\n",
       "      <td>nonsmoker</td>\n",
       "      <td>0</td>\n",
       "      <td>0</td>\n",
       "      <td>0</td>\n",
       "      <td>3</td>\n",
       "      <td>2551</td>\n",
       "    </tr>\n",
       "    <tr>\n",
       "      <th>2</th>\n",
       "      <td>87</td>\n",
       "      <td>0</td>\n",
       "      <td>20</td>\n",
       "      <td>105</td>\n",
       "      <td>white</td>\n",
       "      <td>smoker</td>\n",
       "      <td>0</td>\n",
       "      <td>0</td>\n",
       "      <td>0</td>\n",
       "      <td>1</td>\n",
       "      <td>2557</td>\n",
       "    </tr>\n",
       "    <tr>\n",
       "      <th>3</th>\n",
       "      <td>88</td>\n",
       "      <td>0</td>\n",
       "      <td>21</td>\n",
       "      <td>108</td>\n",
       "      <td>white</td>\n",
       "      <td>smoker</td>\n",
       "      <td>0</td>\n",
       "      <td>0</td>\n",
       "      <td>1</td>\n",
       "      <td>2</td>\n",
       "      <td>2594</td>\n",
       "    </tr>\n",
       "    <tr>\n",
       "      <th>4</th>\n",
       "      <td>89</td>\n",
       "      <td>0</td>\n",
       "      <td>18</td>\n",
       "      <td>107</td>\n",
       "      <td>white</td>\n",
       "      <td>smoker</td>\n",
       "      <td>0</td>\n",
       "      <td>0</td>\n",
       "      <td>1</td>\n",
       "      <td>0</td>\n",
       "      <td>2600</td>\n",
       "    </tr>\n",
       "  </tbody>\n",
       "</table>\n",
       "</div>"
      ],
      "text/plain": [
       "   identification code  birthweight<2500g  age of mother  \\\n",
       "0                   85                  0             19   \n",
       "1                   86                  0             33   \n",
       "2                   87                  0             20   \n",
       "3                   88                  0             21   \n",
       "4                   89                  0             18   \n",
       "\n",
       "   weight at last menstrual period   race smoked during pregnancy  \\\n",
       "0                              182  black               nonsmoker   \n",
       "1                              155  other               nonsmoker   \n",
       "2                              105  white                  smoker   \n",
       "3                              108  white                  smoker   \n",
       "4                              107  white                  smoker   \n",
       "\n",
       "   premature labor history (count)  has history of hypertension  \\\n",
       "0                                0                            0   \n",
       "1                                0                            0   \n",
       "2                                0                            0   \n",
       "3                                0                            0   \n",
       "4                                0                            0   \n",
       "\n",
       "   presence, uterine irritability  \\\n",
       "0                               1   \n",
       "1                               0   \n",
       "2                               0   \n",
       "3                               1   \n",
       "4                               1   \n",
       "\n",
       "   number of visits to physician during 1st trimester  birthweight (grams)  \n",
       "0                                                  0                  2523  \n",
       "1                                                  3                  2551  \n",
       "2                                                  1                  2557  \n",
       "3                                                  2                  2594  \n",
       "4                                                  0                  2600  "
      ]
     },
     "execution_count": 7,
     "metadata": {},
     "output_type": "execute_result"
    }
   ],
   "source": [
    "data.head()"
   ]
  },
  {
   "cell_type": "code",
   "execution_count": 8,
   "metadata": {},
   "outputs": [],
   "source": [
    "data.columns=['id', 'baby_low_weight', 'mom_age', 'mom_weight', 'race', 'smoked', 'premature_labor', 'hyptertension', 'irritability', 'doc_visit', 'baby_weight']"
   ]
  },
  {
   "cell_type": "markdown",
   "metadata": {},
   "source": [
    "# We are interested in what factors affect baby birth weight"
   ]
  },
  {
   "cell_type": "code",
   "execution_count": 9,
   "metadata": {},
   "outputs": [
    {
     "data": {
      "text/html": [
       "<div>\n",
       "<style scoped>\n",
       "    .dataframe tbody tr th:only-of-type {\n",
       "        vertical-align: middle;\n",
       "    }\n",
       "\n",
       "    .dataframe tbody tr th {\n",
       "        vertical-align: top;\n",
       "    }\n",
       "\n",
       "    .dataframe thead th {\n",
       "        text-align: right;\n",
       "    }\n",
       "</style>\n",
       "<table border=\"1\" class=\"dataframe\">\n",
       "  <thead>\n",
       "    <tr style=\"text-align: right;\">\n",
       "      <th></th>\n",
       "      <th>id</th>\n",
       "      <th>baby_low_weight</th>\n",
       "      <th>mom_age</th>\n",
       "      <th>mom_weight</th>\n",
       "      <th>race</th>\n",
       "      <th>smoked</th>\n",
       "      <th>premature_labor</th>\n",
       "      <th>hyptertension</th>\n",
       "      <th>irritability</th>\n",
       "      <th>doc_visit</th>\n",
       "      <th>baby_weight</th>\n",
       "    </tr>\n",
       "  </thead>\n",
       "  <tbody>\n",
       "    <tr>\n",
       "      <th>0</th>\n",
       "      <td>85</td>\n",
       "      <td>0</td>\n",
       "      <td>19</td>\n",
       "      <td>182</td>\n",
       "      <td>black</td>\n",
       "      <td>nonsmoker</td>\n",
       "      <td>0</td>\n",
       "      <td>0</td>\n",
       "      <td>1</td>\n",
       "      <td>0</td>\n",
       "      <td>2523</td>\n",
       "    </tr>\n",
       "    <tr>\n",
       "      <th>1</th>\n",
       "      <td>86</td>\n",
       "      <td>0</td>\n",
       "      <td>33</td>\n",
       "      <td>155</td>\n",
       "      <td>other</td>\n",
       "      <td>nonsmoker</td>\n",
       "      <td>0</td>\n",
       "      <td>0</td>\n",
       "      <td>0</td>\n",
       "      <td>3</td>\n",
       "      <td>2551</td>\n",
       "    </tr>\n",
       "    <tr>\n",
       "      <th>2</th>\n",
       "      <td>87</td>\n",
       "      <td>0</td>\n",
       "      <td>20</td>\n",
       "      <td>105</td>\n",
       "      <td>white</td>\n",
       "      <td>smoker</td>\n",
       "      <td>0</td>\n",
       "      <td>0</td>\n",
       "      <td>0</td>\n",
       "      <td>1</td>\n",
       "      <td>2557</td>\n",
       "    </tr>\n",
       "    <tr>\n",
       "      <th>3</th>\n",
       "      <td>88</td>\n",
       "      <td>0</td>\n",
       "      <td>21</td>\n",
       "      <td>108</td>\n",
       "      <td>white</td>\n",
       "      <td>smoker</td>\n",
       "      <td>0</td>\n",
       "      <td>0</td>\n",
       "      <td>1</td>\n",
       "      <td>2</td>\n",
       "      <td>2594</td>\n",
       "    </tr>\n",
       "    <tr>\n",
       "      <th>4</th>\n",
       "      <td>89</td>\n",
       "      <td>0</td>\n",
       "      <td>18</td>\n",
       "      <td>107</td>\n",
       "      <td>white</td>\n",
       "      <td>smoker</td>\n",
       "      <td>0</td>\n",
       "      <td>0</td>\n",
       "      <td>1</td>\n",
       "      <td>0</td>\n",
       "      <td>2600</td>\n",
       "    </tr>\n",
       "  </tbody>\n",
       "</table>\n",
       "</div>"
      ],
      "text/plain": [
       "   id  baby_low_weight  mom_age  mom_weight   race     smoked  \\\n",
       "0  85                0       19         182  black  nonsmoker   \n",
       "1  86                0       33         155  other  nonsmoker   \n",
       "2  87                0       20         105  white     smoker   \n",
       "3  88                0       21         108  white     smoker   \n",
       "4  89                0       18         107  white     smoker   \n",
       "\n",
       "   premature_labor  hyptertension  irritability  doc_visit  baby_weight  \n",
       "0                0              0             1          0         2523  \n",
       "1                0              0             0          3         2551  \n",
       "2                0              0             0          1         2557  \n",
       "3                0              0             1          2         2594  \n",
       "4                0              0             1          0         2600  "
      ]
     },
     "execution_count": 9,
     "metadata": {},
     "output_type": "execute_result"
    }
   ],
   "source": [
    "data.head()"
   ]
  },
  {
   "cell_type": "code",
   "execution_count": 10,
   "metadata": {},
   "outputs": [],
   "source": [
    "X = data[['mom_weight']]\n",
    "y = data['baby_weight']"
   ]
  },
  {
   "cell_type": "code",
   "execution_count": 11,
   "metadata": {},
   "outputs": [],
   "source": [
    "dtree = tree.DecisionTreeRegressor().fit(X, y)"
   ]
  },
  {
   "cell_type": "code",
   "execution_count": 12,
   "metadata": {},
   "outputs": [],
   "source": [
    "yfit = dtree.predict(X)"
   ]
  },
  {
   "cell_type": "code",
   "execution_count": 13,
   "metadata": {},
   "outputs": [],
   "source": [
    "resd = y - yfit"
   ]
  },
  {
   "cell_type": "code",
   "execution_count": 14,
   "metadata": {},
   "outputs": [
    {
     "data": {
      "text/plain": [
       "<matplotlib.axes._subplots.AxesSubplot at 0x1f9fd2ba780>"
      ]
     },
     "execution_count": 14,
     "metadata": {},
     "output_type": "execute_result"
    },
    {
     "data": {
      "image/png": "[encoded data removed]",
      "text/plain": [
       "<Figure size 432x288 with 1 Axes>"
      ]
     },
     "metadata": {
      "needs_background": "light"
     },
     "output_type": "display_data"
    }
   ],
   "source": [
    "sns.distplot(resd)"
   ]
  },
  {
   "cell_type": "code",
   "execution_count": 15,
   "metadata": {},
   "outputs": [
    {
     "data": {
      "text/plain": [
       "0.4491561235257697"
      ]
     },
     "execution_count": 15,
     "metadata": {},
     "output_type": "execute_result"
    }
   ],
   "source": [
    "r2_score(y, yfit)"
   ]
  },
  {
   "cell_type": "code",
   "execution_count": 16,
   "metadata": {},
   "outputs": [
    {
     "name": "stdout",
     "output_type": "stream",
     "text": [
      "digraph Tree {\n",
      "node [shape=box] ;\n",
      "0 [label=\"mom_weight <= 109.5\\nmse = 528652.373\\nsamples = 189\\nvalue = 2944.286\"] ;\n",
      "1 [label=\"mom_weight <= 89.5\\nmse = 308199.377\\nsamples = 42\\nvalue = 2549.833\"] ;\n",
      "0 -> 1 [labeldistance=2.5, labelangle=45, headlabel=\"True\"] ;\n",
      "2 [label=\"mom_weight <= 87.0\\nmse = 335024.25\\nsamples = 4\\nvalue = 2207.5\"] ;\n",
      "1 -> 2 ;\n",
      "3 [label=\"mom_weight <= 82.5\\nmse = 436362.889\\nsamples = 3\\nvalue = 2258.333\"] ;\n",
      "2 -> 3 ;\n",
      "4 [label=\"mse = 0.0\\nsamples = 1\\nvalue = 2211.0\"] ;\n",
      "3 -> 4 ;\n",
      "5 [label=\"mse = 652864.0\\nsamples = 2\\nvalue = 2282.0\"] ;\n",
      "3 -> 5 ;\n",
      "6 [label=\"mse = 0.0\\nsamples = 1\\nvalue = 2055.0\"] ;\n",
      "2 -> 6 ;\n",
      "7 [label=\"mom_weight <= 95.5\\nmse = 291741.167\\nsamples = 38\\nvalue = 2585.868\"] ;\n",
      "1 -> 7 ;\n",
      "8 [label=\"mom_weight <= 94.5\\nmse = 351306.076\\nsamples = 12\\nvalue = 2843.917\"] ;\n",
      "7 -> 8 ;\n",
      "9 [label=\"mom_weight <= 90.5\\nmse = 256991.0\\nsamples = 6\\nvalue = 2568.0\"] ;\n",
      "8 -> 9 ;\n",
      "10 [label=\"mse = 3640.889\\nsamples = 3\\nvalue = 3033.333\"] ;\n",
      "9 -> 10 ;\n",
      "11 [label=\"mom_weight <= 93.0\\nmse = 77270.889\\nsamples = 3\\nvalue = 2102.667\"] ;\n",
      "9 -> 11 ;\n",
      "12 [label=\"mom_weight <= 91.5\\nmse = 462.25\\nsamples = 2\\nvalue = 1906.5\"] ;\n",
      "11 -> 12 ;\n",
      "13 [label=\"mse = 0.0\\nsamples = 1\\nvalue = 1885.0\"] ;\n",
      "12 -> 13 ;\n",
      "14 [label=\"mse = 0.0\\nsamples = 1\\nvalue = 1928.0\"] ;\n",
      "12 -> 14 ;\n",
      "15 [label=\"mse = 0.0\\nsamples = 1\\nvalue = 2495.0\"] ;\n",
      "11 -> 15 ;\n",
      "16 [label=\"mse = 293361.139\\nsamples = 6\\nvalue = 3119.833\"] ;\n",
      "8 -> 16 ;\n",
      "17 [label=\"mom_weight <= 97.5\\nmse = 219331.716\\nsamples = 26\\nvalue = 2466.769\"] ;\n",
      "7 -> 17 ;\n",
      "18 [label=\"mom_weight <= 96.5\\nmse = 135792.25\\nsamples = 2\\nvalue = 1956.5\"] ;\n",
      "17 -> 18 ;\n",
      "19 [label=\"mse = 0.0\\nsamples = 1\\nvalue = 2325.0\"] ;\n",
      "18 -> 19 ;\n",
      "20 [label=\"mse = 0.0\\nsamples = 1\\nvalue = 1588.0\"] ;\n",
      "18 -> 20 ;\n",
      "21 [label=\"mom_weight <= 100.5\\nmse = 202787.29\\nsamples = 24\\nvalue = 2509.292\"] ;\n",
      "17 -> 21 ;\n",
      "22 [label=\"mom_weight <= 99.0\\nmse = 37398.139\\nsamples = 6\\nvalue = 2657.833\"] ;\n",
      "21 -> 22 ;\n",
      "23 [label=\"mse = 0.0\\nsamples = 1\\nvalue = 2778.0\"] ;\n",
      "22 -> 23 ;\n",
      "24 [label=\"mse = 41412.16\\nsamples = 5\\nvalue = 2633.8\"] ;\n",
      "22 -> 24 ;\n",
      "25 [label=\"mom_weight <= 106.5\\nmse = 248110.506\\nsamples = 18\\nvalue = 2459.778\"] ;\n",
      "21 -> 25 ;\n",
      "26 [label=\"mom_weight <= 104.0\\nmse = 300181.207\\nsamples = 13\\nvalue = 2389.154\"] ;\n",
      "25 -> 26 ;\n",
      "27 [label=\"mom_weight <= 102.5\\nmse = 162907.806\\nsamples = 6\\nvalue = 2451.833\"] ;\n",
      "26 -> 27 ;\n",
      "28 [label=\"mom_weight <= 101.5\\nmse = 25962.889\\nsamples = 3\\nvalue = 2300.333\"] ;\n",
      "27 -> 28 ;\n",
      "29 [label=\"mse = 0.0\\nsamples = 1\\nvalue = 2466.0\"] ;\n",
      "28 -> 29 ;\n",
      "30 [label=\"mse = 18360.25\\nsamples = 2\\nvalue = 2217.5\"] ;\n",
      "28 -> 30 ;\n",
      "31 [label=\"mse = 253948.222\\nsamples = 3\\nvalue = 2603.333\"] ;\n",
      "27 -> 31 ;\n",
      "32 [label=\"mom_weight <= 105.5\\nmse = 411590.245\\nsamples = 7\\nvalue = 2335.429\"] ;\n",
      "26 -> 32 ;\n",
      "33 [label=\"mse = 477636.222\\nsamples = 6\\nvalue = 2316.333\"] ;\n",
      "32 -> 33 ;\n",
      "34 [label=\"mse = 0.0\\nsamples = 1\\nvalue = 2450.0\"] ;\n",
      "32 -> 34 ;\n",
      "35 [label=\"mom_weight <= 107.5\\nmse = 66041.44\\nsamples = 5\\nvalue = 2643.4\"] ;\n",
      "25 -> 35 ;\n",
      "36 [label=\"mse = 5625.0\\nsamples = 2\\nvalue = 2675.0\"] ;\n",
      "35 -> 36 ;\n",
      "37 [label=\"mom_weight <= 108.5\\nmse = 105209.556\\nsamples = 3\\nvalue = 2622.333\"] ;\n",
      "35 -> 37 ;\n",
      "38 [label=\"mse = 0.0\\nsamples = 1\\nvalue = 2594.0\"] ;\n",
      "37 -> 38 ;\n",
      "39 [label=\"mse = 157212.25\\nsamples = 2\\nvalue = 2636.5\"] ;\n",
      "37 -> 39 ;\n",
      "40 [label=\"mom_weight <= 222.0\\nmse = 534482.449\\nsamples = 147\\nvalue = 3056.986\"] ;\n",
      "0 -> 40 [labeldistance=2.5, labelangle=-45, headlabel=\"False\"] ;\n",
      "41 [label=\"mom_weight <= 186.5\\nmse = 541956.045\\nsamples = 143\\nvalue = 3043.727\"] ;\n",
      "40 -> 41 ;\n",
      "42 [label=\"mom_weight <= 168.5\\nmse = 529469.932\\nsamples = 135\\nvalue = 3074.037\"] ;\n",
      "41 -> 42 ;\n",
      "43 [label=\"mom_weight <= 147.5\\nmse = 534075.956\\nsamples = 124\\nvalue = 3029.565\"] ;\n",
      "42 -> 43 ;\n",
      "44 [label=\"mom_weight <= 132.5\\nmse = 535302.247\\nsamples = 105\\nvalue = 3067.781\"] ;\n",
      "43 -> 44 ;\n",
      "45 [label=\"mom_weight <= 129.5\\nmse = 586251.064\\nsamples = 85\\nvalue = 3008.318\"] ;\n",
      "44 -> 45 ;\n",
      "46 [label=\"mom_weight <= 128.5\\nmse = 536731.366\\nsamples = 68\\nvalue = 3062.324\"] ;\n",
      "45 -> 46 ;\n",
      "47 [label=\"mom_weight <= 127.5\\nmse = 528083.534\\nsamples = 67\\nvalue = 3046.672\"] ;\n",
      "46 -> 47 ;\n",
      "48 [label=\"mom_weight <= 122.5\\nmse = 516029.881\\nsamples = 65\\nvalue = 3066.492\"] ;\n",
      "47 -> 48 ;\n",
      "49 [label=\"mom_weight <= 120.5\\nmse = 494571.74\\nsamples = 56\\nvalue = 3043.714\"] ;\n",
      "48 -> 49 ;\n",
      "50 [label=\"mom_weight <= 115.5\\nmse = 528473.022\\nsamples = 50\\nvalue = 3072.76\"] ;\n",
      "49 -> 50 ;\n",
      "51 [label=\"mom_weight <= 112.5\\nmse = 346599.226\\nsamples = 25\\nvalue = 3037.12\"] ;\n",
      "50 -> 51 ;\n",
      "52 [label=\"mom_weight <= 111.0\\nmse = 368764.889\\nsamples = 15\\nvalue = 3081.667\"] ;\n",
      "51 -> 52 ;\n",
      "53 [label=\"mse = 352287.785\\nsamples = 11\\nvalue = 3059.182\"] ;\n",
      "52 -> 53 ;\n",
      "54 [label=\"mse = 408863.25\\nsamples = 4\\nvalue = 3143.5\"] ;\n",
      "52 -> 54 ;\n",
      "55 [label=\"mom_weight <= 114.0\\nmse = 305909.21\\nsamples = 10\\nvalue = 2970.3\"] ;\n",
      "51 -> 55 ;\n",
      "56 [label=\"mse = 14450.0\\nsamples = 3\\nvalue = 2835.0\"] ;\n",
      "55 -> 56 ;\n",
      "57 [label=\"mse = 419612.49\\nsamples = 7\\nvalue = 3028.286\"] ;\n",
      "55 -> 57 ;\n",
      "58 [label=\"mom_weight <= 116.5\\nmse = 707806.4\\nsamples = 25\\nvalue = 3108.4\"] ;\n",
      "50 -> 58 ;\n",
      "59 [label=\"mse = 0.0\\nsamples = 1\\nvalue = 4593.0\"] ;\n",
      "58 -> 59 ;\n",
      "60 [label=\"mom_weight <= 118.5\\nmse = 641636.998\\nsamples = 24\\nvalue = 3046.542\"] ;\n",
      "58 -> 60 ;\n",
      "61 [label=\"mom_weight <= 117.5\\nmse = 441134.188\\nsamples = 4\\nvalue = 2853.75\"] ;\n",
      "60 -> 61 ;\n",
      "62 [label=\"mse = 835396.0\\nsamples = 2\\nvalue = 2998.0\"] ;\n",
      "61 -> 62 ;\n",
      "63 [label=\"mse = 5256.25\\nsamples = 2\\nvalue = 2709.5\"] ;\n",
      "61 -> 63 ;\n",
      "64 [label=\"mom_weight <= 119.5\\nmse = 672817.09\\nsamples = 20\\nvalue = 3085.1\"] ;\n",
      "60 -> 64 ;\n",
      "65 [label=\"mse = 10.889\\nsamples = 3\\nvalue = 3227.333\"] ;\n",
      "64 -> 65 ;\n",
      "66 [label=\"mse = 787347.529\\nsamples = 17\\nvalue = 3060.0\"] ;\n",
      "64 -> 66 ;\n",
      "67 [label=\"mom_weight <= 121.5\\nmse = 146443.556\\nsamples = 6\\nvalue = 2801.667\"] ;\n",
      "49 -> 67 ;\n",
      "68 [label=\"mse = 166449.688\\nsamples = 4\\nvalue = 2880.75\"] ;\n",
      "67 -> 68 ;\n",
      "69 [label=\"mse = 68906.25\\nsamples = 2\\nvalue = 2643.5\"] ;\n",
      "67 -> 69 ;\n",
      "70 [label=\"mom_weight <= 123.5\\nmse = 626231.506\\nsamples = 9\\nvalue = 3208.222\"] ;\n",
      "48 -> 70 ;\n",
      "71 [label=\"mse = 920222.889\\nsamples = 3\\nvalue = 3732.333\"] ;\n",
      "70 -> 71 ;\n",
      "72 [label=\"mom_weight <= 126.0\\nmse = 273216.472\\nsamples = 6\\nvalue = 2946.167\"] ;\n",
      "70 -> 72 ;\n",
      "73 [label=\"mom_weight <= 124.5\\nmse = 257659.6\\nsamples = 5\\nvalue = 2838.0\"] ;\n",
      "72 -> 73 ;\n",
      "74 [label=\"mse = 22500.0\\nsamples = 2\\nvalue = 2772.0\"] ;\n",
      "73 -> 74 ;\n",
      "75 [label=\"mse = 409592.667\\nsamples = 3\\nvalue = 2882.0\"] ;\n",
      "73 -> 75 ;\n",
      "76 [label=\"mse = 0.0\\nsamples = 1\\nvalue = 3487.0\"] ;\n",
      "72 -> 76 ;\n",
      "77 [label=\"mse = 492102.25\\nsamples = 2\\nvalue = 2402.5\"] ;\n",
      "47 -> 77 ;\n",
      "78 [label=\"mse = 0.0\\nsamples = 1\\nvalue = 4111.0\"] ;\n",
      "46 -> 78 ;\n",
      "79 [label=\"mom_weight <= 131.5\\nmse = 725997.149\\nsamples = 17\\nvalue = 2792.294\"] ;\n",
      "45 -> 79 ;\n",
      "80 [label=\"mom_weight <= 130.5\\nmse = 787402.959\\nsamples = 14\\nvalue = 2826.429\"] ;\n",
      "79 -> 80 ;\n",
      "81 [label=\"mse = 814719.29\\nsamples = 13\\nvalue = 2777.692\"] ;\n",
      "80 -> 81 ;\n",
      "82 [label=\"mse = 0.0\\nsamples = 1\\nvalue = 3460.0\"] ;\n",
      "80 -> 82 ;\n",
      "83 [label=\"mse = 408624.667\\nsamples = 3\\nvalue = 2633.0\"] ;\n",
      "79 -> 83 ;\n",
      "84 [label=\"mom_weight <= 137.5\\nmse = 239875.35\\nsamples = 20\\nvalue = 3320.5\"] ;\n",
      "44 -> 84 ;\n",
      "85 [label=\"mom_weight <= 133.5\\nmse = 44011.36\\nsamples = 10\\nvalue = 3618.2\"] ;\n",
      "84 -> 85 ;\n",
      "86 [label=\"mse = 31329.0\\nsamples = 2\\nvalue = 3437.0\"] ;\n",
      "85 -> 86 ;\n",
      "87 [label=\"mom_weight <= 136.0\\nmse = 36921.5\\nsamples = 8\\nvalue = 3663.5\"] ;\n",
      "85 -> 87 ;\n",
      "88 [label=\"mom_weight <= 134.5\\nmse = 41990.245\\nsamples = 7\\nvalue = 3658.429\"] ;\n",
      "87 -> 88 ;\n",
      "89 [label=\"mse = 44229.556\\nsamples = 3\\nvalue = 3666.667\"] ;\n",
      "88 -> 89 ;\n",
      "90 [label=\"mse = 40221.688\\nsamples = 4\\nvalue = 3652.25\"] ;\n",
      "88 -> 90 ;\n",
      "91 [label=\"mse = 0.0\\nsamples = 1\\nvalue = 3699.0\"] ;\n",
      "87 -> 91 ;\n",
      "92 [label=\"mom_weight <= 144.5\\nmse = 258488.76\\nsamples = 10\\nvalue = 3022.8\"] ;\n",
      "84 -> 92 ;\n",
      "93 [label=\"mom_weight <= 141.5\\nmse = 199787.438\\nsamples = 8\\nvalue = 2865.75\"] ;\n",
      "92 -> 93 ;\n",
      "94 [label=\"mom_weight <= 139.0\\nmse = 189880.917\\nsamples = 6\\nvalue = 3003.5\"] ;\n",
      "93 -> 94 ;\n",
      "95 [label=\"mse = 192282.25\\nsamples = 2\\nvalue = 2538.5\"] ;\n",
      "94 -> 95 ;\n",
      "96 [label=\"mom_weight <= 140.5\\nmse = 26511.5\\nsamples = 4\\nvalue = 3236.0\"] ;\n",
      "94 -> 96 ;\n",
      "97 [label=\"mse = 32432.667\\nsamples = 3\\nvalue = 3209.0\"] ;\n",
      "96 -> 97 ;\n",
      "98 [label=\"mse = 0.0\\nsamples = 1\\nvalue = 3317.0\"] ;\n",
      "96 -> 98 ;\n",
      "99 [label=\"mse = 1806.25\\nsamples = 2\\nvalue = 2452.5\"] ;\n",
      "93 -> 99 ;\n",
      "100 [label=\"mse = 0.0\\nsamples = 2\\nvalue = 3651.0\"] ;\n",
      "92 -> 100 ;\n",
      "101 [label=\"mom_weight <= 156.5\\nmse = 474624.127\\nsamples = 19\\nvalue = 2818.368\"] ;\n",
      "43 -> 101 ;\n",
      "102 [label=\"mom_weight <= 151.5\\nmse = 357183.056\\nsamples = 12\\nvalue = 2627.667\"] ;\n",
      "101 -> 102 ;\n",
      "103 [label=\"mom_weight <= 149.0\\nmse = 350419.667\\nsamples = 6\\nvalue = 2462.0\"] ;\n",
      "102 -> 103 ;\n",
      "104 [label=\"mse = 0.0\\nsamples = 1\\nvalue = 2282.0\"] ;\n",
      "103 -> 104 ;\n",
      "105 [label=\"mse = 412727.6\\nsamples = 5\\nvalue = 2498.0\"] ;\n",
      "103 -> 105 ;\n",
      "106 [label=\"mom_weight <= 154.5\\nmse = 309055.556\\nsamples = 6\\nvalue = 2793.333\"] ;\n",
      "102 -> 106 ;\n",
      "107 [label=\"mom_weight <= 153.5\\nmse = 249056.222\\nsamples = 3\\nvalue = 3098.667\"] ;\n",
      "106 -> 107 ;\n",
      "108 [label=\"mse = 0.0\\nsamples = 1\\nvalue = 3203.0\"] ;\n",
      "107 -> 108 ;\n",
      "109 [label=\"mse = 365420.25\\nsamples = 2\\nvalue = 3046.5\"] ;\n",
      "107 -> 109 ;\n",
      "110 [label=\"mse = 182598.0\\nsamples = 3\\nvalue = 2488.0\"] ;\n",
      "106 -> 110 ;\n",
      "111 [label=\"mom_weight <= 162.5\\nmse = 506733.061\\nsamples = 7\\nvalue = 3145.286\"] ;\n",
      "101 -> 111 ;\n",
      "112 [label=\"mom_weight <= 159.0\\nmse = 183258.25\\nsamples = 4\\nvalue = 3607.5\"] ;\n",
      "111 -> 112 ;\n",
      "113 [label=\"mse = 115600.0\\nsamples = 2\\nvalue = 3657.0\"] ;\n",
      "112 -> 113 ;\n",
      "114 [label=\"mse = 246016.0\\nsamples = 2\\nvalue = 3558.0\"] ;\n",
      "112 -> 114 ;\n",
      "115 [label=\"mom_weight <= 166.0\\nmse = 273368.667\\nsamples = 3\\nvalue = 2529.0\"] ;\n",
      "111 -> 115 ;\n",
      "116 [label=\"mse = 0.0\\nsamples = 1\\nvalue = 1790.0\"] ;\n",
      "115 -> 116 ;\n",
      "117 [label=\"mom_weight <= 167.5\\nmse = 462.25\\nsamples = 2\\nvalue = 2898.5\"] ;\n",
      "115 -> 117 ;\n",
      "118 [label=\"mse = 0.0\\nsamples = 1\\nvalue = 2877.0\"] ;\n",
      "117 -> 118 ;\n",
      "119 [label=\"mse = 0.0\\nsamples = 1\\nvalue = 2920.0\"] ;\n",
      "117 -> 119 ;\n",
      "120 [label=\"mom_weight <= 178.5\\nmse = 203923.868\\nsamples = 11\\nvalue = 3575.364\"] ;\n",
      "42 -> 120 ;\n",
      "121 [label=\"mom_weight <= 169.5\\nmse = 79746.245\\nsamples = 7\\nvalue = 3735.429\"] ;\n",
      "120 -> 121 ;\n",
      "122 [label=\"mse = 76452.25\\nsamples = 2\\nvalue = 3550.5\"] ;\n",
      "121 -> 122 ;\n",
      "123 [label=\"mom_weight <= 172.5\\nmse = 61912.64\\nsamples = 5\\nvalue = 3809.4\"] ;\n",
      "121 -> 123 ;\n",
      "124 [label=\"mse = 63688.188\\nsamples = 4\\nvalue = 3861.75\"] ;\n",
      "123 -> 124 ;\n",
      "125 [label=\"mse = 0.0\\nsamples = 1\\nvalue = 3600.0\"] ;\n",
      "123 -> 125 ;\n",
      "126 [label=\"mom_weight <= 183.0\\nmse = 297934.688\\nsamples = 4\\nvalue = 3295.25\"] ;\n",
      "120 -> 126 ;\n",
      "127 [label=\"mse = 0.0\\nsamples = 1\\nvalue = 2523.0\"] ;\n",
      "126 -> 127 ;\n",
      "128 [label=\"mom_weight <= 185.5\\nmse = 132192.889\\nsamples = 3\\nvalue = 3552.667\"] ;\n",
      "126 -> 128 ;\n",
      "129 [label=\"mom_weight <= 184.5\\nmse = 127449.0\\nsamples = 2\\nvalue = 3399.0\"] ;\n",
      "128 -> 129 ;\n",
      "130 [label=\"mse = 0.0\\nsamples = 1\\nvalue = 3756.0\"] ;\n",
      "129 -> 130 ;\n",
      "131 [label=\"mse = 0.0\\nsamples = 1\\nvalue = 3042.0\"] ;\n",
      "129 -> 131 ;\n",
      "132 [label=\"mse = 0.0\\nsamples = 1\\nvalue = 3860.0\"] ;\n",
      "128 -> 132 ;\n",
      "133 [label=\"mom_weight <= 188.0\\nmse = 475547.438\\nsamples = 8\\nvalue = 2532.25\"] ;\n",
      "41 -> 133 ;\n",
      "134 [label=\"mse = 379456.0\\nsamples = 2\\nvalue = 1751.0\"] ;\n",
      "133 -> 134 ;\n",
      "135 [label=\"mom_weight <= 195.0\\nmse = 236310.556\\nsamples = 6\\nvalue = 2792.667\"] ;\n",
      "133 -> 135 ;\n",
      "136 [label=\"mom_weight <= 189.5\\nmse = 166541.556\\nsamples = 3\\nvalue = 2995.667\"] ;\n",
      "135 -> 136 ;\n",
      "137 [label=\"mse = 0.0\\nsamples = 1\\nvalue = 3062.0\"] ;\n",
      "136 -> 137 ;\n",
      "138 [label=\"mse = 246512.25\\nsamples = 2\\nvalue = 2962.5\"] ;\n",
      "136 -> 138 ;\n",
      "139 [label=\"mom_weight <= 201.0\\nmse = 223661.556\\nsamples = 3\\nvalue = 2589.667\"] ;\n",
      "135 -> 139 ;\n",
      "140 [label=\"mse = 0.0\\nsamples = 1\\nvalue = 1928.0\"] ;\n",
      "139 -> 140 ;\n",
      "141 [label=\"mom_weight <= 208.5\\nmse = 7140.25\\nsamples = 2\\nvalue = 2920.5\"] ;\n",
      "139 -> 141 ;\n",
      "142 [label=\"mse = 0.0\\nsamples = 1\\nvalue = 2836.0\"] ;\n",
      "141 -> 142 ;\n",
      "143 [label=\"mse = 0.0\\nsamples = 1\\nvalue = 3005.0\"] ;\n",
      "141 -> 143 ;\n",
      "144 [label=\"mom_weight <= 245.5\\nmse = 36327.5\\nsamples = 4\\nvalue = 3531.0\"] ;\n",
      "40 -> 144 ;\n",
      "145 [label=\"mom_weight <= 232.0\\nmse = 25332.667\\nsamples = 3\\nvalue = 3607.0\"] ;\n",
      "144 -> 145 ;\n",
      "146 [label=\"mse = 0.0\\nsamples = 1\\nvalue = 3402.0\"] ;\n",
      "145 -> 146 ;\n",
      "147 [label=\"mom_weight <= 238.0\\nmse = 6480.25\\nsamples = 2\\nvalue = 3709.5\"] ;\n",
      "145 -> 147 ;\n",
      "148 [label=\"mse = 0.0\\nsamples = 1\\nvalue = 3629.0\"] ;\n",
      "147 -> 148 ;\n",
      "149 [label=\"mse = 0.0\\nsamples = 1\\nvalue = 3790.0\"] ;\n",
      "147 -> 149 ;\n",
      "150 [label=\"mse = 0.0\\nsamples = 1\\nvalue = 3303.0\"] ;\n",
      "144 -> 150 ;\n",
      "}\n"
     ]
    }
   ],
   "source": [
    "print(tree.export_graphviz(dtree, feature_names=X.columns))"
   ]
  },
  {
   "cell_type": "code",
   "execution_count": null,
   "metadata": {},
   "outputs": [],
   "source": []
  },
  {
   "cell_type": "markdown",
   "metadata": {},
   "source": [
    "### Train a decision tree with many features"
   ]
  },
  {
   "cell_type": "code",
   "execution_count": 17,
   "metadata": {},
   "outputs": [
    {
     "data": {
      "text/html": [
       "<div>\n",
       "<style scoped>\n",
       "    .dataframe tbody tr th:only-of-type {\n",
       "        vertical-align: middle;\n",
       "    }\n",
       "\n",
       "    .dataframe tbody tr th {\n",
       "        vertical-align: top;\n",
       "    }\n",
       "\n",
       "    .dataframe thead th {\n",
       "        text-align: right;\n",
       "    }\n",
       "</style>\n",
       "<table border=\"1\" class=\"dataframe\">\n",
       "  <thead>\n",
       "    <tr style=\"text-align: right;\">\n",
       "      <th></th>\n",
       "      <th>id</th>\n",
       "      <th>baby_low_weight</th>\n",
       "      <th>mom_age</th>\n",
       "      <th>mom_weight</th>\n",
       "      <th>race</th>\n",
       "      <th>smoked</th>\n",
       "      <th>premature_labor</th>\n",
       "      <th>hyptertension</th>\n",
       "      <th>irritability</th>\n",
       "      <th>doc_visit</th>\n",
       "      <th>baby_weight</th>\n",
       "    </tr>\n",
       "  </thead>\n",
       "  <tbody>\n",
       "    <tr>\n",
       "      <th>0</th>\n",
       "      <td>85</td>\n",
       "      <td>0</td>\n",
       "      <td>19</td>\n",
       "      <td>182</td>\n",
       "      <td>black</td>\n",
       "      <td>nonsmoker</td>\n",
       "      <td>0</td>\n",
       "      <td>0</td>\n",
       "      <td>1</td>\n",
       "      <td>0</td>\n",
       "      <td>2523</td>\n",
       "    </tr>\n",
       "    <tr>\n",
       "      <th>1</th>\n",
       "      <td>86</td>\n",
       "      <td>0</td>\n",
       "      <td>33</td>\n",
       "      <td>155</td>\n",
       "      <td>other</td>\n",
       "      <td>nonsmoker</td>\n",
       "      <td>0</td>\n",
       "      <td>0</td>\n",
       "      <td>0</td>\n",
       "      <td>3</td>\n",
       "      <td>2551</td>\n",
       "    </tr>\n",
       "    <tr>\n",
       "      <th>2</th>\n",
       "      <td>87</td>\n",
       "      <td>0</td>\n",
       "      <td>20</td>\n",
       "      <td>105</td>\n",
       "      <td>white</td>\n",
       "      <td>smoker</td>\n",
       "      <td>0</td>\n",
       "      <td>0</td>\n",
       "      <td>0</td>\n",
       "      <td>1</td>\n",
       "      <td>2557</td>\n",
       "    </tr>\n",
       "    <tr>\n",
       "      <th>3</th>\n",
       "      <td>88</td>\n",
       "      <td>0</td>\n",
       "      <td>21</td>\n",
       "      <td>108</td>\n",
       "      <td>white</td>\n",
       "      <td>smoker</td>\n",
       "      <td>0</td>\n",
       "      <td>0</td>\n",
       "      <td>1</td>\n",
       "      <td>2</td>\n",
       "      <td>2594</td>\n",
       "    </tr>\n",
       "    <tr>\n",
       "      <th>4</th>\n",
       "      <td>89</td>\n",
       "      <td>0</td>\n",
       "      <td>18</td>\n",
       "      <td>107</td>\n",
       "      <td>white</td>\n",
       "      <td>smoker</td>\n",
       "      <td>0</td>\n",
       "      <td>0</td>\n",
       "      <td>1</td>\n",
       "      <td>0</td>\n",
       "      <td>2600</td>\n",
       "    </tr>\n",
       "  </tbody>\n",
       "</table>\n",
       "</div>"
      ],
      "text/plain": [
       "   id  baby_low_weight  mom_age  mom_weight   race     smoked  \\\n",
       "0  85                0       19         182  black  nonsmoker   \n",
       "1  86                0       33         155  other  nonsmoker   \n",
       "2  87                0       20         105  white     smoker   \n",
       "3  88                0       21         108  white     smoker   \n",
       "4  89                0       18         107  white     smoker   \n",
       "\n",
       "   premature_labor  hyptertension  irritability  doc_visit  baby_weight  \n",
       "0                0              0             1          0         2523  \n",
       "1                0              0             0          3         2551  \n",
       "2                0              0             0          1         2557  \n",
       "3                0              0             1          2         2594  \n",
       "4                0              0             1          0         2600  "
      ]
     },
     "execution_count": 17,
     "metadata": {},
     "output_type": "execute_result"
    }
   ],
   "source": [
    "data.head()"
   ]
  },
  {
   "cell_type": "code",
   "execution_count": 72,
   "metadata": {},
   "outputs": [
    {
     "data": {
      "text/plain": [
       "<matplotlib.axes._subplots.AxesSubplot at 0x1f9ff8587f0>"
      ]
     },
     "execution_count": 72,
     "metadata": {},
     "output_type": "execute_result"
    },
    {
     "data": {
      "image/png": "[encoded data removed]",
      "text/plain": [
       "<Figure size 432x288 with 1 Axes>"
      ]
     },
     "metadata": {
      "needs_background": "light"
     },
     "output_type": "display_data"
    }
   ],
   "source": [
    "sns.distplot(data.baby_weight)"
   ]
  },
  {
   "cell_type": "code",
   "execution_count": 29,
   "metadata": {},
   "outputs": [
    {
     "data": {
      "text/plain": [
       "189"
      ]
     },
     "execution_count": 29,
     "metadata": {},
     "output_type": "execute_result"
    }
   ],
   "source": [
    "len(data)"
   ]
  },
  {
   "cell_type": "code",
   "execution_count": 22,
   "metadata": {},
   "outputs": [],
   "source": [
    "y=data['baby_weight']"
   ]
  },
  {
   "cell_type": "code",
   "execution_count": 24,
   "metadata": {},
   "outputs": [],
   "source": [
    "X=data[['mom_age','mom_weight','race','smoked','premature_labor','hyptertension','irritability','doc_visit']]"
   ]
  },
  {
   "cell_type": "code",
   "execution_count": 27,
   "metadata": {},
   "outputs": [],
   "source": [
    "X=pd.get_dummies(X)"
   ]
  },
  {
   "cell_type": "code",
   "execution_count": 30,
   "metadata": {},
   "outputs": [],
   "source": [
    "X_train, X_test, y_train, y_test = train_test_split(X, y, train_size=0.85)"
   ]
  },
  {
   "cell_type": "code",
   "execution_count": 31,
   "metadata": {},
   "outputs": [
    {
     "data": {
      "text/plain": [
       "160"
      ]
     },
     "execution_count": 31,
     "metadata": {},
     "output_type": "execute_result"
    }
   ],
   "source": [
    "len(X_train)"
   ]
  },
  {
   "cell_type": "code",
   "execution_count": 32,
   "metadata": {},
   "outputs": [
    {
     "data": {
      "text/plain": [
       "29"
      ]
     },
     "execution_count": 32,
     "metadata": {},
     "output_type": "execute_result"
    }
   ],
   "source": [
    "len(X_test)"
   ]
  },
  {
   "cell_type": "code",
   "execution_count": 66,
   "metadata": {},
   "outputs": [],
   "source": [
    "dtree = tree.DecisionTreeRegressor(max_features=7, max_leaf_nodes=5).fit(X_train, y_train)"
   ]
  },
  {
   "cell_type": "code",
   "execution_count": 67,
   "metadata": {},
   "outputs": [
    {
     "name": "stdout",
     "output_type": "stream",
     "text": [
      "digraph Tree {\n",
      "node [shape=box] ;\n",
      "0 [label=\"irritability <= 0.5\\nmse = 512178.194\\nsamples = 160\\nvalue = 2965.862\"] ;\n",
      "1 [label=\"mom_weight <= 109.5\\nmse = 473818.827\\nsamples = 136\\nvalue = 3045.934\"] ;\n",
      "0 -> 1 [labeldistance=2.5, labelangle=45, headlabel=\"True\"] ;\n",
      "3 [label=\"mse = 233889.581\\nsamples = 22\\nvalue = 2516.318\"] ;\n",
      "1 -> 3 ;\n",
      "4 [label=\"hyptertension <= 0.5\\nmse = 455544.612\\nsamples = 114\\nvalue = 3148.14\"] ;\n",
      "1 -> 4 ;\n",
      "5 [label=\"mom_age <= 40.5\\nmse = 412090.585\\nsamples = 107\\nvalue = 3193.224\"] ;\n",
      "4 -> 5 ;\n",
      "7 [label=\"mse = 385234.274\\nsamples = 106\\nvalue = 3176.274\"] ;\n",
      "5 -> 7 ;\n",
      "8 [label=\"mse = 0.0\\nsamples = 1\\nvalue = 4990.0\"] ;\n",
      "5 -> 8 ;\n",
      "6 [label=\"mse = 613786.857\\nsamples = 7\\nvalue = 2459.0\"] ;\n",
      "4 -> 6 ;\n",
      "2 [label=\"mse = 487338.859\\nsamples = 24\\nvalue = 2512.125\"] ;\n",
      "0 -> 2 [labeldistance=2.5, labelangle=-45, headlabel=\"False\"] ;\n",
      "}\n"
     ]
    }
   ],
   "source": [
    "print(tree.export_graphviz(dtree, feature_names=X.columns))"
   ]
  },
  {
   "cell_type": "code",
   "execution_count": 68,
   "metadata": {},
   "outputs": [],
   "source": [
    "yfit = dtree.predict(X_test)"
   ]
  },
  {
   "cell_type": "code",
   "execution_count": 69,
   "metadata": {},
   "outputs": [],
   "source": [
    "resd = y_test - yfit"
   ]
  },
  {
   "cell_type": "code",
   "execution_count": 70,
   "metadata": {},
   "outputs": [
    {
     "data": {
      "text/plain": [
       "<matplotlib.axes._subplots.AxesSubplot at 0x1f9ff969ac8>"
      ]
     },
     "execution_count": 70,
     "metadata": {},
     "output_type": "execute_result"
    },
    {
     "data": {
      "image/png": "[encoded data removed]",
      "text/plain": [
       "<Figure size 432x288 with 1 Axes>"
      ]
     },
     "metadata": {
      "needs_background": "light"
     },
     "output_type": "display_data"
    }
   ],
   "source": [
    "sns.distplot(resd)"
   ]
  },
  {
   "cell_type": "code",
   "execution_count": 71,
   "metadata": {},
   "outputs": [
    {
     "data": {
      "text/plain": [
       "0.09219409724252026"
      ]
     },
     "execution_count": 71,
     "metadata": {},
     "output_type": "execute_result"
    }
   ],
   "source": [
    "r2_score(y_test, yfit)"
   ]
  },
  {
   "cell_type": "code",
   "execution_count": null,
   "metadata": {},
   "outputs": [],
   "source": []
  }
 ],
 "metadata": {
  "kernelspec": {
   "display_name": "Python 3",
   "language": "python",
   "name": "python3"
  },
  "language_info": {
   "codemirror_mode": {
    "name": "ipython",
    "version": 3
   },
   "file_extension": ".py",
   "mimetype": "text/x-python",
   "name": "python",
   "nbconvert_exporter": "python",
   "pygments_lexer": "ipython3",
   "version": "3.7.3"
  }
 },
 "nbformat": 4,
 "nbformat_minor": 2
}
