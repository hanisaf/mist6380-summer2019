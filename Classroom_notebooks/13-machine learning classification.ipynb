{
 "cells": [
  {
   "cell_type": "code",
   "execution_count": 1,
   "metadata": {
    "slideshow": {
     "slide_type": "skip"
    }
   },
   "outputs": [],
   "source": [
    "import pandas as pd\n",
    "import numpy as np\n",
    "import seaborn as sns\n",
    "from sklearn import tree\n",
    "from sklearn.metrics import r2_score, accuracy_score, confusion_matrix\n",
    "from sklearn.model_selection import train_test_split\n",
    "from sklearn.feature_selection import SelectFromModel\n",
    "import matplotlib.pyplot as plt"
   ]
  },
  {
   "cell_type": "code",
   "execution_count": 2,
   "metadata": {
    "slideshow": {
     "slide_type": "skip"
    }
   },
   "outputs": [],
   "source": [
    "# I'm using the recent release of sklearn\n",
    "#!pip install scikit-learn --upgrade --user"
   ]
  },
  {
   "cell_type": "code",
   "execution_count": 3,
   "metadata": {
    "slideshow": {
     "slide_type": "skip"
    }
   },
   "outputs": [],
   "source": [
    "#to plot decision tree\n",
    "#!pip install graphviz --user\n",
    "#import graphviz"
   ]
  },
  {
   "cell_type": "code",
   "execution_count": 4,
   "metadata": {
    "slideshow": {
     "slide_type": "skip"
    }
   },
   "outputs": [],
   "source": [
    "#supress warnings\n",
    "import warnings\n",
    "warnings.filterwarnings('ignore')"
   ]
  },
  {
   "cell_type": "code",
   "execution_count": 5,
   "metadata": {
    "slideshow": {
     "slide_type": "skip"
    }
   },
   "outputs": [],
   "source": [
    "%matplotlib inline"
   ]
  },
  {
   "cell_type": "markdown",
   "metadata": {
    "slideshow": {
     "slide_type": "slide"
    }
   },
   "source": [
    "Analyze the Hosmer & Lemeshow low birth weight data using machine learning technique you learned in class"
   ]
  },
  {
   "cell_type": "code",
   "execution_count": 6,
   "metadata": {
    "slideshow": {
     "slide_type": "slide"
    }
   },
   "outputs": [],
   "source": [
    "data=pd.read_excel('../data/birth_weight.xlsx')"
   ]
  },
  {
   "cell_type": "code",
   "execution_count": 7,
   "metadata": {
    "slideshow": {
     "slide_type": "slide"
    }
   },
   "outputs": [
    {
     "data": {
      "text/html": [
       "<div>\n",
       "<style scoped>\n",
       "    .dataframe tbody tr th:only-of-type {\n",
       "        vertical-align: middle;\n",
       "    }\n",
       "\n",
       "    .dataframe tbody tr th {\n",
       "        vertical-align: top;\n",
       "    }\n",
       "\n",
       "    .dataframe thead th {\n",
       "        text-align: right;\n",
       "    }\n",
       "</style>\n",
       "<table border=\"1\" class=\"dataframe\">\n",
       "  <thead>\n",
       "    <tr style=\"text-align: right;\">\n",
       "      <th></th>\n",
       "      <th>identification code</th>\n",
       "      <th>birthweight&lt;2500g</th>\n",
       "      <th>age of mother</th>\n",
       "      <th>weight at last menstrual period</th>\n",
       "      <th>race</th>\n",
       "      <th>smoked during pregnancy</th>\n",
       "      <th>premature labor history (count)</th>\n",
       "      <th>has history of hypertension</th>\n",
       "      <th>presence, uterine irritability</th>\n",
       "      <th>number of visits to physician during 1st trimester</th>\n",
       "      <th>birthweight (grams)</th>\n",
       "    </tr>\n",
       "  </thead>\n",
       "  <tbody>\n",
       "    <tr>\n",
       "      <th>0</th>\n",
       "      <td>85</td>\n",
       "      <td>0</td>\n",
       "      <td>19</td>\n",
       "      <td>182</td>\n",
       "      <td>black</td>\n",
       "      <td>nonsmoker</td>\n",
       "      <td>0</td>\n",
       "      <td>0</td>\n",
       "      <td>1</td>\n",
       "      <td>0</td>\n",
       "      <td>2523</td>\n",
       "    </tr>\n",
       "    <tr>\n",
       "      <th>1</th>\n",
       "      <td>86</td>\n",
       "      <td>0</td>\n",
       "      <td>33</td>\n",
       "      <td>155</td>\n",
       "      <td>other</td>\n",
       "      <td>nonsmoker</td>\n",
       "      <td>0</td>\n",
       "      <td>0</td>\n",
       "      <td>0</td>\n",
       "      <td>3</td>\n",
       "      <td>2551</td>\n",
       "    </tr>\n",
       "    <tr>\n",
       "      <th>2</th>\n",
       "      <td>87</td>\n",
       "      <td>0</td>\n",
       "      <td>20</td>\n",
       "      <td>105</td>\n",
       "      <td>white</td>\n",
       "      <td>smoker</td>\n",
       "      <td>0</td>\n",
       "      <td>0</td>\n",
       "      <td>0</td>\n",
       "      <td>1</td>\n",
       "      <td>2557</td>\n",
       "    </tr>\n",
       "    <tr>\n",
       "      <th>3</th>\n",
       "      <td>88</td>\n",
       "      <td>0</td>\n",
       "      <td>21</td>\n",
       "      <td>108</td>\n",
       "      <td>white</td>\n",
       "      <td>smoker</td>\n",
       "      <td>0</td>\n",
       "      <td>0</td>\n",
       "      <td>1</td>\n",
       "      <td>2</td>\n",
       "      <td>2594</td>\n",
       "    </tr>\n",
       "    <tr>\n",
       "      <th>4</th>\n",
       "      <td>89</td>\n",
       "      <td>0</td>\n",
       "      <td>18</td>\n",
       "      <td>107</td>\n",
       "      <td>white</td>\n",
       "      <td>smoker</td>\n",
       "      <td>0</td>\n",
       "      <td>0</td>\n",
       "      <td>1</td>\n",
       "      <td>0</td>\n",
       "      <td>2600</td>\n",
       "    </tr>\n",
       "  </tbody>\n",
       "</table>\n",
       "</div>"
      ],
      "text/plain": [
       "   identification code  birthweight<2500g  age of mother  \\\n",
       "0                   85                  0             19   \n",
       "1                   86                  0             33   \n",
       "2                   87                  0             20   \n",
       "3                   88                  0             21   \n",
       "4                   89                  0             18   \n",
       "\n",
       "   weight at last menstrual period   race smoked during pregnancy  \\\n",
       "0                              182  black               nonsmoker   \n",
       "1                              155  other               nonsmoker   \n",
       "2                              105  white                  smoker   \n",
       "3                              108  white                  smoker   \n",
       "4                              107  white                  smoker   \n",
       "\n",
       "   premature labor history (count)  has history of hypertension  \\\n",
       "0                                0                            0   \n",
       "1                                0                            0   \n",
       "2                                0                            0   \n",
       "3                                0                            0   \n",
       "4                                0                            0   \n",
       "\n",
       "   presence, uterine irritability  \\\n",
       "0                               1   \n",
       "1                               0   \n",
       "2                               0   \n",
       "3                               1   \n",
       "4                               1   \n",
       "\n",
       "   number of visits to physician during 1st trimester  birthweight (grams)  \n",
       "0                                                  0                  2523  \n",
       "1                                                  3                  2551  \n",
       "2                                                  1                  2557  \n",
       "3                                                  2                  2594  \n",
       "4                                                  0                  2600  "
      ]
     },
     "execution_count": 7,
     "metadata": {},
     "output_type": "execute_result"
    }
   ],
   "source": [
    "data.head()"
   ]
  },
  {
   "cell_type": "code",
   "execution_count": 8,
   "metadata": {
    "slideshow": {
     "slide_type": "slide"
    }
   },
   "outputs": [],
   "source": [
    "data.columns=['id', 'baby_low_weight', 'mom_age', 'mom_weight', 'race', 'smoked', 'premature_labor', 'hyptertension', 'irritability', 'doc_visit', 'baby_weight']"
   ]
  },
  {
   "cell_type": "markdown",
   "metadata": {
    "slideshow": {
     "slide_type": "slide"
    }
   },
   "source": [
    "# We are interested in what factors affect baby birth weight"
   ]
  },
  {
   "cell_type": "code",
   "execution_count": 9,
   "metadata": {
    "slideshow": {
     "slide_type": "slide"
    }
   },
   "outputs": [
    {
     "data": {
      "text/html": [
       "<div>\n",
       "<style scoped>\n",
       "    .dataframe tbody tr th:only-of-type {\n",
       "        vertical-align: middle;\n",
       "    }\n",
       "\n",
       "    .dataframe tbody tr th {\n",
       "        vertical-align: top;\n",
       "    }\n",
       "\n",
       "    .dataframe thead th {\n",
       "        text-align: right;\n",
       "    }\n",
       "</style>\n",
       "<table border=\"1\" class=\"dataframe\">\n",
       "  <thead>\n",
       "    <tr style=\"text-align: right;\">\n",
       "      <th></th>\n",
       "      <th>id</th>\n",
       "      <th>baby_low_weight</th>\n",
       "      <th>mom_age</th>\n",
       "      <th>mom_weight</th>\n",
       "      <th>race</th>\n",
       "      <th>smoked</th>\n",
       "      <th>premature_labor</th>\n",
       "      <th>hyptertension</th>\n",
       "      <th>irritability</th>\n",
       "      <th>doc_visit</th>\n",
       "      <th>baby_weight</th>\n",
       "    </tr>\n",
       "  </thead>\n",
       "  <tbody>\n",
       "    <tr>\n",
       "      <th>0</th>\n",
       "      <td>85</td>\n",
       "      <td>0</td>\n",
       "      <td>19</td>\n",
       "      <td>182</td>\n",
       "      <td>black</td>\n",
       "      <td>nonsmoker</td>\n",
       "      <td>0</td>\n",
       "      <td>0</td>\n",
       "      <td>1</td>\n",
       "      <td>0</td>\n",
       "      <td>2523</td>\n",
       "    </tr>\n",
       "    <tr>\n",
       "      <th>1</th>\n",
       "      <td>86</td>\n",
       "      <td>0</td>\n",
       "      <td>33</td>\n",
       "      <td>155</td>\n",
       "      <td>other</td>\n",
       "      <td>nonsmoker</td>\n",
       "      <td>0</td>\n",
       "      <td>0</td>\n",
       "      <td>0</td>\n",
       "      <td>3</td>\n",
       "      <td>2551</td>\n",
       "    </tr>\n",
       "    <tr>\n",
       "      <th>2</th>\n",
       "      <td>87</td>\n",
       "      <td>0</td>\n",
       "      <td>20</td>\n",
       "      <td>105</td>\n",
       "      <td>white</td>\n",
       "      <td>smoker</td>\n",
       "      <td>0</td>\n",
       "      <td>0</td>\n",
       "      <td>0</td>\n",
       "      <td>1</td>\n",
       "      <td>2557</td>\n",
       "    </tr>\n",
       "    <tr>\n",
       "      <th>3</th>\n",
       "      <td>88</td>\n",
       "      <td>0</td>\n",
       "      <td>21</td>\n",
       "      <td>108</td>\n",
       "      <td>white</td>\n",
       "      <td>smoker</td>\n",
       "      <td>0</td>\n",
       "      <td>0</td>\n",
       "      <td>1</td>\n",
       "      <td>2</td>\n",
       "      <td>2594</td>\n",
       "    </tr>\n",
       "    <tr>\n",
       "      <th>4</th>\n",
       "      <td>89</td>\n",
       "      <td>0</td>\n",
       "      <td>18</td>\n",
       "      <td>107</td>\n",
       "      <td>white</td>\n",
       "      <td>smoker</td>\n",
       "      <td>0</td>\n",
       "      <td>0</td>\n",
       "      <td>1</td>\n",
       "      <td>0</td>\n",
       "      <td>2600</td>\n",
       "    </tr>\n",
       "  </tbody>\n",
       "</table>\n",
       "</div>"
      ],
      "text/plain": [
       "   id  baby_low_weight  mom_age  mom_weight   race     smoked  \\\n",
       "0  85                0       19         182  black  nonsmoker   \n",
       "1  86                0       33         155  other  nonsmoker   \n",
       "2  87                0       20         105  white     smoker   \n",
       "3  88                0       21         108  white     smoker   \n",
       "4  89                0       18         107  white     smoker   \n",
       "\n",
       "   premature_labor  hyptertension  irritability  doc_visit  baby_weight  \n",
       "0                0              0             1          0         2523  \n",
       "1                0              0             0          3         2551  \n",
       "2                0              0             0          1         2557  \n",
       "3                0              0             1          2         2594  \n",
       "4                0              0             1          0         2600  "
      ]
     },
     "execution_count": 9,
     "metadata": {},
     "output_type": "execute_result"
    }
   ],
   "source": [
    "data.head()"
   ]
  },
  {
   "cell_type": "code",
   "execution_count": 10,
   "metadata": {
    "slideshow": {
     "slide_type": "slide"
    }
   },
   "outputs": [],
   "source": [
    "data=pd.get_dummies(data)"
   ]
  },
  {
   "cell_type": "code",
   "execution_count": 11,
   "metadata": {
    "slideshow": {
     "slide_type": "slide"
    }
   },
   "outputs": [
    {
     "data": {
      "text/plain": [
       "Index(['id', 'baby_low_weight', 'mom_age', 'mom_weight', 'premature_labor',\n",
       "       'hyptertension', 'irritability', 'doc_visit', 'baby_weight',\n",
       "       'race_black', 'race_other', 'race_white', 'smoked_nonsmoker',\n",
       "       'smoked_smoker'],\n",
       "      dtype='object')"
      ]
     },
     "execution_count": 11,
     "metadata": {},
     "output_type": "execute_result"
    }
   ],
   "source": [
    "data.columns"
   ]
  },
  {
   "cell_type": "code",
   "execution_count": 27,
   "metadata": {
    "slideshow": {
     "slide_type": "slide"
    }
   },
   "outputs": [],
   "source": [
    "X = data[['mom_age', 'mom_weight', 'premature_labor',\n",
    "       'hyptertension', 'irritability', 'doc_visit', \n",
    "       'race_black', 'race_other', 'race_white', 'smoked_nonsmoker',\n",
    "       'smoked_smoker']]\n",
    "y = data['baby_low_weight']\n",
    "#sns.distplot(y)"
   ]
  },
  {
   "cell_type": "code",
   "execution_count": 13,
   "metadata": {
    "slideshow": {
     "slide_type": "slide"
    }
   },
   "outputs": [],
   "source": [
    "X_train, X_test, y_train, y_test = train_test_split(X, y, train_size=0.75)"
   ]
  },
  {
   "cell_type": "code",
   "execution_count": 14,
   "metadata": {
    "slideshow": {
     "slide_type": "slide"
    }
   },
   "outputs": [],
   "source": [
    "dtree = tree.DecisionTreeClassifier().fit(X_train, y_train)"
   ]
  },
  {
   "cell_type": "code",
   "execution_count": 15,
   "metadata": {
    "slideshow": {
     "slide_type": "slide"
    }
   },
   "outputs": [],
   "source": [
    "yfit = dtree.predict(X_test)"
   ]
  },
  {
   "cell_type": "code",
   "execution_count": 16,
   "metadata": {
    "slideshow": {
     "slide_type": "slide"
    }
   },
   "outputs": [],
   "source": [
    "resd = y_test - yfit"
   ]
  },
  {
   "cell_type": "code",
   "execution_count": 17,
   "metadata": {
    "slideshow": {
     "slide_type": "slide"
    }
   },
   "outputs": [
    {
     "data": {
      "text/plain": [
       "<matplotlib.axes._subplots.AxesSubplot at 0x25e4b3d0ac8>"
      ]
     },
     "execution_count": 17,
     "metadata": {},
     "output_type": "execute_result"
    },
    {
     "data": {
      "image/png": "[encoded data removed]",
      "text/plain": [
       "<Figure size 432x288 with 1 Axes>"
      ]
     },
     "metadata": {
      "needs_background": "light"
     },
     "output_type": "display_data"
    }
   ],
   "source": [
    "sns.distplot(resd)"
   ]
  },
  {
   "cell_type": "code",
   "execution_count": 18,
   "metadata": {
    "slideshow": {
     "slide_type": "slide"
    }
   },
   "outputs": [
    {
     "data": {
      "text/plain": [
       "0.6041666666666666"
      ]
     },
     "execution_count": 18,
     "metadata": {},
     "output_type": "execute_result"
    }
   ],
   "source": [
    "accuracy_score(y_test, yfit)"
   ]
  },
  {
   "cell_type": "code",
   "execution_count": 19,
   "metadata": {
    "slideshow": {
     "slide_type": "slide"
    }
   },
   "outputs": [
    {
     "data": {
      "text/plain": [
       "array([[25, 12],\n",
       "       [ 7,  4]], dtype=int64)"
      ]
     },
     "execution_count": 19,
     "metadata": {},
     "output_type": "execute_result"
    }
   ],
   "source": [
    "confusion_matrix(y_test, yfit)"
   ]
  },
  {
   "cell_type": "code",
   "execution_count": 20,
   "metadata": {
    "scrolled": true,
    "slideshow": {
     "slide_type": "slide"
    }
   },
   "outputs": [
    {
     "name": "stdout",
     "output_type": "stream",
     "text": [
      "digraph Tree {\n",
      "node [shape=box] ;\n",
      "0 [label=\"premature_labor <= 0.5\\ngini = 0.449\\nsamples = 141\\nvalue = [93, 48]\\nclass = normal\"] ;\n",
      "1 [label=\"mom_age <= 15.5\\ngini = 0.4\\nsamples = 116\\nvalue = [84, 32]\\nclass = normal\"] ;\n",
      "0 -> 1 [labeldistance=2.5, labelangle=45, headlabel=\"True\"] ;\n",
      "2 [label=\"gini = 0.0\\nsamples = 3\\nvalue = [0, 3]\\nclass = low\"] ;\n",
      "1 -> 2 ;\n",
      "3 [label=\"race_black <= 0.5\\ngini = 0.382\\nsamples = 113\\nvalue = [84, 29]\\nclass = normal\"] ;\n",
      "1 -> 3 ;\n",
      "4 [label=\"mom_weight <= 106.5\\ngini = 0.337\\nsamples = 98\\nvalue = [77, 21]\\nclass = normal\"] ;\n",
      "3 -> 4 ;\n",
      "5 [label=\"mom_age <= 18.5\\ngini = 0.484\\nsamples = 17\\nvalue = [10, 7]\\nclass = normal\"] ;\n",
      "4 -> 5 ;\n",
      "6 [label=\"gini = 0.0\\nsamples = 4\\nvalue = [4, 0]\\nclass = normal\"] ;\n",
      "5 -> 6 ;\n",
      "7 [label=\"mom_age <= 29.0\\ngini = 0.497\\nsamples = 13\\nvalue = [6, 7]\\nclass = low\"] ;\n",
      "5 -> 7 ;\n",
      "8 [label=\"mom_age <= 22.5\\ngini = 0.463\\nsamples = 11\\nvalue = [4, 7]\\nclass = low\"] ;\n",
      "7 -> 8 ;\n",
      "9 [label=\"mom_weight <= 98.5\\ngini = 0.49\\nsamples = 7\\nvalue = [4, 3]\\nclass = normal\"] ;\n",
      "8 -> 9 ;\n",
      "10 [label=\"gini = 0.0\\nsamples = 3\\nvalue = [3, 0]\\nclass = normal\"] ;\n",
      "9 -> 10 ;\n",
      "11 [label=\"doc_visit <= 1.0\\ngini = 0.375\\nsamples = 4\\nvalue = [1, 3]\\nclass = low\"] ;\n",
      "9 -> 11 ;\n",
      "12 [label=\"mom_weight <= 104.0\\ngini = 0.5\\nsamples = 2\\nvalue = [1, 1]\\nclass = normal\"] ;\n",
      "11 -> 12 ;\n",
      "13 [label=\"gini = 0.0\\nsamples = 1\\nvalue = [0, 1]\\nclass = low\"] ;\n",
      "12 -> 13 ;\n",
      "14 [label=\"gini = 0.0\\nsamples = 1\\nvalue = [1, 0]\\nclass = normal\"] ;\n",
      "12 -> 14 ;\n",
      "15 [label=\"gini = 0.0\\nsamples = 2\\nvalue = [0, 2]\\nclass = low\"] ;\n",
      "11 -> 15 ;\n",
      "16 [label=\"gini = 0.0\\nsamples = 4\\nvalue = [0, 4]\\nclass = low\"] ;\n",
      "8 -> 16 ;\n",
      "17 [label=\"gini = 0.0\\nsamples = 2\\nvalue = [2, 0]\\nclass = normal\"] ;\n",
      "7 -> 17 ;\n",
      "18 [label=\"hyptertension <= 0.5\\ngini = 0.286\\nsamples = 81\\nvalue = [67, 14]\\nclass = normal\"] ;\n",
      "4 -> 18 ;\n",
      "19 [label=\"irritability <= 0.5\\ngini = 0.245\\nsamples = 77\\nvalue = [66, 11]\\nclass = normal\"] ;\n",
      "18 -> 19 ;\n",
      "20 [label=\"mom_age <= 27.5\\ngini = 0.202\\nsamples = 70\\nvalue = [62, 8]\\nclass = normal\"] ;\n",
      "19 -> 20 ;\n",
      "21 [label=\"mom_weight <= 109.5\\ngini = 0.269\\nsamples = 50\\nvalue = [42, 8]\\nclass = normal\"] ;\n",
      "20 -> 21 ;\n",
      "22 [label=\"gini = 0.0\\nsamples = 1\\nvalue = [0, 1]\\nclass = low\"] ;\n",
      "21 -> 22 ;\n",
      "23 [label=\"mom_weight <= 129.5\\ngini = 0.245\\nsamples = 49\\nvalue = [42, 7]\\nclass = normal\"] ;\n",
      "21 -> 23 ;\n",
      "24 [label=\"mom_age <= 24.5\\ngini = 0.069\\nsamples = 28\\nvalue = [27, 1]\\nclass = normal\"] ;\n",
      "23 -> 24 ;\n",
      "25 [label=\"gini = 0.0\\nsamples = 23\\nvalue = [23, 0]\\nclass = normal\"] ;\n",
      "24 -> 25 ;\n",
      "26 [label=\"race_other <= 0.5\\ngini = 0.32\\nsamples = 5\\nvalue = [4, 1]\\nclass = normal\"] ;\n",
      "24 -> 26 ;\n",
      "27 [label=\"gini = 0.0\\nsamples = 4\\nvalue = [4, 0]\\nclass = normal\"] ;\n",
      "26 -> 27 ;\n",
      "28 [label=\"gini = 0.0\\nsamples = 1\\nvalue = [0, 1]\\nclass = low\"] ;\n",
      "26 -> 28 ;\n",
      "29 [label=\"mom_age <= 26.5\\ngini = 0.408\\nsamples = 21\\nvalue = [15, 6]\\nclass = normal\"] ;\n",
      "23 -> 29 ;\n",
      "30 [label=\"mom_weight <= 189.5\\ngini = 0.375\\nsamples = 20\\nvalue = [15, 5]\\nclass = normal\"] ;\n",
      "29 -> 30 ;\n",
      "31 [label=\"mom_weight <= 152.5\\ngini = 0.332\\nsamples = 19\\nvalue = [15, 4]\\nclass = normal\"] ;\n",
      "30 -> 31 ;\n",
      "32 [label=\"mom_age <= 24.5\\ngini = 0.408\\nsamples = 14\\nvalue = [10, 4]\\nclass = normal\"] ;\n",
      "31 -> 32 ;\n",
      "33 [label=\"mom_age <= 23.5\\ngini = 0.444\\nsamples = 12\\nvalue = [8, 4]\\nclass = normal\"] ;\n",
      "32 -> 33 ;\n",
      "34 [label=\"doc_visit <= 0.5\\ngini = 0.397\\nsamples = 11\\nvalue = [8, 3]\\nclass = normal\"] ;\n",
      "33 -> 34 ;\n",
      "35 [label=\"gini = 0.0\\nsamples = 5\\nvalue = [5, 0]\\nclass = normal\"] ;\n",
      "34 -> 35 ;\n",
      "36 [label=\"mom_weight <= 130.5\\ngini = 0.5\\nsamples = 6\\nvalue = [3, 3]\\nclass = normal\"] ;\n",
      "34 -> 36 ;\n",
      "37 [label=\"gini = 0.0\\nsamples = 2\\nvalue = [0, 2]\\nclass = low\"] ;\n",
      "36 -> 37 ;\n",
      "38 [label=\"smoked_nonsmoker <= 0.5\\ngini = 0.375\\nsamples = 4\\nvalue = [3, 1]\\nclass = normal\"] ;\n",
      "36 -> 38 ;\n",
      "39 [label=\"mom_weight <= 144.0\\ngini = 0.5\\nsamples = 2\\nvalue = [1, 1]\\nclass = normal\"] ;\n",
      "38 -> 39 ;\n",
      "40 [label=\"gini = 0.0\\nsamples = 1\\nvalue = [1, 0]\\nclass = normal\"] ;\n",
      "39 -> 40 ;\n",
      "41 [label=\"gini = 0.0\\nsamples = 1\\nvalue = [0, 1]\\nclass = low\"] ;\n",
      "39 -> 41 ;\n",
      "42 [label=\"gini = 0.0\\nsamples = 2\\nvalue = [2, 0]\\nclass = normal\"] ;\n",
      "38 -> 42 ;\n",
      "43 [label=\"gini = 0.0\\nsamples = 1\\nvalue = [0, 1]\\nclass = low\"] ;\n",
      "33 -> 43 ;\n",
      "44 [label=\"gini = 0.0\\nsamples = 2\\nvalue = [2, 0]\\nclass = normal\"] ;\n",
      "32 -> 44 ;\n",
      "45 [label=\"gini = 0.0\\nsamples = 5\\nvalue = [5, 0]\\nclass = normal\"] ;\n",
      "31 -> 45 ;\n",
      "46 [label=\"gini = 0.0\\nsamples = 1\\nvalue = [0, 1]\\nclass = low\"] ;\n",
      "30 -> 46 ;\n",
      "47 [label=\"gini = 0.0\\nsamples = 1\\nvalue = [0, 1]\\nclass = low\"] ;\n",
      "29 -> 47 ;\n",
      "48 [label=\"gini = 0.0\\nsamples = 20\\nvalue = [20, 0]\\nclass = normal\"] ;\n",
      "20 -> 48 ;\n",
      "49 [label=\"mom_weight <= 111.0\\ngini = 0.49\\nsamples = 7\\nvalue = [4, 3]\\nclass = normal\"] ;\n",
      "19 -> 49 ;\n",
      "50 [label=\"gini = 0.0\\nsamples = 3\\nvalue = [3, 0]\\nclass = normal\"] ;\n",
      "49 -> 50 ;\n",
      "51 [label=\"mom_weight <= 122.5\\ngini = 0.375\\nsamples = 4\\nvalue = [1, 3]\\nclass = low\"] ;\n",
      "49 -> 51 ;\n",
      "52 [label=\"race_white <= 0.5\\ngini = 0.5\\nsamples = 2\\nvalue = [1, 1]\\nclass = normal\"] ;\n",
      "51 -> 52 ;\n",
      "53 [label=\"gini = 0.0\\nsamples = 1\\nvalue = [1, 0]\\nclass = normal\"] ;\n",
      "52 -> 53 ;\n",
      "54 [label=\"gini = 0.0\\nsamples = 1\\nvalue = [0, 1]\\nclass = low\"] ;\n",
      "52 -> 54 ;\n",
      "55 [label=\"gini = 0.0\\nsamples = 2\\nvalue = [0, 2]\\nclass = low\"] ;\n",
      "51 -> 55 ;\n",
      "56 [label=\"mom_weight <= 174.5\\ngini = 0.375\\nsamples = 4\\nvalue = [1, 3]\\nclass = low\"] ;\n",
      "18 -> 56 ;\n",
      "57 [label=\"gini = 0.0\\nsamples = 3\\nvalue = [0, 3]\\nclass = low\"] ;\n",
      "56 -> 57 ;\n",
      "58 [label=\"gini = 0.0\\nsamples = 1\\nvalue = [1, 0]\\nclass = normal\"] ;\n",
      "56 -> 58 ;\n",
      "59 [label=\"doc_visit <= 1.5\\ngini = 0.498\\nsamples = 15\\nvalue = [7, 8]\\nclass = low\"] ;\n",
      "3 -> 59 ;\n",
      "60 [label=\"mom_age <= 26.5\\ngini = 0.486\\nsamples = 12\\nvalue = [7, 5]\\nclass = normal\"] ;\n",
      "59 -> 60 ;\n",
      "61 [label=\"mom_weight <= 109.0\\ngini = 0.42\\nsamples = 10\\nvalue = [7, 3]\\nclass = normal\"] ;\n",
      "60 -> 61 ;\n",
      "62 [label=\"gini = 0.0\\nsamples = 1\\nvalue = [0, 1]\\nclass = low\"] ;\n",
      "61 -> 62 ;\n",
      "63 [label=\"mom_age <= 21.5\\ngini = 0.346\\nsamples = 9\\nvalue = [7, 2]\\nclass = normal\"] ;\n",
      "61 -> 63 ;\n",
      "64 [label=\"mom_weight <= 121.5\\ngini = 0.48\\nsamples = 5\\nvalue = [3, 2]\\nclass = normal\"] ;\n",
      "63 -> 64 ;\n",
      "65 [label=\"gini = 0.0\\nsamples = 2\\nvalue = [2, 0]\\nclass = normal\"] ;\n",
      "64 -> 65 ;\n",
      "66 [label=\"mom_weight <= 185.5\\ngini = 0.444\\nsamples = 3\\nvalue = [1, 2]\\nclass = low\"] ;\n",
      "64 -> 66 ;\n",
      "67 [label=\"gini = 0.0\\nsamples = 2\\nvalue = [0, 2]\\nclass = low\"] ;\n",
      "66 -> 67 ;\n",
      "68 [label=\"gini = 0.0\\nsamples = 1\\nvalue = [1, 0]\\nclass = normal\"] ;\n",
      "66 -> 68 ;\n",
      "69 [label=\"gini = 0.0\\nsamples = 4\\nvalue = [4, 0]\\nclass = normal\"] ;\n",
      "63 -> 69 ;\n",
      "70 [label=\"gini = 0.0\\nsamples = 2\\nvalue = [0, 2]\\nclass = low\"] ;\n",
      "60 -> 70 ;\n",
      "71 [label=\"gini = 0.0\\nsamples = 3\\nvalue = [0, 3]\\nclass = low\"] ;\n",
      "59 -> 71 ;\n",
      "72 [label=\"mom_weight <= 156.5\\ngini = 0.461\\nsamples = 25\\nvalue = [9, 16]\\nclass = low\"] ;\n",
      "0 -> 72 [labeldistance=2.5, labelangle=-45, headlabel=\"False\"] ;\n",
      "73 [label=\"mom_age <= 31.5\\ngini = 0.397\\nsamples = 22\\nvalue = [6, 16]\\nclass = low\"] ;\n",
      "72 -> 73 ;\n",
      "74 [label=\"premature_labor <= 1.5\\ngini = 0.32\\nsamples = 20\\nvalue = [4, 16]\\nclass = low\"] ;\n",
      "73 -> 74 ;\n",
      "75 [label=\"mom_weight <= 95.0\\ngini = 0.219\\nsamples = 16\\nvalue = [2, 14]\\nclass = low\"] ;\n",
      "74 -> 75 ;\n",
      "76 [label=\"gini = 0.0\\nsamples = 1\\nvalue = [1, 0]\\nclass = normal\"] ;\n",
      "75 -> 76 ;\n",
      "77 [label=\"smoked_smoker <= 0.5\\ngini = 0.124\\nsamples = 15\\nvalue = [1, 14]\\nclass = low\"] ;\n",
      "75 -> 77 ;\n",
      "78 [label=\"doc_visit <= 0.5\\ngini = 0.278\\nsamples = 6\\nvalue = [1, 5]\\nclass = low\"] ;\n",
      "77 -> 78 ;\n",
      "79 [label=\"mom_age <= 24.5\\ngini = 0.5\\nsamples = 2\\nvalue = [1, 1]\\nclass = normal\"] ;\n",
      "78 -> 79 ;\n",
      "80 [label=\"gini = 0.0\\nsamples = 1\\nvalue = [1, 0]\\nclass = normal\"] ;\n",
      "79 -> 80 ;\n",
      "81 [label=\"gini = 0.0\\nsamples = 1\\nvalue = [0, 1]\\nclass = low\"] ;\n",
      "79 -> 81 ;\n",
      "82 [label=\"gini = 0.0\\nsamples = 4\\nvalue = [0, 4]\\nclass = low\"] ;\n",
      "78 -> 82 ;\n",
      "83 [label=\"gini = 0.0\\nsamples = 9\\nvalue = [0, 9]\\nclass = low\"] ;\n",
      "77 -> 83 ;\n",
      "84 [label=\"mom_weight <= 101.5\\ngini = 0.5\\nsamples = 4\\nvalue = [2, 2]\\nclass = normal\"] ;\n",
      "74 -> 84 ;\n",
      "85 [label=\"gini = 0.0\\nsamples = 2\\nvalue = [0, 2]\\nclass = low\"] ;\n",
      "84 -> 85 ;\n",
      "86 [label=\"gini = 0.0\\nsamples = 2\\nvalue = [2, 0]\\nclass = normal\"] ;\n",
      "84 -> 86 ;\n",
      "87 [label=\"gini = 0.0\\nsamples = 2\\nvalue = [2, 0]\\nclass = normal\"] ;\n",
      "73 -> 87 ;\n",
      "88 [label=\"gini = 0.0\\nsamples = 3\\nvalue = [3, 0]\\nclass = normal\"] ;\n",
      "72 -> 88 ;\n",
      "}\n"
     ]
    }
   ],
   "source": [
    "print(tree.export_graphviz(dtree, feature_names=X.columns, class_names=[\"normal\", \"low\"]))"
   ]
  },
  {
   "cell_type": "code",
   "execution_count": null,
   "metadata": {
    "slideshow": {
     "slide_type": "skip"
    }
   },
   "outputs": [],
   "source": []
  },
  {
   "cell_type": "code",
   "execution_count": 28,
   "metadata": {
    "slideshow": {
     "slide_type": "slide"
    }
   },
   "outputs": [],
   "source": [
    "dtree2 = tree.DecisionTreeClassifier(max_leaf_nodes=5, max_features=2).fit(X_train, y_train)"
   ]
  },
  {
   "cell_type": "code",
   "execution_count": 29,
   "metadata": {
    "slideshow": {
     "slide_type": "slide"
    }
   },
   "outputs": [],
   "source": [
    "yfit = dtree2.predict(X_test)"
   ]
  },
  {
   "cell_type": "code",
   "execution_count": 30,
   "metadata": {
    "slideshow": {
     "slide_type": "slide"
    }
   },
   "outputs": [
    {
     "data": {
      "text/plain": [
       "0.5833333333333334"
      ]
     },
     "execution_count": 30,
     "metadata": {},
     "output_type": "execute_result"
    }
   ],
   "source": [
    "accuracy_score(yfit, y_test)"
   ]
  },
  {
   "cell_type": "code",
   "execution_count": 31,
   "metadata": {
    "slideshow": {
     "slide_type": "slide"
    }
   },
   "outputs": [
    {
     "data": {
      "text/plain": [
       "array([[25, 12],\n",
       "       [ 8,  3]], dtype=int64)"
      ]
     },
     "execution_count": 31,
     "metadata": {},
     "output_type": "execute_result"
    }
   ],
   "source": [
    "confusion_matrix(y_test, yfit)"
   ]
  },
  {
   "cell_type": "code",
   "execution_count": 32,
   "metadata": {
    "slideshow": {
     "slide_type": "slide"
    }
   },
   "outputs": [
    {
     "name": "stdout",
     "output_type": "stream",
     "text": [
      "digraph Tree {\n",
      "node [shape=box] ;\n",
      "0 [label=\"race_black <= 0.5\\ngini = 0.449\\nsamples = 141\\nvalue = [93, 48]\\nclass = normal\"] ;\n",
      "1 [label=\"premature_labor <= 0.5\\ngini = 0.429\\nsamples = 122\\nvalue = [84, 38]\\nclass = normal\"] ;\n",
      "0 -> 1 [labeldistance=2.5, labelangle=45, headlabel=\"True\"] ;\n",
      "3 [label=\"mom_age <= 15.5\\ngini = 0.362\\nsamples = 101\\nvalue = [77, 24]\\nclass = normal\"] ;\n",
      "1 -> 3 ;\n",
      "5 [label=\"gini = 0.0\\nsamples = 3\\nvalue = [0, 3]\\nclass = low\"] ;\n",
      "3 -> 5 ;\n",
      "6 [label=\"hyptertension <= 0.5\\ngini = 0.337\\nsamples = 98\\nvalue = [77, 21]\\nclass = normal\"] ;\n",
      "3 -> 6 ;\n",
      "7 [label=\"gini = 0.312\\nsamples = 93\\nvalue = [75, 18]\\nclass = normal\"] ;\n",
      "6 -> 7 ;\n",
      "8 [label=\"gini = 0.48\\nsamples = 5\\nvalue = [2, 3]\\nclass = low\"] ;\n",
      "6 -> 8 ;\n",
      "4 [label=\"gini = 0.444\\nsamples = 21\\nvalue = [7, 14]\\nclass = low\"] ;\n",
      "1 -> 4 ;\n",
      "2 [label=\"gini = 0.499\\nsamples = 19\\nvalue = [9, 10]\\nclass = low\"] ;\n",
      "0 -> 2 [labeldistance=2.5, labelangle=-45, headlabel=\"False\"] ;\n",
      "}\n"
     ]
    }
   ],
   "source": [
    "print(tree.export_graphviz(dtree2, feature_names=X.columns, class_names=[\"normal\", \"low\"]))"
   ]
  },
  {
   "cell_type": "code",
   "execution_count": null,
   "metadata": {},
   "outputs": [],
   "source": []
  }
 ],
 "metadata": {
  "celltoolbar": "Slideshow",
  "kernelspec": {
   "display_name": "Python 3",
   "language": "python",
   "name": "python3"
  },
  "language_info": {
   "codemirror_mode": {
    "name": "ipython",
    "version": 3
   },
   "file_extension": ".py",
   "mimetype": "text/x-python",
   "name": "python",
   "nbconvert_exporter": "python",
   "pygments_lexer": "ipython3",
   "version": "3.7.3"
  }
 },
 "nbformat": 4,
 "nbformat_minor": 2
}
