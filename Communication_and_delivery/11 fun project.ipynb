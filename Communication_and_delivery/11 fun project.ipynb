{
 "cells": [
  {
   "cell_type": "markdown",
   "metadata": {},
   "source": [
    "The [World Bank API](https://datahelpdesk.worldbank.org/knowledgebase/articles/898581-api-basic-call-structures) provide access to [different data sets](https://data.worldbank.org/indicator).\n",
    "\n",
    "In particular, it provides historical data about different [indicators](http://api.worldbank.org/v2/indicator?format=json) from different [countries](http://api.worldbank.org/v2/country?format=json)\n",
    "\n",
    "\n",
    "For example, [to get the population US and Canada in year 2000](http://api.worldbank.org/v2/country/usa;can/indicator/SP.POP.TOTL?date=2000&format=json)"
   ]
  },
  {
   "cell_type": "code",
   "execution_count": 2,
   "metadata": {},
   "outputs": [],
   "source": [
    "import requests\n",
    "import pandas as pd\n",
    "import seaborn as sns\n",
    "import numpy as np\n",
    "%matplotlib inline"
   ]
  },
  {
   "cell_type": "code",
   "execution_count": 12,
   "metadata": {},
   "outputs": [],
   "source": [
    "def get_data(country, indicator):\n",
    "    query = f\"http://api.worldbank.org/v2/country/{country}/indicator/{indicator}?format=json&per_page=1000\"\n",
    "    response = requests.get(query)\n",
    "    data = response.json()[1]\n",
    "    df = pd.DataFrame(data)[['countryiso3code', 'date', 'value']]\n",
    "    df.columns = ['country', 'year', 'value']\n",
    "    df['year'] = pd.to_numeric(df.year)\n",
    "    return df"
   ]
  },
  {
   "cell_type": "code",
   "execution_count": 16,
   "metadata": {},
   "outputs": [],
   "source": [
    "usa_gdp = get_data(\"usa\", \"NY.GDP.PCAP.PP.CD\")"
   ]
  },
  {
   "cell_type": "code",
   "execution_count": 17,
   "metadata": {},
   "outputs": [],
   "source": [
    "usa_education = get_data(\"usa\", \"SE.SEC.CUAT.PO.MA.ZS\")"
   ]
  },
  {
   "cell_type": "markdown",
   "metadata": {},
   "source": [
    "- How did gdp and education change over time?\n",
    "- Is there a relationship between education and gdp?\n",
    "- Do the results apply in other countries?"
   ]
  },
  {
   "cell_type": "code",
   "execution_count": null,
   "metadata": {},
   "outputs": [],
   "source": []
  },
  {
   "cell_type": "markdown",
   "metadata": {},
   "source": [
    "# Other things to do\n",
    "\n",
    "- Go to the list of [indicators available](https://data.worldbank.org/indicator?tab=all) and pick two indicators of your choice\n",
    "- Download data about these two indicators in three countries of your choice\n",
    "- Visualize how these two indicators change overtime\n",
    "- Visualize the relationship between the two indicators\n",
    "- Highlight differences across the countries\n",
    "- CHALLENGE: download the data for all countries, and break the analysis by regison. You can obtain the mapping between countries and regisions [here](http://api.worldbank.org/v2/country/)"
   ]
  },
  {
   "cell_type": "code",
   "execution_count": null,
   "metadata": {},
   "outputs": [],
   "source": []
  }
 ],
 "metadata": {
  "kernelspec": {
   "display_name": "Python 3",
   "language": "python",
   "name": "python3"
  },
  "language_info": {
   "codemirror_mode": {
    "name": "ipython",
    "version": 3
   },
   "file_extension": ".py",
   "mimetype": "text/x-python",
   "name": "python",
   "nbconvert_exporter": "python",
   "pygments_lexer": "ipython3",
   "version": "3.7.3"
  }
 },
 "nbformat": 4,
 "nbformat_minor": 2
}
