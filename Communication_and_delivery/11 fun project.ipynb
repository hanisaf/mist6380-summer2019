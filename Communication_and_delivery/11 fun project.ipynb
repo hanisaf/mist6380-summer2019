{
 "cells": [
  {
   "cell_type": "markdown",
   "metadata": {},
   "source": [
    "The [World Bank API](https://datahelpdesk.worldbank.org/knowledgebase/articles/898581-api-basic-call-structures) provide access to different data sets.\n",
    "\n",
    "In particular, it provides historical data about different [indicators](http://api.worldbank.org/v2/indicator?format=json) from different [countries](http://api.worldbank.org/v2/country?format=json)\n",
    "\n",
    "\n",
    "For example, [to get the population US and Canada in year 2000](http://api.worldbank.org/v2/country/usa;can/indicator/SP.POP.TOTL?date=2000&format=json)"
   ]
  },
  {
   "cell_type": "markdown",
   "metadata": {},
   "source": [
    "- Go to the list of [indicators available](https://data.worldbank.org/indicator?tab=all) and pick two indicators of your choice\n",
    "- Download data about these two indicators in three countries of your choice\n",
    "- Visualize how these two indicators change overtime\n",
    "- Visualize the relationship between the two indicators\n",
    "- Highlight differences across the countries\n",
    "- CHALLENGE: download the data for all countries, and break the analysis by regison. You can obtain the mapping between countries and regisions [here](http://api.worldbank.org/v2/country/)"
   ]
  },
  {
   "cell_type": "code",
   "execution_count": null,
   "metadata": {},
   "outputs": [],
   "source": []
  }
 ],
 "metadata": {
  "kernelspec": {
   "display_name": "Python 3",
   "language": "python",
   "name": "python3"
  },
  "language_info": {
   "codemirror_mode": {
    "name": "ipython",
    "version": 3
   },
   "file_extension": ".py",
   "mimetype": "text/x-python",
   "name": "python",
   "nbconvert_exporter": "python",
   "pygments_lexer": "ipython3",
   "version": "3.7.1"
  }
 },
 "nbformat": 4,
 "nbformat_minor": 2
}
